{
 "cells": [
  {
   "cell_type": "code",
   "execution_count": 1,
   "metadata": {},
   "outputs": [
    {
     "data": {
      "text/plain": [
       "'/Users/amlvt225/Code/GitHub/donkey_golf/jupyter_notebooks'"
      ]
     },
     "execution_count": 1,
     "metadata": {},
     "output_type": "execute_result"
    }
   ],
   "source": [
    "pwd"
   ]
  },
  {
   "cell_type": "code",
   "execution_count": 2,
   "metadata": {},
   "outputs": [
    {
     "name": "stdout",
     "output_type": "stream",
     "text": [
      "/Users/amlvt225/Code/GitHub/donkey_golf\n"
     ]
    }
   ],
   "source": [
    "cd .."
   ]
  },
  {
   "cell_type": "code",
   "execution_count": 3,
   "metadata": {},
   "outputs": [
    {
     "name": "stderr",
     "output_type": "stream",
     "text": [
      "/Users/amlvt225/Code/VirtualEnvs/venv_dgolf/lib/python3.7/site-packages/flask_sqlalchemy/__init__.py:794: FSADeprecationWarning: SQLALCHEMY_TRACK_MODIFICATIONS adds significant overhead and will be disabled by default in the future.  Set it to True or False to suppress this warning.\n",
      "  'SQLALCHEMY_TRACK_MODIFICATIONS adds significant overhead and '\n",
      "/Users/amlvt225/Code/GitHub/donkey_golf/donkey_golf/data_utils.py:28: YAMLLoadWarning: calling yaml.load() without Loader=... is deprecated, as the default Loader is unsafe. Please read https://msg.pyyaml.org/load for full details.\n",
      "  yaml_sql_dict = oyaml.load(open(conf.yaml_sql_loc))\n"
     ]
    }
   ],
   "source": [
    "from donkey_golf import data_utils as du"
   ]
  },
  {
   "cell_type": "code",
   "execution_count": 4,
   "metadata": {},
   "outputs": [
    {
     "name": "stdout",
     "output_type": "stream",
     "text": [
      "Index(['pos', 'player', 'to_par', 'r1', 'r2', 'r3', 'r4', 'tot', 'earnings',\n",
      "       'fedex_pts', 'tourney_id'],\n",
      "      dtype='object')\n"
     ]
    },
    {
     "data": {
      "text/plain": [
       "{'in_progress':     pos               player to_par  r1  r2  r3  r4  total_strokes  \\\n",
       " 0     1          Tiger Woods    -13  70  68  67  70            275   \n",
       " 1    T2       Dustin Johnson    -12  68  70  70  68            276   \n",
       " 2    T2    Xander Schauffele    -12  73  65  70  68            276   \n",
       " 3    T2        Brooks Koepka    -12  66  71  69  70            276   \n",
       " 4    T5            Jason Day    -11  70  67  73  67            277   \n",
       " 5    T5         Webb Simpson    -11  72  71  64  70            277   \n",
       " 6    T5           Tony Finau    -11  71  70  64  72            277   \n",
       " 7    T5   Francesco Molinari    -11  70  67  66  74            277   \n",
       " 8    T9             Jon Rahm    -10  69  70  71  68            278   \n",
       " 9    T9      Patrick Cantlay    -10  73  73  64  68            278   \n",
       " 10   T9        Rickie Fowler    -10  70  71  68  69            278   \n",
       " 11  T12         Bubba Watson     -8  72  72  67  69            280   \n",
       " 12  T12        Justin Thomas     -8  73  68  69  70            280   \n",
       " 13  T12       Justin Harding     -8  69  69  70  72            280   \n",
       " 14  T12          Matt Kuchar     -8  71  69  68  72            280   \n",
       " 15  T12          Ian Poulter     -8  68  71  68  73            280   \n",
       " 16   17           Aaron Wise     -7  75  71  68  67            281   \n",
       " 17  T18       Patton Kizzire     -6  70  70  73  69            282   \n",
       " 18  T18       Phil Mickelson     -6  67  73  70  72            282   \n",
       " 19  T18           Adam Scott     -6  69  68  72  73            282   \n",
       " 20  T21           Si Woo Kim     -5  72  72  70  69            283   \n",
       " 21  T21         Kyle Stanley     -5  72  72  70  69            283   \n",
       " 22  T21  Matthew Fitzpatrick     -5  78  67  68  70            283   \n",
       " 23  T21         Kevin Kisner     -5  69  73  72  69            283   \n",
       " 24  T21         Rory McIlroy     -5  73  71  71  68            283   \n",
       " 25  T21        Jordan Spieth     -5  75  68  69  71            283   \n",
       " 26  T21    Lucas Bjerregaard     -5  70  72  69  72            283   \n",
       " 27  T21     Thorbjorn Olesen     -5  71  71  68  73            283   \n",
       " 28  T29      Charley Hoffman     -4  71  71  72  70            284   \n",
       " 29  T29    Bryson DeChambeau     -4  66  75  73  70            284   \n",
       " ..  ...                  ...    ...  ..  ..  ..  ..            ...   \n",
       " 57  T58    Takumi Kanaya (a)     +5  73  74  68  78            293   \n",
       " 58  T58        Branden Grace     +5  72  75  72  74            293   \n",
       " 59  T58         Zach Johnson     +5  74  73  73  73            293   \n",
       " 60   61      Satoshi Kodaira     +6  75  70  73  76            294   \n",
       " 61  T62          J.B. Holmes     +8  70  72  74  80            296   \n",
       " 62  T62      Bernhard Langer     +8  71  72  75  78            296   \n",
       " 63  T62      Emiliano Grillo     +8  72  75  73  76            296   \n",
       " 64  T62      Alexander Noren     +8  75  72  75  74            296   \n",
       " 65    -  Kevin O'Connell (a)    CUT  77  71  --  --            148   \n",
       " 66    -            Mike Weir    CUT  72  76  --  --            148   \n",
       " 67    -        Danny Willett    CUT  75  73  --  --            148   \n",
       " 68    -        Sergio Garcia    CUT  73  75  --  --            148   \n",
       " 69    -           Sandy Lyle    CUT  73  75  --  --            148   \n",
       " 70    -         Stewart Cink    CUT  76  72  --  --            148   \n",
       " 71    -          Justin Rose    CUT  75  73  --  --            148   \n",
       " 72    -            Adam Long    CUT  75  74  --  --            149   \n",
       " 73    -      Brandt Snedeker    CUT  75  74  --  --            149   \n",
       " 74    -         Fred Couples    CUT  78  71  --  --            149   \n",
       " 75    -     Charl Schwartzel    CUT  77  72  --  --            149   \n",
       " 76    -        Shugo Imahira    CUT  76  74  --  --            150   \n",
       " 77    -          Shane Lowry    CUT  78  73  --  --            151   \n",
       " 78    -           Larry Mize    CUT  77  74  --  --            151   \n",
       " 79    -         Matt Wallace    CUT  75  77  --  --            152   \n",
       " 80    -     Jovan Rebula (a)    CUT  73  79  --  --            152   \n",
       " 81    -          Michael Kim    CUT  76  78  --  --            154   \n",
       " 82    -           Paul Casey    CUT  81  73  --  --            154   \n",
       " 83    -          Ian Woosnam    CUT  80  76  --  --            156   \n",
       " 84    -          Vijay Singh    CUT  80  76  --  --            156   \n",
       " 85    -        Angel Cabrera    CUT  82  75  --  --            157   \n",
       " 86    -  Jose Maria Olazabal    CUT  78  79  --  --            157   \n",
       " \n",
       "          earnings  fedex_pts tourney_id thru  \n",
       " 0   $2,070,000.00        600  401056527    F  \n",
       " 1     $858,667.00        230  401056527    F  \n",
       " 2     $858,667.00        230  401056527    F  \n",
       " 3     $858,667.00        230  401056527    F  \n",
       " 4     $403,938.00        106  401056527    F  \n",
       " 5     $403,938.00        106  401056527    F  \n",
       " 6     $403,938.00        106  401056527    F  \n",
       " 7     $403,938.00        106  401056527    F  \n",
       " 8     $310,500.00         82  401056527    F  \n",
       " 9     $310,500.00         82  401056527    F  \n",
       " 10    $310,500.00         82  401056527    F  \n",
       " 11    $225,400.00         65  401056527    F  \n",
       " 12    $225,400.00         65  401056527    F  \n",
       " 13    $225,400.00          0  401056527    F  \n",
       " 14    $225,400.00         65  401056527    F  \n",
       " 15    $225,400.00         65  401056527    F  \n",
       " 16    $184,000.00         57  401056527    F  \n",
       " 17    $161,000.00         53  401056527    F  \n",
       " 18    $161,000.00         53  401056527    F  \n",
       " 19    $161,000.00         53  401056527    F  \n",
       " 20    $107,956.00         42  401056527    F  \n",
       " 21    $107,956.00         42  401056527    F  \n",
       " 22    $107,956.00          0  401056527    F  \n",
       " 23    $107,956.00         42  401056527    F  \n",
       " 24    $107,956.00         42  401056527    F  \n",
       " 25    $107,956.00         42  401056527    F  \n",
       " 26    $107,956.00          0  401056527    F  \n",
       " 27    $107,956.00          0  401056527    F  \n",
       " 28     $78,200.00         32  401056527    F  \n",
       " 29     $78,200.00         32  401056527    F  \n",
       " ..            ...        ...        ...  ...  \n",
       " 57             --          0  401056527    F  \n",
       " 58     $26,335.00          6  401056527    F  \n",
       " 59     $26,335.00          6  401056527    F  \n",
       " 60     $25,990.00          5  401056527    F  \n",
       " 61     $25,415.00          5  401056527    F  \n",
       " 62     $25,415.00          5  401056527    F  \n",
       " 63     $25,415.00          5  401056527    F  \n",
       " 64     $25,415.00          5  401056527    F  \n",
       " 65             --          0  401056527    F  \n",
       " 66             --          0  401056527    F  \n",
       " 67             --          0  401056527    F  \n",
       " 68             --          0  401056527    F  \n",
       " 69             --          0  401056527    F  \n",
       " 70             --          0  401056527    F  \n",
       " 71             --          0  401056527    F  \n",
       " 72             --          0  401056527    F  \n",
       " 73             --          0  401056527    F  \n",
       " 74             --          0  401056527    F  \n",
       " 75             --          0  401056527    F  \n",
       " 76             --          0  401056527    F  \n",
       " 77             --          0  401056527    F  \n",
       " 78             --          0  401056527    F  \n",
       " 79             --          0  401056527    F  \n",
       " 80             --          0  401056527    F  \n",
       " 81             --          0  401056527    F  \n",
       " 82             --          0  401056527    F  \n",
       " 83             --          0  401056527    F  \n",
       " 84             --          0  401056527    F  \n",
       " 85             --          0  401056527    F  \n",
       " 86             --          0  401056527    F  \n",
       " \n",
       " [87 rows x 12 columns]}"
      ]
     },
     "execution_count": 4,
     "metadata": {},
     "output_type": "execute_result"
    }
   ],
   "source": [
    "du.scrape_espn_leaderboard()"
   ]
  },
  {
   "cell_type": "code",
   "execution_count": 5,
   "metadata": {},
   "outputs": [
    {
     "name": "stdout",
     "output_type": "stream",
     "text": [
      "Index(['pos', 'player', 'to_par', 'r1', 'r2', 'r3', 'r4', 'tot', 'earnings',\n",
      "       'fedex_pts', 'tourney_id'],\n",
      "      dtype='object')\n",
      "leaderboard load happening\n"
     ]
    }
   ],
   "source": [
    "du.data_load_leaderboard()"
   ]
  },
  {
   "cell_type": "code",
   "execution_count": null,
   "metadata": {},
   "outputs": [],
   "source": []
  },
  {
   "cell_type": "code",
   "execution_count": null,
   "metadata": {},
   "outputs": [],
   "source": [
    "du.run_sql(\"SELECT * FROM pg_catalog.pg_tables WHERE schemaname='public';\")"
   ]
  },
  {
   "cell_type": "code",
   "execution_count": null,
   "metadata": {},
   "outputs": [],
   "source": [
    "du.run_sql(\"SELECT * FROM public.user\")"
   ]
  },
  {
   "cell_type": "code",
   "execution_count": null,
   "metadata": {},
   "outputs": [],
   "source": [
    "du.run_sql(\"SELECT * FROM public.teams\")"
   ]
  },
  {
   "cell_type": "code",
   "execution_count": null,
   "metadata": {},
   "outputs": [],
   "source": [
    "du.users_team(4)"
   ]
  },
  {
   "cell_type": "code",
   "execution_count": null,
   "metadata": {},
   "outputs": [],
   "source": []
  },
  {
   "cell_type": "code",
   "execution_count": null,
   "metadata": {},
   "outputs": [],
   "source": [
    "data"
   ]
  },
  {
   "cell_type": "code",
   "execution_count": null,
   "metadata": {},
   "outputs": [],
   "source": []
  },
  {
   "cell_type": "code",
   "execution_count": null,
   "metadata": {},
   "outputs": [],
   "source": []
  },
  {
   "cell_type": "code",
   "execution_count": null,
   "metadata": {},
   "outputs": [],
   "source": [
    "from sqlalchemy import create_engine\n",
    "\n",
    "engine = create_engine(config.DGConfig.db_url)"
   ]
  },
  {
   "cell_type": "code",
   "execution_count": null,
   "metadata": {},
   "outputs": [],
   "source": [
    "df = data_utils.pull_tourney_leaderboard()"
   ]
  },
  {
   "cell_type": "code",
   "execution_count": null,
   "metadata": {},
   "outputs": [],
   "source": [
    "df.to_sql('leaderboard', engine, if_exists='replace', index=False)"
   ]
  },
  {
   "cell_type": "code",
   "execution_count": null,
   "metadata": {},
   "outputs": [],
   "source": [
    "sql = \"SELECT * FROM pg_catalog.pg_tables WHERE schemaname='public';\""
   ]
  },
  {
   "cell_type": "code",
   "execution_count": null,
   "metadata": {},
   "outputs": [],
   "source": []
  },
  {
   "cell_type": "code",
   "execution_count": null,
   "metadata": {},
   "outputs": [],
   "source": []
  },
  {
   "cell_type": "code",
   "execution_count": null,
   "metadata": {},
   "outputs": [],
   "source": []
  }
 ],
 "metadata": {
  "kernelspec": {
   "display_name": "venv_dgolf",
   "language": "python",
   "name": "venv_dgolf"
  },
  "language_info": {
   "codemirror_mode": {
    "name": "ipython",
    "version": 3
   },
   "file_extension": ".py",
   "mimetype": "text/x-python",
   "name": "python",
   "nbconvert_exporter": "python",
   "pygments_lexer": "ipython3",
   "version": "3.7.3"
  }
 },
 "nbformat": 4,
 "nbformat_minor": 2
}
