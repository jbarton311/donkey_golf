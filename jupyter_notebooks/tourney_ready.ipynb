{
 "cells": [
  {
   "cell_type": "code",
   "execution_count": 1,
   "metadata": {},
   "outputs": [
    {
     "name": "stdout",
     "output_type": "stream",
     "text": [
      "/Users/amlvt225/Code/GitHub/donkey_golf\n"
     ]
    }
   ],
   "source": [
    "cd .."
   ]
  },
  {
   "cell_type": "code",
   "execution_count": 2,
   "metadata": {
    "scrolled": true
   },
   "outputs": [
    {
     "name": "stderr",
     "output_type": "stream",
     "text": [
      "/Users/amlvt225/Code/VirtualEnvs/venv_dgolf/lib/python3.7/site-packages/flask_sqlalchemy/__init__.py:794: FSADeprecationWarning: SQLALCHEMY_TRACK_MODIFICATIONS adds significant overhead and will be disabled by default in the future.  Set it to True or False to suppress this warning.\n",
      "  'SQLALCHEMY_TRACK_MODIFICATIONS adds significant overhead and '\n"
     ]
    }
   ],
   "source": [
    "from inspect import getsource\n",
    "\n",
    "import donkey_golf as dg\n",
    "\n",
    "import donkey_golf.data_things as DT\n",
    "\n",
    "import oyaml\n",
    "import pandas as pd\n",
    "import logging\n",
    "import psycopg2\n",
    "\n",
    "from sqlalchemy import create_engine\n",
    "\n",
    "from donkey_golf import config\n",
    "\n",
    "# create logger\n",
    "logger = logging.getLogger(__name__)\n",
    "logger.setLevel(logging.DEBUG)\n",
    "\n",
    "# create console handler and set level to debug\n",
    "ch = logging.StreamHandler()\n",
    "ch.setLevel(logging.DEBUG)\n",
    "\n",
    "# create formatter\n",
    "formatter = logging.Formatter('%(asctime)s - %(name)s - %(levelname)s - %(message)s')\n",
    "\n",
    "# add formatter to ch\n",
    "ch.setFormatter(formatter)\n",
    "\n",
    "# add ch to logger\n",
    "logger.addHandler(ch)"
   ]
  },
  {
   "cell_type": "code",
   "execution_count": 3,
   "metadata": {},
   "outputs": [
    {
     "name": "stderr",
     "output_type": "stream",
     "text": [
      "2019-06-10 21:44:38,069 - donkey_golf.data_things.base_class - DEBUG - ABOUT TO SET yaml_sql_dict\n",
      "2019-06-10 21:44:38,082 - donkey_golf.data_things.base_class - INFO - Executing run_sql\n",
      "2019-06-10 21:44:38,365 - donkey_golf.data_things.base_class - INFO - Current tourney ID: 401056556\n",
      "2019-06-10 21:44:38,367 - donkey_golf.data_things.base_class - INFO - Executing run_sql\n",
      "2019-06-10 21:44:38,613 - donkey_golf.data_things.world_rankings - INFO - Scraping world rankings data\n",
      "2019-06-10 21:44:46,488 - donkey_golf.data_things.world_rankings - INFO - Cleaning data\n",
      "2019-06-10 21:44:46,489 - donkey_golf.data_things.world_rankings - INFO - Fixing some players names that dont align between systems\n",
      "2019-06-10 21:44:46,500 - donkey_golf.data_things.world_rankings - INFO - Trimming world rankings to only top 400\n",
      "2019-06-10 21:44:46,503 - donkey_golf.data_things.base_class - INFO - Loading world_rankings to database\n"
     ]
    }
   ],
   "source": [
    "yay = DT.LoadWorldRankings()\n",
    "yay.run()"
   ]
  },
  {
   "cell_type": "code",
   "execution_count": 4,
   "metadata": {},
   "outputs": [
    {
     "name": "stderr",
     "output_type": "stream",
     "text": [
      "2019-06-10 21:44:57,606 - donkey_golf.data_things.base_class - DEBUG - ABOUT TO SET yaml_sql_dict\n",
      "2019-06-10 21:44:57,618 - donkey_golf.data_things.base_class - INFO - Executing run_sql\n",
      "2019-06-10 21:44:57,861 - donkey_golf.data_things.base_class - INFO - Current tourney ID: 401056556\n",
      "2019-06-10 21:44:57,861 - donkey_golf.data_things.base_class - INFO - Executing run_sql\n",
      "2019-06-10 21:44:58,823 - donkey_golf.data_things.base_class - INFO - Loading tourney_info to database\n"
     ]
    }
   ],
   "source": [
    "turn = DT.TournamentInfo()\n",
    "turn.run()"
   ]
  },
  {
   "cell_type": "code",
   "execution_count": 5,
   "metadata": {},
   "outputs": [
    {
     "name": "stderr",
     "output_type": "stream",
     "text": [
      "2019-06-10 21:44:59,884 - donkey_golf.data_things.base_class - DEBUG - ABOUT TO SET yaml_sql_dict\n",
      "2019-06-10 21:44:59,897 - donkey_golf.data_things.base_class - INFO - Executing run_sql\n",
      "2019-06-10 21:45:00,225 - donkey_golf.data_things.base_class - INFO - Current tourney ID: 401056556\n",
      "2019-06-10 21:45:00,226 - donkey_golf.data_things.base_class - INFO - Executing run_sql\n",
      "2019-06-10 21:45:00,900 - donkey_golf.data_things.tourney_leaderboard - INFO - Tourney current status: pre_tourney\n",
      "2019-06-10 21:45:00,901 - donkey_golf.data_things.tourney_leaderboard - INFO - Running clean_data function\n",
      "2019-06-10 21:45:00,902 - donkey_golf.data_things.tourney_leaderboard - INFO - Loading data into the pre_tourney table\n",
      "2019-06-10 21:45:00,902 - donkey_golf.data_things.base_class - INFO - Loading pre_tourney to database\n"
     ]
    }
   ],
   "source": [
    "load = DT.LoadLeaderboard()\n",
    "load.run()"
   ]
  },
  {
   "cell_type": "code",
   "execution_count": null,
   "metadata": {},
   "outputs": [],
   "source": []
  }
 ],
 "metadata": {
  "kernelspec": {
   "display_name": "venv_dgolf",
   "language": "python",
   "name": "venv_dgolf"
  },
  "language_info": {
   "codemirror_mode": {
    "name": "ipython",
    "version": 3
   },
   "file_extension": ".py",
   "mimetype": "text/x-python",
   "name": "python",
   "nbconvert_exporter": "python",
   "pygments_lexer": "ipython3",
   "version": "3.7.3"
  }
 },
 "nbformat": 4,
 "nbformat_minor": 2
}
