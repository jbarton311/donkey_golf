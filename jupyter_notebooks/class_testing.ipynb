{
 "cells": [
  {
   "cell_type": "code",
   "execution_count": 1,
   "metadata": {},
   "outputs": [
    {
     "data": {
      "text/plain": [
       "'/Users/amlvt225/Code/GitHub/donkey_golf/jupyter_notebooks'"
      ]
     },
     "execution_count": 1,
     "metadata": {},
     "output_type": "execute_result"
    }
   ],
   "source": [
    "pwd"
   ]
  },
  {
   "cell_type": "code",
   "execution_count": 2,
   "metadata": {},
   "outputs": [
    {
     "name": "stdout",
     "output_type": "stream",
     "text": [
      "/Users/amlvt225/Code/GitHub/donkey_golf\n"
     ]
    }
   ],
   "source": [
    "cd .."
   ]
  },
  {
   "cell_type": "code",
   "execution_count": 3,
   "metadata": {},
   "outputs": [
    {
     "name": "stdout",
     "output_type": "stream",
     "text": [
      "README.md          \u001b[34mjupyter_notebooks\u001b[m\u001b[m/ run.py\r\n",
      "\u001b[34mdonkey_golf\u001b[m\u001b[m/       requirements.txt\r\n"
     ]
    }
   ],
   "source": [
    "ls"
   ]
  },
  {
   "cell_type": "code",
   "execution_count": 4,
   "metadata": {},
   "outputs": [
    {
     "name": "stderr",
     "output_type": "stream",
     "text": [
      "/Users/amlvt225/Code/VirtualEnvs/venv_dgolf/lib/python3.7/site-packages/flask_sqlalchemy/__init__.py:794: FSADeprecationWarning: SQLALCHEMY_TRACK_MODIFICATIONS adds significant overhead and will be disabled by default in the future.  Set it to True or False to suppress this warning.\n",
      "  'SQLALCHEMY_TRACK_MODIFICATIONS adds significant overhead and '\n"
     ]
    }
   ],
   "source": [
    "import donkey_golf as dg"
   ]
  },
  {
   "cell_type": "code",
   "execution_count": null,
   "metadata": {},
   "outputs": [],
   "source": []
  },
  {
   "cell_type": "code",
   "execution_count": null,
   "metadata": {},
   "outputs": [],
   "source": []
  },
  {
   "cell_type": "code",
   "execution_count": 5,
   "metadata": {},
   "outputs": [
    {
     "name": "stderr",
     "output_type": "stream",
     "text": [
      "2019-04-21 21:47:30,193 - donkey_golf.data_things.base_class - DEBUG - ABOUT TO SET yaml_sql_dict\n",
      "2019-04-21 21:47:30,208 - donkey_golf.data_things.base_class - INFO - Executing run_sql\n",
      "2019-04-21 21:47:30,485 - donkey_golf.data_things.base_class - INFO - Current tourney ID: 401056527\n"
     ]
    }
   ],
   "source": [
    "yay = dg.data_things.PullLeaderboard()"
   ]
  },
  {
   "cell_type": "code",
   "execution_count": 6,
   "metadata": {},
   "outputs": [
    {
     "name": "stderr",
     "output_type": "stream",
     "text": [
      "2019-04-21 21:47:31,301 - donkey_golf.data_things.base_class - INFO - Executing run_sql\n",
      "2019-04-21 21:47:31,630 - donkey_golf.data_things.tourney_leaderboard - INFO - Tourney current status: finished\n"
     ]
    }
   ],
   "source": [
    "yay.run()"
   ]
  },
  {
   "cell_type": "code",
   "execution_count": 7,
   "metadata": {},
   "outputs": [
    {
     "name": "stderr",
     "output_type": "stream",
     "text": [
      "2019-04-21 21:47:34,791 - donkey_golf.data_things.tourney_leaderboard - INFO - Running calculate cut line\n",
      "2019-04-21 21:47:34,794 - donkey_golf.data_things.tourney_leaderboard - INFO - Determining the current round\n",
      "2019-04-21 21:47:34,799 - donkey_golf.data_things.tourney_leaderboard - INFO - Determined the current round to be finished\n",
      "2019-04-21 21:47:34,799 - donkey_golf.data_things.tourney_leaderboard - INFO - Dont need to worry about the cut line now\n"
     ]
    }
   ],
   "source": [
    "yay.calculate_cut_line()"
   ]
  },
  {
   "cell_type": "code",
   "execution_count": null,
   "metadata": {},
   "outputs": [],
   "source": []
  },
  {
   "cell_type": "code",
   "execution_count": null,
   "metadata": {},
   "outputs": [],
   "source": [
    "yay.determine_current_round()"
   ]
  },
  {
   "cell_type": "code",
   "execution_count": null,
   "metadata": {},
   "outputs": [],
   "source": []
  },
  {
   "cell_type": "code",
   "execution_count": null,
   "metadata": {},
   "outputs": [],
   "source": []
  },
  {
   "cell_type": "code",
   "execution_count": null,
   "metadata": {},
   "outputs": [],
   "source": []
  },
  {
   "cell_type": "code",
   "execution_count": null,
   "metadata": {},
   "outputs": [],
   "source": [
    "yay.run()"
   ]
  },
  {
   "cell_type": "code",
   "execution_count": null,
   "metadata": {},
   "outputs": [],
   "source": [
    "big = dg.data_things.PullLeaderboard(user_id=5)"
   ]
  },
  {
   "cell_type": "code",
   "execution_count": null,
   "metadata": {},
   "outputs": [],
   "source": [
    "big.run()"
   ]
  },
  {
   "cell_type": "code",
   "execution_count": null,
   "metadata": {},
   "outputs": [],
   "source": [
    "big.user_df"
   ]
  },
  {
   "cell_type": "code",
   "execution_count": null,
   "metadata": {},
   "outputs": [],
   "source": []
  },
  {
   "cell_type": "code",
   "execution_count": null,
   "metadata": {},
   "outputs": [],
   "source": []
  },
  {
   "cell_type": "code",
   "execution_count": null,
   "metadata": {},
   "outputs": [],
   "source": [
    "import oyaml\n",
    "import pandas as pd\n",
    "import logging\n",
    "import psycopg2\n",
    "\n",
    "from sqlalchemy import create_engine\n",
    "\n",
    "from donkey_golf import config\n",
    "\n",
    "# create logger\n",
    "logger = logging.getLogger(__name__)\n",
    "logger.setLevel(logging.DEBUG)\n",
    "\n",
    "# create console handler and set level to debug\n",
    "ch = logging.StreamHandler()\n",
    "ch.setLevel(logging.DEBUG)\n",
    "\n",
    "# create formatter\n",
    "formatter = logging.Formatter('%(asctime)s - %(name)s - %(levelname)s - %(message)s')\n",
    "\n",
    "# add formatter to ch\n",
    "ch.setFormatter(formatter)\n",
    "\n",
    "# add ch to logger\n",
    "logger.addHandler(ch)\n",
    "\n",
    "class BaseClass():\n",
    "\n",
    "    def __init__(self, **kwargs):\n",
    "        logger.debug(\"ABOUT TO SET yaml_sql_dict\")\n",
    "        self.conf = config.DGConfig()\n",
    "        self.yaml_sql_dict = oyaml.load(open(self.conf.yaml_sql_loc), Loader=oyaml.FullLoader)\n",
    "        self.tourney_id = self.determine_current_tourney_id()\n",
    "\n",
    "    def run_sql(self, sql):\n",
    "        '''\n",
    "        Takes a SQL and connects to database to execute passed SQL\n",
    "        '''\n",
    "        #engine = create_engine(self.conf.db_url)\n",
    "        with psycopg2.connect(self.conf.db_url) as conn:\n",
    "        #with engine.connect() as conn:\n",
    "            df = pd.read_sql(sql, conn)\n",
    "\n",
    "        conn.close()\n",
    "\n",
    "        return df\n",
    "\n",
    "    def load_table_to_db(self, df, tablename):\n",
    "        '''\n",
    "        Takes a df and tablename and loads it to our database\n",
    "        '''\n",
    "        engine = create_engine(self.conf.db_url)\n",
    "\n",
    "        with engine.connect() as conn:\n",
    "            df.to_sql(tablename, conn, if_exists='replace', index=False)\n",
    "\n",
    "    def determine_current_tourney_id(self):\n",
    "        '''\n",
    "        Pull each users aggregate score for the current tourney\n",
    "        '''\n",
    "        sql = self.yaml_sql_dict.get('determine_current_tourney_id')\n",
    "        df = self.run_sql(sql)\n",
    "\n",
    "        return df['value'][0].strip()\n"
   ]
  },
  {
   "cell_type": "code",
   "execution_count": null,
   "metadata": {},
   "outputs": [],
   "source": [
    "class LoadWorldRankings(BaseClass):\n",
    "    def __init__(self):\n",
    "        BaseClass.__init__(self)\n",
    "\n",
    "    def scrape_world_rankings_data(self):\n",
    "        logger.info(\"Scraping world rankings data\")\n",
    "        rankings = pd.read_html('http://www.owgr.com/ranking?pageNo=1&pageSize=All&country=All', header=0)[0]\n",
    "\n",
    "        keep_cols_rankings = ['This Week', 'Last week', 'End 2018', 'Name', 'Events Played (Actual)']\n",
    "        rankings = rankings[keep_cols_rankings]\n",
    "        \n",
    "        self.data = rankings.copy()\n",
    "        \n",
    "    def clean_data(self):\n",
    "        logger.info(\"Cleaning data\")\n",
    "        self.data.rename(columns= {\n",
    "                                'This Week': 'current_rank',\n",
    "                                'Last week':'lw_rank',\n",
    "                                'End 2018':'ly_rank',\n",
    "                                'Name':'player_raw',\n",
    "                                'Events Played (Actual)':'events_played'},\n",
    "                                inplace=True)\n",
    "        self.fix_player_names()\n",
    "        self.limit_to_top_players()\n",
    "    \n",
    "    def fix_player_names(self):\n",
    "        logger.info(\"Fixing some players names that dont align between systems\")\n",
    "\n",
    "        # Some of the players names are messed up\n",
    "        # read correct mappings from YAML file and apply them\n",
    "        yaml_dict = oyaml.load(open(self.conf.yaml_world_rankings_loc), Loader=oyaml.FullLoader)\n",
    "        player_map = yaml_dict.get('world_rankings')\n",
    "        \n",
    "        self.data['player_cleaned'] = self.data['player_raw'].map(player_map)\n",
    "        self.data['player'] = self.data['player_cleaned'].combine_first(self.data['player_raw'])\n",
    "\n",
    "    def limit_to_top_players(self):\n",
    "        logger.info(\"Trimming world rankings to only top 400\")\n",
    "        self.data = self.data.loc[self.data['current_rank'] <= 400]\n",
    "        \n",
    "    def run(self):\n",
    "        self.scrape_world_rankings_data()\n",
    "        self.clean_data()\n",
    "        self.load_table_to_db(self.data, 'pre_tourney')"
   ]
  },
  {
   "cell_type": "code",
   "execution_count": null,
   "metadata": {},
   "outputs": [],
   "source": [
    "draft = LoadWorldRankings()"
   ]
  },
  {
   "cell_type": "code",
   "execution_count": null,
   "metadata": {},
   "outputs": [],
   "source": [
    "draft.run()"
   ]
  },
  {
   "cell_type": "code",
   "execution_count": null,
   "metadata": {},
   "outputs": [],
   "source": [
    "df = draft.data"
   ]
  },
  {
   "cell_type": "code",
   "execution_count": null,
   "metadata": {},
   "outputs": [],
   "source": [
    "df.head(2)"
   ]
  },
  {
   "cell_type": "code",
   "execution_count": null,
   "metadata": {},
   "outputs": [],
   "source": [
    "df.shape"
   ]
  },
  {
   "cell_type": "code",
   "execution_count": null,
   "metadata": {},
   "outputs": [],
   "source": [
    "df.loc[df['current_rank'] < 400]"
   ]
  },
  {
   "cell_type": "code",
   "execution_count": null,
   "metadata": {},
   "outputs": [],
   "source": []
  },
  {
   "cell_type": "code",
   "execution_count": null,
   "metadata": {},
   "outputs": [],
   "source": []
  },
  {
   "cell_type": "code",
   "execution_count": null,
   "metadata": {},
   "outputs": [],
   "source": []
  },
  {
   "cell_type": "code",
   "execution_count": null,
   "metadata": {},
   "outputs": [],
   "source": [
    "draft.data"
   ]
  },
  {
   "cell_type": "code",
   "execution_count": null,
   "metadata": {},
   "outputs": [],
   "source": [
    "cmon = dg.data_things.PullLeaderboard(user_id=5)"
   ]
  },
  {
   "cell_type": "code",
   "execution_count": null,
   "metadata": {},
   "outputs": [],
   "source": [
    "cmon.pull_tourney_leaderboard()"
   ]
  },
  {
   "cell_type": "code",
   "execution_count": null,
   "metadata": {},
   "outputs": [],
   "source": [
    "cmon.data"
   ]
  },
  {
   "cell_type": "code",
   "execution_count": null,
   "metadata": {},
   "outputs": [],
   "source": []
  },
  {
   "cell_type": "code",
   "execution_count": null,
   "metadata": {},
   "outputs": [],
   "source": [
    "import oyaml\n",
    "import pandas as pd\n",
    "import logging\n",
    "import psycopg2\n",
    "\n",
    "from sqlalchemy import create_engine\n",
    "\n",
    "from donkey_golf import config\n",
    "\n",
    "\n",
    "# create logger\n",
    "logger = logging.getLogger(__name__)\n",
    "logger.setLevel(logging.DEBUG)\n",
    "\n",
    "# create console handler and set level to debug\n",
    "ch = logging.StreamHandler()\n",
    "ch.setLevel(logging.DEBUG)\n",
    "\n",
    "# create formatter\n",
    "formatter = logging.Formatter('%(asctime)s - %(name)s - %(levelname)s - %(message)s')\n",
    "\n",
    "# add formatter to ch\n",
    "ch.setFormatter(formatter)\n",
    "\n",
    "# add ch to logger\n",
    "logger.addHandler(ch)\n",
    "\n",
    "class BaseClass():\n",
    "\n",
    "    def __init__(self, **kwargs):\n",
    "        logger.debug(\"ABOUT TO SET yaml_sql_dict\")\n",
    "        self.conf = config.DGConfig()\n",
    "        self.yaml_sql_dict = oyaml.load(open(self.conf.yaml_sql_loc), Loader=oyaml.FullLoader)\n",
    "        self.tourney_id = self.determine_current_tourney_id()\n",
    "\n",
    "    def run_sql(self, sql):\n",
    "        '''\n",
    "        Takes a SQL and connects to database to execute passed SQL\n",
    "        '''\n",
    "        #engine = create_engine(self.conf.db_url)\n",
    "        with psycopg2.connect(self.conf.db_url) as conn:\n",
    "        #with engine.connect() as conn:\n",
    "            df = pd.read_sql(sql, conn)\n",
    "\n",
    "        conn.close()\n",
    "\n",
    "        return df\n",
    "\n",
    "    def load_table_to_db(self, df, tablename):\n",
    "        '''\n",
    "        Takes a df and tablename and loads it to our database\n",
    "        '''\n",
    "        engine = create_engine(self.conf.db_url)\n",
    "\n",
    "        with engine.connect() as conn:\n",
    "            df.to_sql(tablename, conn, if_exists='replace', index=False)\n",
    "\n",
    "    def determine_current_tourney_id(self):\n",
    "        '''\n",
    "        Pull each users aggregate score for the current tourney\n",
    "        '''\n",
    "        sql = self.yaml_sql_dict.get('determine_current_tourney_id')\n",
    "        df = self.run_sql(sql)\n",
    "\n",
    "        return df['value'][0].strip()"
   ]
  },
  {
   "cell_type": "code",
   "execution_count": null,
   "metadata": {},
   "outputs": [],
   "source": [
    "class GameScoreboard(BaseClass):\n",
    "    def __init__(self):\n",
    "        BaseClass.__init__(self)\n",
    "\n",
    "    def aggregate_user_scores(self):\n",
    "        '''\n",
    "        Pull each users aggregate score for the current tourney\n",
    "        '''\n",
    "        logger.info(\"Pulling aggregated team score for scoreboard\")\n",
    "        sql = self.yaml_sql_dict.get('aggregate_team_score')\n",
    "        df = self.run_sql(sql)\n",
    "\n",
    "        df.sort_values('donkey_score', inplace=True)\n",
    "\n",
    "        df['rank'] = df['donkey_score'].rank(ascending=True, method='min').astype(int)\n",
    "\n",
    "        self.data = df.copy()\n",
    "        \n",
    "    def determine_ties_in_scoreboard(self):\n",
    "        '''\n",
    "        Takes a scoreboard df and determines rank and handles tiesself.\n",
    "\n",
    "        It's nice to have T2 on the scoreboard instead of multiple \"2\"s\n",
    "        '''\n",
    "        logger.info(\"Determining where ties exist in the donkey scoreboard\")\n",
    "        df_ties = self.data.copy()\n",
    "\n",
    "        # Need to create a better rank that handles ties\n",
    "        df_ties['new_rank'] = df_ties['rank'].copy()\n",
    "\n",
    "        df_ties = df_ties.groupby(['rank'])['id'].count().reset_index()\n",
    "        df_ties.loc[df_ties['id'] > 1, 'new_rank'] = \"T\"\n",
    "\n",
    "        df_ties.loc[df_ties['new_rank'].notnull(), 'final_rank'] = 'T' + df_ties['rank'].astype(str)\n",
    "        df_ties.loc[df_ties['new_rank'].isnull(), 'final_rank'] = df_ties['rank'].astype(str)\n",
    "\n",
    "        self.df_ties = df_ties[['rank','final_rank']]        \n",
    "    \n",
    "    def add_ties_to_data(self):\n",
    "        logger.info(\"Adding ties to scoreboard data\")\n",
    "        self.data = self.data.merge(self.df_ties,\n",
    "                                   how='left',\n",
    "                                   on='rank')\n",
    "        \n",
    "    def run(self):\n",
    "        self.aggregate_user_scores()\n",
    "        self.determine_ties_in_scoreboard()\n",
    "        self.add_ties_to_data()"
   ]
  },
  {
   "cell_type": "code",
   "execution_count": null,
   "metadata": {},
   "outputs": [],
   "source": [
    "gs = GameScoreboard()"
   ]
  },
  {
   "cell_type": "code",
   "execution_count": null,
   "metadata": {},
   "outputs": [],
   "source": [
    "gs.run()"
   ]
  },
  {
   "cell_type": "code",
   "execution_count": null,
   "metadata": {},
   "outputs": [],
   "source": [
    "gs.data"
   ]
  },
  {
   "cell_type": "code",
   "execution_count": null,
   "metadata": {},
   "outputs": [],
   "source": [
    "gs.aggregate_user_scores()"
   ]
  },
  {
   "cell_type": "code",
   "execution_count": null,
   "metadata": {},
   "outputs": [],
   "source": [
    "gs.data"
   ]
  },
  {
   "cell_type": "code",
   "execution_count": null,
   "metadata": {},
   "outputs": [],
   "source": [
    "gs.determine_ties_in_scoreboard()"
   ]
  },
  {
   "cell_type": "code",
   "execution_count": null,
   "metadata": {},
   "outputs": [],
   "source": [
    "gs.add_ties_to_data()"
   ]
  },
  {
   "cell_type": "code",
   "execution_count": null,
   "metadata": {},
   "outputs": [],
   "source": [
    "from donkey_golf import data_utils as du"
   ]
  },
  {
   "cell_type": "code",
   "execution_count": null,
   "metadata": {},
   "outputs": [],
   "source": [
    "du.pull_scoreboard()"
   ]
  },
  {
   "cell_type": "code",
   "execution_count": null,
   "metadata": {},
   "outputs": [],
   "source": []
  },
  {
   "cell_type": "code",
   "execution_count": null,
   "metadata": {},
   "outputs": [],
   "source": []
  },
  {
   "cell_type": "code",
   "execution_count": null,
   "metadata": {},
   "outputs": [],
   "source": [
    "class Leaderboard(StockPull):\n",
    "    \n",
    "    def __init__(self):\n",
    "        StockPull.__init__(self)\n",
    "        self.determine_current_url()\n",
    "    \n",
    "    def determine_current_url(self):\n",
    "        '''\n",
    "        Returns the specific URL we want to scrape from\n",
    "        '''        \n",
    "        self.url_lb = 'http://www.espn.com/golf/leaderboard/_/tournamentId/{}'.format(self.tourney_id)\n",
    "    \n",
    "    def scrape_espn_leaderboard(self, url):\n",
    "        '''\n",
    "        Scrape the main leaderboard table from the web\n",
    "        '''\n",
    "        data_dict = {}\n",
    "        # Creating leaderboard & rankings dataframes\n",
    "        leaderboard = pd.read_html(url,header=3)[0]\n",
    "        leaderboard.columns = leaderboard.columns.str.lower().str.replace(' ','_')\n",
    "\n",
    "        leaderboard['tourney_id'] = self.tourney_id\n",
    "        \n",
    "        self.data = leaderboard.copy()\n",
    "    \n",
    "    def determine_tourney_status(self):\n",
    "        '''\n",
    "        Look at the leaderboard data and determine current tourney\n",
    "        status from that data\n",
    "        '''\n",
    "        if 'tee_time' in self.data.columns:\n",
    "            self.tourney_status = 'pre_tourney'\n",
    "        elif 'fedex_pts' in self.data.columns or 'earnings' in self.data.columns:\n",
    "            self.tourney_status = 'finished'\n",
    "            \n",
    "        elif 'r4' in self.data.columns or 'tot' in self.data.columns:\n",
    "            self.tourney_status = 'in_progress'\n",
    "        else:\n",
    "            self.tourney_status = 'cant_determine'\n",
    "            \n",
    "        logger.info(f\"Tourney current status: {self.tourney_status}\")\n",
    "        \n",
    "    def determine_current_round(self):\n",
    "        '''\n",
    "        Figure out which round is in progress. Will be helpful for cut\n",
    "        calculations among other things\n",
    "        '''\n",
    "        logger.info(\"Determining the current round\")\n",
    "        df = self.data.copy()\n",
    "        \n",
    "        df = df.loc[df['missed_cut'] == 0]\n",
    "        \n",
    "        current_round = None\n",
    "        \n",
    "        if 'fedex_pts' in df.columns:\n",
    "            current_round = 'finished'\n",
    "        else:\n",
    "            rounds = ['r1','r2','r3','r4']\n",
    "            for round_num in rounds:\n",
    "                if df.loc[df[round_num] == '--'].shape[0] > 1:\n",
    "                    current_round = round_num                    \n",
    "        logger.info(f\"Determined the current round to be {current_round}\")\n",
    "\n",
    "        return current_round\n",
    "        \n",
    "    def add_donkey_game_score(self):\n",
    "        '''\n",
    "        Will add a column called donkey score that should\n",
    "        convert the to_par string to an integer\n",
    "        '''\n",
    "        logger.info(\"Calculating the donkey_score column\")\n",
    "        self.data.loc[self.data['to_par'] == 'E', 'donkey_score'] = 0\n",
    "        self.data.loc[self.data['to_par'].str[0:1] == '+', 'donkey_score'] = self.data['to_par'].str[1:]\n",
    "        self.data.loc[self.data['to_par'].str[0:1] == '-', 'donkey_score'] = self.data['to_par']\n",
    "\n",
    "        # IF they don't have a score of E or one that starts with a '+' or '-'\n",
    "        # let's assume they didn't make it to the weekend\n",
    "        self.add_score_for_cut_players()\n",
    "    \n",
    "    def add_score_for_cut_players(self):\n",
    "        '''\n",
    "        Determines the score for cut players\n",
    "        and adds a missed_cut field\n",
    "        '''\n",
    "        logger.info(\"Determining score for cut players and adding missed_cut indicator\")\n",
    "        cut_score = self.data.loc[self.data['donkey_score'].notnull(), 'donkey_score'].astype(int).max()\n",
    "        cut_score = cut_score + 1\n",
    "\n",
    "        self.data['missed_cut'] = 0\n",
    "        self.data.loc[self.data['donkey_score'].isnull(), 'missed_cut'] = 1\n",
    "\n",
    "        self.data.loc[self.data['donkey_score'].isnull(), 'donkey_score'] = cut_score\n",
    "        \n",
    "    def add_player_left_indicator(self):\n",
    "        '''\n",
    "        This should add a column 'player_left'\n",
    "        indicating if a player is still in progress\n",
    "        '''\n",
    "        logger.info(\"Determine if the player is active and if he has been cut or not\")\n",
    "        self.data['player_left'] = 1\n",
    "\n",
    "        self.data.loc[self.data['missed_cut'] == 1, 'player_left'] = 0\n",
    "\n",
    "        self.data.loc[(self.data['missed_cut'] == 0) &\n",
    "              (self.data['r4'] != '--' ),\n",
    "              'player_left'] = 0\n",
    "\n",
    "    def add_golfer_team_count(self):\n",
    "        '''\n",
    "        This should add a column 'team_count'\n",
    "        indicating the amount of teams a player is on\n",
    "        '''\n",
    "        self.golfer_team_count()\n",
    "        \n",
    "        logger.debug(\"Adding golfer team count\")\n",
    "        self.data = self.data.merge(self.golfer_count_by_team,\n",
    "            how='left',\n",
    "            on='player')\n",
    "\n",
    "        self.data['team_count'] = self.data['team_count'].fillna(0.0).astype(int)\n",
    "\n",
    "    def golfer_team_count(self):\n",
    "        '''\n",
    "        Pull each users aggregate score for the current tourney\n",
    "        '''\n",
    "        sql = yaml_sql_dict.get('golfer_team_count')\n",
    "        df = self.run_sql(sql)\n",
    "\n",
    "        self.golfer_count_by_team = df\n",
    "    \n",
    "    def prepare_active_data(self):\n",
    "        '''\n",
    "        If we know the data is from after the tourney has started,\n",
    "        there will be manipulations we need to do\n",
    "        '''\n",
    "        logger.info(\"Running prepare_in_progress_data\")\n",
    "        self.clean_active_cols()\n",
    "        self.add_donkey_game_score()\n",
    "        self.add_player_left_indicator()\n",
    "        self.add_golfer_team_count()\n",
    "\n",
    "    def clean_active_cols(self):\n",
    "        '''\n",
    "        Clean function for the active tourney data\n",
    "        '''\n",
    "        self.data = self.data.drop('unnamed:_1', axis=1)\n",
    "    \n",
    "    def prepare_pre_tourney_data(self):\n",
    "        '''\n",
    "        This will be used if we need to make any updated to the pre_tourney data\n",
    "        '''\n",
    "        pass\n",
    "    \n",
    "    def clean_data(self):  \n",
    "        '''\n",
    "        Depending on the status of the tourney (and what .data will look like)\n",
    "        we want to prepare/cleanse the data\n",
    "        '''\n",
    "        logger.info(\"Running clean_data function\")\n",
    "        if self.tourney_status in ['in_progress','finished']:\n",
    "            self.prepare_active_data()\n",
    "        elif self.tourney_status == 'pre_tourney':\n",
    "            self.prepare_pre_tourney_data()\n",
    "            \n",
    "    def load_leaderboard_to_db(self):\n",
    "        '''\n",
    "        Take self.data and load it into the appropriate table based\n",
    "        on the tourney_status\n",
    "        '''\n",
    "        if self.tourney_status == 'pre_tourney':\n",
    "            logger.info(\"Loading data into the pre_tourney table\")\n",
    "            self.load_table_to_db(self.data, 'pre_tourney')\n",
    "        else:\n",
    "            logger.info(\"Loading data into the leaderboard table\")            \n",
    "            self.load_table_to_db(self.data, 'leaderboard')\n",
    "        \n",
    "    def run(self):\n",
    "        # Get the leaderboard data\n",
    "        self.scrape_espn_leaderboard(self.url_lb)\n",
    "        \n",
    "        # Determine the tourney status (set an attribute)\n",
    "        self.determine_tourney_status()\n",
    "        \n",
    "        # Clean data - smart enough to determine pre_tourney or in-progress data\n",
    "        self.clean_data()\n",
    "        \n",
    "        # Don't need this right now\n",
    "        #self.load_leaderboard_to_db()"
   ]
  },
  {
   "cell_type": "code",
   "execution_count": null,
   "metadata": {},
   "outputs": [],
   "source": [
    "fox = Leaderboard()"
   ]
  },
  {
   "cell_type": "code",
   "execution_count": null,
   "metadata": {},
   "outputs": [],
   "source": [
    "fox.run()"
   ]
  },
  {
   "cell_type": "code",
   "execution_count": null,
   "metadata": {},
   "outputs": [],
   "source": [
    "fox.determine_current_round()"
   ]
  },
  {
   "cell_type": "code",
   "execution_count": null,
   "metadata": {},
   "outputs": [],
   "source": []
  },
  {
   "cell_type": "code",
   "execution_count": null,
   "metadata": {},
   "outputs": [],
   "source": [
    "fox.load_leaderboard_to_db()"
   ]
  },
  {
   "cell_type": "code",
   "execution_count": null,
   "metadata": {},
   "outputs": [],
   "source": []
  },
  {
   "cell_type": "code",
   "execution_count": null,
   "metadata": {},
   "outputs": [],
   "source": []
  },
  {
   "cell_type": "code",
   "execution_count": null,
   "metadata": {},
   "outputs": [],
   "source": [
    "fox.run()"
   ]
  },
  {
   "cell_type": "code",
   "execution_count": null,
   "metadata": {
    "scrolled": true
   },
   "outputs": [],
   "source": [
    "fox.data"
   ]
  },
  {
   "cell_type": "code",
   "execution_count": null,
   "metadata": {},
   "outputs": [],
   "source": []
  },
  {
   "cell_type": "code",
   "execution_count": null,
   "metadata": {},
   "outputs": [],
   "source": [
    "fox.load_leaderboard_to_db()"
   ]
  },
  {
   "cell_type": "code",
   "execution_count": null,
   "metadata": {},
   "outputs": [],
   "source": []
  },
  {
   "cell_type": "code",
   "execution_count": null,
   "metadata": {},
   "outputs": [],
   "source": []
  },
  {
   "cell_type": "code",
   "execution_count": null,
   "metadata": {},
   "outputs": [],
   "source": [
    "fox.data"
   ]
  },
  {
   "cell_type": "code",
   "execution_count": null,
   "metadata": {},
   "outputs": [],
   "source": [
    "fox.determine_current_round()"
   ]
  },
  {
   "cell_type": "code",
   "execution_count": null,
   "metadata": {},
   "outputs": [],
   "source": []
  },
  {
   "cell_type": "code",
   "execution_count": null,
   "metadata": {},
   "outputs": [],
   "source": [
    "fox.data"
   ]
  },
  {
   "cell_type": "code",
   "execution_count": null,
   "metadata": {},
   "outputs": [],
   "source": [
    "class PullLeaderboard(StockPull):\n",
    "    \n",
    "    def __init__(self, **kwargs):\n",
    "        StockPull.__init__(self)\n",
    "        self.kwargs = kwargs\n",
    "        if kwargs.get('user_id'):\n",
    "            self.user_id = kwargs.get('user_id')\n",
    "        else:\n",
    "            self.user_id = None\n",
    "            \n",
    "    def pull_tourney_leaderboard(self):\n",
    "        '''\n",
    "        Pulls leaderboard data for the tourney\n",
    "        '''\n",
    "\n",
    "        sql = yaml_sql_dict.get('pull_tourney_leaderboard')\n",
    "        self.data = self.run_sql(sql)\n",
    "        self.determine_tourney_status()\n",
    "        \n",
    "        if self.user_id and self.tourney_status == 'in_progress':\n",
    "            self.pull_users_team()\n",
    "            \n",
    "            # If the user_df comes back with records, add on_team field\n",
    "            if not self.user_df.empty:\n",
    "                self.data = self.data.merge(user_df[['player','id']],\n",
    "                    how='left',\n",
    "                    on=['player'])\n",
    "\n",
    "                self.data['on_team'] = 'No'\n",
    "                self.data.loc[self.data['id'].notnull(), 'on_team'] = 'Yes'\n",
    "\n",
    "                self.data = self.data.drop('id', axis=1)\n",
    "\n",
    "        self.data['team_count'] = self.data['team_count'].astype(int)\n",
    "    \n",
    "    def determine_tourney_status(self):\n",
    "        '''\n",
    "        Look at the leaderboard data and determine current tourney\n",
    "        status from that data\n",
    "        '''\n",
    "        if 'tee_time' in self.data.columns:\n",
    "            self.tourney_status = 'pre_tourney'\n",
    "        elif 'fedex_pts' in self.data.columns or 'earnings' in self.data.columns:\n",
    "            self.tourney_status = 'finished'\n",
    "            \n",
    "        elif 'r4' in self.data.columns or 'tot' in self.data.columns:\n",
    "            self.tourney_status = 'in_progress'\n",
    "        else:\n",
    "            self.tourney_status = 'cant_determine'\n",
    "            \n",
    "        logger.info(f\"Tourney current status: {self.tourney_status}\")\n",
    "        \n",
    "    def pull_users_team(self):\n",
    "        '''\n",
    "        Pulls leaderboard data for everyone on a given users team\n",
    "        '''\n",
    "        \n",
    "        if self.tourney_status == 'pre_tourney':\n",
    "            logger.info(\"Pulling users pre_tourney team\")\n",
    "            sql = yaml_sql_dict.get('users_team_pre_tourney')\n",
    "            sql = sql.format(self.user_id, conf.tourney_id)\n",
    "            self.user_df = run_sql(sql)\n",
    "        else:\n",
    "            logger.info(\"Pulling users active tourney team\")            \n",
    "            sql = yaml_sql_dict.get('users_team')\n",
    "            # Sub in users ID into the SQL\n",
    "            sql = sql.format(self.user_id, self.tourney_id)\n",
    "            self.user_df = self.run_sql(sql)"
   ]
  },
  {
   "cell_type": "code",
   "execution_count": null,
   "metadata": {},
   "outputs": [],
   "source": [
    "yay = PullLeaderboard(user_id=2)"
   ]
  },
  {
   "cell_type": "code",
   "execution_count": null,
   "metadata": {},
   "outputs": [],
   "source": [
    "yay.pull_tourney_leaderboard()"
   ]
  },
  {
   "cell_type": "code",
   "execution_count": null,
   "metadata": {},
   "outputs": [],
   "source": [
    "yay.user_df"
   ]
  },
  {
   "cell_type": "code",
   "execution_count": null,
   "metadata": {},
   "outputs": [],
   "source": []
  },
  {
   "cell_type": "code",
   "execution_count": null,
   "metadata": {},
   "outputs": [],
   "source": [
    "yay.data"
   ]
  },
  {
   "cell_type": "code",
   "execution_count": null,
   "metadata": {},
   "outputs": [],
   "source": []
  },
  {
   "cell_type": "code",
   "execution_count": null,
   "metadata": {},
   "outputs": [],
   "source": []
  },
  {
   "cell_type": "code",
   "execution_count": null,
   "metadata": {},
   "outputs": [],
   "source": []
  },
  {
   "cell_type": "code",
   "execution_count": null,
   "metadata": {},
   "outputs": [],
   "source": []
  },
  {
   "cell_type": "code",
   "execution_count": null,
   "metadata": {},
   "outputs": [],
   "source": [
    "yay.pull_tourney_leaderboard()"
   ]
  },
  {
   "cell_type": "code",
   "execution_count": null,
   "metadata": {},
   "outputs": [],
   "source": []
  },
  {
   "cell_type": "code",
   "execution_count": null,
   "metadata": {},
   "outputs": [],
   "source": [
    "yay.tourney_id"
   ]
  },
  {
   "cell_type": "code",
   "execution_count": null,
   "metadata": {},
   "outputs": [],
   "source": [
    "yay.kwargs"
   ]
  },
  {
   "cell_type": "code",
   "execution_count": null,
   "metadata": {},
   "outputs": [],
   "source": [
    "yay.user_id"
   ]
  },
  {
   "cell_type": "code",
   "execution_count": null,
   "metadata": {},
   "outputs": [],
   "source": [
    "yay.pull_users_team()"
   ]
  },
  {
   "cell_type": "code",
   "execution_count": null,
   "metadata": {},
   "outputs": [],
   "source": [
    "yay.pull_tourney_leaderboard()"
   ]
  },
  {
   "cell_type": "code",
   "execution_count": null,
   "metadata": {},
   "outputs": [],
   "source": [
    "yay.data"
   ]
  },
  {
   "cell_type": "code",
   "execution_count": null,
   "metadata": {},
   "outputs": [],
   "source": []
  },
  {
   "cell_type": "code",
   "execution_count": null,
   "metadata": {},
   "outputs": [],
   "source": []
  },
  {
   "cell_type": "code",
   "execution_count": null,
   "metadata": {},
   "outputs": [],
   "source": [
    "yay.pull_tourney_leaderboard()"
   ]
  },
  {
   "cell_type": "code",
   "execution_count": null,
   "metadata": {},
   "outputs": [],
   "source": [
    "yay.data"
   ]
  },
  {
   "cell_type": "code",
   "execution_count": null,
   "metadata": {},
   "outputs": [],
   "source": []
  },
  {
   "cell_type": "code",
   "execution_count": null,
   "metadata": {},
   "outputs": [],
   "source": []
  },
  {
   "cell_type": "code",
   "execution_count": null,
   "metadata": {},
   "outputs": [],
   "source": []
  },
  {
   "cell_type": "code",
   "execution_count": null,
   "metadata": {},
   "outputs": [],
   "source": []
  },
  {
   "cell_type": "code",
   "execution_count": null,
   "metadata": {},
   "outputs": [],
   "source": [
    "fox.tourney_status in ['in_progress','finished']"
   ]
  },
  {
   "cell_type": "code",
   "execution_count": null,
   "metadata": {},
   "outputs": [],
   "source": [
    "fox.data"
   ]
  },
  {
   "cell_type": "code",
   "execution_count": null,
   "metadata": {},
   "outputs": [],
   "source": []
  },
  {
   "cell_type": "code",
   "execution_count": null,
   "metadata": {},
   "outputs": [],
   "source": []
  },
  {
   "cell_type": "code",
   "execution_count": null,
   "metadata": {},
   "outputs": [],
   "source": [
    "df = fox.data"
   ]
  },
  {
   "cell_type": "code",
   "execution_count": null,
   "metadata": {},
   "outputs": [],
   "source": [
    "df"
   ]
  },
  {
   "cell_type": "code",
   "execution_count": null,
   "metadata": {},
   "outputs": [],
   "source": [
    "fox.add_donkey_game_score()"
   ]
  },
  {
   "cell_type": "code",
   "execution_count": null,
   "metadata": {},
   "outputs": [],
   "source": [
    "fox.data"
   ]
  },
  {
   "cell_type": "code",
   "execution_count": null,
   "metadata": {},
   "outputs": [],
   "source": []
  },
  {
   "cell_type": "code",
   "execution_count": null,
   "metadata": {},
   "outputs": [],
   "source": []
  },
  {
   "cell_type": "code",
   "execution_count": null,
   "metadata": {},
   "outputs": [],
   "source": []
  },
  {
   "cell_type": "code",
   "execution_count": null,
   "metadata": {},
   "outputs": [],
   "source": [
    "df = fox.data"
   ]
  },
  {
   "cell_type": "code",
   "execution_count": null,
   "metadata": {},
   "outputs": [],
   "source": []
  },
  {
   "cell_type": "code",
   "execution_count": null,
   "metadata": {},
   "outputs": [],
   "source": []
  },
  {
   "cell_type": "code",
   "execution_count": null,
   "metadata": {},
   "outputs": [],
   "source": [
    "'earnings' in fox.data.columns"
   ]
  },
  {
   "cell_type": "code",
   "execution_count": null,
   "metadata": {},
   "outputs": [],
   "source": [
    "'fedex_pts' in fox.data.columns or 'earnings' in fox.data.columns"
   ]
  },
  {
   "cell_type": "code",
   "execution_count": null,
   "metadata": {},
   "outputs": [],
   "source": []
  },
  {
   "cell_type": "code",
   "execution_count": null,
   "metadata": {},
   "outputs": [],
   "source": []
  },
  {
   "cell_type": "code",
   "execution_count": null,
   "metadata": {},
   "outputs": [],
   "source": [
    "fox.tourney_id"
   ]
  },
  {
   "cell_type": "code",
   "execution_count": null,
   "metadata": {},
   "outputs": [],
   "source": [
    "fox.url_lb"
   ]
  },
  {
   "cell_type": "code",
   "execution_count": null,
   "metadata": {},
   "outputs": [],
   "source": [
    "fox.scrape_espn_leaderboard(fox.url_lb)"
   ]
  },
  {
   "cell_type": "code",
   "execution_count": null,
   "metadata": {},
   "outputs": [],
   "source": []
  },
  {
   "cell_type": "code",
   "execution_count": null,
   "metadata": {},
   "outputs": [],
   "source": []
  },
  {
   "cell_type": "code",
   "execution_count": null,
   "metadata": {},
   "outputs": [],
   "source": []
  },
  {
   "cell_type": "code",
   "execution_count": null,
   "metadata": {},
   "outputs": [],
   "source": [
    "cd donkey_golf/"
   ]
  },
  {
   "cell_type": "code",
   "execution_count": null,
   "metadata": {},
   "outputs": [],
   "source": [
    "ls"
   ]
  },
  {
   "cell_type": "code",
   "execution_count": null,
   "metadata": {},
   "outputs": [],
   "source": [
    "cd all_things_data/"
   ]
  },
  {
   "cell_type": "code",
   "execution_count": null,
   "metadata": {},
   "outputs": [],
   "source": [
    "import sql_classes"
   ]
  },
  {
   "cell_type": "code",
   "execution_count": null,
   "metadata": {},
   "outputs": [],
   "source": []
  }
 ],
 "metadata": {
  "kernelspec": {
   "display_name": "venv_dgolf",
   "language": "python",
   "name": "venv_dgolf"
  },
  "language_info": {
   "codemirror_mode": {
    "name": "ipython",
    "version": 3
   },
   "file_extension": ".py",
   "mimetype": "text/x-python",
   "name": "python",
   "nbconvert_exporter": "python",
   "pygments_lexer": "ipython3",
   "version": "3.7.3"
  }
 },
 "nbformat": 4,
 "nbformat_minor": 2
}
