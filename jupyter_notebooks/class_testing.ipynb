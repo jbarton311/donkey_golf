{
 "cells": [
  {
   "cell_type": "code",
   "execution_count": 1,
   "metadata": {},
   "outputs": [
    {
     "name": "stdout",
     "output_type": "stream",
     "text": [
      "/Users/amlvt225/Code/GitHub/donkey_golf\n"
     ]
    }
   ],
   "source": [
    "cd .."
   ]
  },
  {
   "cell_type": "code",
   "execution_count": 2,
   "metadata": {},
   "outputs": [
    {
     "name": "stdout",
     "output_type": "stream",
     "text": [
      "README.md          \u001b[34mjupyter_notebooks\u001b[m\u001b[m/ run.py\r\n",
      "\u001b[34mdonkey_golf\u001b[m\u001b[m/       requirements.txt\r\n"
     ]
    }
   ],
   "source": [
    "ls"
   ]
  },
  {
   "cell_type": "code",
   "execution_count": 3,
   "metadata": {},
   "outputs": [
    {
     "name": "stderr",
     "output_type": "stream",
     "text": [
      "/Users/amlvt225/Code/VirtualEnvs/venv_dgolf/lib/python3.7/site-packages/flask_sqlalchemy/__init__.py:794: FSADeprecationWarning: SQLALCHEMY_TRACK_MODIFICATIONS adds significant overhead and will be disabled by default in the future.  Set it to True or False to suppress this warning.\n",
      "  'SQLALCHEMY_TRACK_MODIFICATIONS adds significant overhead and '\n"
     ]
    }
   ],
   "source": [
    "import donkey_golf as dg"
   ]
  },
  {
   "cell_type": "code",
   "execution_count": 4,
   "metadata": {},
   "outputs": [],
   "source": [
    "import oyaml\n",
    "import pandas as pd\n",
    "import logging\n",
    "import psycopg2\n",
    "\n",
    "from sqlalchemy import create_engine\n",
    "\n",
    "from donkey_golf import config\n",
    "\n",
    "# create logger\n",
    "logger = logging.getLogger(__name__)\n",
    "logger.setLevel(logging.DEBUG)\n",
    "\n",
    "# create console handler and set level to debug\n",
    "ch = logging.StreamHandler()\n",
    "ch.setLevel(logging.DEBUG)\n",
    "\n",
    "# create formatter\n",
    "formatter = logging.Formatter('%(asctime)s - %(name)s - %(levelname)s - %(message)s')\n",
    "\n",
    "# add formatter to ch\n",
    "ch.setFormatter(formatter)\n",
    "\n",
    "# add ch to logger\n",
    "logger.addHandler(ch)"
   ]
  },
  {
   "cell_type": "code",
   "execution_count": 5,
   "metadata": {},
   "outputs": [
    {
     "name": "stderr",
     "output_type": "stream",
     "text": [
      "2019-04-24 21:54:14,273 - donkey_golf.data_things.base_class - DEBUG - ABOUT TO SET yaml_sql_dict\n",
      "2019-04-24 21:54:14,293 - donkey_golf.data_things.base_class - INFO - Executing run_sql\n",
      "2019-04-24 21:54:14,600 - donkey_golf.data_things.base_class - INFO - Current tourney ID: 401056527\n"
     ]
    }
   ],
   "source": [
    "dd = dg.data_things.DraftDay()"
   ]
  },
  {
   "cell_type": "code",
   "execution_count": 6,
   "metadata": {},
   "outputs": [
    {
     "name": "stderr",
     "output_type": "stream",
     "text": [
      "2019-04-24 21:54:14,607 - donkey_golf.data_things.draft_day - INFO - Pulling a list of available players for the draft\n",
      "2019-04-24 21:54:14,611 - donkey_golf.data_things.base_class - INFO - Executing run_sql\n"
     ]
    },
    {
     "ename": "DatabaseError",
     "evalue": "Execution failed on sql 'SELECT a.*, b.current_rank, b.events_played from public.pre_tourney a left join public.rankings b ON a.player=b.player ORDER BY current_rank': ORDER BY \"current_rank\" is ambiguous\nLINE 1: ...n public.rankings b ON a.player=b.player ORDER BY current_ra...\n                                                             ^\n",
     "output_type": "error",
     "traceback": [
      "\u001b[0;31m---------------------------------------------------------------------------\u001b[0m",
      "\u001b[0;31mAmbiguousColumn\u001b[0m                           Traceback (most recent call last)",
      "\u001b[0;32m~/Code/VirtualEnvs/venv_dgolf/lib/python3.7/site-packages/pandas/io/sql.py\u001b[0m in \u001b[0;36mexecute\u001b[0;34m(self, *args, **kwargs)\u001b[0m\n\u001b[1;32m   1430\u001b[0m             \u001b[0;32melse\u001b[0m\u001b[0;34m:\u001b[0m\u001b[0;34m\u001b[0m\u001b[0;34m\u001b[0m\u001b[0m\n\u001b[0;32m-> 1431\u001b[0;31m                 \u001b[0mcur\u001b[0m\u001b[0;34m.\u001b[0m\u001b[0mexecute\u001b[0m\u001b[0;34m(\u001b[0m\u001b[0;34m*\u001b[0m\u001b[0margs\u001b[0m\u001b[0;34m)\u001b[0m\u001b[0;34m\u001b[0m\u001b[0;34m\u001b[0m\u001b[0m\n\u001b[0m\u001b[1;32m   1432\u001b[0m             \u001b[0;32mreturn\u001b[0m \u001b[0mcur\u001b[0m\u001b[0;34m\u001b[0m\u001b[0;34m\u001b[0m\u001b[0m\n",
      "\u001b[0;31mAmbiguousColumn\u001b[0m: ORDER BY \"current_rank\" is ambiguous\nLINE 1: ...n public.rankings b ON a.player=b.player ORDER BY current_ra...\n                                                             ^\n",
      "\nDuring handling of the above exception, another exception occurred:\n",
      "\u001b[0;31mDatabaseError\u001b[0m                             Traceback (most recent call last)",
      "\u001b[0;32m<ipython-input-6-c38a3c5543dc>\u001b[0m in \u001b[0;36m<module>\u001b[0;34m\u001b[0m\n\u001b[0;32m----> 1\u001b[0;31m \u001b[0mdd\u001b[0m\u001b[0;34m.\u001b[0m\u001b[0mrun\u001b[0m\u001b[0;34m(\u001b[0m\u001b[0;34m)\u001b[0m\u001b[0;34m\u001b[0m\u001b[0;34m\u001b[0m\u001b[0m\n\u001b[0m",
      "\u001b[0;32m~/Code/GitHub/donkey_golf/donkey_golf/data_things/draft_day.py\u001b[0m in \u001b[0;36mrun\u001b[0;34m(self)\u001b[0m\n\u001b[1;32m     46\u001b[0m \u001b[0;34m\u001b[0m\u001b[0m\n\u001b[1;32m     47\u001b[0m     \u001b[0;32mdef\u001b[0m \u001b[0mrun\u001b[0m\u001b[0;34m(\u001b[0m\u001b[0mself\u001b[0m\u001b[0;34m)\u001b[0m\u001b[0;34m:\u001b[0m\u001b[0;34m\u001b[0m\u001b[0;34m\u001b[0m\u001b[0m\n\u001b[0;32m---> 48\u001b[0;31m         \u001b[0mself\u001b[0m\u001b[0;34m.\u001b[0m\u001b[0mpull_available_players\u001b[0m\u001b[0;34m(\u001b[0m\u001b[0;34m)\u001b[0m\u001b[0;34m\u001b[0m\u001b[0;34m\u001b[0m\u001b[0m\n\u001b[0m",
      "\u001b[0;32m~/Code/GitHub/donkey_golf/donkey_golf/data_things/draft_day.py\u001b[0m in \u001b[0;36mpull_available_players\u001b[0;34m(self)\u001b[0m\n\u001b[1;32m     37\u001b[0m         \u001b[0mself\u001b[0m\u001b[0;34m.\u001b[0m\u001b[0msql\u001b[0m \u001b[0;34m=\u001b[0m \u001b[0mself\u001b[0m\u001b[0;34m.\u001b[0m\u001b[0myaml_sql_dict\u001b[0m\u001b[0;34m.\u001b[0m\u001b[0mget\u001b[0m\u001b[0;34m(\u001b[0m\u001b[0;34m'pull_available_players'\u001b[0m\u001b[0;34m)\u001b[0m\u001b[0;34m\u001b[0m\u001b[0;34m\u001b[0m\u001b[0m\n\u001b[1;32m     38\u001b[0m \u001b[0;34m\u001b[0m\u001b[0m\n\u001b[0;32m---> 39\u001b[0;31m         \u001b[0mdf\u001b[0m \u001b[0;34m=\u001b[0m \u001b[0mself\u001b[0m\u001b[0;34m.\u001b[0m\u001b[0mrun_sql\u001b[0m\u001b[0;34m(\u001b[0m\u001b[0mself\u001b[0m\u001b[0;34m.\u001b[0m\u001b[0msql\u001b[0m\u001b[0;34m)\u001b[0m\u001b[0;34m\u001b[0m\u001b[0;34m\u001b[0m\u001b[0m\n\u001b[0m\u001b[1;32m     40\u001b[0m \u001b[0;34m\u001b[0m\u001b[0m\n\u001b[1;32m     41\u001b[0m         \u001b[0mdf\u001b[0m\u001b[0;34m[\u001b[0m\u001b[0;34m'rank'\u001b[0m\u001b[0;34m]\u001b[0m \u001b[0;34m=\u001b[0m \u001b[0mdf\u001b[0m\u001b[0;34m[\u001b[0m\u001b[0;34m'current_rank'\u001b[0m\u001b[0;34m]\u001b[0m\u001b[0;34m.\u001b[0m\u001b[0mrank\u001b[0m\u001b[0;34m(\u001b[0m\u001b[0mascending\u001b[0m\u001b[0;34m=\u001b[0m\u001b[0;32mTrue\u001b[0m\u001b[0;34m,\u001b[0m \u001b[0mmethod\u001b[0m\u001b[0;34m=\u001b[0m\u001b[0;34m'min'\u001b[0m\u001b[0;34m)\u001b[0m\u001b[0;34m\u001b[0m\u001b[0;34m\u001b[0m\u001b[0m\n",
      "\u001b[0;32m~/Code/GitHub/donkey_golf/donkey_golf/data_things/base_class.py\u001b[0m in \u001b[0;36mrun_sql\u001b[0;34m(self, sql)\u001b[0m\n\u001b[1;32m     48\u001b[0m         \u001b[0;32mwith\u001b[0m \u001b[0mpsycopg2\u001b[0m\u001b[0;34m.\u001b[0m\u001b[0mconnect\u001b[0m\u001b[0;34m(\u001b[0m\u001b[0mself\u001b[0m\u001b[0;34m.\u001b[0m\u001b[0mconf\u001b[0m\u001b[0;34m.\u001b[0m\u001b[0mdb_url\u001b[0m\u001b[0;34m)\u001b[0m \u001b[0;32mas\u001b[0m \u001b[0mconn\u001b[0m\u001b[0;34m:\u001b[0m\u001b[0;34m\u001b[0m\u001b[0;34m\u001b[0m\u001b[0m\n\u001b[1;32m     49\u001b[0m         \u001b[0;31m#with engine.connect() as conn:\u001b[0m\u001b[0;34m\u001b[0m\u001b[0;34m\u001b[0m\u001b[0;34m\u001b[0m\u001b[0m\n\u001b[0;32m---> 50\u001b[0;31m             \u001b[0mdf\u001b[0m \u001b[0;34m=\u001b[0m \u001b[0mpd\u001b[0m\u001b[0;34m.\u001b[0m\u001b[0mread_sql\u001b[0m\u001b[0;34m(\u001b[0m\u001b[0msql\u001b[0m\u001b[0;34m,\u001b[0m \u001b[0mconn\u001b[0m\u001b[0;34m)\u001b[0m\u001b[0;34m\u001b[0m\u001b[0;34m\u001b[0m\u001b[0m\n\u001b[0m\u001b[1;32m     51\u001b[0m \u001b[0;34m\u001b[0m\u001b[0m\n\u001b[1;32m     52\u001b[0m         \u001b[0mconn\u001b[0m\u001b[0;34m.\u001b[0m\u001b[0mclose\u001b[0m\u001b[0;34m(\u001b[0m\u001b[0;34m)\u001b[0m\u001b[0;34m\u001b[0m\u001b[0;34m\u001b[0m\u001b[0m\n",
      "\u001b[0;32m~/Code/VirtualEnvs/venv_dgolf/lib/python3.7/site-packages/pandas/io/sql.py\u001b[0m in \u001b[0;36mread_sql\u001b[0;34m(sql, con, index_col, coerce_float, params, parse_dates, columns, chunksize)\u001b[0m\n\u001b[1;32m    378\u001b[0m             \u001b[0msql\u001b[0m\u001b[0;34m,\u001b[0m \u001b[0mindex_col\u001b[0m\u001b[0;34m=\u001b[0m\u001b[0mindex_col\u001b[0m\u001b[0;34m,\u001b[0m \u001b[0mparams\u001b[0m\u001b[0;34m=\u001b[0m\u001b[0mparams\u001b[0m\u001b[0;34m,\u001b[0m\u001b[0;34m\u001b[0m\u001b[0;34m\u001b[0m\u001b[0m\n\u001b[1;32m    379\u001b[0m             \u001b[0mcoerce_float\u001b[0m\u001b[0;34m=\u001b[0m\u001b[0mcoerce_float\u001b[0m\u001b[0;34m,\u001b[0m \u001b[0mparse_dates\u001b[0m\u001b[0;34m=\u001b[0m\u001b[0mparse_dates\u001b[0m\u001b[0;34m,\u001b[0m\u001b[0;34m\u001b[0m\u001b[0;34m\u001b[0m\u001b[0m\n\u001b[0;32m--> 380\u001b[0;31m             chunksize=chunksize)\n\u001b[0m\u001b[1;32m    381\u001b[0m \u001b[0;34m\u001b[0m\u001b[0m\n\u001b[1;32m    382\u001b[0m     \u001b[0;32mtry\u001b[0m\u001b[0;34m:\u001b[0m\u001b[0;34m\u001b[0m\u001b[0;34m\u001b[0m\u001b[0m\n",
      "\u001b[0;32m~/Code/VirtualEnvs/venv_dgolf/lib/python3.7/site-packages/pandas/io/sql.py\u001b[0m in \u001b[0;36mread_query\u001b[0;34m(self, sql, index_col, coerce_float, params, parse_dates, chunksize)\u001b[0m\n\u001b[1;32m   1466\u001b[0m \u001b[0;34m\u001b[0m\u001b[0m\n\u001b[1;32m   1467\u001b[0m         \u001b[0margs\u001b[0m \u001b[0;34m=\u001b[0m \u001b[0m_convert_params\u001b[0m\u001b[0;34m(\u001b[0m\u001b[0msql\u001b[0m\u001b[0;34m,\u001b[0m \u001b[0mparams\u001b[0m\u001b[0;34m)\u001b[0m\u001b[0;34m\u001b[0m\u001b[0;34m\u001b[0m\u001b[0m\n\u001b[0;32m-> 1468\u001b[0;31m         \u001b[0mcursor\u001b[0m \u001b[0;34m=\u001b[0m \u001b[0mself\u001b[0m\u001b[0;34m.\u001b[0m\u001b[0mexecute\u001b[0m\u001b[0;34m(\u001b[0m\u001b[0;34m*\u001b[0m\u001b[0margs\u001b[0m\u001b[0;34m)\u001b[0m\u001b[0;34m\u001b[0m\u001b[0;34m\u001b[0m\u001b[0m\n\u001b[0m\u001b[1;32m   1469\u001b[0m         \u001b[0mcolumns\u001b[0m \u001b[0;34m=\u001b[0m \u001b[0;34m[\u001b[0m\u001b[0mcol_desc\u001b[0m\u001b[0;34m[\u001b[0m\u001b[0;36m0\u001b[0m\u001b[0;34m]\u001b[0m \u001b[0;32mfor\u001b[0m \u001b[0mcol_desc\u001b[0m \u001b[0;32min\u001b[0m \u001b[0mcursor\u001b[0m\u001b[0;34m.\u001b[0m\u001b[0mdescription\u001b[0m\u001b[0;34m]\u001b[0m\u001b[0;34m\u001b[0m\u001b[0;34m\u001b[0m\u001b[0m\n\u001b[1;32m   1470\u001b[0m \u001b[0;34m\u001b[0m\u001b[0m\n",
      "\u001b[0;32m~/Code/VirtualEnvs/venv_dgolf/lib/python3.7/site-packages/pandas/io/sql.py\u001b[0m in \u001b[0;36mexecute\u001b[0;34m(self, *args, **kwargs)\u001b[0m\n\u001b[1;32m   1443\u001b[0m                 \"Execution failed on sql '{sql}': {exc}\".format(\n\u001b[1;32m   1444\u001b[0m                     sql=args[0], exc=exc))\n\u001b[0;32m-> 1445\u001b[0;31m             \u001b[0mraise_with_traceback\u001b[0m\u001b[0;34m(\u001b[0m\u001b[0mex\u001b[0m\u001b[0;34m)\u001b[0m\u001b[0;34m\u001b[0m\u001b[0;34m\u001b[0m\u001b[0m\n\u001b[0m\u001b[1;32m   1446\u001b[0m \u001b[0;34m\u001b[0m\u001b[0m\n\u001b[1;32m   1447\u001b[0m     \u001b[0;34m@\u001b[0m\u001b[0mstaticmethod\u001b[0m\u001b[0;34m\u001b[0m\u001b[0;34m\u001b[0m\u001b[0m\n",
      "\u001b[0;32m~/Code/VirtualEnvs/venv_dgolf/lib/python3.7/site-packages/pandas/compat/__init__.py\u001b[0m in \u001b[0;36mraise_with_traceback\u001b[0;34m(exc, traceback)\u001b[0m\n\u001b[1;32m    418\u001b[0m         \u001b[0;32mif\u001b[0m \u001b[0mtraceback\u001b[0m \u001b[0;34m==\u001b[0m \u001b[0mEllipsis\u001b[0m\u001b[0;34m:\u001b[0m\u001b[0;34m\u001b[0m\u001b[0;34m\u001b[0m\u001b[0m\n\u001b[1;32m    419\u001b[0m             \u001b[0m_\u001b[0m\u001b[0;34m,\u001b[0m \u001b[0m_\u001b[0m\u001b[0;34m,\u001b[0m \u001b[0mtraceback\u001b[0m \u001b[0;34m=\u001b[0m \u001b[0msys\u001b[0m\u001b[0;34m.\u001b[0m\u001b[0mexc_info\u001b[0m\u001b[0;34m(\u001b[0m\u001b[0;34m)\u001b[0m\u001b[0;34m\u001b[0m\u001b[0;34m\u001b[0m\u001b[0m\n\u001b[0;32m--> 420\u001b[0;31m         \u001b[0;32mraise\u001b[0m \u001b[0mexc\u001b[0m\u001b[0;34m.\u001b[0m\u001b[0mwith_traceback\u001b[0m\u001b[0;34m(\u001b[0m\u001b[0mtraceback\u001b[0m\u001b[0;34m)\u001b[0m\u001b[0;34m\u001b[0m\u001b[0;34m\u001b[0m\u001b[0m\n\u001b[0m\u001b[1;32m    421\u001b[0m \u001b[0;32melse\u001b[0m\u001b[0;34m:\u001b[0m\u001b[0;34m\u001b[0m\u001b[0;34m\u001b[0m\u001b[0m\n\u001b[1;32m    422\u001b[0m     \u001b[0;31m# this version of raise is a syntax error in Python 3\u001b[0m\u001b[0;34m\u001b[0m\u001b[0;34m\u001b[0m\u001b[0;34m\u001b[0m\u001b[0m\n",
      "\u001b[0;32m~/Code/VirtualEnvs/venv_dgolf/lib/python3.7/site-packages/pandas/io/sql.py\u001b[0m in \u001b[0;36mexecute\u001b[0;34m(self, *args, **kwargs)\u001b[0m\n\u001b[1;32m   1429\u001b[0m                 \u001b[0mcur\u001b[0m\u001b[0;34m.\u001b[0m\u001b[0mexecute\u001b[0m\u001b[0;34m(\u001b[0m\u001b[0;34m*\u001b[0m\u001b[0margs\u001b[0m\u001b[0;34m,\u001b[0m \u001b[0;34m**\u001b[0m\u001b[0mkwargs\u001b[0m\u001b[0;34m)\u001b[0m\u001b[0;34m\u001b[0m\u001b[0;34m\u001b[0m\u001b[0m\n\u001b[1;32m   1430\u001b[0m             \u001b[0;32melse\u001b[0m\u001b[0;34m:\u001b[0m\u001b[0;34m\u001b[0m\u001b[0;34m\u001b[0m\u001b[0m\n\u001b[0;32m-> 1431\u001b[0;31m                 \u001b[0mcur\u001b[0m\u001b[0;34m.\u001b[0m\u001b[0mexecute\u001b[0m\u001b[0;34m(\u001b[0m\u001b[0;34m*\u001b[0m\u001b[0margs\u001b[0m\u001b[0;34m)\u001b[0m\u001b[0;34m\u001b[0m\u001b[0;34m\u001b[0m\u001b[0m\n\u001b[0m\u001b[1;32m   1432\u001b[0m             \u001b[0;32mreturn\u001b[0m \u001b[0mcur\u001b[0m\u001b[0;34m\u001b[0m\u001b[0;34m\u001b[0m\u001b[0m\n\u001b[1;32m   1433\u001b[0m         \u001b[0;32mexcept\u001b[0m \u001b[0mException\u001b[0m \u001b[0;32mas\u001b[0m \u001b[0mexc\u001b[0m\u001b[0;34m:\u001b[0m\u001b[0;34m\u001b[0m\u001b[0;34m\u001b[0m\u001b[0m\n",
      "\u001b[0;31mDatabaseError\u001b[0m: Execution failed on sql 'SELECT a.*, b.current_rank, b.events_played from public.pre_tourney a left join public.rankings b ON a.player=b.player ORDER BY current_rank': ORDER BY \"current_rank\" is ambiguous\nLINE 1: ...n public.rankings b ON a.player=b.player ORDER BY current_ra...\n                                                             ^\n"
     ]
    }
   ],
   "source": [
    "dd.run()"
   ]
  },
  {
   "cell_type": "code",
   "execution_count": 7,
   "metadata": {},
   "outputs": [
    {
     "data": {
      "text/plain": [
       "'SELECT a.*, b.current_rank, b.events_played from public.pre_tourney a left join public.rankings b ON a.player=b.player ORDER BY current_rank'"
      ]
     },
     "execution_count": 7,
     "metadata": {},
     "output_type": "execute_result"
    }
   ],
   "source": [
    "dd.sql"
   ]
  },
  {
   "cell_type": "code",
   "execution_count": 8,
   "metadata": {},
   "outputs": [
    {
     "name": "stderr",
     "output_type": "stream",
     "text": [
      "2019-04-24 21:57:14,136 - donkey_golf.data_things.base_class - DEBUG - ABOUT TO SET yaml_sql_dict\n",
      "2019-04-24 21:57:14,144 - donkey_golf.data_things.base_class - INFO - Executing run_sql\n",
      "2019-04-24 21:57:14,460 - donkey_golf.data_things.base_class - INFO - Current tourney ID: 401056527\n"
     ]
    }
   ],
   "source": [
    "lb = dg.data_things.LoadLeaderboard()"
   ]
  },
  {
   "cell_type": "code",
   "execution_count": 10,
   "metadata": {},
   "outputs": [
    {
     "ename": "ImportError",
     "evalue": "html5lib not found, please install it",
     "output_type": "error",
     "traceback": [
      "\u001b[0;31m---------------------------------------------------------------------------\u001b[0m",
      "\u001b[0;31mImportError\u001b[0m                               Traceback (most recent call last)",
      "\u001b[0;32m<ipython-input-10-81e9a2e18818>\u001b[0m in \u001b[0;36m<module>\u001b[0;34m\u001b[0m\n\u001b[0;32m----> 1\u001b[0;31m \u001b[0mlb\u001b[0m\u001b[0;34m.\u001b[0m\u001b[0mscrape_espn_leaderboard\u001b[0m\u001b[0;34m(\u001b[0m\u001b[0;34m'http://www.espn.com/golf/leaderboard'\u001b[0m\u001b[0;34m)\u001b[0m\u001b[0;34m\u001b[0m\u001b[0;34m\u001b[0m\u001b[0m\n\u001b[0m",
      "\u001b[0;32m~/Code/GitHub/donkey_golf/donkey_golf/data_things/tourney_leaderboard.py\u001b[0m in \u001b[0;36mscrape_espn_leaderboard\u001b[0;34m(self, url)\u001b[0m\n\u001b[1;32m     37\u001b[0m         \u001b[0mdata_dict\u001b[0m \u001b[0;34m=\u001b[0m \u001b[0;34m{\u001b[0m\u001b[0;34m}\u001b[0m\u001b[0;34m\u001b[0m\u001b[0;34m\u001b[0m\u001b[0m\n\u001b[1;32m     38\u001b[0m         \u001b[0;31m# Creating leaderboard & rankings dataframes\u001b[0m\u001b[0;34m\u001b[0m\u001b[0;34m\u001b[0m\u001b[0;34m\u001b[0m\u001b[0m\n\u001b[0;32m---> 39\u001b[0;31m         \u001b[0mleaderboard\u001b[0m \u001b[0;34m=\u001b[0m \u001b[0mpd\u001b[0m\u001b[0;34m.\u001b[0m\u001b[0mread_html\u001b[0m\u001b[0;34m(\u001b[0m\u001b[0murl\u001b[0m\u001b[0;34m,\u001b[0m\u001b[0mheader\u001b[0m\u001b[0;34m=\u001b[0m\u001b[0;36m3\u001b[0m\u001b[0;34m)\u001b[0m\u001b[0;34m[\u001b[0m\u001b[0;36m0\u001b[0m\u001b[0;34m]\u001b[0m\u001b[0;34m\u001b[0m\u001b[0;34m\u001b[0m\u001b[0m\n\u001b[0m\u001b[1;32m     40\u001b[0m         \u001b[0mleaderboard\u001b[0m\u001b[0;34m.\u001b[0m\u001b[0mcolumns\u001b[0m \u001b[0;34m=\u001b[0m \u001b[0mleaderboard\u001b[0m\u001b[0;34m.\u001b[0m\u001b[0mcolumns\u001b[0m\u001b[0;34m.\u001b[0m\u001b[0mstr\u001b[0m\u001b[0;34m.\u001b[0m\u001b[0mlower\u001b[0m\u001b[0;34m(\u001b[0m\u001b[0;34m)\u001b[0m\u001b[0;34m.\u001b[0m\u001b[0mstr\u001b[0m\u001b[0;34m.\u001b[0m\u001b[0mreplace\u001b[0m\u001b[0;34m(\u001b[0m\u001b[0;34m' '\u001b[0m\u001b[0;34m,\u001b[0m\u001b[0;34m'_'\u001b[0m\u001b[0;34m)\u001b[0m\u001b[0;34m\u001b[0m\u001b[0;34m\u001b[0m\u001b[0m\n\u001b[1;32m     41\u001b[0m \u001b[0;34m\u001b[0m\u001b[0m\n",
      "\u001b[0;32m~/Code/VirtualEnvs/venv_dgolf/lib/python3.7/site-packages/pandas/io/html.py\u001b[0m in \u001b[0;36mread_html\u001b[0;34m(io, match, flavor, header, index_col, skiprows, attrs, parse_dates, tupleize_cols, thousands, encoding, decimal, converters, na_values, keep_default_na, displayed_only)\u001b[0m\n\u001b[1;32m   1092\u001b[0m                   \u001b[0mdecimal\u001b[0m\u001b[0;34m=\u001b[0m\u001b[0mdecimal\u001b[0m\u001b[0;34m,\u001b[0m \u001b[0mconverters\u001b[0m\u001b[0;34m=\u001b[0m\u001b[0mconverters\u001b[0m\u001b[0;34m,\u001b[0m \u001b[0mna_values\u001b[0m\u001b[0;34m=\u001b[0m\u001b[0mna_values\u001b[0m\u001b[0;34m,\u001b[0m\u001b[0;34m\u001b[0m\u001b[0;34m\u001b[0m\u001b[0m\n\u001b[1;32m   1093\u001b[0m                   \u001b[0mkeep_default_na\u001b[0m\u001b[0;34m=\u001b[0m\u001b[0mkeep_default_na\u001b[0m\u001b[0;34m,\u001b[0m\u001b[0;34m\u001b[0m\u001b[0;34m\u001b[0m\u001b[0m\n\u001b[0;32m-> 1094\u001b[0;31m                   displayed_only=displayed_only)\n\u001b[0m",
      "\u001b[0;32m~/Code/VirtualEnvs/venv_dgolf/lib/python3.7/site-packages/pandas/io/html.py\u001b[0m in \u001b[0;36m_parse\u001b[0;34m(flavor, io, match, attrs, encoding, displayed_only, **kwargs)\u001b[0m\n\u001b[1;32m    892\u001b[0m     \u001b[0mretained\u001b[0m \u001b[0;34m=\u001b[0m \u001b[0;32mNone\u001b[0m\u001b[0;34m\u001b[0m\u001b[0;34m\u001b[0m\u001b[0m\n\u001b[1;32m    893\u001b[0m     \u001b[0;32mfor\u001b[0m \u001b[0mflav\u001b[0m \u001b[0;32min\u001b[0m \u001b[0mflavor\u001b[0m\u001b[0;34m:\u001b[0m\u001b[0;34m\u001b[0m\u001b[0;34m\u001b[0m\u001b[0m\n\u001b[0;32m--> 894\u001b[0;31m         \u001b[0mparser\u001b[0m \u001b[0;34m=\u001b[0m \u001b[0m_parser_dispatch\u001b[0m\u001b[0;34m(\u001b[0m\u001b[0mflav\u001b[0m\u001b[0;34m)\u001b[0m\u001b[0;34m\u001b[0m\u001b[0;34m\u001b[0m\u001b[0m\n\u001b[0m\u001b[1;32m    895\u001b[0m         \u001b[0mp\u001b[0m \u001b[0;34m=\u001b[0m \u001b[0mparser\u001b[0m\u001b[0;34m(\u001b[0m\u001b[0mio\u001b[0m\u001b[0;34m,\u001b[0m \u001b[0mcompiled_match\u001b[0m\u001b[0;34m,\u001b[0m \u001b[0mattrs\u001b[0m\u001b[0;34m,\u001b[0m \u001b[0mencoding\u001b[0m\u001b[0;34m,\u001b[0m \u001b[0mdisplayed_only\u001b[0m\u001b[0;34m)\u001b[0m\u001b[0;34m\u001b[0m\u001b[0;34m\u001b[0m\u001b[0m\n\u001b[1;32m    896\u001b[0m \u001b[0;34m\u001b[0m\u001b[0m\n",
      "\u001b[0;32m~/Code/VirtualEnvs/venv_dgolf/lib/python3.7/site-packages/pandas/io/html.py\u001b[0m in \u001b[0;36m_parser_dispatch\u001b[0;34m(flavor)\u001b[0m\n\u001b[1;32m    838\u001b[0m     \u001b[0;32mif\u001b[0m \u001b[0mflavor\u001b[0m \u001b[0;32min\u001b[0m \u001b[0;34m(\u001b[0m\u001b[0;34m'bs4'\u001b[0m\u001b[0;34m,\u001b[0m \u001b[0;34m'html5lib'\u001b[0m\u001b[0;34m)\u001b[0m\u001b[0;34m:\u001b[0m\u001b[0;34m\u001b[0m\u001b[0;34m\u001b[0m\u001b[0m\n\u001b[1;32m    839\u001b[0m         \u001b[0;32mif\u001b[0m \u001b[0;32mnot\u001b[0m \u001b[0m_HAS_HTML5LIB\u001b[0m\u001b[0;34m:\u001b[0m\u001b[0;34m\u001b[0m\u001b[0;34m\u001b[0m\u001b[0m\n\u001b[0;32m--> 840\u001b[0;31m             \u001b[0;32mraise\u001b[0m \u001b[0mImportError\u001b[0m\u001b[0;34m(\u001b[0m\u001b[0;34m\"html5lib not found, please install it\"\u001b[0m\u001b[0;34m)\u001b[0m\u001b[0;34m\u001b[0m\u001b[0;34m\u001b[0m\u001b[0m\n\u001b[0m\u001b[1;32m    841\u001b[0m         \u001b[0;32mif\u001b[0m \u001b[0;32mnot\u001b[0m \u001b[0m_HAS_BS4\u001b[0m\u001b[0;34m:\u001b[0m\u001b[0;34m\u001b[0m\u001b[0;34m\u001b[0m\u001b[0m\n\u001b[1;32m    842\u001b[0m             raise ImportError(\n",
      "\u001b[0;31mImportError\u001b[0m: html5lib not found, please install it"
     ]
    }
   ],
   "source": [
    "lb.scrape_espn_leaderboard('http://www.espn.com/golf/leaderboard')"
   ]
  },
  {
   "cell_type": "code",
   "execution_count": null,
   "metadata": {},
   "outputs": [],
   "source": []
  },
  {
   "cell_type": "code",
   "execution_count": null,
   "metadata": {},
   "outputs": [],
   "source": []
  },
  {
   "cell_type": "code",
   "execution_count": null,
   "metadata": {},
   "outputs": [],
   "source": []
  },
  {
   "cell_type": "code",
   "execution_count": null,
   "metadata": {},
   "outputs": [],
   "source": [
    "yay = dg.data_things.TeamPlayerResults()"
   ]
  },
  {
   "cell_type": "code",
   "execution_count": null,
   "metadata": {},
   "outputs": [],
   "source": [
    "yay.run()"
   ]
  },
  {
   "cell_type": "code",
   "execution_count": null,
   "metadata": {},
   "outputs": [],
   "source": [
    "yay.clean_data()"
   ]
  },
  {
   "cell_type": "code",
   "execution_count": null,
   "metadata": {},
   "outputs": [],
   "source": [
    "yay.data"
   ]
  },
  {
   "cell_type": "code",
   "execution_count": null,
   "metadata": {},
   "outputs": [],
   "source": [
    "class TeamPlayerResults(dg.data_things.BaseClass):\n",
    "\n",
    "    def pull_sql(self):\n",
    "        '''\n",
    "        Pulls full team results by player\n",
    "        '''\n",
    "        logger.info(\"Pulling full team results by player\")\n",
    "        sql = self.yaml_sql_dict.get('scoreboard_users_team')\n",
    "\n",
    "        df = self.run_sql(sql)\n",
    "\n",
    "        self.data = df.copy()"
   ]
  },
  {
   "cell_type": "code",
   "execution_count": null,
   "metadata": {},
   "outputs": [],
   "source": [
    "cmon = dg.data_things.PullLeaderboard(user_id=5)"
   ]
  },
  {
   "cell_type": "code",
   "execution_count": null,
   "metadata": {},
   "outputs": [],
   "source": [
    "cmon.run()"
   ]
  },
  {
   "cell_type": "code",
   "execution_count": null,
   "metadata": {},
   "outputs": [],
   "source": [
    "cmon.data.loc[cmon.data['on_team'] == 'Yes']"
   ]
  },
  {
   "cell_type": "code",
   "execution_count": null,
   "metadata": {},
   "outputs": [],
   "source": [
    "cmon.data.loc[cmon.data['on_team'] == 'Yes']['donkey_score'].astype(int).sum()"
   ]
  },
  {
   "cell_type": "code",
   "execution_count": null,
   "metadata": {},
   "outputs": [],
   "source": [
    "BaseClass = dg.data_things.BaseClass"
   ]
  },
  {
   "cell_type": "code",
   "execution_count": null,
   "metadata": {},
   "outputs": [],
   "source": [
    "class GameScoreboard(BaseClass):\n",
    "    def __init__(self):\n",
    "        BaseClass.__init__(self)\n",
    "\n",
    "    def aggregate_user_scores(self):\n",
    "        '''\n",
    "        Pull each users aggregate score for the current tourney\n",
    "        '''\n",
    "        logger.info(\"Pulling aggregated team score for scoreboard\")\n",
    "        sql = self.yaml_sql_dict.get('aggregate_team_score')\n",
    "        df = self.run_sql(sql)\n",
    "\n",
    "        df.sort_values('donkey_score', inplace=True)\n",
    "\n",
    "        df['rank'] = df['donkey_score'].rank(ascending=True, method='min').astype(int)\n",
    "\n",
    "        self.data = df.copy()\n",
    "\n",
    "    def determine_ties_in_scoreboard(self):\n",
    "        '''\n",
    "        Takes a scoreboard df and determines rank and handles tiesself.\n",
    "\n",
    "        It's nice to have T2 on the scoreboard instead of multiple \"2\"s\n",
    "        '''\n",
    "        logger.info(\"Determining where ties exist in the donkey scoreboard\")\n",
    "        df_ties = self.data.copy()\n",
    "\n",
    "        # Need to create a better rank that handles ties\n",
    "        df_ties['new_rank'] = df_ties['rank'].copy()\n",
    "\n",
    "        df_ties = df_ties.groupby(['rank'])['id'].count().reset_index()\n",
    "        df_ties.loc[df_ties['id'] > 1, 'new_rank'] = \"T\"\n",
    "\n",
    "        df_ties.loc[df_ties['new_rank'].notnull(), 'final_rank'] = 'T' + df_ties['rank'].astype(str)\n",
    "        df_ties.loc[df_ties['new_rank'].isnull(), 'final_rank'] = df_ties['rank'].astype(str)\n",
    "\n",
    "        self.df_ties = df_ties[['rank','final_rank']]\n",
    "\n",
    "    def add_ties_to_data(self):\n",
    "        logger.info(\"Adding ties to scoreboard data\")\n",
    "        self.data = self.data.merge(self.df_ties,\n",
    "                                   how='left',\n",
    "                                   on='rank')\n",
    "\n",
    "    def run(self):\n",
    "        self.aggregate_user_scores()\n",
    "        self.determine_ties_in_scoreboard()\n",
    "        self.add_ties_to_data()"
   ]
  },
  {
   "cell_type": "code",
   "execution_count": null,
   "metadata": {},
   "outputs": [],
   "source": [
    "sb = GameScoreboard()"
   ]
  },
  {
   "cell_type": "code",
   "execution_count": null,
   "metadata": {},
   "outputs": [],
   "source": [
    "sb.aggregate_user_scores()"
   ]
  },
  {
   "cell_type": "code",
   "execution_count": null,
   "metadata": {},
   "outputs": [],
   "source": [
    "sb.data"
   ]
  },
  {
   "cell_type": "code",
   "execution_count": null,
   "metadata": {},
   "outputs": [],
   "source": []
  },
  {
   "cell_type": "code",
   "execution_count": null,
   "metadata": {},
   "outputs": [],
   "source": [
    "big = dg.data_things.TeamPlayerResults()"
   ]
  },
  {
   "cell_type": "code",
   "execution_count": null,
   "metadata": {},
   "outputs": [],
   "source": [
    "big.run()"
   ]
  },
  {
   "cell_type": "code",
   "execution_count": null,
   "metadata": {},
   "outputs": [],
   "source": [
    "big.data['player']"
   ]
  },
  {
   "cell_type": "code",
   "execution_count": null,
   "metadata": {},
   "outputs": [],
   "source": []
  },
  {
   "cell_type": "code",
   "execution_count": null,
   "metadata": {},
   "outputs": [],
   "source": []
  },
  {
   "cell_type": "code",
   "execution_count": null,
   "metadata": {},
   "outputs": [],
   "source": [
    "big.user_id"
   ]
  },
  {
   "cell_type": "code",
   "execution_count": null,
   "metadata": {},
   "outputs": [],
   "source": [
    "big.user_df"
   ]
  },
  {
   "cell_type": "code",
   "execution_count": null,
   "metadata": {},
   "outputs": [],
   "source": [
    "big.run()"
   ]
  },
  {
   "cell_type": "code",
   "execution_count": null,
   "metadata": {},
   "outputs": [],
   "source": [
    "big."
   ]
  },
  {
   "cell_type": "code",
   "execution_count": null,
   "metadata": {},
   "outputs": [],
   "source": []
  },
  {
   "cell_type": "code",
   "execution_count": null,
   "metadata": {},
   "outputs": [],
   "source": []
  },
  {
   "cell_type": "code",
   "execution_count": null,
   "metadata": {},
   "outputs": [],
   "source": [
    "big.determine_tourney_status()"
   ]
  },
  {
   "cell_type": "code",
   "execution_count": null,
   "metadata": {},
   "outputs": [],
   "source": [
    "big.tourney_status"
   ]
  },
  {
   "cell_type": "code",
   "execution_count": null,
   "metadata": {},
   "outputs": [],
   "source": [
    "yay.run()"
   ]
  },
  {
   "cell_type": "code",
   "execution_count": null,
   "metadata": {},
   "outputs": [],
   "source": [
    "yay.data_dict"
   ]
  },
  {
   "cell_type": "code",
   "execution_count": null,
   "metadata": {},
   "outputs": [],
   "source": [
    "yay.data"
   ]
  },
  {
   "cell_type": "code",
   "execution_count": null,
   "metadata": {},
   "outputs": [],
   "source": []
  },
  {
   "cell_type": "code",
   "execution_count": null,
   "metadata": {},
   "outputs": [],
   "source": [
    "import pandas as pd"
   ]
  },
  {
   "cell_type": "code",
   "execution_count": null,
   "metadata": {},
   "outputs": [],
   "source": [
    "pd.DataFrame(yay.data_dict)"
   ]
  },
  {
   "cell_type": "code",
   "execution_count": null,
   "metadata": {},
   "outputs": [],
   "source": [
    "yay.tourney_id"
   ]
  },
  {
   "cell_type": "code",
   "execution_count": null,
   "metadata": {},
   "outputs": [],
   "source": []
  },
  {
   "cell_type": "code",
   "execution_count": null,
   "metadata": {},
   "outputs": [],
   "source": []
  },
  {
   "cell_type": "code",
   "execution_count": null,
   "metadata": {},
   "outputs": [],
   "source": [
    "yay.load_table_to_db()"
   ]
  },
  {
   "cell_type": "code",
   "execution_count": null,
   "metadata": {},
   "outputs": [],
   "source": []
  },
  {
   "cell_type": "code",
   "execution_count": null,
   "metadata": {},
   "outputs": [],
   "source": []
  },
  {
   "cell_type": "code",
   "execution_count": null,
   "metadata": {},
   "outputs": [],
   "source": []
  },
  {
   "cell_type": "code",
   "execution_count": null,
   "metadata": {},
   "outputs": [],
   "source": [
    "from bs4 import BeautifulSoup\n",
    "import requests\n",
    "\n",
    "def current_tourney_data(url):\n",
    "    source = requests.get(url).text\n",
    "    espn = BeautifulSoup(source, 'lxml')\n",
    "    tournament_info = espn.find('div', class_='Leaderboard__Header')\n",
    "    tourney_data = {}\n",
    "    course_data = tournament_info.find('div', class_= 'Leaderboard__Course__Location__Detail n8 clr-gray-04').text\n",
    "    tourney_data['tourney_name'] = tournament_info.find('h1', class_='headline__h1 Leaderboard__Event__Title').text\n",
    "    tourney_data['tourney_dates'] = tournament_info.find('span', class_='Leaderboard__Event__Date n7').text\n",
    "    tourney_data['course_name'] = course_name = tournament_info.find('div', class_= 'Leaderboard__Course__Location n8 clr-gray-04').text\n",
    "    tourney_data['course_par'] = course_data[3:5]\n",
    "    tourney_data['course_yardage'] = course_data[-4:]\n",
    "    tournament_winner_data = tournament_info.find('div', class_= 'n7 clr-gray-04')\n",
    "    winner = []\n",
    "    for node in tournament_winner_data.find_all('span', class_= 'clr-gray-05 mr2 label'):\n",
    "        winner.append(node.next_sibling)\n",
    "    tourney_data['tourney_purse'] = winner[0]\n",
    "    tourney_data['tourney_defending_champ'] = winner[1]\n",
    "    return tourney_data\n",
    "\n",
    "df = current_tourney_data('http://www.espn.com/golf/leaderboard/_/tournamentId/401025263')"
   ]
  },
  {
   "cell_type": "code",
   "execution_count": null,
   "metadata": {},
   "outputs": [],
   "source": [
    "df"
   ]
  },
  {
   "cell_type": "code",
   "execution_count": null,
   "metadata": {},
   "outputs": [],
   "source": []
  },
  {
   "cell_type": "code",
   "execution_count": null,
   "metadata": {},
   "outputs": [],
   "source": []
  },
  {
   "cell_type": "code",
   "execution_count": null,
   "metadata": {},
   "outputs": [],
   "source": []
  },
  {
   "cell_type": "code",
   "execution_count": null,
   "metadata": {},
   "outputs": [],
   "source": []
  },
  {
   "cell_type": "code",
   "execution_count": null,
   "metadata": {},
   "outputs": [],
   "source": []
  },
  {
   "cell_type": "code",
   "execution_count": null,
   "metadata": {},
   "outputs": [],
   "source": [
    "yay = dg.data_things.PullLeaderboard()"
   ]
  },
  {
   "cell_type": "code",
   "execution_count": null,
   "metadata": {},
   "outputs": [],
   "source": [
    "yay.run()"
   ]
  },
  {
   "cell_type": "code",
   "execution_count": null,
   "metadata": {},
   "outputs": [],
   "source": [
    "yay.calculate_cut_line()"
   ]
  },
  {
   "cell_type": "code",
   "execution_count": null,
   "metadata": {},
   "outputs": [],
   "source": []
  },
  {
   "cell_type": "code",
   "execution_count": null,
   "metadata": {},
   "outputs": [],
   "source": [
    "yay.determine_current_round()"
   ]
  },
  {
   "cell_type": "code",
   "execution_count": null,
   "metadata": {},
   "outputs": [],
   "source": []
  },
  {
   "cell_type": "code",
   "execution_count": null,
   "metadata": {},
   "outputs": [],
   "source": []
  },
  {
   "cell_type": "code",
   "execution_count": null,
   "metadata": {},
   "outputs": [],
   "source": []
  },
  {
   "cell_type": "code",
   "execution_count": null,
   "metadata": {},
   "outputs": [],
   "source": [
    "yay.run()"
   ]
  },
  {
   "cell_type": "code",
   "execution_count": null,
   "metadata": {},
   "outputs": [],
   "source": [
    "big = dg.data_things.PullLeaderboard(user_id=5)"
   ]
  },
  {
   "cell_type": "code",
   "execution_count": null,
   "metadata": {},
   "outputs": [],
   "source": [
    "big.run()"
   ]
  },
  {
   "cell_type": "code",
   "execution_count": null,
   "metadata": {},
   "outputs": [],
   "source": [
    "big.user_df"
   ]
  },
  {
   "cell_type": "code",
   "execution_count": null,
   "metadata": {},
   "outputs": [],
   "source": []
  },
  {
   "cell_type": "code",
   "execution_count": null,
   "metadata": {},
   "outputs": [],
   "source": []
  },
  {
   "cell_type": "code",
   "execution_count": null,
   "metadata": {},
   "outputs": [],
   "source": [
    "import oyaml\n",
    "import pandas as pd\n",
    "import logging\n",
    "import psycopg2\n",
    "\n",
    "from sqlalchemy import create_engine\n",
    "\n",
    "from donkey_golf import config\n",
    "\n",
    "# create logger\n",
    "logger = logging.getLogger(__name__)\n",
    "logger.setLevel(logging.DEBUG)\n",
    "\n",
    "# create console handler and set level to debug\n",
    "ch = logging.StreamHandler()\n",
    "ch.setLevel(logging.DEBUG)\n",
    "\n",
    "# create formatter\n",
    "formatter = logging.Formatter('%(asctime)s - %(name)s - %(levelname)s - %(message)s')\n",
    "\n",
    "# add formatter to ch\n",
    "ch.setFormatter(formatter)\n",
    "\n",
    "# add ch to logger\n",
    "logger.addHandler(ch)\n",
    "\n",
    "class BaseClass():\n",
    "\n",
    "    def __init__(self, **kwargs):\n",
    "        logger.debug(\"ABOUT TO SET yaml_sql_dict\")\n",
    "        self.conf = config.DGConfig()\n",
    "        self.yaml_sql_dict = oyaml.load(open(self.conf.yaml_sql_loc), Loader=oyaml.FullLoader)\n",
    "        self.tourney_id = self.determine_current_tourney_id()\n",
    "\n",
    "    def run_sql(self, sql):\n",
    "        '''\n",
    "        Takes a SQL and connects to database to execute passed SQL\n",
    "        '''\n",
    "        #engine = create_engine(self.conf.db_url)\n",
    "        with psycopg2.connect(self.conf.db_url) as conn:\n",
    "        #with engine.connect() as conn:\n",
    "            df = pd.read_sql(sql, conn)\n",
    "\n",
    "        conn.close()\n",
    "\n",
    "        return df\n",
    "\n",
    "    def load_table_to_db(self, df, tablename):\n",
    "        '''\n",
    "        Takes a df and tablename and loads it to our database\n",
    "        '''\n",
    "        engine = create_engine(self.conf.db_url)\n",
    "\n",
    "        with engine.connect() as conn:\n",
    "            df.to_sql(tablename, conn, if_exists='replace', index=False)\n",
    "\n",
    "    def determine_current_tourney_id(self):\n",
    "        '''\n",
    "        Pull each users aggregate score for the current tourney\n",
    "        '''\n",
    "        sql = self.yaml_sql_dict.get('determine_current_tourney_id')\n",
    "        df = self.run_sql(sql)\n",
    "\n",
    "        return df['value'][0].strip()\n"
   ]
  },
  {
   "cell_type": "code",
   "execution_count": null,
   "metadata": {},
   "outputs": [],
   "source": [
    "class LoadWorldRankings(BaseClass):\n",
    "    def __init__(self):\n",
    "        BaseClass.__init__(self)\n",
    "\n",
    "    def scrape_world_rankings_data(self):\n",
    "        logger.info(\"Scraping world rankings data\")\n",
    "        rankings = pd.read_html('http://www.owgr.com/ranking?pageNo=1&pageSize=All&country=All', header=0)[0]\n",
    "\n",
    "        keep_cols_rankings = ['This Week', 'Last week', 'End 2018', 'Name', 'Events Played (Actual)']\n",
    "        rankings = rankings[keep_cols_rankings]\n",
    "        \n",
    "        self.data = rankings.copy()\n",
    "        \n",
    "    def clean_data(self):\n",
    "        logger.info(\"Cleaning data\")\n",
    "        self.data.rename(columns= {\n",
    "                                'This Week': 'current_rank',\n",
    "                                'Last week':'lw_rank',\n",
    "                                'End 2018':'ly_rank',\n",
    "                                'Name':'player_raw',\n",
    "                                'Events Played (Actual)':'events_played'},\n",
    "                                inplace=True)\n",
    "        self.fix_player_names()\n",
    "        self.limit_to_top_players()\n",
    "    \n",
    "    def fix_player_names(self):\n",
    "        logger.info(\"Fixing some players names that dont align between systems\")\n",
    "\n",
    "        # Some of the players names are messed up\n",
    "        # read correct mappings from YAML file and apply them\n",
    "        yaml_dict = oyaml.load(open(self.conf.yaml_world_rankings_loc), Loader=oyaml.FullLoader)\n",
    "        player_map = yaml_dict.get('world_rankings')\n",
    "        \n",
    "        self.data['player_cleaned'] = self.data['player_raw'].map(player_map)\n",
    "        self.data['player'] = self.data['player_cleaned'].combine_first(self.data['player_raw'])\n",
    "\n",
    "    def limit_to_top_players(self):\n",
    "        logger.info(\"Trimming world rankings to only top 400\")\n",
    "        self.data = self.data.loc[self.data['current_rank'] <= 400]\n",
    "        \n",
    "    def run(self):\n",
    "        self.scrape_world_rankings_data()\n",
    "        self.clean_data()\n",
    "        self.load_table_to_db(self.data, 'pre_tourney')"
   ]
  },
  {
   "cell_type": "code",
   "execution_count": null,
   "metadata": {},
   "outputs": [],
   "source": [
    "draft = LoadWorldRankings()"
   ]
  },
  {
   "cell_type": "code",
   "execution_count": null,
   "metadata": {},
   "outputs": [],
   "source": [
    "draft.run()"
   ]
  },
  {
   "cell_type": "code",
   "execution_count": null,
   "metadata": {},
   "outputs": [],
   "source": [
    "df = draft.data"
   ]
  },
  {
   "cell_type": "code",
   "execution_count": null,
   "metadata": {},
   "outputs": [],
   "source": [
    "df.head(2)"
   ]
  },
  {
   "cell_type": "code",
   "execution_count": null,
   "metadata": {},
   "outputs": [],
   "source": [
    "df.shape"
   ]
  },
  {
   "cell_type": "code",
   "execution_count": null,
   "metadata": {},
   "outputs": [],
   "source": [
    "df.loc[df['current_rank'] < 400]"
   ]
  },
  {
   "cell_type": "code",
   "execution_count": null,
   "metadata": {},
   "outputs": [],
   "source": []
  },
  {
   "cell_type": "code",
   "execution_count": null,
   "metadata": {},
   "outputs": [],
   "source": []
  },
  {
   "cell_type": "code",
   "execution_count": null,
   "metadata": {},
   "outputs": [],
   "source": []
  },
  {
   "cell_type": "code",
   "execution_count": null,
   "metadata": {},
   "outputs": [],
   "source": [
    "draft.data"
   ]
  },
  {
   "cell_type": "code",
   "execution_count": null,
   "metadata": {},
   "outputs": [],
   "source": [
    "cmon = dg.data_things.PullLeaderboard(user_id=5)"
   ]
  },
  {
   "cell_type": "code",
   "execution_count": null,
   "metadata": {},
   "outputs": [],
   "source": [
    "cmon.pull_tourney_leaderboard()"
   ]
  },
  {
   "cell_type": "code",
   "execution_count": null,
   "metadata": {},
   "outputs": [],
   "source": [
    "cmon.data"
   ]
  },
  {
   "cell_type": "code",
   "execution_count": null,
   "metadata": {},
   "outputs": [],
   "source": []
  },
  {
   "cell_type": "code",
   "execution_count": null,
   "metadata": {},
   "outputs": [],
   "source": [
    "import oyaml\n",
    "import pandas as pd\n",
    "import logging\n",
    "import psycopg2\n",
    "\n",
    "from sqlalchemy import create_engine\n",
    "\n",
    "from donkey_golf import config\n",
    "\n",
    "\n",
    "# create logger\n",
    "logger = logging.getLogger(__name__)\n",
    "logger.setLevel(logging.DEBUG)\n",
    "\n",
    "# create console handler and set level to debug\n",
    "ch = logging.StreamHandler()\n",
    "ch.setLevel(logging.DEBUG)\n",
    "\n",
    "# create formatter\n",
    "formatter = logging.Formatter('%(asctime)s - %(name)s - %(levelname)s - %(message)s')\n",
    "\n",
    "# add formatter to ch\n",
    "ch.setFormatter(formatter)\n",
    "\n",
    "# add ch to logger\n",
    "logger.addHandler(ch)\n",
    "\n",
    "class BaseClass():\n",
    "\n",
    "    def __init__(self, **kwargs):\n",
    "        logger.debug(\"ABOUT TO SET yaml_sql_dict\")\n",
    "        self.conf = config.DGConfig()\n",
    "        self.yaml_sql_dict = oyaml.load(open(self.conf.yaml_sql_loc), Loader=oyaml.FullLoader)\n",
    "        self.tourney_id = self.determine_current_tourney_id()\n",
    "\n",
    "    def run_sql(self, sql):\n",
    "        '''\n",
    "        Takes a SQL and connects to database to execute passed SQL\n",
    "        '''\n",
    "        #engine = create_engine(self.conf.db_url)\n",
    "        with psycopg2.connect(self.conf.db_url) as conn:\n",
    "        #with engine.connect() as conn:\n",
    "            df = pd.read_sql(sql, conn)\n",
    "\n",
    "        conn.close()\n",
    "\n",
    "        return df\n",
    "\n",
    "    def load_table_to_db(self, df, tablename):\n",
    "        '''\n",
    "        Takes a df and tablename and loads it to our database\n",
    "        '''\n",
    "        engine = create_engine(self.conf.db_url)\n",
    "\n",
    "        with engine.connect() as conn:\n",
    "            df.to_sql(tablename, conn, if_exists='replace', index=False)\n",
    "\n",
    "    def determine_current_tourney_id(self):\n",
    "        '''\n",
    "        Pull each users aggregate score for the current tourney\n",
    "        '''\n",
    "        sql = self.yaml_sql_dict.get('determine_current_tourney_id')\n",
    "        df = self.run_sql(sql)\n",
    "\n",
    "        return df['value'][0].strip()"
   ]
  },
  {
   "cell_type": "code",
   "execution_count": null,
   "metadata": {},
   "outputs": [],
   "source": [
    "class GameScoreboard(BaseClass):\n",
    "    def __init__(self):\n",
    "        BaseClass.__init__(self)\n",
    "\n",
    "    def aggregate_user_scores(self):\n",
    "        '''\n",
    "        Pull each users aggregate score for the current tourney\n",
    "        '''\n",
    "        logger.info(\"Pulling aggregated team score for scoreboard\")\n",
    "        sql = self.yaml_sql_dict.get('aggregate_team_score')\n",
    "        df = self.run_sql(sql)\n",
    "\n",
    "        df.sort_values('donkey_score', inplace=True)\n",
    "\n",
    "        df['rank'] = df['donkey_score'].rank(ascending=True, method='min').astype(int)\n",
    "\n",
    "        self.data = df.copy()\n",
    "        \n",
    "    def determine_ties_in_scoreboard(self):\n",
    "        '''\n",
    "        Takes a scoreboard df and determines rank and handles tiesself.\n",
    "\n",
    "        It's nice to have T2 on the scoreboard instead of multiple \"2\"s\n",
    "        '''\n",
    "        logger.info(\"Determining where ties exist in the donkey scoreboard\")\n",
    "        df_ties = self.data.copy()\n",
    "\n",
    "        # Need to create a better rank that handles ties\n",
    "        df_ties['new_rank'] = df_ties['rank'].copy()\n",
    "\n",
    "        df_ties = df_ties.groupby(['rank'])['id'].count().reset_index()\n",
    "        df_ties.loc[df_ties['id'] > 1, 'new_rank'] = \"T\"\n",
    "\n",
    "        df_ties.loc[df_ties['new_rank'].notnull(), 'final_rank'] = 'T' + df_ties['rank'].astype(str)\n",
    "        df_ties.loc[df_ties['new_rank'].isnull(), 'final_rank'] = df_ties['rank'].astype(str)\n",
    "\n",
    "        self.df_ties = df_ties[['rank','final_rank']]        \n",
    "    \n",
    "    def add_ties_to_data(self):\n",
    "        logger.info(\"Adding ties to scoreboard data\")\n",
    "        self.data = self.data.merge(self.df_ties,\n",
    "                                   how='left',\n",
    "                                   on='rank')\n",
    "        \n",
    "    def run(self):\n",
    "        self.aggregate_user_scores()\n",
    "        self.determine_ties_in_scoreboard()\n",
    "        self.add_ties_to_data()"
   ]
  },
  {
   "cell_type": "code",
   "execution_count": null,
   "metadata": {},
   "outputs": [],
   "source": [
    "gs = GameScoreboard()"
   ]
  },
  {
   "cell_type": "code",
   "execution_count": null,
   "metadata": {},
   "outputs": [],
   "source": [
    "gs.run()"
   ]
  },
  {
   "cell_type": "code",
   "execution_count": null,
   "metadata": {},
   "outputs": [],
   "source": [
    "gs.data"
   ]
  },
  {
   "cell_type": "code",
   "execution_count": null,
   "metadata": {},
   "outputs": [],
   "source": [
    "gs.aggregate_user_scores()"
   ]
  },
  {
   "cell_type": "code",
   "execution_count": null,
   "metadata": {},
   "outputs": [],
   "source": [
    "gs.data"
   ]
  },
  {
   "cell_type": "code",
   "execution_count": null,
   "metadata": {},
   "outputs": [],
   "source": [
    "gs.determine_ties_in_scoreboard()"
   ]
  },
  {
   "cell_type": "code",
   "execution_count": null,
   "metadata": {},
   "outputs": [],
   "source": [
    "gs.add_ties_to_data()"
   ]
  },
  {
   "cell_type": "code",
   "execution_count": null,
   "metadata": {},
   "outputs": [],
   "source": [
    "from donkey_golf import data_utils as du"
   ]
  },
  {
   "cell_type": "code",
   "execution_count": null,
   "metadata": {},
   "outputs": [],
   "source": [
    "du.pull_scoreboard()"
   ]
  },
  {
   "cell_type": "code",
   "execution_count": null,
   "metadata": {},
   "outputs": [],
   "source": []
  },
  {
   "cell_type": "code",
   "execution_count": null,
   "metadata": {},
   "outputs": [],
   "source": []
  },
  {
   "cell_type": "code",
   "execution_count": null,
   "metadata": {},
   "outputs": [],
   "source": [
    "class Leaderboard(StockPull):\n",
    "    \n",
    "    def __init__(self):\n",
    "        StockPull.__init__(self)\n",
    "        self.determine_current_url()\n",
    "    \n",
    "    def determine_current_url(self):\n",
    "        '''\n",
    "        Returns the specific URL we want to scrape from\n",
    "        '''        \n",
    "        self.url_lb = 'http://www.espn.com/golf/leaderboard/_/tournamentId/{}'.format(self.tourney_id)\n",
    "    \n",
    "    def scrape_espn_leaderboard(self, url):\n",
    "        '''\n",
    "        Scrape the main leaderboard table from the web\n",
    "        '''\n",
    "        data_dict = {}\n",
    "        # Creating leaderboard & rankings dataframes\n",
    "        leaderboard = pd.read_html(url,header=3)[0]\n",
    "        leaderboard.columns = leaderboard.columns.str.lower().str.replace(' ','_')\n",
    "\n",
    "        leaderboard['tourney_id'] = self.tourney_id\n",
    "        \n",
    "        self.data = leaderboard.copy()\n",
    "    \n",
    "    def determine_tourney_status(self):\n",
    "        '''\n",
    "        Look at the leaderboard data and determine current tourney\n",
    "        status from that data\n",
    "        '''\n",
    "        if 'tee_time' in self.data.columns:\n",
    "            self.tourney_status = 'pre_tourney'\n",
    "        elif 'fedex_pts' in self.data.columns or 'earnings' in self.data.columns:\n",
    "            self.tourney_status = 'finished'\n",
    "            \n",
    "        elif 'r4' in self.data.columns or 'tot' in self.data.columns:\n",
    "            self.tourney_status = 'in_progress'\n",
    "        else:\n",
    "            self.tourney_status = 'cant_determine'\n",
    "            \n",
    "        logger.info(f\"Tourney current status: {self.tourney_status}\")\n",
    "        \n",
    "    def determine_current_round(self):\n",
    "        '''\n",
    "        Figure out which round is in progress. Will be helpful for cut\n",
    "        calculations among other things\n",
    "        '''\n",
    "        logger.info(\"Determining the current round\")\n",
    "        df = self.data.copy()\n",
    "        \n",
    "        df = df.loc[df['missed_cut'] == 0]\n",
    "        \n",
    "        current_round = None\n",
    "        \n",
    "        if 'fedex_pts' in df.columns:\n",
    "            current_round = 'finished'\n",
    "        else:\n",
    "            rounds = ['r1','r2','r3','r4']\n",
    "            for round_num in rounds:\n",
    "                if df.loc[df[round_num] == '--'].shape[0] > 1:\n",
    "                    current_round = round_num                    \n",
    "        logger.info(f\"Determined the current round to be {current_round}\")\n",
    "\n",
    "        return current_round\n",
    "        \n",
    "    def add_donkey_game_score(self):\n",
    "        '''\n",
    "        Will add a column called donkey score that should\n",
    "        convert the to_par string to an integer\n",
    "        '''\n",
    "        logger.info(\"Calculating the donkey_score column\")\n",
    "        self.data.loc[self.data['to_par'] == 'E', 'donkey_score'] = 0\n",
    "        self.data.loc[self.data['to_par'].str[0:1] == '+', 'donkey_score'] = self.data['to_par'].str[1:]\n",
    "        self.data.loc[self.data['to_par'].str[0:1] == '-', 'donkey_score'] = self.data['to_par']\n",
    "\n",
    "        # IF they don't have a score of E or one that starts with a '+' or '-'\n",
    "        # let's assume they didn't make it to the weekend\n",
    "        self.add_score_for_cut_players()\n",
    "    \n",
    "    def add_score_for_cut_players(self):\n",
    "        '''\n",
    "        Determines the score for cut players\n",
    "        and adds a missed_cut field\n",
    "        '''\n",
    "        logger.info(\"Determining score for cut players and adding missed_cut indicator\")\n",
    "        cut_score = self.data.loc[self.data['donkey_score'].notnull(), 'donkey_score'].astype(int).max()\n",
    "        cut_score = cut_score + 1\n",
    "\n",
    "        self.data['missed_cut'] = 0\n",
    "        self.data.loc[self.data['donkey_score'].isnull(), 'missed_cut'] = 1\n",
    "\n",
    "        self.data.loc[self.data['donkey_score'].isnull(), 'donkey_score'] = cut_score\n",
    "        \n",
    "    def add_player_left_indicator(self):\n",
    "        '''\n",
    "        This should add a column 'player_left'\n",
    "        indicating if a player is still in progress\n",
    "        '''\n",
    "        logger.info(\"Determine if the player is active and if he has been cut or not\")\n",
    "        self.data['player_left'] = 1\n",
    "\n",
    "        self.data.loc[self.data['missed_cut'] == 1, 'player_left'] = 0\n",
    "\n",
    "        self.data.loc[(self.data['missed_cut'] == 0) &\n",
    "              (self.data['r4'] != '--' ),\n",
    "              'player_left'] = 0\n",
    "\n",
    "    def add_golfer_team_count(self):\n",
    "        '''\n",
    "        This should add a column 'team_count'\n",
    "        indicating the amount of teams a player is on\n",
    "        '''\n",
    "        self.golfer_team_count()\n",
    "        \n",
    "        logger.debug(\"Adding golfer team count\")\n",
    "        self.data = self.data.merge(self.golfer_count_by_team,\n",
    "            how='left',\n",
    "            on='player')\n",
    "\n",
    "        self.data['team_count'] = self.data['team_count'].fillna(0.0).astype(int)\n",
    "\n",
    "    def golfer_team_count(self):\n",
    "        '''\n",
    "        Pull each users aggregate score for the current tourney\n",
    "        '''\n",
    "        sql = yaml_sql_dict.get('golfer_team_count')\n",
    "        df = self.run_sql(sql)\n",
    "\n",
    "        self.golfer_count_by_team = df\n",
    "    \n",
    "    def prepare_active_data(self):\n",
    "        '''\n",
    "        If we know the data is from after the tourney has started,\n",
    "        there will be manipulations we need to do\n",
    "        '''\n",
    "        logger.info(\"Running prepare_in_progress_data\")\n",
    "        self.clean_active_cols()\n",
    "        self.add_donkey_game_score()\n",
    "        self.add_player_left_indicator()\n",
    "        self.add_golfer_team_count()\n",
    "\n",
    "    def clean_active_cols(self):\n",
    "        '''\n",
    "        Clean function for the active tourney data\n",
    "        '''\n",
    "        self.data = self.data.drop('unnamed:_1', axis=1)\n",
    "    \n",
    "    def prepare_pre_tourney_data(self):\n",
    "        '''\n",
    "        This will be used if we need to make any updated to the pre_tourney data\n",
    "        '''\n",
    "        pass\n",
    "    \n",
    "    def clean_data(self):  \n",
    "        '''\n",
    "        Depending on the status of the tourney (and what .data will look like)\n",
    "        we want to prepare/cleanse the data\n",
    "        '''\n",
    "        logger.info(\"Running clean_data function\")\n",
    "        if self.tourney_status in ['in_progress','finished']:\n",
    "            self.prepare_active_data()\n",
    "        elif self.tourney_status == 'pre_tourney':\n",
    "            self.prepare_pre_tourney_data()\n",
    "            \n",
    "    def load_leaderboard_to_db(self):\n",
    "        '''\n",
    "        Take self.data and load it into the appropriate table based\n",
    "        on the tourney_status\n",
    "        '''\n",
    "        if self.tourney_status == 'pre_tourney':\n",
    "            logger.info(\"Loading data into the pre_tourney table\")\n",
    "            self.load_table_to_db(self.data, 'pre_tourney')\n",
    "        else:\n",
    "            logger.info(\"Loading data into the leaderboard table\")            \n",
    "            self.load_table_to_db(self.data, 'leaderboard')\n",
    "        \n",
    "    def run(self):\n",
    "        # Get the leaderboard data\n",
    "        self.scrape_espn_leaderboard(self.url_lb)\n",
    "        \n",
    "        # Determine the tourney status (set an attribute)\n",
    "        self.determine_tourney_status()\n",
    "        \n",
    "        # Clean data - smart enough to determine pre_tourney or in-progress data\n",
    "        self.clean_data()\n",
    "        \n",
    "        # Don't need this right now\n",
    "        #self.load_leaderboard_to_db()"
   ]
  },
  {
   "cell_type": "code",
   "execution_count": null,
   "metadata": {},
   "outputs": [],
   "source": [
    "fox = Leaderboard()"
   ]
  },
  {
   "cell_type": "code",
   "execution_count": null,
   "metadata": {},
   "outputs": [],
   "source": [
    "fox.run()"
   ]
  },
  {
   "cell_type": "code",
   "execution_count": null,
   "metadata": {},
   "outputs": [],
   "source": [
    "fox.determine_current_round()"
   ]
  },
  {
   "cell_type": "code",
   "execution_count": null,
   "metadata": {},
   "outputs": [],
   "source": []
  },
  {
   "cell_type": "code",
   "execution_count": null,
   "metadata": {},
   "outputs": [],
   "source": [
    "fox.load_leaderboard_to_db()"
   ]
  },
  {
   "cell_type": "code",
   "execution_count": null,
   "metadata": {},
   "outputs": [],
   "source": []
  },
  {
   "cell_type": "code",
   "execution_count": null,
   "metadata": {},
   "outputs": [],
   "source": []
  },
  {
   "cell_type": "code",
   "execution_count": null,
   "metadata": {},
   "outputs": [],
   "source": [
    "fox.run()"
   ]
  },
  {
   "cell_type": "code",
   "execution_count": null,
   "metadata": {
    "scrolled": true
   },
   "outputs": [],
   "source": [
    "fox.data"
   ]
  },
  {
   "cell_type": "code",
   "execution_count": null,
   "metadata": {},
   "outputs": [],
   "source": []
  },
  {
   "cell_type": "code",
   "execution_count": null,
   "metadata": {},
   "outputs": [],
   "source": [
    "fox.load_leaderboard_to_db()"
   ]
  },
  {
   "cell_type": "code",
   "execution_count": null,
   "metadata": {},
   "outputs": [],
   "source": []
  },
  {
   "cell_type": "code",
   "execution_count": null,
   "metadata": {},
   "outputs": [],
   "source": []
  },
  {
   "cell_type": "code",
   "execution_count": null,
   "metadata": {},
   "outputs": [],
   "source": [
    "fox.data"
   ]
  },
  {
   "cell_type": "code",
   "execution_count": null,
   "metadata": {},
   "outputs": [],
   "source": [
    "fox.determine_current_round()"
   ]
  },
  {
   "cell_type": "code",
   "execution_count": null,
   "metadata": {},
   "outputs": [],
   "source": []
  },
  {
   "cell_type": "code",
   "execution_count": null,
   "metadata": {},
   "outputs": [],
   "source": [
    "fox.data"
   ]
  },
  {
   "cell_type": "code",
   "execution_count": null,
   "metadata": {},
   "outputs": [],
   "source": [
    "class PullLeaderboard(StockPull):\n",
    "    \n",
    "    def __init__(self, **kwargs):\n",
    "        StockPull.__init__(self)\n",
    "        self.kwargs = kwargs\n",
    "        if kwargs.get('user_id'):\n",
    "            self.user_id = kwargs.get('user_id')\n",
    "        else:\n",
    "            self.user_id = None\n",
    "            \n",
    "    def pull_tourney_leaderboard(self):\n",
    "        '''\n",
    "        Pulls leaderboard data for the tourney\n",
    "        '''\n",
    "\n",
    "        sql = yaml_sql_dict.get('pull_tourney_leaderboard')\n",
    "        self.data = self.run_sql(sql)\n",
    "        self.determine_tourney_status()\n",
    "        \n",
    "        if self.user_id and self.tourney_status == 'in_progress':\n",
    "            self.pull_users_team()\n",
    "            \n",
    "            # If the user_df comes back with records, add on_team field\n",
    "            if not self.user_df.empty:\n",
    "                self.data = self.data.merge(user_df[['player','id']],\n",
    "                    how='left',\n",
    "                    on=['player'])\n",
    "\n",
    "                self.data['on_team'] = 'No'\n",
    "                self.data.loc[self.data['id'].notnull(), 'on_team'] = 'Yes'\n",
    "\n",
    "                self.data = self.data.drop('id', axis=1)\n",
    "\n",
    "        self.data['team_count'] = self.data['team_count'].astype(int)\n",
    "    \n",
    "    def determine_tourney_status(self):\n",
    "        '''\n",
    "        Look at the leaderboard data and determine current tourney\n",
    "        status from that data\n",
    "        '''\n",
    "        if 'tee_time' in self.data.columns:\n",
    "            self.tourney_status = 'pre_tourney'\n",
    "        elif 'fedex_pts' in self.data.columns or 'earnings' in self.data.columns:\n",
    "            self.tourney_status = 'finished'\n",
    "            \n",
    "        elif 'r4' in self.data.columns or 'tot' in self.data.columns:\n",
    "            self.tourney_status = 'in_progress'\n",
    "        else:\n",
    "            self.tourney_status = 'cant_determine'\n",
    "            \n",
    "        logger.info(f\"Tourney current status: {self.tourney_status}\")\n",
    "        \n",
    "    def pull_users_team(self):\n",
    "        '''\n",
    "        Pulls leaderboard data for everyone on a given users team\n",
    "        '''\n",
    "        \n",
    "        if self.tourney_status == 'pre_tourney':\n",
    "            logger.info(\"Pulling users pre_tourney team\")\n",
    "            sql = yaml_sql_dict.get('users_team_pre_tourney')\n",
    "            sql = sql.format(self.user_id, conf.tourney_id)\n",
    "            self.user_df = run_sql(sql)\n",
    "        else:\n",
    "            logger.info(\"Pulling users active tourney team\")            \n",
    "            sql = yaml_sql_dict.get('users_team')\n",
    "            # Sub in users ID into the SQL\n",
    "            sql = sql.format(self.user_id, self.tourney_id)\n",
    "            self.user_df = self.run_sql(sql)"
   ]
  },
  {
   "cell_type": "code",
   "execution_count": null,
   "metadata": {},
   "outputs": [],
   "source": [
    "yay = PullLeaderboard(user_id=2)"
   ]
  },
  {
   "cell_type": "code",
   "execution_count": null,
   "metadata": {},
   "outputs": [],
   "source": [
    "yay.pull_tourney_leaderboard()"
   ]
  },
  {
   "cell_type": "code",
   "execution_count": null,
   "metadata": {},
   "outputs": [],
   "source": [
    "yay.user_df"
   ]
  },
  {
   "cell_type": "code",
   "execution_count": null,
   "metadata": {},
   "outputs": [],
   "source": []
  },
  {
   "cell_type": "code",
   "execution_count": null,
   "metadata": {},
   "outputs": [],
   "source": [
    "yay.data"
   ]
  },
  {
   "cell_type": "code",
   "execution_count": null,
   "metadata": {},
   "outputs": [],
   "source": []
  },
  {
   "cell_type": "code",
   "execution_count": null,
   "metadata": {},
   "outputs": [],
   "source": []
  },
  {
   "cell_type": "code",
   "execution_count": null,
   "metadata": {},
   "outputs": [],
   "source": []
  },
  {
   "cell_type": "code",
   "execution_count": null,
   "metadata": {},
   "outputs": [],
   "source": []
  },
  {
   "cell_type": "code",
   "execution_count": null,
   "metadata": {},
   "outputs": [],
   "source": [
    "yay.pull_tourney_leaderboard()"
   ]
  },
  {
   "cell_type": "code",
   "execution_count": null,
   "metadata": {},
   "outputs": [],
   "source": []
  },
  {
   "cell_type": "code",
   "execution_count": null,
   "metadata": {},
   "outputs": [],
   "source": [
    "yay.tourney_id"
   ]
  },
  {
   "cell_type": "code",
   "execution_count": null,
   "metadata": {},
   "outputs": [],
   "source": [
    "yay.kwargs"
   ]
  },
  {
   "cell_type": "code",
   "execution_count": null,
   "metadata": {},
   "outputs": [],
   "source": [
    "yay.user_id"
   ]
  },
  {
   "cell_type": "code",
   "execution_count": null,
   "metadata": {},
   "outputs": [],
   "source": [
    "yay.pull_users_team()"
   ]
  },
  {
   "cell_type": "code",
   "execution_count": null,
   "metadata": {},
   "outputs": [],
   "source": [
    "yay.pull_tourney_leaderboard()"
   ]
  },
  {
   "cell_type": "code",
   "execution_count": null,
   "metadata": {},
   "outputs": [],
   "source": [
    "yay.data"
   ]
  },
  {
   "cell_type": "code",
   "execution_count": null,
   "metadata": {},
   "outputs": [],
   "source": []
  },
  {
   "cell_type": "code",
   "execution_count": null,
   "metadata": {},
   "outputs": [],
   "source": []
  },
  {
   "cell_type": "code",
   "execution_count": null,
   "metadata": {},
   "outputs": [],
   "source": [
    "yay.pull_tourney_leaderboard()"
   ]
  },
  {
   "cell_type": "code",
   "execution_count": null,
   "metadata": {},
   "outputs": [],
   "source": [
    "yay.data"
   ]
  },
  {
   "cell_type": "code",
   "execution_count": null,
   "metadata": {},
   "outputs": [],
   "source": []
  },
  {
   "cell_type": "code",
   "execution_count": null,
   "metadata": {},
   "outputs": [],
   "source": []
  },
  {
   "cell_type": "code",
   "execution_count": null,
   "metadata": {},
   "outputs": [],
   "source": []
  },
  {
   "cell_type": "code",
   "execution_count": null,
   "metadata": {},
   "outputs": [],
   "source": []
  },
  {
   "cell_type": "code",
   "execution_count": null,
   "metadata": {},
   "outputs": [],
   "source": [
    "fox.tourney_status in ['in_progress','finished']"
   ]
  },
  {
   "cell_type": "code",
   "execution_count": null,
   "metadata": {},
   "outputs": [],
   "source": [
    "fox.data"
   ]
  },
  {
   "cell_type": "code",
   "execution_count": null,
   "metadata": {},
   "outputs": [],
   "source": []
  },
  {
   "cell_type": "code",
   "execution_count": null,
   "metadata": {},
   "outputs": [],
   "source": []
  },
  {
   "cell_type": "code",
   "execution_count": null,
   "metadata": {},
   "outputs": [],
   "source": [
    "df = fox.data"
   ]
  },
  {
   "cell_type": "code",
   "execution_count": null,
   "metadata": {},
   "outputs": [],
   "source": [
    "df"
   ]
  },
  {
   "cell_type": "code",
   "execution_count": null,
   "metadata": {},
   "outputs": [],
   "source": [
    "fox.add_donkey_game_score()"
   ]
  },
  {
   "cell_type": "code",
   "execution_count": null,
   "metadata": {},
   "outputs": [],
   "source": [
    "fox.data"
   ]
  },
  {
   "cell_type": "code",
   "execution_count": null,
   "metadata": {},
   "outputs": [],
   "source": []
  },
  {
   "cell_type": "code",
   "execution_count": null,
   "metadata": {},
   "outputs": [],
   "source": []
  },
  {
   "cell_type": "code",
   "execution_count": null,
   "metadata": {},
   "outputs": [],
   "source": []
  },
  {
   "cell_type": "code",
   "execution_count": null,
   "metadata": {},
   "outputs": [],
   "source": [
    "df = fox.data"
   ]
  },
  {
   "cell_type": "code",
   "execution_count": null,
   "metadata": {},
   "outputs": [],
   "source": []
  },
  {
   "cell_type": "code",
   "execution_count": null,
   "metadata": {},
   "outputs": [],
   "source": []
  },
  {
   "cell_type": "code",
   "execution_count": null,
   "metadata": {},
   "outputs": [],
   "source": [
    "'earnings' in fox.data.columns"
   ]
  },
  {
   "cell_type": "code",
   "execution_count": null,
   "metadata": {},
   "outputs": [],
   "source": [
    "'fedex_pts' in fox.data.columns or 'earnings' in fox.data.columns"
   ]
  },
  {
   "cell_type": "code",
   "execution_count": null,
   "metadata": {},
   "outputs": [],
   "source": []
  },
  {
   "cell_type": "code",
   "execution_count": null,
   "metadata": {},
   "outputs": [],
   "source": []
  },
  {
   "cell_type": "code",
   "execution_count": null,
   "metadata": {},
   "outputs": [],
   "source": [
    "fox.tourney_id"
   ]
  },
  {
   "cell_type": "code",
   "execution_count": null,
   "metadata": {},
   "outputs": [],
   "source": [
    "fox.url_lb"
   ]
  },
  {
   "cell_type": "code",
   "execution_count": null,
   "metadata": {},
   "outputs": [],
   "source": [
    "fox.scrape_espn_leaderboard(fox.url_lb)"
   ]
  },
  {
   "cell_type": "code",
   "execution_count": null,
   "metadata": {},
   "outputs": [],
   "source": []
  },
  {
   "cell_type": "code",
   "execution_count": null,
   "metadata": {},
   "outputs": [],
   "source": []
  },
  {
   "cell_type": "code",
   "execution_count": null,
   "metadata": {},
   "outputs": [],
   "source": []
  },
  {
   "cell_type": "code",
   "execution_count": null,
   "metadata": {},
   "outputs": [],
   "source": [
    "cd donkey_golf/"
   ]
  },
  {
   "cell_type": "code",
   "execution_count": null,
   "metadata": {},
   "outputs": [],
   "source": [
    "ls"
   ]
  },
  {
   "cell_type": "code",
   "execution_count": null,
   "metadata": {},
   "outputs": [],
   "source": [
    "cd all_things_data/"
   ]
  },
  {
   "cell_type": "code",
   "execution_count": null,
   "metadata": {},
   "outputs": [],
   "source": [
    "import sql_classes"
   ]
  },
  {
   "cell_type": "code",
   "execution_count": null,
   "metadata": {},
   "outputs": [],
   "source": []
  }
 ],
 "metadata": {
  "kernelspec": {
   "display_name": "venv_dgolf",
   "language": "python",
   "name": "venv_dgolf"
  },
  "language_info": {
   "codemirror_mode": {
    "name": "ipython",
    "version": 3
   },
   "file_extension": ".py",
   "mimetype": "text/x-python",
   "name": "python",
   "nbconvert_exporter": "python",
   "pygments_lexer": "ipython3",
   "version": "3.7.3"
  }
 },
 "nbformat": 4,
 "nbformat_minor": 2
}
