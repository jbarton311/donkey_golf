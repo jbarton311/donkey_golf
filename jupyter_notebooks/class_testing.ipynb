{
 "cells": [
  {
   "cell_type": "code",
   "execution_count": 1,
   "metadata": {},
   "outputs": [
    {
     "name": "stdout",
     "output_type": "stream",
     "text": [
      "/Users/amlvt225/Code/GitHub/donkey_golf\n"
     ]
    }
   ],
   "source": [
    "cd .."
   ]
  },
  {
   "cell_type": "code",
   "execution_count": 2,
   "metadata": {},
   "outputs": [
    {
     "name": "stdout",
     "output_type": "stream",
     "text": [
      "README.md          \u001b[34mjupyter_notebooks\u001b[m\u001b[m/ run.py\r\n",
      "\u001b[34mdonkey_golf\u001b[m\u001b[m/       requirements.txt\r\n"
     ]
    }
   ],
   "source": [
    "ls"
   ]
  },
  {
   "cell_type": "code",
   "execution_count": 3,
   "metadata": {},
   "outputs": [
    {
     "name": "stderr",
     "output_type": "stream",
     "text": [
      "/Users/amlvt225/Code/VirtualEnvs/venv_dgolf/lib/python3.7/site-packages/flask_sqlalchemy/__init__.py:794: FSADeprecationWarning: SQLALCHEMY_TRACK_MODIFICATIONS adds significant overhead and will be disabled by default in the future.  Set it to True or False to suppress this warning.\n",
      "  'SQLALCHEMY_TRACK_MODIFICATIONS adds significant overhead and '\n"
     ]
    }
   ],
   "source": [
    "import donkey_golf as dg"
   ]
  },
  {
   "cell_type": "code",
   "execution_count": 4,
   "metadata": {},
   "outputs": [],
   "source": [
    "import oyaml\n",
    "import pandas as pd\n",
    "import logging\n",
    "import psycopg2\n",
    "\n",
    "from sqlalchemy import create_engine\n",
    "\n",
    "from donkey_golf import config\n",
    "\n",
    "# create logger\n",
    "logger = logging.getLogger(__name__)\n",
    "logger.setLevel(logging.DEBUG)\n",
    "\n",
    "# create console handler and set level to debug\n",
    "ch = logging.StreamHandler()\n",
    "ch.setLevel(logging.DEBUG)\n",
    "\n",
    "# create formatter\n",
    "formatter = logging.Formatter('%(asctime)s - %(name)s - %(levelname)s - %(message)s')\n",
    "\n",
    "# add formatter to ch\n",
    "ch.setFormatter(formatter)\n",
    "\n",
    "# add ch to logger\n",
    "logger.addHandler(ch)"
   ]
  },
  {
   "cell_type": "code",
   "execution_count": 11,
   "metadata": {},
   "outputs": [
    {
     "name": "stderr",
     "output_type": "stream",
     "text": [
      "2019-05-05 14:34:39,324 - donkey_golf.data_things.base_class - DEBUG - ABOUT TO SET yaml_sql_dict\n",
      "2019-05-05 14:34:39,337 - donkey_golf.data_things.base_class - INFO - Executing run_sql\n",
      "2019-05-05 14:34:39,646 - donkey_golf.data_things.base_class - INFO - Current tourney ID: 401056550\n"
     ]
    }
   ],
   "source": [
    "huh = dg.data_things.PullLeaderboard()"
   ]
  },
  {
   "cell_type": "code",
   "execution_count": 12,
   "metadata": {},
   "outputs": [
    {
     "ename": "AttributeError",
     "evalue": "'PullLeaderboard' object has no attribute 'sql'",
     "output_type": "error",
     "traceback": [
      "\u001b[0;31m---------------------------------------------------------------------------\u001b[0m",
      "\u001b[0;31mAttributeError\u001b[0m                            Traceback (most recent call last)",
      "\u001b[0;32m<ipython-input-12-9c1dc7001a6e>\u001b[0m in \u001b[0;36m<module>\u001b[0;34m\u001b[0m\n\u001b[0;32m----> 1\u001b[0;31m \u001b[0mhuh\u001b[0m\u001b[0;34m.\u001b[0m\u001b[0msql\u001b[0m\u001b[0;34m\u001b[0m\u001b[0;34m\u001b[0m\u001b[0m\n\u001b[0m",
      "\u001b[0;31mAttributeError\u001b[0m: 'PullLeaderboard' object has no attribute 'sql'"
     ]
    }
   ],
   "source": [
    "huh.sql"
   ]
  },
  {
   "cell_type": "code",
   "execution_count": 14,
   "metadata": {},
   "outputs": [
    {
     "name": "stderr",
     "output_type": "stream",
     "text": [
      "2019-05-05 14:35:22,845 - donkey_golf.data_things.base_class - INFO - Executing run_sql\n",
      "2019-05-05 14:35:23,230 - donkey_golf.data_things.tourney_leaderboard - INFO - Tourney current status: finished\n"
     ]
    }
   ],
   "source": [
    "huh.pull_tourney_leaderboard()"
   ]
  },
  {
   "cell_type": "code",
   "execution_count": 15,
   "metadata": {},
   "outputs": [
    {
     "data": {
      "text/html": [
       "<div>\n",
       "<style scoped>\n",
       "    .dataframe tbody tr th:only-of-type {\n",
       "        vertical-align: middle;\n",
       "    }\n",
       "\n",
       "    .dataframe tbody tr th {\n",
       "        vertical-align: top;\n",
       "    }\n",
       "\n",
       "    .dataframe thead th {\n",
       "        text-align: right;\n",
       "    }\n",
       "</style>\n",
       "<table border=\"1\" class=\"dataframe\">\n",
       "  <thead>\n",
       "    <tr style=\"text-align: right;\">\n",
       "      <th></th>\n",
       "      <th>pos</th>\n",
       "      <th>player</th>\n",
       "      <th>to_par</th>\n",
       "      <th>r1</th>\n",
       "      <th>r2</th>\n",
       "      <th>r3</th>\n",
       "      <th>r4</th>\n",
       "      <th>tot</th>\n",
       "      <th>earnings</th>\n",
       "      <th>fedex_pts</th>\n",
       "      <th>tourney_id</th>\n",
       "      <th>donkey_score</th>\n",
       "      <th>missed_cut</th>\n",
       "      <th>player_left</th>\n",
       "      <th>team_count</th>\n",
       "    </tr>\n",
       "  </thead>\n",
       "  <tbody>\n",
       "  </tbody>\n",
       "</table>\n",
       "</div>"
      ],
      "text/plain": [
       "Empty DataFrame\n",
       "Columns: [pos, player, to_par, r1, r2, r3, r4, tot, earnings, fedex_pts, tourney_id, donkey_score, missed_cut, player_left, team_count]\n",
       "Index: []"
      ]
     },
     "execution_count": 15,
     "metadata": {},
     "output_type": "execute_result"
    }
   ],
   "source": [
    "huh.data"
   ]
  },
  {
   "cell_type": "code",
   "execution_count": 16,
   "metadata": {},
   "outputs": [
    {
     "data": {
      "text/plain": [
       "'finished'"
      ]
     },
     "execution_count": 16,
     "metadata": {},
     "output_type": "execute_result"
    }
   ],
   "source": [
    "huh.tourney_status"
   ]
  },
  {
   "cell_type": "code",
   "execution_count": 17,
   "metadata": {},
   "outputs": [
    {
     "data": {
      "text/plain": [
       "'401056550'"
      ]
     },
     "execution_count": 17,
     "metadata": {},
     "output_type": "execute_result"
    }
   ],
   "source": [
    "huh.tourney_id"
   ]
  },
  {
   "cell_type": "code",
   "execution_count": 18,
   "metadata": {},
   "outputs": [
    {
     "data": {
      "text/plain": [
       "\"select * from leaderboard where tourney_id = (select value from donkey_variables where metric = 'current_tourney_id')\""
      ]
     },
     "execution_count": 18,
     "metadata": {},
     "output_type": "execute_result"
    }
   ],
   "source": [
    "huh.sql"
   ]
  },
  {
   "cell_type": "code",
   "execution_count": 19,
   "metadata": {},
   "outputs": [
    {
     "data": {
      "text/html": [
       "<div>\n",
       "<style scoped>\n",
       "    .dataframe tbody tr th:only-of-type {\n",
       "        vertical-align: middle;\n",
       "    }\n",
       "\n",
       "    .dataframe tbody tr th {\n",
       "        vertical-align: top;\n",
       "    }\n",
       "\n",
       "    .dataframe thead th {\n",
       "        text-align: right;\n",
       "    }\n",
       "</style>\n",
       "<table border=\"1\" class=\"dataframe\">\n",
       "  <thead>\n",
       "    <tr style=\"text-align: right;\">\n",
       "      <th></th>\n",
       "      <th>pos</th>\n",
       "      <th>player</th>\n",
       "      <th>to_par</th>\n",
       "      <th>r1</th>\n",
       "      <th>r2</th>\n",
       "      <th>r3</th>\n",
       "      <th>r4</th>\n",
       "      <th>tot</th>\n",
       "      <th>earnings</th>\n",
       "      <th>fedex_pts</th>\n",
       "      <th>tourney_id</th>\n",
       "      <th>donkey_score</th>\n",
       "      <th>missed_cut</th>\n",
       "      <th>player_left</th>\n",
       "      <th>team_count</th>\n",
       "    </tr>\n",
       "  </thead>\n",
       "  <tbody>\n",
       "  </tbody>\n",
       "</table>\n",
       "</div>"
      ],
      "text/plain": [
       "Empty DataFrame\n",
       "Columns: [pos, player, to_par, r1, r2, r3, r4, tot, earnings, fedex_pts, tourney_id, donkey_score, missed_cut, player_left, team_count]\n",
       "Index: []"
      ]
     },
     "execution_count": 19,
     "metadata": {},
     "output_type": "execute_result"
    }
   ],
   "source": [
    "huh.data"
   ]
  },
  {
   "cell_type": "code",
   "execution_count": null,
   "metadata": {},
   "outputs": [],
   "source": []
  },
  {
   "cell_type": "code",
   "execution_count": 8,
   "metadata": {},
   "outputs": [
    {
     "name": "stderr",
     "output_type": "stream",
     "text": [
      "2019-05-05 14:33:55,269 - donkey_golf.data_things.base_class - DEBUG - ABOUT TO SET yaml_sql_dict\n",
      "2019-05-05 14:33:55,279 - donkey_golf.data_things.base_class - INFO - Executing run_sql\n",
      "2019-05-05 14:33:55,662 - donkey_golf.data_things.base_class - INFO - Current tourney ID: 401056550\n"
     ]
    }
   ],
   "source": [
    "cmon = dg.data_things.LoadLeaderboard()"
   ]
  },
  {
   "cell_type": "code",
   "execution_count": 9,
   "metadata": {},
   "outputs": [
    {
     "name": "stderr",
     "output_type": "stream",
     "text": [
      "2019-05-05 14:33:59,891 - donkey_golf.data_things.tourney_leaderboard - INFO - Tourney current status: in_progress\n",
      "2019-05-05 14:33:59,892 - donkey_golf.data_things.tourney_leaderboard - INFO - Running clean_data function\n",
      "2019-05-05 14:33:59,892 - donkey_golf.data_things.tourney_leaderboard - INFO - Running prepare_in_progress_data\n",
      "2019-05-05 14:33:59,895 - donkey_golf.data_things.tourney_leaderboard - INFO - Calculating the donkey_score column\n",
      "2019-05-05 14:33:59,911 - donkey_golf.data_things.tourney_leaderboard - INFO - Determining score for cut players and adding missed_cut indicator\n",
      "2019-05-05 14:33:59,918 - donkey_golf.data_things.tourney_leaderboard - INFO - Determine if the player is active and if he has been cut or not\n",
      "2019-05-05 14:33:59,931 - donkey_golf.data_things.base_class - INFO - Executing run_sql\n",
      "2019-05-05 14:34:00,210 - donkey_golf.data_things.tourney_leaderboard - DEBUG - Adding golfer team count\n"
     ]
    }
   ],
   "source": [
    "cmon.run()"
   ]
  },
  {
   "cell_type": "code",
   "execution_count": 20,
   "metadata": {},
   "outputs": [
    {
     "name": "stderr",
     "output_type": "stream",
     "text": [
      "2019-05-05 14:38:21,044 - donkey_golf.data_things.tourney_leaderboard - INFO - Loading data into the leaderboard table\n",
      "2019-05-05 14:38:21,049 - donkey_golf.data_things.base_class - INFO - Loading leaderboard to database\n"
     ]
    }
   ],
   "source": [
    "cmon.load_leaderboard_to_db()"
   ]
  },
  {
   "cell_type": "code",
   "execution_count": 10,
   "metadata": {},
   "outputs": [
    {
     "data": {
      "text/html": [
       "<div>\n",
       "<style scoped>\n",
       "    .dataframe tbody tr th:only-of-type {\n",
       "        vertical-align: middle;\n",
       "    }\n",
       "\n",
       "    .dataframe tbody tr th {\n",
       "        vertical-align: top;\n",
       "    }\n",
       "\n",
       "    .dataframe thead th {\n",
       "        text-align: right;\n",
       "    }\n",
       "</style>\n",
       "<table border=\"1\" class=\"dataframe\">\n",
       "  <thead>\n",
       "    <tr style=\"text-align: right;\">\n",
       "      <th></th>\n",
       "      <th>pos</th>\n",
       "      <th>player</th>\n",
       "      <th>to_par</th>\n",
       "      <th>today</th>\n",
       "      <th>thru</th>\n",
       "      <th>r1</th>\n",
       "      <th>r2</th>\n",
       "      <th>r3</th>\n",
       "      <th>r4</th>\n",
       "      <th>tot</th>\n",
       "      <th>tourney_id</th>\n",
       "      <th>donkey_score</th>\n",
       "      <th>missed_cut</th>\n",
       "      <th>player_left</th>\n",
       "      <th>team_count</th>\n",
       "    </tr>\n",
       "  </thead>\n",
       "  <tbody>\n",
       "    <tr>\n",
       "      <th>0</th>\n",
       "      <td>T1</td>\n",
       "      <td>Joel Dahmen</td>\n",
       "      <td>-11</td>\n",
       "      <td>E</td>\n",
       "      <td>4</td>\n",
       "      <td>66</td>\n",
       "      <td>66</td>\n",
       "      <td>70</td>\n",
       "      <td>--</td>\n",
       "      <td>202</td>\n",
       "      <td>401056550</td>\n",
       "      <td>-11</td>\n",
       "      <td>0</td>\n",
       "      <td>1</td>\n",
       "      <td>0</td>\n",
       "    </tr>\n",
       "    <tr>\n",
       "      <th>1</th>\n",
       "      <td>T1</td>\n",
       "      <td>Max Homa</td>\n",
       "      <td>-11</td>\n",
       "      <td>E</td>\n",
       "      <td>3</td>\n",
       "      <td>69</td>\n",
       "      <td>63</td>\n",
       "      <td>70</td>\n",
       "      <td>--</td>\n",
       "      <td>202</td>\n",
       "      <td>401056550</td>\n",
       "      <td>-11</td>\n",
       "      <td>0</td>\n",
       "      <td>1</td>\n",
       "      <td>0</td>\n",
       "    </tr>\n",
       "    <tr>\n",
       "      <th>2</th>\n",
       "      <td>T3</td>\n",
       "      <td>Rory McIlroy</td>\n",
       "      <td>-9</td>\n",
       "      <td>E</td>\n",
       "      <td>5</td>\n",
       "      <td>66</td>\n",
       "      <td>70</td>\n",
       "      <td>68</td>\n",
       "      <td>--</td>\n",
       "      <td>204</td>\n",
       "      <td>401056550</td>\n",
       "      <td>-9</td>\n",
       "      <td>0</td>\n",
       "      <td>1</td>\n",
       "      <td>0</td>\n",
       "    </tr>\n",
       "    <tr>\n",
       "      <th>3</th>\n",
       "      <td>T3</td>\n",
       "      <td>Jason Dufner</td>\n",
       "      <td>-9</td>\n",
       "      <td>+2</td>\n",
       "      <td>3</td>\n",
       "      <td>68</td>\n",
       "      <td>63</td>\n",
       "      <td>71</td>\n",
       "      <td>--</td>\n",
       "      <td>202</td>\n",
       "      <td>401056550</td>\n",
       "      <td>-9</td>\n",
       "      <td>0</td>\n",
       "      <td>1</td>\n",
       "      <td>0</td>\n",
       "    </tr>\n",
       "    <tr>\n",
       "      <th>4</th>\n",
       "      <td>T5</td>\n",
       "      <td>Justin Rose</td>\n",
       "      <td>-8</td>\n",
       "      <td>E</td>\n",
       "      <td>5</td>\n",
       "      <td>70</td>\n",
       "      <td>67</td>\n",
       "      <td>68</td>\n",
       "      <td>--</td>\n",
       "      <td>205</td>\n",
       "      <td>401056550</td>\n",
       "      <td>-8</td>\n",
       "      <td>0</td>\n",
       "      <td>1</td>\n",
       "      <td>0</td>\n",
       "    </tr>\n",
       "    <tr>\n",
       "      <th>5</th>\n",
       "      <td>T5</td>\n",
       "      <td>Pat Perez</td>\n",
       "      <td>-8</td>\n",
       "      <td>+2</td>\n",
       "      <td>4</td>\n",
       "      <td>69</td>\n",
       "      <td>68</td>\n",
       "      <td>66</td>\n",
       "      <td>--</td>\n",
       "      <td>203</td>\n",
       "      <td>401056550</td>\n",
       "      <td>-8</td>\n",
       "      <td>0</td>\n",
       "      <td>1</td>\n",
       "      <td>0</td>\n",
       "    </tr>\n",
       "    <tr>\n",
       "      <th>6</th>\n",
       "      <td>T7</td>\n",
       "      <td>Kyle Stanley</td>\n",
       "      <td>-7</td>\n",
       "      <td>-3</td>\n",
       "      <td>9</td>\n",
       "      <td>69</td>\n",
       "      <td>69</td>\n",
       "      <td>71</td>\n",
       "      <td>--</td>\n",
       "      <td>209</td>\n",
       "      <td>401056550</td>\n",
       "      <td>-7</td>\n",
       "      <td>0</td>\n",
       "      <td>1</td>\n",
       "      <td>1</td>\n",
       "    </tr>\n",
       "    <tr>\n",
       "      <th>7</th>\n",
       "      <td>T7</td>\n",
       "      <td>Jhonattan Vegas</td>\n",
       "      <td>-7</td>\n",
       "      <td>-2</td>\n",
       "      <td>8</td>\n",
       "      <td>72</td>\n",
       "      <td>67</td>\n",
       "      <td>69</td>\n",
       "      <td>--</td>\n",
       "      <td>208</td>\n",
       "      <td>401056550</td>\n",
       "      <td>-7</td>\n",
       "      <td>0</td>\n",
       "      <td>1</td>\n",
       "      <td>0</td>\n",
       "    </tr>\n",
       "    <tr>\n",
       "      <th>8</th>\n",
       "      <td>T7</td>\n",
       "      <td>Rickie Fowler</td>\n",
       "      <td>-7</td>\n",
       "      <td>-1</td>\n",
       "      <td>6</td>\n",
       "      <td>71</td>\n",
       "      <td>70</td>\n",
       "      <td>66</td>\n",
       "      <td>--</td>\n",
       "      <td>207</td>\n",
       "      <td>401056550</td>\n",
       "      <td>-7</td>\n",
       "      <td>0</td>\n",
       "      <td>1</td>\n",
       "      <td>1</td>\n",
       "    </tr>\n",
       "    <tr>\n",
       "      <th>9</th>\n",
       "      <td>T7</td>\n",
       "      <td>Paul Casey</td>\n",
       "      <td>-7</td>\n",
       "      <td>E</td>\n",
       "      <td>6</td>\n",
       "      <td>69</td>\n",
       "      <td>71</td>\n",
       "      <td>66</td>\n",
       "      <td>--</td>\n",
       "      <td>206</td>\n",
       "      <td>401056550</td>\n",
       "      <td>-7</td>\n",
       "      <td>0</td>\n",
       "      <td>1</td>\n",
       "      <td>0</td>\n",
       "    </tr>\n",
       "    <tr>\n",
       "      <th>10</th>\n",
       "      <td>T11</td>\n",
       "      <td>Doc Redman</td>\n",
       "      <td>-6</td>\n",
       "      <td>E</td>\n",
       "      <td>6</td>\n",
       "      <td>70</td>\n",
       "      <td>70</td>\n",
       "      <td>67</td>\n",
       "      <td>--</td>\n",
       "      <td>207</td>\n",
       "      <td>401056550</td>\n",
       "      <td>-6</td>\n",
       "      <td>0</td>\n",
       "      <td>1</td>\n",
       "      <td>0</td>\n",
       "    </tr>\n",
       "    <tr>\n",
       "      <th>11</th>\n",
       "      <td>T11</td>\n",
       "      <td>Seamus Power</td>\n",
       "      <td>-6</td>\n",
       "      <td>+1</td>\n",
       "      <td>6</td>\n",
       "      <td>69</td>\n",
       "      <td>68</td>\n",
       "      <td>69</td>\n",
       "      <td>--</td>\n",
       "      <td>206</td>\n",
       "      <td>401056550</td>\n",
       "      <td>-6</td>\n",
       "      <td>0</td>\n",
       "      <td>1</td>\n",
       "      <td>0</td>\n",
       "    </tr>\n",
       "    <tr>\n",
       "      <th>12</th>\n",
       "      <td>T13</td>\n",
       "      <td>Jason Day</td>\n",
       "      <td>-5</td>\n",
       "      <td>-3</td>\n",
       "      <td>16</td>\n",
       "      <td>68</td>\n",
       "      <td>69</td>\n",
       "      <td>74</td>\n",
       "      <td>--</td>\n",
       "      <td>211</td>\n",
       "      <td>401056550</td>\n",
       "      <td>-5</td>\n",
       "      <td>0</td>\n",
       "      <td>1</td>\n",
       "      <td>1</td>\n",
       "    </tr>\n",
       "    <tr>\n",
       "      <th>13</th>\n",
       "      <td>T13</td>\n",
       "      <td>Brendon Todd</td>\n",
       "      <td>-5</td>\n",
       "      <td>-3</td>\n",
       "      <td>15</td>\n",
       "      <td>68</td>\n",
       "      <td>70</td>\n",
       "      <td>73</td>\n",
       "      <td>--</td>\n",
       "      <td>211</td>\n",
       "      <td>401056550</td>\n",
       "      <td>-5</td>\n",
       "      <td>0</td>\n",
       "      <td>1</td>\n",
       "      <td>0</td>\n",
       "    </tr>\n",
       "    <tr>\n",
       "      <th>14</th>\n",
       "      <td>T13</td>\n",
       "      <td>Chez Reavie</td>\n",
       "      <td>-5</td>\n",
       "      <td>-3</td>\n",
       "      <td>15</td>\n",
       "      <td>70</td>\n",
       "      <td>71</td>\n",
       "      <td>70</td>\n",
       "      <td>--</td>\n",
       "      <td>211</td>\n",
       "      <td>401056550</td>\n",
       "      <td>-5</td>\n",
       "      <td>0</td>\n",
       "      <td>1</td>\n",
       "      <td>0</td>\n",
       "    </tr>\n",
       "    <tr>\n",
       "      <th>15</th>\n",
       "      <td>T13</td>\n",
       "      <td>Shawn Stefani</td>\n",
       "      <td>-5</td>\n",
       "      <td>-3</td>\n",
       "      <td>14</td>\n",
       "      <td>76</td>\n",
       "      <td>65</td>\n",
       "      <td>70</td>\n",
       "      <td>--</td>\n",
       "      <td>211</td>\n",
       "      <td>401056550</td>\n",
       "      <td>-5</td>\n",
       "      <td>0</td>\n",
       "      <td>1</td>\n",
       "      <td>0</td>\n",
       "    </tr>\n",
       "    <tr>\n",
       "      <th>16</th>\n",
       "      <td>T13</td>\n",
       "      <td>Jim Knous</td>\n",
       "      <td>-5</td>\n",
       "      <td>-2</td>\n",
       "      <td>10</td>\n",
       "      <td>68</td>\n",
       "      <td>72</td>\n",
       "      <td>70</td>\n",
       "      <td>--</td>\n",
       "      <td>210</td>\n",
       "      <td>401056550</td>\n",
       "      <td>-5</td>\n",
       "      <td>0</td>\n",
       "      <td>1</td>\n",
       "      <td>0</td>\n",
       "    </tr>\n",
       "    <tr>\n",
       "      <th>17</th>\n",
       "      <td>T13</td>\n",
       "      <td>Rory Sabbatini</td>\n",
       "      <td>-5</td>\n",
       "      <td>-1</td>\n",
       "      <td>9</td>\n",
       "      <td>76</td>\n",
       "      <td>66</td>\n",
       "      <td>67</td>\n",
       "      <td>--</td>\n",
       "      <td>209</td>\n",
       "      <td>401056550</td>\n",
       "      <td>-5</td>\n",
       "      <td>0</td>\n",
       "      <td>1</td>\n",
       "      <td>0</td>\n",
       "    </tr>\n",
       "    <tr>\n",
       "      <th>18</th>\n",
       "      <td>T13</td>\n",
       "      <td>Aaron Wise</td>\n",
       "      <td>-5</td>\n",
       "      <td>E</td>\n",
       "      <td>8</td>\n",
       "      <td>69</td>\n",
       "      <td>70</td>\n",
       "      <td>69</td>\n",
       "      <td>--</td>\n",
       "      <td>208</td>\n",
       "      <td>401056550</td>\n",
       "      <td>-5</td>\n",
       "      <td>0</td>\n",
       "      <td>1</td>\n",
       "      <td>0</td>\n",
       "    </tr>\n",
       "    <tr>\n",
       "      <th>19</th>\n",
       "      <td>T13</td>\n",
       "      <td>Keith Mitchell</td>\n",
       "      <td>-5</td>\n",
       "      <td>E</td>\n",
       "      <td>6</td>\n",
       "      <td>68</td>\n",
       "      <td>74</td>\n",
       "      <td>66</td>\n",
       "      <td>--</td>\n",
       "      <td>208</td>\n",
       "      <td>401056550</td>\n",
       "      <td>-5</td>\n",
       "      <td>0</td>\n",
       "      <td>1</td>\n",
       "      <td>0</td>\n",
       "    </tr>\n",
       "    <tr>\n",
       "      <th>20</th>\n",
       "      <td>T13</td>\n",
       "      <td>Sergio Garcia</td>\n",
       "      <td>-5</td>\n",
       "      <td>+1</td>\n",
       "      <td>6</td>\n",
       "      <td>69</td>\n",
       "      <td>73</td>\n",
       "      <td>65</td>\n",
       "      <td>--</td>\n",
       "      <td>207</td>\n",
       "      <td>401056550</td>\n",
       "      <td>-5</td>\n",
       "      <td>0</td>\n",
       "      <td>1</td>\n",
       "      <td>0</td>\n",
       "    </tr>\n",
       "    <tr>\n",
       "      <th>21</th>\n",
       "      <td>T22</td>\n",
       "      <td>Brian Harman</td>\n",
       "      <td>-4</td>\n",
       "      <td>-3</td>\n",
       "      <td>17</td>\n",
       "      <td>68</td>\n",
       "      <td>75</td>\n",
       "      <td>69</td>\n",
       "      <td>--</td>\n",
       "      <td>212</td>\n",
       "      <td>401056550</td>\n",
       "      <td>-4</td>\n",
       "      <td>0</td>\n",
       "      <td>1</td>\n",
       "      <td>0</td>\n",
       "    </tr>\n",
       "    <tr>\n",
       "      <th>22</th>\n",
       "      <td>T22</td>\n",
       "      <td>Henrik Stenson</td>\n",
       "      <td>-4</td>\n",
       "      <td>-2</td>\n",
       "      <td>14</td>\n",
       "      <td>74</td>\n",
       "      <td>67</td>\n",
       "      <td>70</td>\n",
       "      <td>--</td>\n",
       "      <td>211</td>\n",
       "      <td>401056550</td>\n",
       "      <td>-4</td>\n",
       "      <td>0</td>\n",
       "      <td>1</td>\n",
       "      <td>1</td>\n",
       "    </tr>\n",
       "    <tr>\n",
       "      <th>23</th>\n",
       "      <td>T22</td>\n",
       "      <td>Dylan Frittelli</td>\n",
       "      <td>-4</td>\n",
       "      <td>-2</td>\n",
       "      <td>14</td>\n",
       "      <td>67</td>\n",
       "      <td>74</td>\n",
       "      <td>70</td>\n",
       "      <td>--</td>\n",
       "      <td>211</td>\n",
       "      <td>401056550</td>\n",
       "      <td>-4</td>\n",
       "      <td>0</td>\n",
       "      <td>1</td>\n",
       "      <td>0</td>\n",
       "    </tr>\n",
       "    <tr>\n",
       "      <th>24</th>\n",
       "      <td>T22</td>\n",
       "      <td>Colt Knost</td>\n",
       "      <td>-4</td>\n",
       "      <td>+1</td>\n",
       "      <td>7</td>\n",
       "      <td>73</td>\n",
       "      <td>68</td>\n",
       "      <td>67</td>\n",
       "      <td>--</td>\n",
       "      <td>208</td>\n",
       "      <td>401056550</td>\n",
       "      <td>-4</td>\n",
       "      <td>0</td>\n",
       "      <td>1</td>\n",
       "      <td>0</td>\n",
       "    </tr>\n",
       "    <tr>\n",
       "      <th>25</th>\n",
       "      <td>T22</td>\n",
       "      <td>Patrick Reed</td>\n",
       "      <td>-4</td>\n",
       "      <td>+2</td>\n",
       "      <td>6</td>\n",
       "      <td>67</td>\n",
       "      <td>69</td>\n",
       "      <td>71</td>\n",
       "      <td>--</td>\n",
       "      <td>207</td>\n",
       "      <td>401056550</td>\n",
       "      <td>-4</td>\n",
       "      <td>0</td>\n",
       "      <td>1</td>\n",
       "      <td>0</td>\n",
       "    </tr>\n",
       "    <tr>\n",
       "      <th>26</th>\n",
       "      <td>T22</td>\n",
       "      <td>Vaughn Taylor</td>\n",
       "      <td>-4</td>\n",
       "      <td>+2</td>\n",
       "      <td>6</td>\n",
       "      <td>68</td>\n",
       "      <td>71</td>\n",
       "      <td>68</td>\n",
       "      <td>--</td>\n",
       "      <td>207</td>\n",
       "      <td>401056550</td>\n",
       "      <td>-4</td>\n",
       "      <td>0</td>\n",
       "      <td>1</td>\n",
       "      <td>0</td>\n",
       "    </tr>\n",
       "    <tr>\n",
       "      <th>27</th>\n",
       "      <td>T28</td>\n",
       "      <td>Sebastian Munoz</td>\n",
       "      <td>-3</td>\n",
       "      <td>-1</td>\n",
       "      <td>15</td>\n",
       "      <td>68</td>\n",
       "      <td>70</td>\n",
       "      <td>73</td>\n",
       "      <td>--</td>\n",
       "      <td>211</td>\n",
       "      <td>401056550</td>\n",
       "      <td>-3</td>\n",
       "      <td>0</td>\n",
       "      <td>1</td>\n",
       "      <td>0</td>\n",
       "    </tr>\n",
       "    <tr>\n",
       "      <th>28</th>\n",
       "      <td>T28</td>\n",
       "      <td>Lucas Glover</td>\n",
       "      <td>-3</td>\n",
       "      <td>-1</td>\n",
       "      <td>15</td>\n",
       "      <td>70</td>\n",
       "      <td>69</td>\n",
       "      <td>72</td>\n",
       "      <td>--</td>\n",
       "      <td>211</td>\n",
       "      <td>401056550</td>\n",
       "      <td>-3</td>\n",
       "      <td>0</td>\n",
       "      <td>1</td>\n",
       "      <td>0</td>\n",
       "    </tr>\n",
       "    <tr>\n",
       "      <th>29</th>\n",
       "      <td>T30</td>\n",
       "      <td>Nick Watney</td>\n",
       "      <td>-2</td>\n",
       "      <td>-3</td>\n",
       "      <td>F</td>\n",
       "      <td>70</td>\n",
       "      <td>72</td>\n",
       "      <td>72</td>\n",
       "      <td>68</td>\n",
       "      <td>282</td>\n",
       "      <td>401056550</td>\n",
       "      <td>-2</td>\n",
       "      <td>0</td>\n",
       "      <td>0</td>\n",
       "      <td>0</td>\n",
       "    </tr>\n",
       "    <tr>\n",
       "      <th>...</th>\n",
       "      <td>...</td>\n",
       "      <td>...</td>\n",
       "      <td>...</td>\n",
       "      <td>...</td>\n",
       "      <td>...</td>\n",
       "      <td>...</td>\n",
       "      <td>...</td>\n",
       "      <td>...</td>\n",
       "      <td>...</td>\n",
       "      <td>...</td>\n",
       "      <td>...</td>\n",
       "      <td>...</td>\n",
       "      <td>...</td>\n",
       "      <td>...</td>\n",
       "      <td>...</td>\n",
       "    </tr>\n",
       "    <tr>\n",
       "      <th>127</th>\n",
       "      <td>-</td>\n",
       "      <td>Chris Stroud</td>\n",
       "      <td>CUT</td>\n",
       "      <td>-</td>\n",
       "      <td>CUT</td>\n",
       "      <td>73</td>\n",
       "      <td>75</td>\n",
       "      <td>--</td>\n",
       "      <td>--</td>\n",
       "      <td>148</td>\n",
       "      <td>401056550</td>\n",
       "      <td>14</td>\n",
       "      <td>1</td>\n",
       "      <td>0</td>\n",
       "      <td>0</td>\n",
       "    </tr>\n",
       "    <tr>\n",
       "      <th>128</th>\n",
       "      <td>-</td>\n",
       "      <td>Johnson Wagner</td>\n",
       "      <td>CUT</td>\n",
       "      <td>-</td>\n",
       "      <td>CUT</td>\n",
       "      <td>79</td>\n",
       "      <td>69</td>\n",
       "      <td>--</td>\n",
       "      <td>--</td>\n",
       "      <td>148</td>\n",
       "      <td>401056550</td>\n",
       "      <td>14</td>\n",
       "      <td>1</td>\n",
       "      <td>0</td>\n",
       "      <td>0</td>\n",
       "    </tr>\n",
       "    <tr>\n",
       "      <th>129</th>\n",
       "      <td>-</td>\n",
       "      <td>Wyndham Clark</td>\n",
       "      <td>CUT</td>\n",
       "      <td>-</td>\n",
       "      <td>CUT</td>\n",
       "      <td>74</td>\n",
       "      <td>75</td>\n",
       "      <td>--</td>\n",
       "      <td>--</td>\n",
       "      <td>149</td>\n",
       "      <td>401056550</td>\n",
       "      <td>14</td>\n",
       "      <td>1</td>\n",
       "      <td>0</td>\n",
       "      <td>0</td>\n",
       "    </tr>\n",
       "    <tr>\n",
       "      <th>130</th>\n",
       "      <td>-</td>\n",
       "      <td>Nicholas Lindheim</td>\n",
       "      <td>CUT</td>\n",
       "      <td>-</td>\n",
       "      <td>CUT</td>\n",
       "      <td>75</td>\n",
       "      <td>74</td>\n",
       "      <td>--</td>\n",
       "      <td>--</td>\n",
       "      <td>149</td>\n",
       "      <td>401056550</td>\n",
       "      <td>14</td>\n",
       "      <td>1</td>\n",
       "      <td>0</td>\n",
       "      <td>0</td>\n",
       "    </tr>\n",
       "    <tr>\n",
       "      <th>131</th>\n",
       "      <td>-</td>\n",
       "      <td>Nathan Stamey</td>\n",
       "      <td>CUT</td>\n",
       "      <td>-</td>\n",
       "      <td>CUT</td>\n",
       "      <td>77</td>\n",
       "      <td>72</td>\n",
       "      <td>--</td>\n",
       "      <td>--</td>\n",
       "      <td>149</td>\n",
       "      <td>401056550</td>\n",
       "      <td>14</td>\n",
       "      <td>1</td>\n",
       "      <td>0</td>\n",
       "      <td>0</td>\n",
       "    </tr>\n",
       "    <tr>\n",
       "      <th>132</th>\n",
       "      <td>-</td>\n",
       "      <td>Jose de Jesus Rodriguez</td>\n",
       "      <td>CUT</td>\n",
       "      <td>-</td>\n",
       "      <td>CUT</td>\n",
       "      <td>75</td>\n",
       "      <td>74</td>\n",
       "      <td>--</td>\n",
       "      <td>--</td>\n",
       "      <td>149</td>\n",
       "      <td>401056550</td>\n",
       "      <td>14</td>\n",
       "      <td>1</td>\n",
       "      <td>0</td>\n",
       "      <td>0</td>\n",
       "    </tr>\n",
       "    <tr>\n",
       "      <th>133</th>\n",
       "      <td>-</td>\n",
       "      <td>Josh Teater</td>\n",
       "      <td>CUT</td>\n",
       "      <td>-</td>\n",
       "      <td>CUT</td>\n",
       "      <td>77</td>\n",
       "      <td>72</td>\n",
       "      <td>--</td>\n",
       "      <td>--</td>\n",
       "      <td>149</td>\n",
       "      <td>401056550</td>\n",
       "      <td>14</td>\n",
       "      <td>1</td>\n",
       "      <td>0</td>\n",
       "      <td>0</td>\n",
       "    </tr>\n",
       "    <tr>\n",
       "      <th>134</th>\n",
       "      <td>-</td>\n",
       "      <td>Billy Hurley III</td>\n",
       "      <td>CUT</td>\n",
       "      <td>-</td>\n",
       "      <td>CUT</td>\n",
       "      <td>79</td>\n",
       "      <td>70</td>\n",
       "      <td>--</td>\n",
       "      <td>--</td>\n",
       "      <td>149</td>\n",
       "      <td>401056550</td>\n",
       "      <td>14</td>\n",
       "      <td>1</td>\n",
       "      <td>0</td>\n",
       "      <td>0</td>\n",
       "    </tr>\n",
       "    <tr>\n",
       "      <th>135</th>\n",
       "      <td>-</td>\n",
       "      <td>Chip McDaniel</td>\n",
       "      <td>CUT</td>\n",
       "      <td>-</td>\n",
       "      <td>CUT</td>\n",
       "      <td>75</td>\n",
       "      <td>75</td>\n",
       "      <td>--</td>\n",
       "      <td>--</td>\n",
       "      <td>150</td>\n",
       "      <td>401056550</td>\n",
       "      <td>14</td>\n",
       "      <td>1</td>\n",
       "      <td>0</td>\n",
       "      <td>0</td>\n",
       "    </tr>\n",
       "    <tr>\n",
       "      <th>136</th>\n",
       "      <td>-</td>\n",
       "      <td>Mackenzie Hughes</td>\n",
       "      <td>CUT</td>\n",
       "      <td>-</td>\n",
       "      <td>CUT</td>\n",
       "      <td>75</td>\n",
       "      <td>75</td>\n",
       "      <td>--</td>\n",
       "      <td>--</td>\n",
       "      <td>150</td>\n",
       "      <td>401056550</td>\n",
       "      <td>14</td>\n",
       "      <td>1</td>\n",
       "      <td>0</td>\n",
       "      <td>0</td>\n",
       "    </tr>\n",
       "    <tr>\n",
       "      <th>137</th>\n",
       "      <td>-</td>\n",
       "      <td>Anirban Lahiri</td>\n",
       "      <td>CUT</td>\n",
       "      <td>-</td>\n",
       "      <td>CUT</td>\n",
       "      <td>79</td>\n",
       "      <td>71</td>\n",
       "      <td>--</td>\n",
       "      <td>--</td>\n",
       "      <td>150</td>\n",
       "      <td>401056550</td>\n",
       "      <td>14</td>\n",
       "      <td>1</td>\n",
       "      <td>0</td>\n",
       "      <td>0</td>\n",
       "    </tr>\n",
       "    <tr>\n",
       "      <th>138</th>\n",
       "      <td>-</td>\n",
       "      <td>Derek Fathauer</td>\n",
       "      <td>CUT</td>\n",
       "      <td>-</td>\n",
       "      <td>CUT</td>\n",
       "      <td>78</td>\n",
       "      <td>72</td>\n",
       "      <td>--</td>\n",
       "      <td>--</td>\n",
       "      <td>150</td>\n",
       "      <td>401056550</td>\n",
       "      <td>14</td>\n",
       "      <td>1</td>\n",
       "      <td>0</td>\n",
       "      <td>0</td>\n",
       "    </tr>\n",
       "    <tr>\n",
       "      <th>139</th>\n",
       "      <td>-</td>\n",
       "      <td>Padraig Harrington</td>\n",
       "      <td>CUT</td>\n",
       "      <td>-</td>\n",
       "      <td>CUT</td>\n",
       "      <td>75</td>\n",
       "      <td>75</td>\n",
       "      <td>--</td>\n",
       "      <td>--</td>\n",
       "      <td>150</td>\n",
       "      <td>401056550</td>\n",
       "      <td>14</td>\n",
       "      <td>1</td>\n",
       "      <td>0</td>\n",
       "      <td>0</td>\n",
       "    </tr>\n",
       "    <tr>\n",
       "      <th>140</th>\n",
       "      <td>-</td>\n",
       "      <td>Matt Every</td>\n",
       "      <td>CUT</td>\n",
       "      <td>-</td>\n",
       "      <td>CUT</td>\n",
       "      <td>75</td>\n",
       "      <td>76</td>\n",
       "      <td>--</td>\n",
       "      <td>--</td>\n",
       "      <td>151</td>\n",
       "      <td>401056550</td>\n",
       "      <td>14</td>\n",
       "      <td>1</td>\n",
       "      <td>0</td>\n",
       "      <td>0</td>\n",
       "    </tr>\n",
       "    <tr>\n",
       "      <th>141</th>\n",
       "      <td>-</td>\n",
       "      <td>Curtis Luck</td>\n",
       "      <td>CUT</td>\n",
       "      <td>-</td>\n",
       "      <td>CUT</td>\n",
       "      <td>71</td>\n",
       "      <td>81</td>\n",
       "      <td>--</td>\n",
       "      <td>--</td>\n",
       "      <td>152</td>\n",
       "      <td>401056550</td>\n",
       "      <td>14</td>\n",
       "      <td>1</td>\n",
       "      <td>0</td>\n",
       "      <td>0</td>\n",
       "    </tr>\n",
       "    <tr>\n",
       "      <th>142</th>\n",
       "      <td>-</td>\n",
       "      <td>Seth Reeves</td>\n",
       "      <td>CUT</td>\n",
       "      <td>-</td>\n",
       "      <td>CUT</td>\n",
       "      <td>76</td>\n",
       "      <td>76</td>\n",
       "      <td>--</td>\n",
       "      <td>--</td>\n",
       "      <td>152</td>\n",
       "      <td>401056550</td>\n",
       "      <td>14</td>\n",
       "      <td>1</td>\n",
       "      <td>0</td>\n",
       "      <td>0</td>\n",
       "    </tr>\n",
       "    <tr>\n",
       "      <th>143</th>\n",
       "      <td>-</td>\n",
       "      <td>Scott Langley</td>\n",
       "      <td>CUT</td>\n",
       "      <td>-</td>\n",
       "      <td>CUT</td>\n",
       "      <td>78</td>\n",
       "      <td>74</td>\n",
       "      <td>--</td>\n",
       "      <td>--</td>\n",
       "      <td>152</td>\n",
       "      <td>401056550</td>\n",
       "      <td>14</td>\n",
       "      <td>1</td>\n",
       "      <td>0</td>\n",
       "      <td>0</td>\n",
       "    </tr>\n",
       "    <tr>\n",
       "      <th>144</th>\n",
       "      <td>-</td>\n",
       "      <td>Martin Piller</td>\n",
       "      <td>CUT</td>\n",
       "      <td>-</td>\n",
       "      <td>CUT</td>\n",
       "      <td>79</td>\n",
       "      <td>73</td>\n",
       "      <td>--</td>\n",
       "      <td>--</td>\n",
       "      <td>152</td>\n",
       "      <td>401056550</td>\n",
       "      <td>14</td>\n",
       "      <td>1</td>\n",
       "      <td>0</td>\n",
       "      <td>0</td>\n",
       "    </tr>\n",
       "    <tr>\n",
       "      <th>145</th>\n",
       "      <td>-</td>\n",
       "      <td>Danny Lee</td>\n",
       "      <td>CUT</td>\n",
       "      <td>-</td>\n",
       "      <td>CUT</td>\n",
       "      <td>75</td>\n",
       "      <td>77</td>\n",
       "      <td>--</td>\n",
       "      <td>--</td>\n",
       "      <td>152</td>\n",
       "      <td>401056550</td>\n",
       "      <td>14</td>\n",
       "      <td>1</td>\n",
       "      <td>0</td>\n",
       "      <td>0</td>\n",
       "    </tr>\n",
       "    <tr>\n",
       "      <th>146</th>\n",
       "      <td>-</td>\n",
       "      <td>Steve Scott</td>\n",
       "      <td>CUT</td>\n",
       "      <td>-</td>\n",
       "      <td>CUT</td>\n",
       "      <td>75</td>\n",
       "      <td>77</td>\n",
       "      <td>--</td>\n",
       "      <td>--</td>\n",
       "      <td>152</td>\n",
       "      <td>401056550</td>\n",
       "      <td>14</td>\n",
       "      <td>1</td>\n",
       "      <td>0</td>\n",
       "      <td>0</td>\n",
       "    </tr>\n",
       "    <tr>\n",
       "      <th>147</th>\n",
       "      <td>-</td>\n",
       "      <td>Mathew Goggin</td>\n",
       "      <td>CUT</td>\n",
       "      <td>-</td>\n",
       "      <td>CUT</td>\n",
       "      <td>76</td>\n",
       "      <td>77</td>\n",
       "      <td>--</td>\n",
       "      <td>--</td>\n",
       "      <td>153</td>\n",
       "      <td>401056550</td>\n",
       "      <td>14</td>\n",
       "      <td>1</td>\n",
       "      <td>0</td>\n",
       "      <td>0</td>\n",
       "    </tr>\n",
       "    <tr>\n",
       "      <th>148</th>\n",
       "      <td>-</td>\n",
       "      <td>Stephan Jaeger</td>\n",
       "      <td>CUT</td>\n",
       "      <td>-</td>\n",
       "      <td>CUT</td>\n",
       "      <td>76</td>\n",
       "      <td>78</td>\n",
       "      <td>--</td>\n",
       "      <td>--</td>\n",
       "      <td>154</td>\n",
       "      <td>401056550</td>\n",
       "      <td>14</td>\n",
       "      <td>1</td>\n",
       "      <td>0</td>\n",
       "      <td>0</td>\n",
       "    </tr>\n",
       "    <tr>\n",
       "      <th>149</th>\n",
       "      <td>-</td>\n",
       "      <td>Tyrone Van Aswegen</td>\n",
       "      <td>CUT</td>\n",
       "      <td>-</td>\n",
       "      <td>CUT</td>\n",
       "      <td>79</td>\n",
       "      <td>75</td>\n",
       "      <td>--</td>\n",
       "      <td>--</td>\n",
       "      <td>154</td>\n",
       "      <td>401056550</td>\n",
       "      <td>14</td>\n",
       "      <td>1</td>\n",
       "      <td>0</td>\n",
       "      <td>0</td>\n",
       "    </tr>\n",
       "    <tr>\n",
       "      <th>150</th>\n",
       "      <td>-</td>\n",
       "      <td>Will MacKenzie</td>\n",
       "      <td>CUT</td>\n",
       "      <td>-</td>\n",
       "      <td>CUT</td>\n",
       "      <td>75</td>\n",
       "      <td>79</td>\n",
       "      <td>--</td>\n",
       "      <td>--</td>\n",
       "      <td>154</td>\n",
       "      <td>401056550</td>\n",
       "      <td>14</td>\n",
       "      <td>1</td>\n",
       "      <td>0</td>\n",
       "      <td>0</td>\n",
       "    </tr>\n",
       "    <tr>\n",
       "      <th>151</th>\n",
       "      <td>-</td>\n",
       "      <td>Freddie Jacobson</td>\n",
       "      <td>CUT</td>\n",
       "      <td>-</td>\n",
       "      <td>CUT</td>\n",
       "      <td>77</td>\n",
       "      <td>77</td>\n",
       "      <td>--</td>\n",
       "      <td>--</td>\n",
       "      <td>154</td>\n",
       "      <td>401056550</td>\n",
       "      <td>14</td>\n",
       "      <td>1</td>\n",
       "      <td>0</td>\n",
       "      <td>0</td>\n",
       "    </tr>\n",
       "    <tr>\n",
       "      <th>152</th>\n",
       "      <td>-</td>\n",
       "      <td>Jonathan Byrd</td>\n",
       "      <td>CUT</td>\n",
       "      <td>-</td>\n",
       "      <td>CUT</td>\n",
       "      <td>78</td>\n",
       "      <td>79</td>\n",
       "      <td>--</td>\n",
       "      <td>--</td>\n",
       "      <td>157</td>\n",
       "      <td>401056550</td>\n",
       "      <td>14</td>\n",
       "      <td>1</td>\n",
       "      <td>0</td>\n",
       "      <td>0</td>\n",
       "    </tr>\n",
       "    <tr>\n",
       "      <th>153</th>\n",
       "      <td>-</td>\n",
       "      <td>Gary Woodland</td>\n",
       "      <td>WD</td>\n",
       "      <td>-</td>\n",
       "      <td>WD</td>\n",
       "      <td>73</td>\n",
       "      <td>70</td>\n",
       "      <td>74</td>\n",
       "      <td>--</td>\n",
       "      <td>217</td>\n",
       "      <td>401056550</td>\n",
       "      <td>14</td>\n",
       "      <td>1</td>\n",
       "      <td>0</td>\n",
       "      <td>0</td>\n",
       "    </tr>\n",
       "    <tr>\n",
       "      <th>154</th>\n",
       "      <td>-</td>\n",
       "      <td>Byeong-Hun An</td>\n",
       "      <td>WD</td>\n",
       "      <td>-</td>\n",
       "      <td>WD</td>\n",
       "      <td>72</td>\n",
       "      <td>70</td>\n",
       "      <td>71</td>\n",
       "      <td>40</td>\n",
       "      <td>213</td>\n",
       "      <td>401056550</td>\n",
       "      <td>14</td>\n",
       "      <td>1</td>\n",
       "      <td>0</td>\n",
       "      <td>0</td>\n",
       "    </tr>\n",
       "    <tr>\n",
       "      <th>155</th>\n",
       "      <td>-</td>\n",
       "      <td>Sam Burns</td>\n",
       "      <td>WD</td>\n",
       "      <td>-</td>\n",
       "      <td>WD</td>\n",
       "      <td>77</td>\n",
       "      <td>--</td>\n",
       "      <td>--</td>\n",
       "      <td>--</td>\n",
       "      <td>77</td>\n",
       "      <td>401056550</td>\n",
       "      <td>14</td>\n",
       "      <td>1</td>\n",
       "      <td>0</td>\n",
       "      <td>0</td>\n",
       "    </tr>\n",
       "    <tr>\n",
       "      <th>156</th>\n",
       "      <td>-</td>\n",
       "      <td>J.B. Holmes</td>\n",
       "      <td>WD</td>\n",
       "      <td>-</td>\n",
       "      <td>WD</td>\n",
       "      <td>80</td>\n",
       "      <td>--</td>\n",
       "      <td>--</td>\n",
       "      <td>--</td>\n",
       "      <td>80</td>\n",
       "      <td>401056550</td>\n",
       "      <td>14</td>\n",
       "      <td>1</td>\n",
       "      <td>0</td>\n",
       "      <td>0</td>\n",
       "    </tr>\n",
       "  </tbody>\n",
       "</table>\n",
       "<p>157 rows × 15 columns</p>\n",
       "</div>"
      ],
      "text/plain": [
       "     pos                   player to_par today thru  r1  r2  r3  r4  tot  \\\n",
       "0     T1              Joel Dahmen    -11     E    4  66  66  70  --  202   \n",
       "1     T1                 Max Homa    -11     E    3  69  63  70  --  202   \n",
       "2     T3             Rory McIlroy     -9     E    5  66  70  68  --  204   \n",
       "3     T3             Jason Dufner     -9    +2    3  68  63  71  --  202   \n",
       "4     T5              Justin Rose     -8     E    5  70  67  68  --  205   \n",
       "5     T5                Pat Perez     -8    +2    4  69  68  66  --  203   \n",
       "6     T7             Kyle Stanley     -7    -3    9  69  69  71  --  209   \n",
       "7     T7          Jhonattan Vegas     -7    -2    8  72  67  69  --  208   \n",
       "8     T7            Rickie Fowler     -7    -1    6  71  70  66  --  207   \n",
       "9     T7               Paul Casey     -7     E    6  69  71  66  --  206   \n",
       "10   T11               Doc Redman     -6     E    6  70  70  67  --  207   \n",
       "11   T11             Seamus Power     -6    +1    6  69  68  69  --  206   \n",
       "12   T13                Jason Day     -5    -3   16  68  69  74  --  211   \n",
       "13   T13             Brendon Todd     -5    -3   15  68  70  73  --  211   \n",
       "14   T13              Chez Reavie     -5    -3   15  70  71  70  --  211   \n",
       "15   T13            Shawn Stefani     -5    -3   14  76  65  70  --  211   \n",
       "16   T13                Jim Knous     -5    -2   10  68  72  70  --  210   \n",
       "17   T13           Rory Sabbatini     -5    -1    9  76  66  67  --  209   \n",
       "18   T13               Aaron Wise     -5     E    8  69  70  69  --  208   \n",
       "19   T13           Keith Mitchell     -5     E    6  68  74  66  --  208   \n",
       "20   T13            Sergio Garcia     -5    +1    6  69  73  65  --  207   \n",
       "21   T22             Brian Harman     -4    -3   17  68  75  69  --  212   \n",
       "22   T22           Henrik Stenson     -4    -2   14  74  67  70  --  211   \n",
       "23   T22          Dylan Frittelli     -4    -2   14  67  74  70  --  211   \n",
       "24   T22               Colt Knost     -4    +1    7  73  68  67  --  208   \n",
       "25   T22             Patrick Reed     -4    +2    6  67  69  71  --  207   \n",
       "26   T22            Vaughn Taylor     -4    +2    6  68  71  68  --  207   \n",
       "27   T28          Sebastian Munoz     -3    -1   15  68  70  73  --  211   \n",
       "28   T28             Lucas Glover     -3    -1   15  70  69  72  --  211   \n",
       "29   T30              Nick Watney     -2    -3    F  70  72  72  68  282   \n",
       "..   ...                      ...    ...   ...  ...  ..  ..  ..  ..  ...   \n",
       "127    -             Chris Stroud    CUT     -  CUT  73  75  --  --  148   \n",
       "128    -           Johnson Wagner    CUT     -  CUT  79  69  --  --  148   \n",
       "129    -            Wyndham Clark    CUT     -  CUT  74  75  --  --  149   \n",
       "130    -        Nicholas Lindheim    CUT     -  CUT  75  74  --  --  149   \n",
       "131    -            Nathan Stamey    CUT     -  CUT  77  72  --  --  149   \n",
       "132    -  Jose de Jesus Rodriguez    CUT     -  CUT  75  74  --  --  149   \n",
       "133    -              Josh Teater    CUT     -  CUT  77  72  --  --  149   \n",
       "134    -         Billy Hurley III    CUT     -  CUT  79  70  --  --  149   \n",
       "135    -            Chip McDaniel    CUT     -  CUT  75  75  --  --  150   \n",
       "136    -         Mackenzie Hughes    CUT     -  CUT  75  75  --  --  150   \n",
       "137    -           Anirban Lahiri    CUT     -  CUT  79  71  --  --  150   \n",
       "138    -           Derek Fathauer    CUT     -  CUT  78  72  --  --  150   \n",
       "139    -       Padraig Harrington    CUT     -  CUT  75  75  --  --  150   \n",
       "140    -               Matt Every    CUT     -  CUT  75  76  --  --  151   \n",
       "141    -              Curtis Luck    CUT     -  CUT  71  81  --  --  152   \n",
       "142    -              Seth Reeves    CUT     -  CUT  76  76  --  --  152   \n",
       "143    -            Scott Langley    CUT     -  CUT  78  74  --  --  152   \n",
       "144    -            Martin Piller    CUT     -  CUT  79  73  --  --  152   \n",
       "145    -                Danny Lee    CUT     -  CUT  75  77  --  --  152   \n",
       "146    -              Steve Scott    CUT     -  CUT  75  77  --  --  152   \n",
       "147    -            Mathew Goggin    CUT     -  CUT  76  77  --  --  153   \n",
       "148    -           Stephan Jaeger    CUT     -  CUT  76  78  --  --  154   \n",
       "149    -       Tyrone Van Aswegen    CUT     -  CUT  79  75  --  --  154   \n",
       "150    -           Will MacKenzie    CUT     -  CUT  75  79  --  --  154   \n",
       "151    -         Freddie Jacobson    CUT     -  CUT  77  77  --  --  154   \n",
       "152    -            Jonathan Byrd    CUT     -  CUT  78  79  --  --  157   \n",
       "153    -            Gary Woodland     WD     -   WD  73  70  74  --  217   \n",
       "154    -            Byeong-Hun An     WD     -   WD  72  70  71  40  213   \n",
       "155    -                Sam Burns     WD     -   WD  77  --  --  --   77   \n",
       "156    -              J.B. Holmes     WD     -   WD  80  --  --  --   80   \n",
       "\n",
       "    tourney_id donkey_score  missed_cut  player_left  team_count  \n",
       "0    401056550          -11           0            1           0  \n",
       "1    401056550          -11           0            1           0  \n",
       "2    401056550           -9           0            1           0  \n",
       "3    401056550           -9           0            1           0  \n",
       "4    401056550           -8           0            1           0  \n",
       "5    401056550           -8           0            1           0  \n",
       "6    401056550           -7           0            1           1  \n",
       "7    401056550           -7           0            1           0  \n",
       "8    401056550           -7           0            1           1  \n",
       "9    401056550           -7           0            1           0  \n",
       "10   401056550           -6           0            1           0  \n",
       "11   401056550           -6           0            1           0  \n",
       "12   401056550           -5           0            1           1  \n",
       "13   401056550           -5           0            1           0  \n",
       "14   401056550           -5           0            1           0  \n",
       "15   401056550           -5           0            1           0  \n",
       "16   401056550           -5           0            1           0  \n",
       "17   401056550           -5           0            1           0  \n",
       "18   401056550           -5           0            1           0  \n",
       "19   401056550           -5           0            1           0  \n",
       "20   401056550           -5           0            1           0  \n",
       "21   401056550           -4           0            1           0  \n",
       "22   401056550           -4           0            1           1  \n",
       "23   401056550           -4           0            1           0  \n",
       "24   401056550           -4           0            1           0  \n",
       "25   401056550           -4           0            1           0  \n",
       "26   401056550           -4           0            1           0  \n",
       "27   401056550           -3           0            1           0  \n",
       "28   401056550           -3           0            1           0  \n",
       "29   401056550           -2           0            0           0  \n",
       "..         ...          ...         ...          ...         ...  \n",
       "127  401056550           14           1            0           0  \n",
       "128  401056550           14           1            0           0  \n",
       "129  401056550           14           1            0           0  \n",
       "130  401056550           14           1            0           0  \n",
       "131  401056550           14           1            0           0  \n",
       "132  401056550           14           1            0           0  \n",
       "133  401056550           14           1            0           0  \n",
       "134  401056550           14           1            0           0  \n",
       "135  401056550           14           1            0           0  \n",
       "136  401056550           14           1            0           0  \n",
       "137  401056550           14           1            0           0  \n",
       "138  401056550           14           1            0           0  \n",
       "139  401056550           14           1            0           0  \n",
       "140  401056550           14           1            0           0  \n",
       "141  401056550           14           1            0           0  \n",
       "142  401056550           14           1            0           0  \n",
       "143  401056550           14           1            0           0  \n",
       "144  401056550           14           1            0           0  \n",
       "145  401056550           14           1            0           0  \n",
       "146  401056550           14           1            0           0  \n",
       "147  401056550           14           1            0           0  \n",
       "148  401056550           14           1            0           0  \n",
       "149  401056550           14           1            0           0  \n",
       "150  401056550           14           1            0           0  \n",
       "151  401056550           14           1            0           0  \n",
       "152  401056550           14           1            0           0  \n",
       "153  401056550           14           1            0           0  \n",
       "154  401056550           14           1            0           0  \n",
       "155  401056550           14           1            0           0  \n",
       "156  401056550           14           1            0           0  \n",
       "\n",
       "[157 rows x 15 columns]"
      ]
     },
     "execution_count": 10,
     "metadata": {},
     "output_type": "execute_result"
    }
   ],
   "source": [
    "cmon.data"
   ]
  },
  {
   "cell_type": "code",
   "execution_count": null,
   "metadata": {},
   "outputs": [],
   "source": []
  },
  {
   "cell_type": "code",
   "execution_count": null,
   "metadata": {},
   "outputs": [],
   "source": []
  },
  {
   "cell_type": "code",
   "execution_count": null,
   "metadata": {},
   "outputs": [],
   "source": [
    "huh.sql"
   ]
  },
  {
   "cell_type": "code",
   "execution_count": null,
   "metadata": {},
   "outputs": [],
   "source": []
  },
  {
   "cell_type": "code",
   "execution_count": null,
   "metadata": {},
   "outputs": [],
   "source": []
  },
  {
   "cell_type": "code",
   "execution_count": null,
   "metadata": {},
   "outputs": [],
   "source": [
    "big_time.scrape_espn_leaderboard(big_time.url_lb)"
   ]
  },
  {
   "cell_type": "code",
   "execution_count": null,
   "metadata": {},
   "outputs": [],
   "source": [
    "big_time.data = big_time.data[['player','today']]"
   ]
  },
  {
   "cell_type": "code",
   "execution_count": null,
   "metadata": {},
   "outputs": [],
   "source": [
    "big_time.data = big_time.data.rename(columns={'today':'tee_time'})"
   ]
  },
  {
   "cell_type": "code",
   "execution_count": null,
   "metadata": {},
   "outputs": [],
   "source": [
    "big_time.data"
   ]
  },
  {
   "cell_type": "code",
   "execution_count": null,
   "metadata": {},
   "outputs": [],
   "source": [
    "big_time.determine_tourney_status()"
   ]
  },
  {
   "cell_type": "code",
   "execution_count": null,
   "metadata": {},
   "outputs": [],
   "source": [
    "big_time.load_leaderboard_to_db()"
   ]
  },
  {
   "cell_type": "code",
   "execution_count": null,
   "metadata": {},
   "outputs": [],
   "source": [
    "wr = dg.data_things.LoadWorldRankings()"
   ]
  },
  {
   "cell_type": "code",
   "execution_count": null,
   "metadata": {},
   "outputs": [],
   "source": [
    "wr.run()"
   ]
  },
  {
   "cell_type": "code",
   "execution_count": null,
   "metadata": {},
   "outputs": [],
   "source": []
  },
  {
   "cell_type": "code",
   "execution_count": null,
   "metadata": {},
   "outputs": [],
   "source": [
    "big_time.url_lb"
   ]
  },
  {
   "cell_type": "code",
   "execution_count": null,
   "metadata": {},
   "outputs": [],
   "source": []
  },
  {
   "cell_type": "code",
   "execution_count": null,
   "metadata": {},
   "outputs": [],
   "source": [
    "yay = dg.data_things.TeamPlayerResults()"
   ]
  },
  {
   "cell_type": "code",
   "execution_count": null,
   "metadata": {},
   "outputs": [],
   "source": [
    "yay.run()"
   ]
  },
  {
   "cell_type": "code",
   "execution_count": null,
   "metadata": {},
   "outputs": [],
   "source": [
    "yay.clean_data()"
   ]
  },
  {
   "cell_type": "code",
   "execution_count": null,
   "metadata": {},
   "outputs": [],
   "source": [
    "yay.data"
   ]
  },
  {
   "cell_type": "code",
   "execution_count": null,
   "metadata": {},
   "outputs": [],
   "source": [
    "class TeamPlayerResults(dg.data_things.BaseClass):\n",
    "\n",
    "    def pull_sql(self):\n",
    "        '''\n",
    "        Pulls full team results by player\n",
    "        '''\n",
    "        logger.info(\"Pulling full team results by player\")\n",
    "        sql = self.yaml_sql_dict.get('scoreboard_users_team')\n",
    "\n",
    "        df = self.run_sql(sql)\n",
    "\n",
    "        self.data = df.copy()"
   ]
  },
  {
   "cell_type": "code",
   "execution_count": null,
   "metadata": {},
   "outputs": [],
   "source": [
    "cmon = dg.data_things.PullLeaderboard(user_id=5)"
   ]
  },
  {
   "cell_type": "code",
   "execution_count": null,
   "metadata": {},
   "outputs": [],
   "source": [
    "cmon.run()"
   ]
  },
  {
   "cell_type": "code",
   "execution_count": null,
   "metadata": {},
   "outputs": [],
   "source": [
    "cmon.data.loc[cmon.data['on_team'] == 'Yes']"
   ]
  },
  {
   "cell_type": "code",
   "execution_count": null,
   "metadata": {},
   "outputs": [],
   "source": [
    "cmon.data.loc[cmon.data['on_team'] == 'Yes']['donkey_score'].astype(int).sum()"
   ]
  },
  {
   "cell_type": "code",
   "execution_count": null,
   "metadata": {},
   "outputs": [],
   "source": [
    "BaseClass = dg.data_things.BaseClass"
   ]
  },
  {
   "cell_type": "code",
   "execution_count": null,
   "metadata": {},
   "outputs": [],
   "source": [
    "class GameScoreboard(BaseClass):\n",
    "    def __init__(self):\n",
    "        BaseClass.__init__(self)\n",
    "\n",
    "    def aggregate_user_scores(self):\n",
    "        '''\n",
    "        Pull each users aggregate score for the current tourney\n",
    "        '''\n",
    "        logger.info(\"Pulling aggregated team score for scoreboard\")\n",
    "        sql = self.yaml_sql_dict.get('aggregate_team_score')\n",
    "        df = self.run_sql(sql)\n",
    "\n",
    "        df.sort_values('donkey_score', inplace=True)\n",
    "\n",
    "        df['rank'] = df['donkey_score'].rank(ascending=True, method='min').astype(int)\n",
    "\n",
    "        self.data = df.copy()\n",
    "\n",
    "    def determine_ties_in_scoreboard(self):\n",
    "        '''\n",
    "        Takes a scoreboard df and determines rank and handles tiesself.\n",
    "\n",
    "        It's nice to have T2 on the scoreboard instead of multiple \"2\"s\n",
    "        '''\n",
    "        logger.info(\"Determining where ties exist in the donkey scoreboard\")\n",
    "        df_ties = self.data.copy()\n",
    "\n",
    "        # Need to create a better rank that handles ties\n",
    "        df_ties['new_rank'] = df_ties['rank'].copy()\n",
    "\n",
    "        df_ties = df_ties.groupby(['rank'])['id'].count().reset_index()\n",
    "        df_ties.loc[df_ties['id'] > 1, 'new_rank'] = \"T\"\n",
    "\n",
    "        df_ties.loc[df_ties['new_rank'].notnull(), 'final_rank'] = 'T' + df_ties['rank'].astype(str)\n",
    "        df_ties.loc[df_ties['new_rank'].isnull(), 'final_rank'] = df_ties['rank'].astype(str)\n",
    "\n",
    "        self.df_ties = df_ties[['rank','final_rank']]\n",
    "\n",
    "    def add_ties_to_data(self):\n",
    "        logger.info(\"Adding ties to scoreboard data\")\n",
    "        self.data = self.data.merge(self.df_ties,\n",
    "                                   how='left',\n",
    "                                   on='rank')\n",
    "\n",
    "    def run(self):\n",
    "        self.aggregate_user_scores()\n",
    "        self.determine_ties_in_scoreboard()\n",
    "        self.add_ties_to_data()"
   ]
  },
  {
   "cell_type": "code",
   "execution_count": null,
   "metadata": {},
   "outputs": [],
   "source": [
    "sb = GameScoreboard()"
   ]
  },
  {
   "cell_type": "code",
   "execution_count": null,
   "metadata": {},
   "outputs": [],
   "source": [
    "sb.aggregate_user_scores()"
   ]
  },
  {
   "cell_type": "code",
   "execution_count": null,
   "metadata": {},
   "outputs": [],
   "source": [
    "sb.data"
   ]
  },
  {
   "cell_type": "code",
   "execution_count": null,
   "metadata": {},
   "outputs": [],
   "source": []
  },
  {
   "cell_type": "code",
   "execution_count": null,
   "metadata": {},
   "outputs": [],
   "source": [
    "big = dg.data_things.TeamPlayerResults()"
   ]
  },
  {
   "cell_type": "code",
   "execution_count": null,
   "metadata": {},
   "outputs": [],
   "source": [
    "big.run()"
   ]
  },
  {
   "cell_type": "code",
   "execution_count": null,
   "metadata": {},
   "outputs": [],
   "source": [
    "big.data['player']"
   ]
  },
  {
   "cell_type": "code",
   "execution_count": null,
   "metadata": {},
   "outputs": [],
   "source": []
  },
  {
   "cell_type": "code",
   "execution_count": null,
   "metadata": {},
   "outputs": [],
   "source": []
  },
  {
   "cell_type": "code",
   "execution_count": null,
   "metadata": {},
   "outputs": [],
   "source": [
    "big.user_id"
   ]
  },
  {
   "cell_type": "code",
   "execution_count": null,
   "metadata": {},
   "outputs": [],
   "source": [
    "big.user_df"
   ]
  },
  {
   "cell_type": "code",
   "execution_count": null,
   "metadata": {},
   "outputs": [],
   "source": [
    "big.run()"
   ]
  },
  {
   "cell_type": "code",
   "execution_count": null,
   "metadata": {},
   "outputs": [],
   "source": [
    "big."
   ]
  },
  {
   "cell_type": "code",
   "execution_count": null,
   "metadata": {},
   "outputs": [],
   "source": []
  },
  {
   "cell_type": "code",
   "execution_count": null,
   "metadata": {},
   "outputs": [],
   "source": []
  },
  {
   "cell_type": "code",
   "execution_count": null,
   "metadata": {},
   "outputs": [],
   "source": [
    "big.determine_tourney_status()"
   ]
  },
  {
   "cell_type": "code",
   "execution_count": null,
   "metadata": {},
   "outputs": [],
   "source": [
    "big.tourney_status"
   ]
  },
  {
   "cell_type": "code",
   "execution_count": null,
   "metadata": {},
   "outputs": [],
   "source": [
    "yay.run()"
   ]
  },
  {
   "cell_type": "code",
   "execution_count": null,
   "metadata": {},
   "outputs": [],
   "source": [
    "yay.data_dict"
   ]
  },
  {
   "cell_type": "code",
   "execution_count": null,
   "metadata": {},
   "outputs": [],
   "source": [
    "yay.data"
   ]
  },
  {
   "cell_type": "code",
   "execution_count": null,
   "metadata": {},
   "outputs": [],
   "source": []
  },
  {
   "cell_type": "code",
   "execution_count": null,
   "metadata": {},
   "outputs": [],
   "source": [
    "import pandas as pd"
   ]
  },
  {
   "cell_type": "code",
   "execution_count": null,
   "metadata": {},
   "outputs": [],
   "source": [
    "pd.DataFrame(yay.data_dict)"
   ]
  },
  {
   "cell_type": "code",
   "execution_count": null,
   "metadata": {},
   "outputs": [],
   "source": [
    "yay.tourney_id"
   ]
  },
  {
   "cell_type": "code",
   "execution_count": null,
   "metadata": {},
   "outputs": [],
   "source": []
  },
  {
   "cell_type": "code",
   "execution_count": null,
   "metadata": {},
   "outputs": [],
   "source": []
  },
  {
   "cell_type": "code",
   "execution_count": null,
   "metadata": {},
   "outputs": [],
   "source": [
    "yay.load_table_to_db()"
   ]
  },
  {
   "cell_type": "code",
   "execution_count": null,
   "metadata": {},
   "outputs": [],
   "source": []
  },
  {
   "cell_type": "code",
   "execution_count": null,
   "metadata": {},
   "outputs": [],
   "source": []
  },
  {
   "cell_type": "code",
   "execution_count": null,
   "metadata": {},
   "outputs": [],
   "source": []
  },
  {
   "cell_type": "code",
   "execution_count": null,
   "metadata": {},
   "outputs": [],
   "source": [
    "from bs4 import BeautifulSoup\n",
    "import requests\n",
    "\n",
    "def current_tourney_data(url):\n",
    "    source = requests.get(url).text\n",
    "    espn = BeautifulSoup(source, 'lxml')\n",
    "    tournament_info = espn.find('div', class_='Leaderboard__Header')\n",
    "    tourney_data = {}\n",
    "    course_data = tournament_info.find('div', class_= 'Leaderboard__Course__Location__Detail n8 clr-gray-04').text\n",
    "    tourney_data['tourney_name'] = tournament_info.find('h1', class_='headline__h1 Leaderboard__Event__Title').text\n",
    "    tourney_data['tourney_dates'] = tournament_info.find('span', class_='Leaderboard__Event__Date n7').text\n",
    "    tourney_data['course_name'] = course_name = tournament_info.find('div', class_= 'Leaderboard__Course__Location n8 clr-gray-04').text\n",
    "    tourney_data['course_par'] = course_data[3:5]\n",
    "    tourney_data['course_yardage'] = course_data[-4:]\n",
    "    tournament_winner_data = tournament_info.find('div', class_= 'n7 clr-gray-04')\n",
    "    winner = []\n",
    "    for node in tournament_winner_data.find_all('span', class_= 'clr-gray-05 mr2 label'):\n",
    "        winner.append(node.next_sibling)\n",
    "    tourney_data['tourney_purse'] = winner[0]\n",
    "    tourney_data['tourney_defending_champ'] = winner[1]\n",
    "    return tourney_data\n",
    "\n",
    "df = current_tourney_data('http://www.espn.com/golf/leaderboard/_/tournamentId/401025263')"
   ]
  },
  {
   "cell_type": "code",
   "execution_count": null,
   "metadata": {},
   "outputs": [],
   "source": [
    "df"
   ]
  },
  {
   "cell_type": "code",
   "execution_count": null,
   "metadata": {},
   "outputs": [],
   "source": []
  },
  {
   "cell_type": "code",
   "execution_count": null,
   "metadata": {},
   "outputs": [],
   "source": []
  },
  {
   "cell_type": "code",
   "execution_count": null,
   "metadata": {},
   "outputs": [],
   "source": []
  },
  {
   "cell_type": "code",
   "execution_count": null,
   "metadata": {},
   "outputs": [],
   "source": []
  },
  {
   "cell_type": "code",
   "execution_count": null,
   "metadata": {},
   "outputs": [],
   "source": []
  },
  {
   "cell_type": "code",
   "execution_count": null,
   "metadata": {},
   "outputs": [],
   "source": [
    "yay = dg.data_things.PullLeaderboard()"
   ]
  },
  {
   "cell_type": "code",
   "execution_count": null,
   "metadata": {},
   "outputs": [],
   "source": [
    "yay.run()"
   ]
  },
  {
   "cell_type": "code",
   "execution_count": null,
   "metadata": {},
   "outputs": [],
   "source": [
    "yay.calculate_cut_line()"
   ]
  },
  {
   "cell_type": "code",
   "execution_count": null,
   "metadata": {},
   "outputs": [],
   "source": []
  },
  {
   "cell_type": "code",
   "execution_count": null,
   "metadata": {},
   "outputs": [],
   "source": [
    "yay.determine_current_round()"
   ]
  },
  {
   "cell_type": "code",
   "execution_count": null,
   "metadata": {},
   "outputs": [],
   "source": []
  },
  {
   "cell_type": "code",
   "execution_count": null,
   "metadata": {},
   "outputs": [],
   "source": []
  },
  {
   "cell_type": "code",
   "execution_count": null,
   "metadata": {},
   "outputs": [],
   "source": []
  },
  {
   "cell_type": "code",
   "execution_count": null,
   "metadata": {},
   "outputs": [],
   "source": [
    "yay.run()"
   ]
  },
  {
   "cell_type": "code",
   "execution_count": null,
   "metadata": {},
   "outputs": [],
   "source": [
    "big = dg.data_things.PullLeaderboard(user_id=5)"
   ]
  },
  {
   "cell_type": "code",
   "execution_count": null,
   "metadata": {},
   "outputs": [],
   "source": [
    "big.run()"
   ]
  },
  {
   "cell_type": "code",
   "execution_count": null,
   "metadata": {},
   "outputs": [],
   "source": [
    "big.user_df"
   ]
  },
  {
   "cell_type": "code",
   "execution_count": null,
   "metadata": {},
   "outputs": [],
   "source": []
  },
  {
   "cell_type": "code",
   "execution_count": null,
   "metadata": {},
   "outputs": [],
   "source": []
  },
  {
   "cell_type": "code",
   "execution_count": null,
   "metadata": {},
   "outputs": [],
   "source": [
    "import oyaml\n",
    "import pandas as pd\n",
    "import logging\n",
    "import psycopg2\n",
    "\n",
    "from sqlalchemy import create_engine\n",
    "\n",
    "from donkey_golf import config\n",
    "\n",
    "# create logger\n",
    "logger = logging.getLogger(__name__)\n",
    "logger.setLevel(logging.DEBUG)\n",
    "\n",
    "# create console handler and set level to debug\n",
    "ch = logging.StreamHandler()\n",
    "ch.setLevel(logging.DEBUG)\n",
    "\n",
    "# create formatter\n",
    "formatter = logging.Formatter('%(asctime)s - %(name)s - %(levelname)s - %(message)s')\n",
    "\n",
    "# add formatter to ch\n",
    "ch.setFormatter(formatter)\n",
    "\n",
    "# add ch to logger\n",
    "logger.addHandler(ch)\n",
    "\n",
    "class BaseClass():\n",
    "\n",
    "    def __init__(self, **kwargs):\n",
    "        logger.debug(\"ABOUT TO SET yaml_sql_dict\")\n",
    "        self.conf = config.DGConfig()\n",
    "        self.yaml_sql_dict = oyaml.load(open(self.conf.yaml_sql_loc), Loader=oyaml.FullLoader)\n",
    "        self.tourney_id = self.determine_current_tourney_id()\n",
    "\n",
    "    def run_sql(self, sql):\n",
    "        '''\n",
    "        Takes a SQL and connects to database to execute passed SQL\n",
    "        '''\n",
    "        #engine = create_engine(self.conf.db_url)\n",
    "        with psycopg2.connect(self.conf.db_url) as conn:\n",
    "        #with engine.connect() as conn:\n",
    "            df = pd.read_sql(sql, conn)\n",
    "\n",
    "        conn.close()\n",
    "\n",
    "        return df\n",
    "\n",
    "    def load_table_to_db(self, df, tablename):\n",
    "        '''\n",
    "        Takes a df and tablename and loads it to our database\n",
    "        '''\n",
    "        engine = create_engine(self.conf.db_url)\n",
    "\n",
    "        with engine.connect() as conn:\n",
    "            df.to_sql(tablename, conn, if_exists='replace', index=False)\n",
    "\n",
    "    def determine_current_tourney_id(self):\n",
    "        '''\n",
    "        Pull each users aggregate score for the current tourney\n",
    "        '''\n",
    "        sql = self.yaml_sql_dict.get('determine_current_tourney_id')\n",
    "        df = self.run_sql(sql)\n",
    "\n",
    "        return df['value'][0].strip()\n"
   ]
  },
  {
   "cell_type": "code",
   "execution_count": null,
   "metadata": {},
   "outputs": [],
   "source": [
    "class LoadWorldRankings(BaseClass):\n",
    "    def __init__(self):\n",
    "        BaseClass.__init__(self)\n",
    "\n",
    "    def scrape_world_rankings_data(self):\n",
    "        logger.info(\"Scraping world rankings data\")\n",
    "        rankings = pd.read_html('http://www.owgr.com/ranking?pageNo=1&pageSize=All&country=All', header=0)[0]\n",
    "\n",
    "        keep_cols_rankings = ['This Week', 'Last week', 'End 2018', 'Name', 'Events Played (Actual)']\n",
    "        rankings = rankings[keep_cols_rankings]\n",
    "        \n",
    "        self.data = rankings.copy()\n",
    "        \n",
    "    def clean_data(self):\n",
    "        logger.info(\"Cleaning data\")\n",
    "        self.data.rename(columns= {\n",
    "                                'This Week': 'current_rank',\n",
    "                                'Last week':'lw_rank',\n",
    "                                'End 2018':'ly_rank',\n",
    "                                'Name':'player_raw',\n",
    "                                'Events Played (Actual)':'events_played'},\n",
    "                                inplace=True)\n",
    "        self.fix_player_names()\n",
    "        self.limit_to_top_players()\n",
    "    \n",
    "    def fix_player_names(self):\n",
    "        logger.info(\"Fixing some players names that dont align between systems\")\n",
    "\n",
    "        # Some of the players names are messed up\n",
    "        # read correct mappings from YAML file and apply them\n",
    "        yaml_dict = oyaml.load(open(self.conf.yaml_world_rankings_loc), Loader=oyaml.FullLoader)\n",
    "        player_map = yaml_dict.get('world_rankings')\n",
    "        \n",
    "        self.data['player_cleaned'] = self.data['player_raw'].map(player_map)\n",
    "        self.data['player'] = self.data['player_cleaned'].combine_first(self.data['player_raw'])\n",
    "\n",
    "    def limit_to_top_players(self):\n",
    "        logger.info(\"Trimming world rankings to only top 400\")\n",
    "        self.data = self.data.loc[self.data['current_rank'] <= 400]\n",
    "        \n",
    "    def run(self):\n",
    "        self.scrape_world_rankings_data()\n",
    "        self.clean_data()\n",
    "        self.load_table_to_db(self.data, 'pre_tourney')"
   ]
  },
  {
   "cell_type": "code",
   "execution_count": null,
   "metadata": {},
   "outputs": [],
   "source": [
    "draft = LoadWorldRankings()"
   ]
  },
  {
   "cell_type": "code",
   "execution_count": null,
   "metadata": {},
   "outputs": [],
   "source": [
    "draft.run()"
   ]
  },
  {
   "cell_type": "code",
   "execution_count": null,
   "metadata": {},
   "outputs": [],
   "source": [
    "df = draft.data"
   ]
  },
  {
   "cell_type": "code",
   "execution_count": null,
   "metadata": {},
   "outputs": [],
   "source": [
    "df.head(2)"
   ]
  },
  {
   "cell_type": "code",
   "execution_count": null,
   "metadata": {},
   "outputs": [],
   "source": [
    "df.shape"
   ]
  },
  {
   "cell_type": "code",
   "execution_count": null,
   "metadata": {},
   "outputs": [],
   "source": [
    "df.loc[df['current_rank'] < 400]"
   ]
  },
  {
   "cell_type": "code",
   "execution_count": null,
   "metadata": {},
   "outputs": [],
   "source": []
  },
  {
   "cell_type": "code",
   "execution_count": null,
   "metadata": {},
   "outputs": [],
   "source": []
  },
  {
   "cell_type": "code",
   "execution_count": null,
   "metadata": {},
   "outputs": [],
   "source": []
  },
  {
   "cell_type": "code",
   "execution_count": null,
   "metadata": {},
   "outputs": [],
   "source": [
    "draft.data"
   ]
  },
  {
   "cell_type": "code",
   "execution_count": null,
   "metadata": {},
   "outputs": [],
   "source": [
    "cmon = dg.data_things.PullLeaderboard(user_id=5)"
   ]
  },
  {
   "cell_type": "code",
   "execution_count": null,
   "metadata": {},
   "outputs": [],
   "source": [
    "cmon.pull_tourney_leaderboard()"
   ]
  },
  {
   "cell_type": "code",
   "execution_count": null,
   "metadata": {},
   "outputs": [],
   "source": [
    "cmon.data"
   ]
  },
  {
   "cell_type": "code",
   "execution_count": null,
   "metadata": {},
   "outputs": [],
   "source": []
  },
  {
   "cell_type": "code",
   "execution_count": null,
   "metadata": {},
   "outputs": [],
   "source": [
    "import oyaml\n",
    "import pandas as pd\n",
    "import logging\n",
    "import psycopg2\n",
    "\n",
    "from sqlalchemy import create_engine\n",
    "\n",
    "from donkey_golf import config\n",
    "\n",
    "\n",
    "# create logger\n",
    "logger = logging.getLogger(__name__)\n",
    "logger.setLevel(logging.DEBUG)\n",
    "\n",
    "# create console handler and set level to debug\n",
    "ch = logging.StreamHandler()\n",
    "ch.setLevel(logging.DEBUG)\n",
    "\n",
    "# create formatter\n",
    "formatter = logging.Formatter('%(asctime)s - %(name)s - %(levelname)s - %(message)s')\n",
    "\n",
    "# add formatter to ch\n",
    "ch.setFormatter(formatter)\n",
    "\n",
    "# add ch to logger\n",
    "logger.addHandler(ch)\n",
    "\n",
    "class BaseClass():\n",
    "\n",
    "    def __init__(self, **kwargs):\n",
    "        logger.debug(\"ABOUT TO SET yaml_sql_dict\")\n",
    "        self.conf = config.DGConfig()\n",
    "        self.yaml_sql_dict = oyaml.load(open(self.conf.yaml_sql_loc), Loader=oyaml.FullLoader)\n",
    "        self.tourney_id = self.determine_current_tourney_id()\n",
    "\n",
    "    def run_sql(self, sql):\n",
    "        '''\n",
    "        Takes a SQL and connects to database to execute passed SQL\n",
    "        '''\n",
    "        #engine = create_engine(self.conf.db_url)\n",
    "        with psycopg2.connect(self.conf.db_url) as conn:\n",
    "        #with engine.connect() as conn:\n",
    "            df = pd.read_sql(sql, conn)\n",
    "\n",
    "        conn.close()\n",
    "\n",
    "        return df\n",
    "\n",
    "    def load_table_to_db(self, df, tablename):\n",
    "        '''\n",
    "        Takes a df and tablename and loads it to our database\n",
    "        '''\n",
    "        engine = create_engine(self.conf.db_url)\n",
    "\n",
    "        with engine.connect() as conn:\n",
    "            df.to_sql(tablename, conn, if_exists='replace', index=False)\n",
    "\n",
    "    def determine_current_tourney_id(self):\n",
    "        '''\n",
    "        Pull each users aggregate score for the current tourney\n",
    "        '''\n",
    "        sql = self.yaml_sql_dict.get('determine_current_tourney_id')\n",
    "        df = self.run_sql(sql)\n",
    "\n",
    "        return df['value'][0].strip()"
   ]
  },
  {
   "cell_type": "code",
   "execution_count": null,
   "metadata": {},
   "outputs": [],
   "source": [
    "class GameScoreboard(BaseClass):\n",
    "    def __init__(self):\n",
    "        BaseClass.__init__(self)\n",
    "\n",
    "    def aggregate_user_scores(self):\n",
    "        '''\n",
    "        Pull each users aggregate score for the current tourney\n",
    "        '''\n",
    "        logger.info(\"Pulling aggregated team score for scoreboard\")\n",
    "        sql = self.yaml_sql_dict.get('aggregate_team_score')\n",
    "        df = self.run_sql(sql)\n",
    "\n",
    "        df.sort_values('donkey_score', inplace=True)\n",
    "\n",
    "        df['rank'] = df['donkey_score'].rank(ascending=True, method='min').astype(int)\n",
    "\n",
    "        self.data = df.copy()\n",
    "        \n",
    "    def determine_ties_in_scoreboard(self):\n",
    "        '''\n",
    "        Takes a scoreboard df and determines rank and handles tiesself.\n",
    "\n",
    "        It's nice to have T2 on the scoreboard instead of multiple \"2\"s\n",
    "        '''\n",
    "        logger.info(\"Determining where ties exist in the donkey scoreboard\")\n",
    "        df_ties = self.data.copy()\n",
    "\n",
    "        # Need to create a better rank that handles ties\n",
    "        df_ties['new_rank'] = df_ties['rank'].copy()\n",
    "\n",
    "        df_ties = df_ties.groupby(['rank'])['id'].count().reset_index()\n",
    "        df_ties.loc[df_ties['id'] > 1, 'new_rank'] = \"T\"\n",
    "\n",
    "        df_ties.loc[df_ties['new_rank'].notnull(), 'final_rank'] = 'T' + df_ties['rank'].astype(str)\n",
    "        df_ties.loc[df_ties['new_rank'].isnull(), 'final_rank'] = df_ties['rank'].astype(str)\n",
    "\n",
    "        self.df_ties = df_ties[['rank','final_rank']]        \n",
    "    \n",
    "    def add_ties_to_data(self):\n",
    "        logger.info(\"Adding ties to scoreboard data\")\n",
    "        self.data = self.data.merge(self.df_ties,\n",
    "                                   how='left',\n",
    "                                   on='rank')\n",
    "        \n",
    "    def run(self):\n",
    "        self.aggregate_user_scores()\n",
    "        self.determine_ties_in_scoreboard()\n",
    "        self.add_ties_to_data()"
   ]
  },
  {
   "cell_type": "code",
   "execution_count": null,
   "metadata": {},
   "outputs": [],
   "source": [
    "gs = GameScoreboard()"
   ]
  },
  {
   "cell_type": "code",
   "execution_count": null,
   "metadata": {},
   "outputs": [],
   "source": [
    "gs.run()"
   ]
  },
  {
   "cell_type": "code",
   "execution_count": null,
   "metadata": {},
   "outputs": [],
   "source": [
    "gs.data"
   ]
  },
  {
   "cell_type": "code",
   "execution_count": null,
   "metadata": {},
   "outputs": [],
   "source": [
    "gs.aggregate_user_scores()"
   ]
  },
  {
   "cell_type": "code",
   "execution_count": null,
   "metadata": {},
   "outputs": [],
   "source": [
    "gs.data"
   ]
  },
  {
   "cell_type": "code",
   "execution_count": null,
   "metadata": {},
   "outputs": [],
   "source": [
    "gs.determine_ties_in_scoreboard()"
   ]
  },
  {
   "cell_type": "code",
   "execution_count": null,
   "metadata": {},
   "outputs": [],
   "source": [
    "gs.add_ties_to_data()"
   ]
  },
  {
   "cell_type": "code",
   "execution_count": null,
   "metadata": {},
   "outputs": [],
   "source": [
    "from donkey_golf import data_utils as du"
   ]
  },
  {
   "cell_type": "code",
   "execution_count": null,
   "metadata": {},
   "outputs": [],
   "source": [
    "du.pull_scoreboard()"
   ]
  },
  {
   "cell_type": "code",
   "execution_count": null,
   "metadata": {},
   "outputs": [],
   "source": []
  },
  {
   "cell_type": "code",
   "execution_count": null,
   "metadata": {},
   "outputs": [],
   "source": []
  },
  {
   "cell_type": "code",
   "execution_count": null,
   "metadata": {},
   "outputs": [],
   "source": [
    "class Leaderboard(StockPull):\n",
    "    \n",
    "    def __init__(self):\n",
    "        StockPull.__init__(self)\n",
    "        self.determine_current_url()\n",
    "    \n",
    "    def determine_current_url(self):\n",
    "        '''\n",
    "        Returns the specific URL we want to scrape from\n",
    "        '''        \n",
    "        self.url_lb = 'http://www.espn.com/golf/leaderboard/_/tournamentId/{}'.format(self.tourney_id)\n",
    "    \n",
    "    def scrape_espn_leaderboard(self, url):\n",
    "        '''\n",
    "        Scrape the main leaderboard table from the web\n",
    "        '''\n",
    "        data_dict = {}\n",
    "        # Creating leaderboard & rankings dataframes\n",
    "        leaderboard = pd.read_html(url,header=3)[0]\n",
    "        leaderboard.columns = leaderboard.columns.str.lower().str.replace(' ','_')\n",
    "\n",
    "        leaderboard['tourney_id'] = self.tourney_id\n",
    "        \n",
    "        self.data = leaderboard.copy()\n",
    "    \n",
    "    def determine_tourney_status(self):\n",
    "        '''\n",
    "        Look at the leaderboard data and determine current tourney\n",
    "        status from that data\n",
    "        '''\n",
    "        if 'tee_time' in self.data.columns:\n",
    "            self.tourney_status = 'pre_tourney'\n",
    "        elif 'fedex_pts' in self.data.columns or 'earnings' in self.data.columns:\n",
    "            self.tourney_status = 'finished'\n",
    "            \n",
    "        elif 'r4' in self.data.columns or 'tot' in self.data.columns:\n",
    "            self.tourney_status = 'in_progress'\n",
    "        else:\n",
    "            self.tourney_status = 'cant_determine'\n",
    "            \n",
    "        logger.info(f\"Tourney current status: {self.tourney_status}\")\n",
    "        \n",
    "    def determine_current_round(self):\n",
    "        '''\n",
    "        Figure out which round is in progress. Will be helpful for cut\n",
    "        calculations among other things\n",
    "        '''\n",
    "        logger.info(\"Determining the current round\")\n",
    "        df = self.data.copy()\n",
    "        \n",
    "        df = df.loc[df['missed_cut'] == 0]\n",
    "        \n",
    "        current_round = None\n",
    "        \n",
    "        if 'fedex_pts' in df.columns:\n",
    "            current_round = 'finished'\n",
    "        else:\n",
    "            rounds = ['r1','r2','r3','r4']\n",
    "            for round_num in rounds:\n",
    "                if df.loc[df[round_num] == '--'].shape[0] > 1:\n",
    "                    current_round = round_num                    \n",
    "        logger.info(f\"Determined the current round to be {current_round}\")\n",
    "\n",
    "        return current_round\n",
    "        \n",
    "    def add_donkey_game_score(self):\n",
    "        '''\n",
    "        Will add a column called donkey score that should\n",
    "        convert the to_par string to an integer\n",
    "        '''\n",
    "        logger.info(\"Calculating the donkey_score column\")\n",
    "        self.data.loc[self.data['to_par'] == 'E', 'donkey_score'] = 0\n",
    "        self.data.loc[self.data['to_par'].str[0:1] == '+', 'donkey_score'] = self.data['to_par'].str[1:]\n",
    "        self.data.loc[self.data['to_par'].str[0:1] == '-', 'donkey_score'] = self.data['to_par']\n",
    "\n",
    "        # IF they don't have a score of E or one that starts with a '+' or '-'\n",
    "        # let's assume they didn't make it to the weekend\n",
    "        self.add_score_for_cut_players()\n",
    "    \n",
    "    def add_score_for_cut_players(self):\n",
    "        '''\n",
    "        Determines the score for cut players\n",
    "        and adds a missed_cut field\n",
    "        '''\n",
    "        logger.info(\"Determining score for cut players and adding missed_cut indicator\")\n",
    "        cut_score = self.data.loc[self.data['donkey_score'].notnull(), 'donkey_score'].astype(int).max()\n",
    "        cut_score = cut_score + 1\n",
    "\n",
    "        self.data['missed_cut'] = 0\n",
    "        self.data.loc[self.data['donkey_score'].isnull(), 'missed_cut'] = 1\n",
    "\n",
    "        self.data.loc[self.data['donkey_score'].isnull(), 'donkey_score'] = cut_score\n",
    "        \n",
    "    def add_player_left_indicator(self):\n",
    "        '''\n",
    "        This should add a column 'player_left'\n",
    "        indicating if a player is still in progress\n",
    "        '''\n",
    "        logger.info(\"Determine if the player is active and if he has been cut or not\")\n",
    "        self.data['player_left'] = 1\n",
    "\n",
    "        self.data.loc[self.data['missed_cut'] == 1, 'player_left'] = 0\n",
    "\n",
    "        self.data.loc[(self.data['missed_cut'] == 0) &\n",
    "              (self.data['r4'] != '--' ),\n",
    "              'player_left'] = 0\n",
    "\n",
    "    def add_golfer_team_count(self):\n",
    "        '''\n",
    "        This should add a column 'team_count'\n",
    "        indicating the amount of teams a player is on\n",
    "        '''\n",
    "        self.golfer_team_count()\n",
    "        \n",
    "        logger.debug(\"Adding golfer team count\")\n",
    "        self.data = self.data.merge(self.golfer_count_by_team,\n",
    "            how='left',\n",
    "            on='player')\n",
    "\n",
    "        self.data['team_count'] = self.data['team_count'].fillna(0.0).astype(int)\n",
    "\n",
    "    def golfer_team_count(self):\n",
    "        '''\n",
    "        Pull each users aggregate score for the current tourney\n",
    "        '''\n",
    "        sql = yaml_sql_dict.get('golfer_team_count')\n",
    "        df = self.run_sql(sql)\n",
    "\n",
    "        self.golfer_count_by_team = df\n",
    "    \n",
    "    def prepare_active_data(self):\n",
    "        '''\n",
    "        If we know the data is from after the tourney has started,\n",
    "        there will be manipulations we need to do\n",
    "        '''\n",
    "        logger.info(\"Running prepare_in_progress_data\")\n",
    "        self.clean_active_cols()\n",
    "        self.add_donkey_game_score()\n",
    "        self.add_player_left_indicator()\n",
    "        self.add_golfer_team_count()\n",
    "\n",
    "    def clean_active_cols(self):\n",
    "        '''\n",
    "        Clean function for the active tourney data\n",
    "        '''\n",
    "        self.data = self.data.drop('unnamed:_1', axis=1)\n",
    "    \n",
    "    def prepare_pre_tourney_data(self):\n",
    "        '''\n",
    "        This will be used if we need to make any updated to the pre_tourney data\n",
    "        '''\n",
    "        pass\n",
    "    \n",
    "    def clean_data(self):  \n",
    "        '''\n",
    "        Depending on the status of the tourney (and what .data will look like)\n",
    "        we want to prepare/cleanse the data\n",
    "        '''\n",
    "        logger.info(\"Running clean_data function\")\n",
    "        if self.tourney_status in ['in_progress','finished']:\n",
    "            self.prepare_active_data()\n",
    "        elif self.tourney_status == 'pre_tourney':\n",
    "            self.prepare_pre_tourney_data()\n",
    "            \n",
    "    def load_leaderboard_to_db(self):\n",
    "        '''\n",
    "        Take self.data and load it into the appropriate table based\n",
    "        on the tourney_status\n",
    "        '''\n",
    "        if self.tourney_status == 'pre_tourney':\n",
    "            logger.info(\"Loading data into the pre_tourney table\")\n",
    "            self.load_table_to_db(self.data, 'pre_tourney')\n",
    "        else:\n",
    "            logger.info(\"Loading data into the leaderboard table\")            \n",
    "            self.load_table_to_db(self.data, 'leaderboard')\n",
    "        \n",
    "    def run(self):\n",
    "        # Get the leaderboard data\n",
    "        self.scrape_espn_leaderboard(self.url_lb)\n",
    "        \n",
    "        # Determine the tourney status (set an attribute)\n",
    "        self.determine_tourney_status()\n",
    "        \n",
    "        # Clean data - smart enough to determine pre_tourney or in-progress data\n",
    "        self.clean_data()\n",
    "        \n",
    "        # Don't need this right now\n",
    "        #self.load_leaderboard_to_db()"
   ]
  },
  {
   "cell_type": "code",
   "execution_count": null,
   "metadata": {},
   "outputs": [],
   "source": [
    "fox = Leaderboard()"
   ]
  },
  {
   "cell_type": "code",
   "execution_count": null,
   "metadata": {},
   "outputs": [],
   "source": [
    "fox.run()"
   ]
  },
  {
   "cell_type": "code",
   "execution_count": null,
   "metadata": {},
   "outputs": [],
   "source": [
    "fox.determine_current_round()"
   ]
  },
  {
   "cell_type": "code",
   "execution_count": null,
   "metadata": {},
   "outputs": [],
   "source": []
  },
  {
   "cell_type": "code",
   "execution_count": null,
   "metadata": {},
   "outputs": [],
   "source": [
    "fox.load_leaderboard_to_db()"
   ]
  },
  {
   "cell_type": "code",
   "execution_count": null,
   "metadata": {},
   "outputs": [],
   "source": []
  },
  {
   "cell_type": "code",
   "execution_count": null,
   "metadata": {},
   "outputs": [],
   "source": []
  },
  {
   "cell_type": "code",
   "execution_count": null,
   "metadata": {},
   "outputs": [],
   "source": [
    "fox.run()"
   ]
  },
  {
   "cell_type": "code",
   "execution_count": null,
   "metadata": {
    "scrolled": true
   },
   "outputs": [],
   "source": [
    "fox.data"
   ]
  },
  {
   "cell_type": "code",
   "execution_count": null,
   "metadata": {},
   "outputs": [],
   "source": []
  },
  {
   "cell_type": "code",
   "execution_count": null,
   "metadata": {},
   "outputs": [],
   "source": [
    "fox.load_leaderboard_to_db()"
   ]
  },
  {
   "cell_type": "code",
   "execution_count": null,
   "metadata": {},
   "outputs": [],
   "source": []
  },
  {
   "cell_type": "code",
   "execution_count": null,
   "metadata": {},
   "outputs": [],
   "source": []
  },
  {
   "cell_type": "code",
   "execution_count": null,
   "metadata": {},
   "outputs": [],
   "source": [
    "fox.data"
   ]
  },
  {
   "cell_type": "code",
   "execution_count": null,
   "metadata": {},
   "outputs": [],
   "source": [
    "fox.determine_current_round()"
   ]
  },
  {
   "cell_type": "code",
   "execution_count": null,
   "metadata": {},
   "outputs": [],
   "source": []
  },
  {
   "cell_type": "code",
   "execution_count": null,
   "metadata": {},
   "outputs": [],
   "source": [
    "fox.data"
   ]
  },
  {
   "cell_type": "code",
   "execution_count": null,
   "metadata": {},
   "outputs": [],
   "source": [
    "class PullLeaderboard(StockPull):\n",
    "    \n",
    "    def __init__(self, **kwargs):\n",
    "        StockPull.__init__(self)\n",
    "        self.kwargs = kwargs\n",
    "        if kwargs.get('user_id'):\n",
    "            self.user_id = kwargs.get('user_id')\n",
    "        else:\n",
    "            self.user_id = None\n",
    "            \n",
    "    def pull_tourney_leaderboard(self):\n",
    "        '''\n",
    "        Pulls leaderboard data for the tourney\n",
    "        '''\n",
    "\n",
    "        sql = yaml_sql_dict.get('pull_tourney_leaderboard')\n",
    "        self.data = self.run_sql(sql)\n",
    "        self.determine_tourney_status()\n",
    "        \n",
    "        if self.user_id and self.tourney_status == 'in_progress':\n",
    "            self.pull_users_team()\n",
    "            \n",
    "            # If the user_df comes back with records, add on_team field\n",
    "            if not self.user_df.empty:\n",
    "                self.data = self.data.merge(user_df[['player','id']],\n",
    "                    how='left',\n",
    "                    on=['player'])\n",
    "\n",
    "                self.data['on_team'] = 'No'\n",
    "                self.data.loc[self.data['id'].notnull(), 'on_team'] = 'Yes'\n",
    "\n",
    "                self.data = self.data.drop('id', axis=1)\n",
    "\n",
    "        self.data['team_count'] = self.data['team_count'].astype(int)\n",
    "    \n",
    "    def determine_tourney_status(self):\n",
    "        '''\n",
    "        Look at the leaderboard data and determine current tourney\n",
    "        status from that data\n",
    "        '''\n",
    "        if 'tee_time' in self.data.columns:\n",
    "            self.tourney_status = 'pre_tourney'\n",
    "        elif 'fedex_pts' in self.data.columns or 'earnings' in self.data.columns:\n",
    "            self.tourney_status = 'finished'\n",
    "            \n",
    "        elif 'r4' in self.data.columns or 'tot' in self.data.columns:\n",
    "            self.tourney_status = 'in_progress'\n",
    "        else:\n",
    "            self.tourney_status = 'cant_determine'\n",
    "            \n",
    "        logger.info(f\"Tourney current status: {self.tourney_status}\")\n",
    "        \n",
    "    def pull_users_team(self):\n",
    "        '''\n",
    "        Pulls leaderboard data for everyone on a given users team\n",
    "        '''\n",
    "        \n",
    "        if self.tourney_status == 'pre_tourney':\n",
    "            logger.info(\"Pulling users pre_tourney team\")\n",
    "            sql = yaml_sql_dict.get('users_team_pre_tourney')\n",
    "            sql = sql.format(self.user_id, conf.tourney_id)\n",
    "            self.user_df = run_sql(sql)\n",
    "        else:\n",
    "            logger.info(\"Pulling users active tourney team\")            \n",
    "            sql = yaml_sql_dict.get('users_team')\n",
    "            # Sub in users ID into the SQL\n",
    "            sql = sql.format(self.user_id, self.tourney_id)\n",
    "            self.user_df = self.run_sql(sql)"
   ]
  },
  {
   "cell_type": "code",
   "execution_count": null,
   "metadata": {},
   "outputs": [],
   "source": [
    "yay = PullLeaderboard(user_id=2)"
   ]
  },
  {
   "cell_type": "code",
   "execution_count": null,
   "metadata": {},
   "outputs": [],
   "source": [
    "yay.pull_tourney_leaderboard()"
   ]
  },
  {
   "cell_type": "code",
   "execution_count": null,
   "metadata": {},
   "outputs": [],
   "source": [
    "yay.user_df"
   ]
  },
  {
   "cell_type": "code",
   "execution_count": null,
   "metadata": {},
   "outputs": [],
   "source": []
  },
  {
   "cell_type": "code",
   "execution_count": null,
   "metadata": {},
   "outputs": [],
   "source": [
    "yay.data"
   ]
  },
  {
   "cell_type": "code",
   "execution_count": null,
   "metadata": {},
   "outputs": [],
   "source": []
  },
  {
   "cell_type": "code",
   "execution_count": null,
   "metadata": {},
   "outputs": [],
   "source": []
  },
  {
   "cell_type": "code",
   "execution_count": null,
   "metadata": {},
   "outputs": [],
   "source": []
  },
  {
   "cell_type": "code",
   "execution_count": null,
   "metadata": {},
   "outputs": [],
   "source": []
  },
  {
   "cell_type": "code",
   "execution_count": null,
   "metadata": {},
   "outputs": [],
   "source": [
    "yay.pull_tourney_leaderboard()"
   ]
  },
  {
   "cell_type": "code",
   "execution_count": null,
   "metadata": {},
   "outputs": [],
   "source": []
  },
  {
   "cell_type": "code",
   "execution_count": null,
   "metadata": {},
   "outputs": [],
   "source": [
    "yay.tourney_id"
   ]
  },
  {
   "cell_type": "code",
   "execution_count": null,
   "metadata": {},
   "outputs": [],
   "source": [
    "yay.kwargs"
   ]
  },
  {
   "cell_type": "code",
   "execution_count": null,
   "metadata": {},
   "outputs": [],
   "source": [
    "yay.user_id"
   ]
  },
  {
   "cell_type": "code",
   "execution_count": null,
   "metadata": {},
   "outputs": [],
   "source": [
    "yay.pull_users_team()"
   ]
  },
  {
   "cell_type": "code",
   "execution_count": null,
   "metadata": {},
   "outputs": [],
   "source": [
    "yay.pull_tourney_leaderboard()"
   ]
  },
  {
   "cell_type": "code",
   "execution_count": null,
   "metadata": {},
   "outputs": [],
   "source": [
    "yay.data"
   ]
  },
  {
   "cell_type": "code",
   "execution_count": null,
   "metadata": {},
   "outputs": [],
   "source": []
  },
  {
   "cell_type": "code",
   "execution_count": null,
   "metadata": {},
   "outputs": [],
   "source": []
  },
  {
   "cell_type": "code",
   "execution_count": null,
   "metadata": {},
   "outputs": [],
   "source": [
    "yay.pull_tourney_leaderboard()"
   ]
  },
  {
   "cell_type": "code",
   "execution_count": null,
   "metadata": {},
   "outputs": [],
   "source": [
    "yay.data"
   ]
  },
  {
   "cell_type": "code",
   "execution_count": null,
   "metadata": {},
   "outputs": [],
   "source": []
  },
  {
   "cell_type": "code",
   "execution_count": null,
   "metadata": {},
   "outputs": [],
   "source": []
  },
  {
   "cell_type": "code",
   "execution_count": null,
   "metadata": {},
   "outputs": [],
   "source": []
  },
  {
   "cell_type": "code",
   "execution_count": null,
   "metadata": {},
   "outputs": [],
   "source": []
  },
  {
   "cell_type": "code",
   "execution_count": null,
   "metadata": {},
   "outputs": [],
   "source": [
    "fox.tourney_status in ['in_progress','finished']"
   ]
  },
  {
   "cell_type": "code",
   "execution_count": null,
   "metadata": {},
   "outputs": [],
   "source": [
    "fox.data"
   ]
  },
  {
   "cell_type": "code",
   "execution_count": null,
   "metadata": {},
   "outputs": [],
   "source": []
  },
  {
   "cell_type": "code",
   "execution_count": null,
   "metadata": {},
   "outputs": [],
   "source": []
  },
  {
   "cell_type": "code",
   "execution_count": null,
   "metadata": {},
   "outputs": [],
   "source": [
    "df = fox.data"
   ]
  },
  {
   "cell_type": "code",
   "execution_count": null,
   "metadata": {},
   "outputs": [],
   "source": [
    "df"
   ]
  },
  {
   "cell_type": "code",
   "execution_count": null,
   "metadata": {},
   "outputs": [],
   "source": [
    "fox.add_donkey_game_score()"
   ]
  },
  {
   "cell_type": "code",
   "execution_count": null,
   "metadata": {},
   "outputs": [],
   "source": [
    "fox.data"
   ]
  },
  {
   "cell_type": "code",
   "execution_count": null,
   "metadata": {},
   "outputs": [],
   "source": []
  },
  {
   "cell_type": "code",
   "execution_count": null,
   "metadata": {},
   "outputs": [],
   "source": []
  },
  {
   "cell_type": "code",
   "execution_count": null,
   "metadata": {},
   "outputs": [],
   "source": []
  },
  {
   "cell_type": "code",
   "execution_count": null,
   "metadata": {},
   "outputs": [],
   "source": [
    "df = fox.data"
   ]
  },
  {
   "cell_type": "code",
   "execution_count": null,
   "metadata": {},
   "outputs": [],
   "source": []
  },
  {
   "cell_type": "code",
   "execution_count": null,
   "metadata": {},
   "outputs": [],
   "source": []
  },
  {
   "cell_type": "code",
   "execution_count": null,
   "metadata": {},
   "outputs": [],
   "source": [
    "'earnings' in fox.data.columns"
   ]
  },
  {
   "cell_type": "code",
   "execution_count": null,
   "metadata": {},
   "outputs": [],
   "source": [
    "'fedex_pts' in fox.data.columns or 'earnings' in fox.data.columns"
   ]
  },
  {
   "cell_type": "code",
   "execution_count": null,
   "metadata": {},
   "outputs": [],
   "source": []
  },
  {
   "cell_type": "code",
   "execution_count": null,
   "metadata": {},
   "outputs": [],
   "source": []
  },
  {
   "cell_type": "code",
   "execution_count": null,
   "metadata": {},
   "outputs": [],
   "source": [
    "fox.tourney_id"
   ]
  },
  {
   "cell_type": "code",
   "execution_count": null,
   "metadata": {},
   "outputs": [],
   "source": [
    "fox.url_lb"
   ]
  },
  {
   "cell_type": "code",
   "execution_count": null,
   "metadata": {},
   "outputs": [],
   "source": [
    "fox.scrape_espn_leaderboard(fox.url_lb)"
   ]
  },
  {
   "cell_type": "code",
   "execution_count": null,
   "metadata": {},
   "outputs": [],
   "source": []
  },
  {
   "cell_type": "code",
   "execution_count": null,
   "metadata": {},
   "outputs": [],
   "source": []
  },
  {
   "cell_type": "code",
   "execution_count": null,
   "metadata": {},
   "outputs": [],
   "source": []
  },
  {
   "cell_type": "code",
   "execution_count": null,
   "metadata": {},
   "outputs": [],
   "source": [
    "cd donkey_golf/"
   ]
  },
  {
   "cell_type": "code",
   "execution_count": null,
   "metadata": {},
   "outputs": [],
   "source": [
    "ls"
   ]
  },
  {
   "cell_type": "code",
   "execution_count": null,
   "metadata": {},
   "outputs": [],
   "source": [
    "cd all_things_data/"
   ]
  },
  {
   "cell_type": "code",
   "execution_count": null,
   "metadata": {},
   "outputs": [],
   "source": [
    "import sql_classes"
   ]
  },
  {
   "cell_type": "code",
   "execution_count": null,
   "metadata": {},
   "outputs": [],
   "source": []
  }
 ],
 "metadata": {
  "kernelspec": {
   "display_name": "venv_dgolf",
   "language": "python",
   "name": "venv_dgolf"
  },
  "language_info": {
   "codemirror_mode": {
    "name": "ipython",
    "version": 3
   },
   "file_extension": ".py",
   "mimetype": "text/x-python",
   "name": "python",
   "nbconvert_exporter": "python",
   "pygments_lexer": "ipython3",
   "version": "3.7.3"
  }
 },
 "nbformat": 4,
 "nbformat_minor": 2
}
