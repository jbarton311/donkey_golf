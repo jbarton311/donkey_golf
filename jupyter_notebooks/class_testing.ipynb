{
 "cells": [
  {
   "cell_type": "code",
   "execution_count": 1,
   "metadata": {},
   "outputs": [
    {
     "name": "stdout",
     "output_type": "stream",
     "text": [
      "/Users/amlvt225/Code/GitHub/donkey_golf\n"
     ]
    }
   ],
   "source": [
    "cd .."
   ]
  },
  {
   "cell_type": "code",
   "execution_count": 2,
   "metadata": {
    "scrolled": true
   },
   "outputs": [
    {
     "name": "stderr",
     "output_type": "stream",
     "text": [
      "/Users/amlvt225/Code/VirtualEnvs/venv_dgolf/lib/python3.7/site-packages/flask_sqlalchemy/__init__.py:794: FSADeprecationWarning: SQLALCHEMY_TRACK_MODIFICATIONS adds significant overhead and will be disabled by default in the future.  Set it to True or False to suppress this warning.\n",
      "  'SQLALCHEMY_TRACK_MODIFICATIONS adds significant overhead and '\n"
     ]
    }
   ],
   "source": [
    "from inspect import getsource\n",
    "\n",
    "import donkey_golf as dg\n",
    "\n",
    "import donkey_golf.data_things as DT\n",
    "\n",
    "import oyaml\n",
    "import pandas as pd\n",
    "import logging\n",
    "import psycopg2\n",
    "\n",
    "from sqlalchemy import create_engine\n",
    "\n",
    "from donkey_golf import config\n",
    "\n",
    "# create logger\n",
    "logger = logging.getLogger(__name__)\n",
    "logger.setLevel(logging.DEBUG)\n",
    "\n",
    "# create console handler and set level to debug\n",
    "ch = logging.StreamHandler()\n",
    "ch.setLevel(logging.DEBUG)\n",
    "\n",
    "# create formatter\n",
    "formatter = logging.Formatter('%(asctime)s - %(name)s - %(levelname)s - %(message)s')\n",
    "\n",
    "# add formatter to ch\n",
    "ch.setFormatter(formatter)\n",
    "\n",
    "# add ch to logger\n",
    "logger.addHandler(ch)"
   ]
  },
  {
   "cell_type": "code",
   "execution_count": null,
   "metadata": {},
   "outputs": [],
   "source": [
    "gs = DT.GameScoreboard()"
   ]
  },
  {
   "cell_type": "code",
   "execution_count": null,
   "metadata": {},
   "outputs": [],
   "source": [
    "gs.run()"
   ]
  },
  {
   "cell_type": "code",
   "execution_count": null,
   "metadata": {},
   "outputs": [],
   "source": [
    "gs.data"
   ]
  },
  {
   "cell_type": "code",
   "execution_count": null,
   "metadata": {},
   "outputs": [],
   "source": []
  },
  {
   "cell_type": "code",
   "execution_count": 9,
   "metadata": {},
   "outputs": [
    {
     "name": "stderr",
     "output_type": "stream",
     "text": [
      "2019-05-16 08:34:27,985 - donkey_golf.data_things.base_class - DEBUG - ABOUT TO SET yaml_sql_dict\n",
      "2019-05-16 08:34:27,998 - donkey_golf.data_things.base_class - INFO - Executing run_sql\n",
      "2019-05-16 08:34:28,294 - donkey_golf.data_things.base_class - INFO - Current tourney ID: 401056552\n",
      "2019-05-16 08:34:28,295 - donkey_golf.data_things.base_class - INFO - Executing run_sql\n"
     ]
    }
   ],
   "source": [
    "lb = DT.PullLeaderboard(user_id=6)"
   ]
  },
  {
   "cell_type": "code",
   "execution_count": 10,
   "metadata": {},
   "outputs": [
    {
     "data": {
      "text/plain": [
       "'in_progress'"
      ]
     },
     "execution_count": 10,
     "metadata": {},
     "output_type": "execute_result"
    }
   ],
   "source": [
    "lb.tourney_status"
   ]
  },
  {
   "cell_type": "code",
   "execution_count": 11,
   "metadata": {},
   "outputs": [
    {
     "name": "stderr",
     "output_type": "stream",
     "text": [
      "2019-05-16 08:34:29,394 - donkey_golf.data_things.base_class - INFO - Executing run_sql\n",
      "2019-05-16 08:34:29,751 - donkey_golf.data_things.tourney_leaderboard - INFO - Pulling users active tourney team\n",
      "2019-05-16 08:34:29,753 - donkey_golf.data_things.base_class - INFO - Executing run_sql\n",
      "2019-05-16 08:34:30,061 - donkey_golf.data_things.tourney_leaderboard - INFO - Determing data refresh times\n"
     ]
    }
   ],
   "source": [
    "lb.run()"
   ]
  },
  {
   "cell_type": "code",
   "execution_count": 12,
   "metadata": {},
   "outputs": [
    {
     "data": {
      "text/html": [
       "<div>\n",
       "<style scoped>\n",
       "    .dataframe tbody tr th:only-of-type {\n",
       "        vertical-align: middle;\n",
       "    }\n",
       "\n",
       "    .dataframe tbody tr th {\n",
       "        vertical-align: top;\n",
       "    }\n",
       "\n",
       "    .dataframe thead th {\n",
       "        text-align: right;\n",
       "    }\n",
       "</style>\n",
       "<table border=\"1\" class=\"dataframe\">\n",
       "  <thead>\n",
       "    <tr style=\"text-align: right;\">\n",
       "      <th></th>\n",
       "      <th>pos</th>\n",
       "      <th>player</th>\n",
       "      <th>to_par</th>\n",
       "      <th>today</th>\n",
       "      <th>thru</th>\n",
       "      <th>r1</th>\n",
       "      <th>r2</th>\n",
       "      <th>r3</th>\n",
       "      <th>r4</th>\n",
       "      <th>tot</th>\n",
       "      <th>tourney_id</th>\n",
       "      <th>donkey_score</th>\n",
       "      <th>missed_cut</th>\n",
       "      <th>player_left</th>\n",
       "      <th>team_count</th>\n",
       "      <th>load_date</th>\n",
       "    </tr>\n",
       "  </thead>\n",
       "  <tbody>\n",
       "    <tr>\n",
       "      <th>0</th>\n",
       "      <td>T1</td>\n",
       "      <td>J.J. Spaun</td>\n",
       "      <td>-1</td>\n",
       "      <td>-1</td>\n",
       "      <td>7</td>\n",
       "      <td>--</td>\n",
       "      <td>--</td>\n",
       "      <td>--</td>\n",
       "      <td>--</td>\n",
       "      <td>--</td>\n",
       "      <td>401056552</td>\n",
       "      <td>-1</td>\n",
       "      <td>0</td>\n",
       "      <td>1</td>\n",
       "      <td>0</td>\n",
       "      <td>2019-05-16 08:34:16.724508</td>\n",
       "    </tr>\n",
       "    <tr>\n",
       "      <th>1</th>\n",
       "      <td>T1</td>\n",
       "      <td>Sam Burns</td>\n",
       "      <td>-1</td>\n",
       "      <td>-1</td>\n",
       "      <td>6</td>\n",
       "      <td>--</td>\n",
       "      <td>--</td>\n",
       "      <td>--</td>\n",
       "      <td>--</td>\n",
       "      <td>--</td>\n",
       "      <td>401056552</td>\n",
       "      <td>-1</td>\n",
       "      <td>0</td>\n",
       "      <td>1</td>\n",
       "      <td>0</td>\n",
       "      <td>2019-05-16 08:34:16.724508</td>\n",
       "    </tr>\n",
       "    <tr>\n",
       "      <th>2</th>\n",
       "      <td>T1</td>\n",
       "      <td>Keith Mitchell</td>\n",
       "      <td>-1</td>\n",
       "      <td>-1</td>\n",
       "      <td>6</td>\n",
       "      <td>--</td>\n",
       "      <td>--</td>\n",
       "      <td>--</td>\n",
       "      <td>--</td>\n",
       "      <td>--</td>\n",
       "      <td>401056552</td>\n",
       "      <td>-1</td>\n",
       "      <td>0</td>\n",
       "      <td>1</td>\n",
       "      <td>0</td>\n",
       "      <td>2019-05-16 08:34:16.724508</td>\n",
       "    </tr>\n",
       "    <tr>\n",
       "      <th>3</th>\n",
       "      <td>T1</td>\n",
       "      <td>Harold Varner III</td>\n",
       "      <td>-1</td>\n",
       "      <td>-1</td>\n",
       "      <td>4</td>\n",
       "      <td>--</td>\n",
       "      <td>--</td>\n",
       "      <td>--</td>\n",
       "      <td>--</td>\n",
       "      <td>--</td>\n",
       "      <td>401056552</td>\n",
       "      <td>-1</td>\n",
       "      <td>0</td>\n",
       "      <td>1</td>\n",
       "      <td>0</td>\n",
       "      <td>2019-05-16 08:34:16.724508</td>\n",
       "    </tr>\n",
       "    <tr>\n",
       "      <th>4</th>\n",
       "      <td>T1</td>\n",
       "      <td>Erik van Rooyen</td>\n",
       "      <td>-1</td>\n",
       "      <td>-1</td>\n",
       "      <td>3</td>\n",
       "      <td>--</td>\n",
       "      <td>--</td>\n",
       "      <td>--</td>\n",
       "      <td>--</td>\n",
       "      <td>--</td>\n",
       "      <td>401056552</td>\n",
       "      <td>-1</td>\n",
       "      <td>0</td>\n",
       "      <td>1</td>\n",
       "      <td>0</td>\n",
       "      <td>2019-05-16 08:34:16.724508</td>\n",
       "    </tr>\n",
       "    <tr>\n",
       "      <th>5</th>\n",
       "      <td>T1</td>\n",
       "      <td>Jimmy Walker</td>\n",
       "      <td>-1</td>\n",
       "      <td>-1</td>\n",
       "      <td>3</td>\n",
       "      <td>--</td>\n",
       "      <td>--</td>\n",
       "      <td>--</td>\n",
       "      <td>--</td>\n",
       "      <td>--</td>\n",
       "      <td>401056552</td>\n",
       "      <td>-1</td>\n",
       "      <td>0</td>\n",
       "      <td>1</td>\n",
       "      <td>1</td>\n",
       "      <td>2019-05-16 08:34:16.724508</td>\n",
       "    </tr>\n",
       "    <tr>\n",
       "      <th>6</th>\n",
       "      <td>T1</td>\n",
       "      <td>Chez Reavie</td>\n",
       "      <td>-1</td>\n",
       "      <td>-1</td>\n",
       "      <td>2</td>\n",
       "      <td>--</td>\n",
       "      <td>--</td>\n",
       "      <td>--</td>\n",
       "      <td>--</td>\n",
       "      <td>--</td>\n",
       "      <td>401056552</td>\n",
       "      <td>-1</td>\n",
       "      <td>0</td>\n",
       "      <td>1</td>\n",
       "      <td>0</td>\n",
       "      <td>2019-05-16 08:34:16.724508</td>\n",
       "    </tr>\n",
       "    <tr>\n",
       "      <th>7</th>\n",
       "      <td>T1</td>\n",
       "      <td>Shaun Norris</td>\n",
       "      <td>-1</td>\n",
       "      <td>-1</td>\n",
       "      <td>1</td>\n",
       "      <td>--</td>\n",
       "      <td>--</td>\n",
       "      <td>--</td>\n",
       "      <td>--</td>\n",
       "      <td>--</td>\n",
       "      <td>401056552</td>\n",
       "      <td>-1</td>\n",
       "      <td>0</td>\n",
       "      <td>1</td>\n",
       "      <td>0</td>\n",
       "      <td>2019-05-16 08:34:16.724508</td>\n",
       "    </tr>\n",
       "    <tr>\n",
       "      <th>8</th>\n",
       "      <td>T9</td>\n",
       "      <td>Patton Kizzire</td>\n",
       "      <td>E</td>\n",
       "      <td>E</td>\n",
       "      <td>5</td>\n",
       "      <td>--</td>\n",
       "      <td>--</td>\n",
       "      <td>--</td>\n",
       "      <td>--</td>\n",
       "      <td>--</td>\n",
       "      <td>401056552</td>\n",
       "      <td>0</td>\n",
       "      <td>0</td>\n",
       "      <td>1</td>\n",
       "      <td>0</td>\n",
       "      <td>2019-05-16 08:34:16.724508</td>\n",
       "    </tr>\n",
       "    <tr>\n",
       "      <th>9</th>\n",
       "      <td>T9</td>\n",
       "      <td>Jason Caron</td>\n",
       "      <td>E</td>\n",
       "      <td>E</td>\n",
       "      <td>5</td>\n",
       "      <td>--</td>\n",
       "      <td>--</td>\n",
       "      <td>--</td>\n",
       "      <td>--</td>\n",
       "      <td>--</td>\n",
       "      <td>401056552</td>\n",
       "      <td>0</td>\n",
       "      <td>0</td>\n",
       "      <td>1</td>\n",
       "      <td>0</td>\n",
       "      <td>2019-05-16 08:34:16.724508</td>\n",
       "    </tr>\n",
       "    <tr>\n",
       "      <th>10</th>\n",
       "      <td>T9</td>\n",
       "      <td>Byeong-Hun An</td>\n",
       "      <td>E</td>\n",
       "      <td>E</td>\n",
       "      <td>5</td>\n",
       "      <td>--</td>\n",
       "      <td>--</td>\n",
       "      <td>--</td>\n",
       "      <td>--</td>\n",
       "      <td>--</td>\n",
       "      <td>401056552</td>\n",
       "      <td>0</td>\n",
       "      <td>0</td>\n",
       "      <td>1</td>\n",
       "      <td>0</td>\n",
       "      <td>2019-05-16 08:34:16.724508</td>\n",
       "    </tr>\n",
       "    <tr>\n",
       "      <th>11</th>\n",
       "      <td>T9</td>\n",
       "      <td>Henrik Stenson</td>\n",
       "      <td>E</td>\n",
       "      <td>E</td>\n",
       "      <td>3</td>\n",
       "      <td>--</td>\n",
       "      <td>--</td>\n",
       "      <td>--</td>\n",
       "      <td>--</td>\n",
       "      <td>--</td>\n",
       "      <td>401056552</td>\n",
       "      <td>0</td>\n",
       "      <td>0</td>\n",
       "      <td>1</td>\n",
       "      <td>0</td>\n",
       "      <td>2019-05-16 08:34:16.724508</td>\n",
       "    </tr>\n",
       "    <tr>\n",
       "      <th>12</th>\n",
       "      <td>T9</td>\n",
       "      <td>Mike Lorenzo-Vera</td>\n",
       "      <td>E</td>\n",
       "      <td>E</td>\n",
       "      <td>3</td>\n",
       "      <td>--</td>\n",
       "      <td>--</td>\n",
       "      <td>--</td>\n",
       "      <td>--</td>\n",
       "      <td>--</td>\n",
       "      <td>401056552</td>\n",
       "      <td>0</td>\n",
       "      <td>0</td>\n",
       "      <td>1</td>\n",
       "      <td>0</td>\n",
       "      <td>2019-05-16 08:34:16.724508</td>\n",
       "    </tr>\n",
       "    <tr>\n",
       "      <th>13</th>\n",
       "      <td>T9</td>\n",
       "      <td>Shane Lowry</td>\n",
       "      <td>E</td>\n",
       "      <td>E</td>\n",
       "      <td>2</td>\n",
       "      <td>--</td>\n",
       "      <td>--</td>\n",
       "      <td>--</td>\n",
       "      <td>--</td>\n",
       "      <td>--</td>\n",
       "      <td>401056552</td>\n",
       "      <td>0</td>\n",
       "      <td>0</td>\n",
       "      <td>1</td>\n",
       "      <td>0</td>\n",
       "      <td>2019-05-16 08:34:16.724508</td>\n",
       "    </tr>\n",
       "    <tr>\n",
       "      <th>14</th>\n",
       "      <td>T9</td>\n",
       "      <td>Kelly Kraft</td>\n",
       "      <td>E</td>\n",
       "      <td>E</td>\n",
       "      <td>2</td>\n",
       "      <td>--</td>\n",
       "      <td>--</td>\n",
       "      <td>--</td>\n",
       "      <td>--</td>\n",
       "      <td>--</td>\n",
       "      <td>401056552</td>\n",
       "      <td>0</td>\n",
       "      <td>0</td>\n",
       "      <td>1</td>\n",
       "      <td>0</td>\n",
       "      <td>2019-05-16 08:34:16.724508</td>\n",
       "    </tr>\n",
       "    <tr>\n",
       "      <th>15</th>\n",
       "      <td>T9</td>\n",
       "      <td>Graeme McDowell</td>\n",
       "      <td>E</td>\n",
       "      <td>E</td>\n",
       "      <td>2</td>\n",
       "      <td>--</td>\n",
       "      <td>--</td>\n",
       "      <td>--</td>\n",
       "      <td>--</td>\n",
       "      <td>--</td>\n",
       "      <td>401056552</td>\n",
       "      <td>0</td>\n",
       "      <td>0</td>\n",
       "      <td>1</td>\n",
       "      <td>0</td>\n",
       "      <td>2019-05-16 08:34:16.724508</td>\n",
       "    </tr>\n",
       "    <tr>\n",
       "      <th>16</th>\n",
       "      <td>T9</td>\n",
       "      <td>Charley Hoffman</td>\n",
       "      <td>E</td>\n",
       "      <td>E</td>\n",
       "      <td>2</td>\n",
       "      <td>--</td>\n",
       "      <td>--</td>\n",
       "      <td>--</td>\n",
       "      <td>--</td>\n",
       "      <td>--</td>\n",
       "      <td>401056552</td>\n",
       "      <td>0</td>\n",
       "      <td>0</td>\n",
       "      <td>1</td>\n",
       "      <td>0</td>\n",
       "      <td>2019-05-16 08:34:16.724508</td>\n",
       "    </tr>\n",
       "    <tr>\n",
       "      <th>17</th>\n",
       "      <td>T9</td>\n",
       "      <td>Tyrrell Hatton</td>\n",
       "      <td>E</td>\n",
       "      <td>E</td>\n",
       "      <td>1</td>\n",
       "      <td>--</td>\n",
       "      <td>--</td>\n",
       "      <td>--</td>\n",
       "      <td>--</td>\n",
       "      <td>--</td>\n",
       "      <td>401056552</td>\n",
       "      <td>0</td>\n",
       "      <td>0</td>\n",
       "      <td>1</td>\n",
       "      <td>1</td>\n",
       "      <td>2019-05-16 08:34:16.724508</td>\n",
       "    </tr>\n",
       "    <tr>\n",
       "      <th>18</th>\n",
       "      <td>T9</td>\n",
       "      <td>Li Haotong</td>\n",
       "      <td>E</td>\n",
       "      <td>E</td>\n",
       "      <td>1</td>\n",
       "      <td>--</td>\n",
       "      <td>--</td>\n",
       "      <td>--</td>\n",
       "      <td>--</td>\n",
       "      <td>--</td>\n",
       "      <td>401056552</td>\n",
       "      <td>0</td>\n",
       "      <td>0</td>\n",
       "      <td>1</td>\n",
       "      <td>0</td>\n",
       "      <td>2019-05-16 08:34:16.724508</td>\n",
       "    </tr>\n",
       "    <tr>\n",
       "      <th>19</th>\n",
       "      <td>T9</td>\n",
       "      <td>Bubba Watson</td>\n",
       "      <td>E</td>\n",
       "      <td>E</td>\n",
       "      <td>1</td>\n",
       "      <td>--</td>\n",
       "      <td>--</td>\n",
       "      <td>--</td>\n",
       "      <td>--</td>\n",
       "      <td>--</td>\n",
       "      <td>401056552</td>\n",
       "      <td>0</td>\n",
       "      <td>0</td>\n",
       "      <td>1</td>\n",
       "      <td>2</td>\n",
       "      <td>2019-05-16 08:34:16.724508</td>\n",
       "    </tr>\n",
       "    <tr>\n",
       "      <th>20</th>\n",
       "      <td>T9</td>\n",
       "      <td>Charles Howell III</td>\n",
       "      <td>E</td>\n",
       "      <td>E</td>\n",
       "      <td>1</td>\n",
       "      <td>--</td>\n",
       "      <td>--</td>\n",
       "      <td>--</td>\n",
       "      <td>--</td>\n",
       "      <td>--</td>\n",
       "      <td>401056552</td>\n",
       "      <td>0</td>\n",
       "      <td>0</td>\n",
       "      <td>1</td>\n",
       "      <td>0</td>\n",
       "      <td>2019-05-16 08:34:16.724508</td>\n",
       "    </tr>\n",
       "    <tr>\n",
       "      <th>21</th>\n",
       "      <td>T22</td>\n",
       "      <td>Scott Piercy</td>\n",
       "      <td>+1</td>\n",
       "      <td>+1</td>\n",
       "      <td>6</td>\n",
       "      <td>--</td>\n",
       "      <td>--</td>\n",
       "      <td>--</td>\n",
       "      <td>--</td>\n",
       "      <td>--</td>\n",
       "      <td>401056552</td>\n",
       "      <td>1</td>\n",
       "      <td>0</td>\n",
       "      <td>1</td>\n",
       "      <td>0</td>\n",
       "      <td>2019-05-16 08:34:16.724508</td>\n",
       "    </tr>\n",
       "    <tr>\n",
       "      <th>22</th>\n",
       "      <td>T22</td>\n",
       "      <td>Ben Cook</td>\n",
       "      <td>+1</td>\n",
       "      <td>+1</td>\n",
       "      <td>6</td>\n",
       "      <td>--</td>\n",
       "      <td>--</td>\n",
       "      <td>--</td>\n",
       "      <td>--</td>\n",
       "      <td>--</td>\n",
       "      <td>401056552</td>\n",
       "      <td>1</td>\n",
       "      <td>0</td>\n",
       "      <td>1</td>\n",
       "      <td>0</td>\n",
       "      <td>2019-05-16 08:34:16.724508</td>\n",
       "    </tr>\n",
       "    <tr>\n",
       "      <th>23</th>\n",
       "      <td>T22</td>\n",
       "      <td>Adam Hadwin</td>\n",
       "      <td>+1</td>\n",
       "      <td>+1</td>\n",
       "      <td>5</td>\n",
       "      <td>--</td>\n",
       "      <td>--</td>\n",
       "      <td>--</td>\n",
       "      <td>--</td>\n",
       "      <td>--</td>\n",
       "      <td>401056552</td>\n",
       "      <td>1</td>\n",
       "      <td>0</td>\n",
       "      <td>1</td>\n",
       "      <td>0</td>\n",
       "      <td>2019-05-16 08:34:16.724508</td>\n",
       "    </tr>\n",
       "    <tr>\n",
       "      <th>24</th>\n",
       "      <td>T22</td>\n",
       "      <td>Max Homa</td>\n",
       "      <td>+1</td>\n",
       "      <td>+1</td>\n",
       "      <td>5</td>\n",
       "      <td>--</td>\n",
       "      <td>--</td>\n",
       "      <td>--</td>\n",
       "      <td>--</td>\n",
       "      <td>--</td>\n",
       "      <td>401056552</td>\n",
       "      <td>1</td>\n",
       "      <td>0</td>\n",
       "      <td>1</td>\n",
       "      <td>0</td>\n",
       "      <td>2019-05-16 08:34:16.724508</td>\n",
       "    </tr>\n",
       "    <tr>\n",
       "      <th>25</th>\n",
       "      <td>T22</td>\n",
       "      <td>Brandt Snedeker</td>\n",
       "      <td>+1</td>\n",
       "      <td>+1</td>\n",
       "      <td>5</td>\n",
       "      <td>--</td>\n",
       "      <td>--</td>\n",
       "      <td>--</td>\n",
       "      <td>--</td>\n",
       "      <td>--</td>\n",
       "      <td>401056552</td>\n",
       "      <td>1</td>\n",
       "      <td>0</td>\n",
       "      <td>1</td>\n",
       "      <td>0</td>\n",
       "      <td>2019-05-16 08:34:16.724508</td>\n",
       "    </tr>\n",
       "    <tr>\n",
       "      <th>26</th>\n",
       "      <td>T22</td>\n",
       "      <td>John O'Leary</td>\n",
       "      <td>+1</td>\n",
       "      <td>+1</td>\n",
       "      <td>4</td>\n",
       "      <td>--</td>\n",
       "      <td>--</td>\n",
       "      <td>--</td>\n",
       "      <td>--</td>\n",
       "      <td>--</td>\n",
       "      <td>401056552</td>\n",
       "      <td>1</td>\n",
       "      <td>0</td>\n",
       "      <td>1</td>\n",
       "      <td>0</td>\n",
       "      <td>2019-05-16 08:34:16.724508</td>\n",
       "    </tr>\n",
       "    <tr>\n",
       "      <th>27</th>\n",
       "      <td>T22</td>\n",
       "      <td>Kyle Stanley</td>\n",
       "      <td>+1</td>\n",
       "      <td>+1</td>\n",
       "      <td>4</td>\n",
       "      <td>--</td>\n",
       "      <td>--</td>\n",
       "      <td>--</td>\n",
       "      <td>--</td>\n",
       "      <td>--</td>\n",
       "      <td>401056552</td>\n",
       "      <td>1</td>\n",
       "      <td>0</td>\n",
       "      <td>1</td>\n",
       "      <td>0</td>\n",
       "      <td>2019-05-16 08:34:16.724508</td>\n",
       "    </tr>\n",
       "    <tr>\n",
       "      <th>28</th>\n",
       "      <td>T22</td>\n",
       "      <td>Justin Harding</td>\n",
       "      <td>+1</td>\n",
       "      <td>+1</td>\n",
       "      <td>3</td>\n",
       "      <td>--</td>\n",
       "      <td>--</td>\n",
       "      <td>--</td>\n",
       "      <td>--</td>\n",
       "      <td>--</td>\n",
       "      <td>401056552</td>\n",
       "      <td>1</td>\n",
       "      <td>0</td>\n",
       "      <td>1</td>\n",
       "      <td>0</td>\n",
       "      <td>2019-05-16 08:34:16.724508</td>\n",
       "    </tr>\n",
       "    <tr>\n",
       "      <th>29</th>\n",
       "      <td>T22</td>\n",
       "      <td>Richy Werenski</td>\n",
       "      <td>+1</td>\n",
       "      <td>+1</td>\n",
       "      <td>3</td>\n",
       "      <td>--</td>\n",
       "      <td>--</td>\n",
       "      <td>--</td>\n",
       "      <td>--</td>\n",
       "      <td>--</td>\n",
       "      <td>401056552</td>\n",
       "      <td>1</td>\n",
       "      <td>0</td>\n",
       "      <td>1</td>\n",
       "      <td>0</td>\n",
       "      <td>2019-05-16 08:34:16.724508</td>\n",
       "    </tr>\n",
       "    <tr>\n",
       "      <th>...</th>\n",
       "      <td>...</td>\n",
       "      <td>...</td>\n",
       "      <td>...</td>\n",
       "      <td>...</td>\n",
       "      <td>...</td>\n",
       "      <td>...</td>\n",
       "      <td>...</td>\n",
       "      <td>...</td>\n",
       "      <td>...</td>\n",
       "      <td>...</td>\n",
       "      <td>...</td>\n",
       "      <td>...</td>\n",
       "      <td>...</td>\n",
       "      <td>...</td>\n",
       "      <td>...</td>\n",
       "      <td>...</td>\n",
       "    </tr>\n",
       "    <tr>\n",
       "      <th>126</th>\n",
       "      <td>-</td>\n",
       "      <td>Jason Day</td>\n",
       "      <td>E</td>\n",
       "      <td>-</td>\n",
       "      <td>1:38 PM</td>\n",
       "      <td>--</td>\n",
       "      <td>--</td>\n",
       "      <td>--</td>\n",
       "      <td>--</td>\n",
       "      <td>--</td>\n",
       "      <td>401056552</td>\n",
       "      <td>0</td>\n",
       "      <td>0</td>\n",
       "      <td>0</td>\n",
       "      <td>6</td>\n",
       "      <td>2019-05-16 08:34:16.724508</td>\n",
       "    </tr>\n",
       "    <tr>\n",
       "      <th>127</th>\n",
       "      <td>-</td>\n",
       "      <td>Rory McIlroy</td>\n",
       "      <td>E</td>\n",
       "      <td>-</td>\n",
       "      <td>1:38 PM</td>\n",
       "      <td>--</td>\n",
       "      <td>--</td>\n",
       "      <td>--</td>\n",
       "      <td>--</td>\n",
       "      <td>--</td>\n",
       "      <td>401056552</td>\n",
       "      <td>0</td>\n",
       "      <td>0</td>\n",
       "      <td>0</td>\n",
       "      <td>2</td>\n",
       "      <td>2019-05-16 08:34:16.724508</td>\n",
       "    </tr>\n",
       "    <tr>\n",
       "      <th>128</th>\n",
       "      <td>-</td>\n",
       "      <td>Phil Mickelson</td>\n",
       "      <td>E</td>\n",
       "      <td>-</td>\n",
       "      <td>1:38 PM</td>\n",
       "      <td>--</td>\n",
       "      <td>--</td>\n",
       "      <td>--</td>\n",
       "      <td>--</td>\n",
       "      <td>--</td>\n",
       "      <td>401056552</td>\n",
       "      <td>0</td>\n",
       "      <td>0</td>\n",
       "      <td>0</td>\n",
       "      <td>3</td>\n",
       "      <td>2019-05-16 08:34:16.724508</td>\n",
       "    </tr>\n",
       "    <tr>\n",
       "      <th>129</th>\n",
       "      <td>-</td>\n",
       "      <td>Danny Willett</td>\n",
       "      <td>E</td>\n",
       "      <td>-</td>\n",
       "      <td>1:38 PM</td>\n",
       "      <td>--</td>\n",
       "      <td>--</td>\n",
       "      <td>--</td>\n",
       "      <td>--</td>\n",
       "      <td>--</td>\n",
       "      <td>401056552</td>\n",
       "      <td>0</td>\n",
       "      <td>0</td>\n",
       "      <td>0</td>\n",
       "      <td>0</td>\n",
       "      <td>2019-05-16 08:34:16.724508</td>\n",
       "    </tr>\n",
       "    <tr>\n",
       "      <th>130</th>\n",
       "      <td>-</td>\n",
       "      <td>Webb Simpson</td>\n",
       "      <td>E</td>\n",
       "      <td>-</td>\n",
       "      <td>1:38 PM</td>\n",
       "      <td>--</td>\n",
       "      <td>--</td>\n",
       "      <td>--</td>\n",
       "      <td>--</td>\n",
       "      <td>--</td>\n",
       "      <td>401056552</td>\n",
       "      <td>0</td>\n",
       "      <td>0</td>\n",
       "      <td>0</td>\n",
       "      <td>1</td>\n",
       "      <td>2019-05-16 08:34:16.724508</td>\n",
       "    </tr>\n",
       "    <tr>\n",
       "      <th>131</th>\n",
       "      <td>-</td>\n",
       "      <td>Zach Johnson</td>\n",
       "      <td>E</td>\n",
       "      <td>-</td>\n",
       "      <td>1:38 PM</td>\n",
       "      <td>--</td>\n",
       "      <td>--</td>\n",
       "      <td>--</td>\n",
       "      <td>--</td>\n",
       "      <td>--</td>\n",
       "      <td>401056552</td>\n",
       "      <td>0</td>\n",
       "      <td>0</td>\n",
       "      <td>0</td>\n",
       "      <td>0</td>\n",
       "      <td>2019-05-16 08:34:16.724508</td>\n",
       "    </tr>\n",
       "    <tr>\n",
       "      <th>132</th>\n",
       "      <td>-</td>\n",
       "      <td>Matt Kuchar</td>\n",
       "      <td>E</td>\n",
       "      <td>-</td>\n",
       "      <td>1:49 PM</td>\n",
       "      <td>--</td>\n",
       "      <td>--</td>\n",
       "      <td>--</td>\n",
       "      <td>--</td>\n",
       "      <td>--</td>\n",
       "      <td>401056552</td>\n",
       "      <td>0</td>\n",
       "      <td>0</td>\n",
       "      <td>0</td>\n",
       "      <td>4</td>\n",
       "      <td>2019-05-16 08:34:16.724508</td>\n",
       "    </tr>\n",
       "    <tr>\n",
       "      <th>133</th>\n",
       "      <td>-</td>\n",
       "      <td>Satoshi Kodaira</td>\n",
       "      <td>E</td>\n",
       "      <td>-</td>\n",
       "      <td>1:49 PM</td>\n",
       "      <td>--</td>\n",
       "      <td>--</td>\n",
       "      <td>--</td>\n",
       "      <td>--</td>\n",
       "      <td>--</td>\n",
       "      <td>401056552</td>\n",
       "      <td>0</td>\n",
       "      <td>0</td>\n",
       "      <td>0</td>\n",
       "      <td>0</td>\n",
       "      <td>2019-05-16 08:34:16.724508</td>\n",
       "    </tr>\n",
       "    <tr>\n",
       "      <th>134</th>\n",
       "      <td>-</td>\n",
       "      <td>Cameron Smith</td>\n",
       "      <td>E</td>\n",
       "      <td>-</td>\n",
       "      <td>1:49 PM</td>\n",
       "      <td>--</td>\n",
       "      <td>--</td>\n",
       "      <td>--</td>\n",
       "      <td>--</td>\n",
       "      <td>--</td>\n",
       "      <td>401056552</td>\n",
       "      <td>0</td>\n",
       "      <td>0</td>\n",
       "      <td>0</td>\n",
       "      <td>0</td>\n",
       "      <td>2019-05-16 08:34:16.724508</td>\n",
       "    </tr>\n",
       "    <tr>\n",
       "      <th>135</th>\n",
       "      <td>-</td>\n",
       "      <td>Bronson Burgoon</td>\n",
       "      <td>E</td>\n",
       "      <td>-</td>\n",
       "      <td>1:49 PM</td>\n",
       "      <td>--</td>\n",
       "      <td>--</td>\n",
       "      <td>--</td>\n",
       "      <td>--</td>\n",
       "      <td>--</td>\n",
       "      <td>401056552</td>\n",
       "      <td>0</td>\n",
       "      <td>0</td>\n",
       "      <td>0</td>\n",
       "      <td>0</td>\n",
       "      <td>2019-05-16 08:34:16.724508</td>\n",
       "    </tr>\n",
       "    <tr>\n",
       "      <th>136</th>\n",
       "      <td>-</td>\n",
       "      <td>Kevin Tway</td>\n",
       "      <td>E</td>\n",
       "      <td>-</td>\n",
       "      <td>1:49 PM</td>\n",
       "      <td>--</td>\n",
       "      <td>--</td>\n",
       "      <td>--</td>\n",
       "      <td>--</td>\n",
       "      <td>--</td>\n",
       "      <td>401056552</td>\n",
       "      <td>0</td>\n",
       "      <td>0</td>\n",
       "      <td>0</td>\n",
       "      <td>0</td>\n",
       "      <td>2019-05-16 08:34:16.724508</td>\n",
       "    </tr>\n",
       "    <tr>\n",
       "      <th>137</th>\n",
       "      <td>-</td>\n",
       "      <td>Brandon Stone</td>\n",
       "      <td>E</td>\n",
       "      <td>-</td>\n",
       "      <td>1:49 PM</td>\n",
       "      <td>--</td>\n",
       "      <td>--</td>\n",
       "      <td>--</td>\n",
       "      <td>--</td>\n",
       "      <td>--</td>\n",
       "      <td>401056552</td>\n",
       "      <td>0</td>\n",
       "      <td>0</td>\n",
       "      <td>0</td>\n",
       "      <td>0</td>\n",
       "      <td>2019-05-16 08:34:16.724508</td>\n",
       "    </tr>\n",
       "    <tr>\n",
       "      <th>138</th>\n",
       "      <td>-</td>\n",
       "      <td>Corey Conners</td>\n",
       "      <td>E</td>\n",
       "      <td>-</td>\n",
       "      <td>2:00 PM</td>\n",
       "      <td>--</td>\n",
       "      <td>--</td>\n",
       "      <td>--</td>\n",
       "      <td>--</td>\n",
       "      <td>--</td>\n",
       "      <td>401056552</td>\n",
       "      <td>0</td>\n",
       "      <td>0</td>\n",
       "      <td>0</td>\n",
       "      <td>0</td>\n",
       "      <td>2019-05-16 08:34:16.724508</td>\n",
       "    </tr>\n",
       "    <tr>\n",
       "      <th>139</th>\n",
       "      <td>-</td>\n",
       "      <td>Marc Leishman</td>\n",
       "      <td>E</td>\n",
       "      <td>-</td>\n",
       "      <td>2:00 PM</td>\n",
       "      <td>--</td>\n",
       "      <td>--</td>\n",
       "      <td>--</td>\n",
       "      <td>--</td>\n",
       "      <td>--</td>\n",
       "      <td>401056552</td>\n",
       "      <td>0</td>\n",
       "      <td>0</td>\n",
       "      <td>0</td>\n",
       "      <td>2</td>\n",
       "      <td>2019-05-16 08:34:16.724508</td>\n",
       "    </tr>\n",
       "    <tr>\n",
       "      <th>140</th>\n",
       "      <td>-</td>\n",
       "      <td>Jim Furyk</td>\n",
       "      <td>E</td>\n",
       "      <td>-</td>\n",
       "      <td>2:00 PM</td>\n",
       "      <td>--</td>\n",
       "      <td>--</td>\n",
       "      <td>--</td>\n",
       "      <td>--</td>\n",
       "      <td>--</td>\n",
       "      <td>401056552</td>\n",
       "      <td>0</td>\n",
       "      <td>0</td>\n",
       "      <td>0</td>\n",
       "      <td>0</td>\n",
       "      <td>2019-05-16 08:34:16.724508</td>\n",
       "    </tr>\n",
       "    <tr>\n",
       "      <th>141</th>\n",
       "      <td>-</td>\n",
       "      <td>Danny Balin</td>\n",
       "      <td>E</td>\n",
       "      <td>-</td>\n",
       "      <td>2:00 PM</td>\n",
       "      <td>--</td>\n",
       "      <td>--</td>\n",
       "      <td>--</td>\n",
       "      <td>--</td>\n",
       "      <td>--</td>\n",
       "      <td>401056552</td>\n",
       "      <td>0</td>\n",
       "      <td>0</td>\n",
       "      <td>0</td>\n",
       "      <td>0</td>\n",
       "      <td>2019-05-16 08:34:16.724508</td>\n",
       "    </tr>\n",
       "    <tr>\n",
       "      <th>142</th>\n",
       "      <td>-</td>\n",
       "      <td>Si Woo Kim</td>\n",
       "      <td>E</td>\n",
       "      <td>-</td>\n",
       "      <td>2:00 PM</td>\n",
       "      <td>--</td>\n",
       "      <td>--</td>\n",
       "      <td>--</td>\n",
       "      <td>--</td>\n",
       "      <td>--</td>\n",
       "      <td>401056552</td>\n",
       "      <td>0</td>\n",
       "      <td>0</td>\n",
       "      <td>0</td>\n",
       "      <td>0</td>\n",
       "      <td>2019-05-16 08:34:16.724508</td>\n",
       "    </tr>\n",
       "    <tr>\n",
       "      <th>143</th>\n",
       "      <td>-</td>\n",
       "      <td>Tom Lewis</td>\n",
       "      <td>E</td>\n",
       "      <td>-</td>\n",
       "      <td>2:00 PM</td>\n",
       "      <td>--</td>\n",
       "      <td>--</td>\n",
       "      <td>--</td>\n",
       "      <td>--</td>\n",
       "      <td>--</td>\n",
       "      <td>401056552</td>\n",
       "      <td>0</td>\n",
       "      <td>0</td>\n",
       "      <td>0</td>\n",
       "      <td>0</td>\n",
       "      <td>2019-05-16 08:34:16.724508</td>\n",
       "    </tr>\n",
       "    <tr>\n",
       "      <th>144</th>\n",
       "      <td>-</td>\n",
       "      <td>Stuart Deane</td>\n",
       "      <td>E</td>\n",
       "      <td>-</td>\n",
       "      <td>2:11 PM</td>\n",
       "      <td>--</td>\n",
       "      <td>--</td>\n",
       "      <td>--</td>\n",
       "      <td>--</td>\n",
       "      <td>--</td>\n",
       "      <td>401056552</td>\n",
       "      <td>0</td>\n",
       "      <td>0</td>\n",
       "      <td>0</td>\n",
       "      <td>0</td>\n",
       "      <td>2019-05-16 08:34:16.724508</td>\n",
       "    </tr>\n",
       "    <tr>\n",
       "      <th>145</th>\n",
       "      <td>-</td>\n",
       "      <td>Chesson Hadley</td>\n",
       "      <td>E</td>\n",
       "      <td>-</td>\n",
       "      <td>2:11 PM</td>\n",
       "      <td>--</td>\n",
       "      <td>--</td>\n",
       "      <td>--</td>\n",
       "      <td>--</td>\n",
       "      <td>--</td>\n",
       "      <td>401056552</td>\n",
       "      <td>0</td>\n",
       "      <td>0</td>\n",
       "      <td>0</td>\n",
       "      <td>0</td>\n",
       "      <td>2019-05-16 08:34:16.724508</td>\n",
       "    </tr>\n",
       "    <tr>\n",
       "      <th>146</th>\n",
       "      <td>-</td>\n",
       "      <td>Jorge Campillo</td>\n",
       "      <td>E</td>\n",
       "      <td>-</td>\n",
       "      <td>2:11 PM</td>\n",
       "      <td>--</td>\n",
       "      <td>--</td>\n",
       "      <td>--</td>\n",
       "      <td>--</td>\n",
       "      <td>--</td>\n",
       "      <td>401056552</td>\n",
       "      <td>0</td>\n",
       "      <td>0</td>\n",
       "      <td>0</td>\n",
       "      <td>0</td>\n",
       "      <td>2019-05-16 08:34:16.724508</td>\n",
       "    </tr>\n",
       "    <tr>\n",
       "      <th>147</th>\n",
       "      <td>-</td>\n",
       "      <td>Tyler Hall</td>\n",
       "      <td>E</td>\n",
       "      <td>-</td>\n",
       "      <td>2:11 PM</td>\n",
       "      <td>--</td>\n",
       "      <td>--</td>\n",
       "      <td>--</td>\n",
       "      <td>--</td>\n",
       "      <td>--</td>\n",
       "      <td>401056552</td>\n",
       "      <td>0</td>\n",
       "      <td>0</td>\n",
       "      <td>0</td>\n",
       "      <td>0</td>\n",
       "      <td>2019-05-16 08:34:16.724508</td>\n",
       "    </tr>\n",
       "    <tr>\n",
       "      <th>148</th>\n",
       "      <td>-</td>\n",
       "      <td>Michael Kim</td>\n",
       "      <td>E</td>\n",
       "      <td>-</td>\n",
       "      <td>2:11 PM</td>\n",
       "      <td>--</td>\n",
       "      <td>--</td>\n",
       "      <td>--</td>\n",
       "      <td>--</td>\n",
       "      <td>--</td>\n",
       "      <td>401056552</td>\n",
       "      <td>0</td>\n",
       "      <td>0</td>\n",
       "      <td>0</td>\n",
       "      <td>0</td>\n",
       "      <td>2019-05-16 08:34:16.724508</td>\n",
       "    </tr>\n",
       "    <tr>\n",
       "      <th>149</th>\n",
       "      <td>-</td>\n",
       "      <td>Jazz Janewattananond</td>\n",
       "      <td>E</td>\n",
       "      <td>-</td>\n",
       "      <td>2:11 PM</td>\n",
       "      <td>--</td>\n",
       "      <td>--</td>\n",
       "      <td>--</td>\n",
       "      <td>--</td>\n",
       "      <td>--</td>\n",
       "      <td>401056552</td>\n",
       "      <td>0</td>\n",
       "      <td>0</td>\n",
       "      <td>0</td>\n",
       "      <td>0</td>\n",
       "      <td>2019-05-16 08:34:16.724508</td>\n",
       "    </tr>\n",
       "    <tr>\n",
       "      <th>150</th>\n",
       "      <td>-</td>\n",
       "      <td>Kurt Kitayama</td>\n",
       "      <td>E</td>\n",
       "      <td>-</td>\n",
       "      <td>2:22 PM</td>\n",
       "      <td>--</td>\n",
       "      <td>--</td>\n",
       "      <td>--</td>\n",
       "      <td>--</td>\n",
       "      <td>--</td>\n",
       "      <td>401056552</td>\n",
       "      <td>0</td>\n",
       "      <td>0</td>\n",
       "      <td>0</td>\n",
       "      <td>0</td>\n",
       "      <td>2019-05-16 08:34:16.724508</td>\n",
       "    </tr>\n",
       "    <tr>\n",
       "      <th>151</th>\n",
       "      <td>-</td>\n",
       "      <td>Dylan Frittelli</td>\n",
       "      <td>E</td>\n",
       "      <td>-</td>\n",
       "      <td>2:22 PM</td>\n",
       "      <td>--</td>\n",
       "      <td>--</td>\n",
       "      <td>--</td>\n",
       "      <td>--</td>\n",
       "      <td>--</td>\n",
       "      <td>401056552</td>\n",
       "      <td>0</td>\n",
       "      <td>0</td>\n",
       "      <td>0</td>\n",
       "      <td>0</td>\n",
       "      <td>2019-05-16 08:34:16.724508</td>\n",
       "    </tr>\n",
       "    <tr>\n",
       "      <th>152</th>\n",
       "      <td>-</td>\n",
       "      <td>Andrew Filbert</td>\n",
       "      <td>E</td>\n",
       "      <td>-</td>\n",
       "      <td>2:22 PM</td>\n",
       "      <td>--</td>\n",
       "      <td>--</td>\n",
       "      <td>--</td>\n",
       "      <td>--</td>\n",
       "      <td>--</td>\n",
       "      <td>401056552</td>\n",
       "      <td>0</td>\n",
       "      <td>0</td>\n",
       "      <td>0</td>\n",
       "      <td>0</td>\n",
       "      <td>2019-05-16 08:34:16.724508</td>\n",
       "    </tr>\n",
       "    <tr>\n",
       "      <th>153</th>\n",
       "      <td>-</td>\n",
       "      <td>Mikko Korhonen</td>\n",
       "      <td>E</td>\n",
       "      <td>-</td>\n",
       "      <td>2:22 PM</td>\n",
       "      <td>--</td>\n",
       "      <td>--</td>\n",
       "      <td>--</td>\n",
       "      <td>--</td>\n",
       "      <td>--</td>\n",
       "      <td>401056552</td>\n",
       "      <td>0</td>\n",
       "      <td>0</td>\n",
       "      <td>0</td>\n",
       "      <td>0</td>\n",
       "      <td>2019-05-16 08:34:16.724508</td>\n",
       "    </tr>\n",
       "    <tr>\n",
       "      <th>154</th>\n",
       "      <td>-</td>\n",
       "      <td>Craig Hocknull</td>\n",
       "      <td>E</td>\n",
       "      <td>-</td>\n",
       "      <td>2:22 PM</td>\n",
       "      <td>--</td>\n",
       "      <td>--</td>\n",
       "      <td>--</td>\n",
       "      <td>--</td>\n",
       "      <td>--</td>\n",
       "      <td>401056552</td>\n",
       "      <td>0</td>\n",
       "      <td>0</td>\n",
       "      <td>0</td>\n",
       "      <td>0</td>\n",
       "      <td>2019-05-16 08:34:16.724508</td>\n",
       "    </tr>\n",
       "    <tr>\n",
       "      <th>155</th>\n",
       "      <td>-</td>\n",
       "      <td>Jhonattan Vegas</td>\n",
       "      <td>E</td>\n",
       "      <td>-</td>\n",
       "      <td>2:22 PM</td>\n",
       "      <td>--</td>\n",
       "      <td>--</td>\n",
       "      <td>--</td>\n",
       "      <td>--</td>\n",
       "      <td>--</td>\n",
       "      <td>401056552</td>\n",
       "      <td>0</td>\n",
       "      <td>0</td>\n",
       "      <td>0</td>\n",
       "      <td>0</td>\n",
       "      <td>2019-05-16 08:34:16.724508</td>\n",
       "    </tr>\n",
       "  </tbody>\n",
       "</table>\n",
       "<p>156 rows × 16 columns</p>\n",
       "</div>"
      ],
      "text/plain": [
       "     pos                player to_par today     thru  r1  r2  r3  r4 tot  \\\n",
       "0     T1            J.J. Spaun     -1    -1        7  --  --  --  --  --   \n",
       "1     T1             Sam Burns     -1    -1        6  --  --  --  --  --   \n",
       "2     T1        Keith Mitchell     -1    -1        6  --  --  --  --  --   \n",
       "3     T1     Harold Varner III     -1    -1        4  --  --  --  --  --   \n",
       "4     T1       Erik van Rooyen     -1    -1        3  --  --  --  --  --   \n",
       "5     T1          Jimmy Walker     -1    -1        3  --  --  --  --  --   \n",
       "6     T1           Chez Reavie     -1    -1        2  --  --  --  --  --   \n",
       "7     T1          Shaun Norris     -1    -1        1  --  --  --  --  --   \n",
       "8     T9        Patton Kizzire      E     E        5  --  --  --  --  --   \n",
       "9     T9           Jason Caron      E     E        5  --  --  --  --  --   \n",
       "10    T9         Byeong-Hun An      E     E        5  --  --  --  --  --   \n",
       "11    T9        Henrik Stenson      E     E        3  --  --  --  --  --   \n",
       "12    T9     Mike Lorenzo-Vera      E     E        3  --  --  --  --  --   \n",
       "13    T9           Shane Lowry      E     E        2  --  --  --  --  --   \n",
       "14    T9           Kelly Kraft      E     E        2  --  --  --  --  --   \n",
       "15    T9       Graeme McDowell      E     E        2  --  --  --  --  --   \n",
       "16    T9       Charley Hoffman      E     E        2  --  --  --  --  --   \n",
       "17    T9        Tyrrell Hatton      E     E        1  --  --  --  --  --   \n",
       "18    T9            Li Haotong      E     E        1  --  --  --  --  --   \n",
       "19    T9          Bubba Watson      E     E        1  --  --  --  --  --   \n",
       "20    T9    Charles Howell III      E     E        1  --  --  --  --  --   \n",
       "21   T22          Scott Piercy     +1    +1        6  --  --  --  --  --   \n",
       "22   T22              Ben Cook     +1    +1        6  --  --  --  --  --   \n",
       "23   T22           Adam Hadwin     +1    +1        5  --  --  --  --  --   \n",
       "24   T22              Max Homa     +1    +1        5  --  --  --  --  --   \n",
       "25   T22       Brandt Snedeker     +1    +1        5  --  --  --  --  --   \n",
       "26   T22          John O'Leary     +1    +1        4  --  --  --  --  --   \n",
       "27   T22          Kyle Stanley     +1    +1        4  --  --  --  --  --   \n",
       "28   T22        Justin Harding     +1    +1        3  --  --  --  --  --   \n",
       "29   T22        Richy Werenski     +1    +1        3  --  --  --  --  --   \n",
       "..   ...                   ...    ...   ...      ...  ..  ..  ..  ..  ..   \n",
       "126    -             Jason Day      E     -  1:38 PM  --  --  --  --  --   \n",
       "127    -          Rory McIlroy      E     -  1:38 PM  --  --  --  --  --   \n",
       "128    -        Phil Mickelson      E     -  1:38 PM  --  --  --  --  --   \n",
       "129    -         Danny Willett      E     -  1:38 PM  --  --  --  --  --   \n",
       "130    -          Webb Simpson      E     -  1:38 PM  --  --  --  --  --   \n",
       "131    -          Zach Johnson      E     -  1:38 PM  --  --  --  --  --   \n",
       "132    -           Matt Kuchar      E     -  1:49 PM  --  --  --  --  --   \n",
       "133    -       Satoshi Kodaira      E     -  1:49 PM  --  --  --  --  --   \n",
       "134    -         Cameron Smith      E     -  1:49 PM  --  --  --  --  --   \n",
       "135    -       Bronson Burgoon      E     -  1:49 PM  --  --  --  --  --   \n",
       "136    -            Kevin Tway      E     -  1:49 PM  --  --  --  --  --   \n",
       "137    -         Brandon Stone      E     -  1:49 PM  --  --  --  --  --   \n",
       "138    -         Corey Conners      E     -  2:00 PM  --  --  --  --  --   \n",
       "139    -         Marc Leishman      E     -  2:00 PM  --  --  --  --  --   \n",
       "140    -             Jim Furyk      E     -  2:00 PM  --  --  --  --  --   \n",
       "141    -           Danny Balin      E     -  2:00 PM  --  --  --  --  --   \n",
       "142    -            Si Woo Kim      E     -  2:00 PM  --  --  --  --  --   \n",
       "143    -             Tom Lewis      E     -  2:00 PM  --  --  --  --  --   \n",
       "144    -          Stuart Deane      E     -  2:11 PM  --  --  --  --  --   \n",
       "145    -        Chesson Hadley      E     -  2:11 PM  --  --  --  --  --   \n",
       "146    -        Jorge Campillo      E     -  2:11 PM  --  --  --  --  --   \n",
       "147    -            Tyler Hall      E     -  2:11 PM  --  --  --  --  --   \n",
       "148    -           Michael Kim      E     -  2:11 PM  --  --  --  --  --   \n",
       "149    -  Jazz Janewattananond      E     -  2:11 PM  --  --  --  --  --   \n",
       "150    -         Kurt Kitayama      E     -  2:22 PM  --  --  --  --  --   \n",
       "151    -       Dylan Frittelli      E     -  2:22 PM  --  --  --  --  --   \n",
       "152    -        Andrew Filbert      E     -  2:22 PM  --  --  --  --  --   \n",
       "153    -        Mikko Korhonen      E     -  2:22 PM  --  --  --  --  --   \n",
       "154    -        Craig Hocknull      E     -  2:22 PM  --  --  --  --  --   \n",
       "155    -       Jhonattan Vegas      E     -  2:22 PM  --  --  --  --  --   \n",
       "\n",
       "    tourney_id  donkey_score  missed_cut  player_left  team_count  \\\n",
       "0    401056552            -1           0            1           0   \n",
       "1    401056552            -1           0            1           0   \n",
       "2    401056552            -1           0            1           0   \n",
       "3    401056552            -1           0            1           0   \n",
       "4    401056552            -1           0            1           0   \n",
       "5    401056552            -1           0            1           1   \n",
       "6    401056552            -1           0            1           0   \n",
       "7    401056552            -1           0            1           0   \n",
       "8    401056552             0           0            1           0   \n",
       "9    401056552             0           0            1           0   \n",
       "10   401056552             0           0            1           0   \n",
       "11   401056552             0           0            1           0   \n",
       "12   401056552             0           0            1           0   \n",
       "13   401056552             0           0            1           0   \n",
       "14   401056552             0           0            1           0   \n",
       "15   401056552             0           0            1           0   \n",
       "16   401056552             0           0            1           0   \n",
       "17   401056552             0           0            1           1   \n",
       "18   401056552             0           0            1           0   \n",
       "19   401056552             0           0            1           2   \n",
       "20   401056552             0           0            1           0   \n",
       "21   401056552             1           0            1           0   \n",
       "22   401056552             1           0            1           0   \n",
       "23   401056552             1           0            1           0   \n",
       "24   401056552             1           0            1           0   \n",
       "25   401056552             1           0            1           0   \n",
       "26   401056552             1           0            1           0   \n",
       "27   401056552             1           0            1           0   \n",
       "28   401056552             1           0            1           0   \n",
       "29   401056552             1           0            1           0   \n",
       "..         ...           ...         ...          ...         ...   \n",
       "126  401056552             0           0            0           6   \n",
       "127  401056552             0           0            0           2   \n",
       "128  401056552             0           0            0           3   \n",
       "129  401056552             0           0            0           0   \n",
       "130  401056552             0           0            0           1   \n",
       "131  401056552             0           0            0           0   \n",
       "132  401056552             0           0            0           4   \n",
       "133  401056552             0           0            0           0   \n",
       "134  401056552             0           0            0           0   \n",
       "135  401056552             0           0            0           0   \n",
       "136  401056552             0           0            0           0   \n",
       "137  401056552             0           0            0           0   \n",
       "138  401056552             0           0            0           0   \n",
       "139  401056552             0           0            0           2   \n",
       "140  401056552             0           0            0           0   \n",
       "141  401056552             0           0            0           0   \n",
       "142  401056552             0           0            0           0   \n",
       "143  401056552             0           0            0           0   \n",
       "144  401056552             0           0            0           0   \n",
       "145  401056552             0           0            0           0   \n",
       "146  401056552             0           0            0           0   \n",
       "147  401056552             0           0            0           0   \n",
       "148  401056552             0           0            0           0   \n",
       "149  401056552             0           0            0           0   \n",
       "150  401056552             0           0            0           0   \n",
       "151  401056552             0           0            0           0   \n",
       "152  401056552             0           0            0           0   \n",
       "153  401056552             0           0            0           0   \n",
       "154  401056552             0           0            0           0   \n",
       "155  401056552             0           0            0           0   \n",
       "\n",
       "                     load_date  \n",
       "0   2019-05-16 08:34:16.724508  \n",
       "1   2019-05-16 08:34:16.724508  \n",
       "2   2019-05-16 08:34:16.724508  \n",
       "3   2019-05-16 08:34:16.724508  \n",
       "4   2019-05-16 08:34:16.724508  \n",
       "5   2019-05-16 08:34:16.724508  \n",
       "6   2019-05-16 08:34:16.724508  \n",
       "7   2019-05-16 08:34:16.724508  \n",
       "8   2019-05-16 08:34:16.724508  \n",
       "9   2019-05-16 08:34:16.724508  \n",
       "10  2019-05-16 08:34:16.724508  \n",
       "11  2019-05-16 08:34:16.724508  \n",
       "12  2019-05-16 08:34:16.724508  \n",
       "13  2019-05-16 08:34:16.724508  \n",
       "14  2019-05-16 08:34:16.724508  \n",
       "15  2019-05-16 08:34:16.724508  \n",
       "16  2019-05-16 08:34:16.724508  \n",
       "17  2019-05-16 08:34:16.724508  \n",
       "18  2019-05-16 08:34:16.724508  \n",
       "19  2019-05-16 08:34:16.724508  \n",
       "20  2019-05-16 08:34:16.724508  \n",
       "21  2019-05-16 08:34:16.724508  \n",
       "22  2019-05-16 08:34:16.724508  \n",
       "23  2019-05-16 08:34:16.724508  \n",
       "24  2019-05-16 08:34:16.724508  \n",
       "25  2019-05-16 08:34:16.724508  \n",
       "26  2019-05-16 08:34:16.724508  \n",
       "27  2019-05-16 08:34:16.724508  \n",
       "28  2019-05-16 08:34:16.724508  \n",
       "29  2019-05-16 08:34:16.724508  \n",
       "..                         ...  \n",
       "126 2019-05-16 08:34:16.724508  \n",
       "127 2019-05-16 08:34:16.724508  \n",
       "128 2019-05-16 08:34:16.724508  \n",
       "129 2019-05-16 08:34:16.724508  \n",
       "130 2019-05-16 08:34:16.724508  \n",
       "131 2019-05-16 08:34:16.724508  \n",
       "132 2019-05-16 08:34:16.724508  \n",
       "133 2019-05-16 08:34:16.724508  \n",
       "134 2019-05-16 08:34:16.724508  \n",
       "135 2019-05-16 08:34:16.724508  \n",
       "136 2019-05-16 08:34:16.724508  \n",
       "137 2019-05-16 08:34:16.724508  \n",
       "138 2019-05-16 08:34:16.724508  \n",
       "139 2019-05-16 08:34:16.724508  \n",
       "140 2019-05-16 08:34:16.724508  \n",
       "141 2019-05-16 08:34:16.724508  \n",
       "142 2019-05-16 08:34:16.724508  \n",
       "143 2019-05-16 08:34:16.724508  \n",
       "144 2019-05-16 08:34:16.724508  \n",
       "145 2019-05-16 08:34:16.724508  \n",
       "146 2019-05-16 08:34:16.724508  \n",
       "147 2019-05-16 08:34:16.724508  \n",
       "148 2019-05-16 08:34:16.724508  \n",
       "149 2019-05-16 08:34:16.724508  \n",
       "150 2019-05-16 08:34:16.724508  \n",
       "151 2019-05-16 08:34:16.724508  \n",
       "152 2019-05-16 08:34:16.724508  \n",
       "153 2019-05-16 08:34:16.724508  \n",
       "154 2019-05-16 08:34:16.724508  \n",
       "155 2019-05-16 08:34:16.724508  \n",
       "\n",
       "[156 rows x 16 columns]"
      ]
     },
     "execution_count": 12,
     "metadata": {},
     "output_type": "execute_result"
    }
   ],
   "source": [
    "lb.data"
   ]
  },
  {
   "cell_type": "code",
   "execution_count": 7,
   "metadata": {},
   "outputs": [
    {
     "name": "stderr",
     "output_type": "stream",
     "text": [
      "2019-05-16 08:34:11,019 - donkey_golf.data_things.base_class - DEBUG - ABOUT TO SET yaml_sql_dict\n",
      "2019-05-16 08:34:11,035 - donkey_golf.data_things.base_class - INFO - Executing run_sql\n",
      "2019-05-16 08:34:11,376 - donkey_golf.data_things.base_class - INFO - Current tourney ID: 401056552\n",
      "2019-05-16 08:34:11,377 - donkey_golf.data_things.base_class - INFO - Executing run_sql\n"
     ]
    }
   ],
   "source": [
    "loader = DT.LoadLeaderboard()"
   ]
  },
  {
   "cell_type": "code",
   "execution_count": 8,
   "metadata": {},
   "outputs": [
    {
     "name": "stderr",
     "output_type": "stream",
     "text": [
      "2019-05-16 08:34:16,400 - donkey_golf.data_things.tourney_leaderboard - INFO - Tourney current status: in_progress\n",
      "2019-05-16 08:34:16,401 - donkey_golf.data_things.tourney_leaderboard - INFO - Running clean_data function\n",
      "2019-05-16 08:34:16,401 - donkey_golf.data_things.tourney_leaderboard - INFO - Running prepare_in_progress_data\n",
      "2019-05-16 08:34:16,402 - donkey_golf.data_things.tourney_leaderboard - INFO - Calculating the donkey_score column\n",
      "2019-05-16 08:34:16,414 - donkey_golf.data_things.tourney_leaderboard - INFO - Determining score for cut players and adding missed_cut indicator\n",
      "2019-05-16 08:34:16,422 - donkey_golf.data_things.tourney_leaderboard - INFO - Determine if the player is active and if he has been cut or not\n",
      "2019-05-16 08:34:16,435 - donkey_golf.data_things.base_class - INFO - Executing run_sql\n",
      "2019-05-16 08:34:16,712 - donkey_golf.data_things.tourney_leaderboard - DEBUG - Adding golfer team count\n",
      "2019-05-16 08:34:16,727 - donkey_golf.data_things.tourney_leaderboard - INFO - Loading data into the leaderboard table\n",
      "2019-05-16 08:34:16,728 - donkey_golf.data_things.base_class - INFO - Loading leaderboard to database\n"
     ]
    }
   ],
   "source": [
    "loader.run()"
   ]
  },
  {
   "cell_type": "code",
   "execution_count": null,
   "metadata": {},
   "outputs": [],
   "source": [
    "self.data.loc[self.data['today'] == '-', 'player_left'] = 0"
   ]
  },
  {
   "cell_type": "code",
   "execution_count": null,
   "metadata": {},
   "outputs": [],
   "source": []
  },
  {
   "cell_type": "code",
   "execution_count": null,
   "metadata": {},
   "outputs": [],
   "source": []
  },
  {
   "cell_type": "code",
   "execution_count": null,
   "metadata": {},
   "outputs": [],
   "source": []
  },
  {
   "cell_type": "code",
   "execution_count": null,
   "metadata": {},
   "outputs": [],
   "source": [
    "lb.pull_pre_tourney_data()"
   ]
  },
  {
   "cell_type": "code",
   "execution_count": null,
   "metadata": {},
   "outputs": [],
   "source": [
    "lb.df_pre_tourney['current_rank'] = lb.df_pre_tourney['current_rank'].fillna(9999).astype(int).astype(str)\n",
    "\n",
    "lb.df_pre_tourney['current_rank'] = lb.df_pre_tourney['current_rank'].replace('9999', '-')"
   ]
  },
  {
   "cell_type": "code",
   "execution_count": null,
   "metadata": {},
   "outputs": [],
   "source": [
    "lb.df_pre_tourney"
   ]
  },
  {
   "cell_type": "code",
   "execution_count": null,
   "metadata": {},
   "outputs": [],
   "source": [
    "dd = DT.DraftDay()"
   ]
  },
  {
   "cell_type": "code",
   "execution_count": null,
   "metadata": {},
   "outputs": [],
   "source": [
    "dd.run()"
   ]
  },
  {
   "cell_type": "code",
   "execution_count": null,
   "metadata": {},
   "outputs": [],
   "source": [
    "df = dd.data"
   ]
  },
  {
   "cell_type": "code",
   "execution_count": null,
   "metadata": {},
   "outputs": [],
   "source": [
    "# top 8 pick 2\n",
    "# next 12 pick 3\n",
    "# "
   ]
  },
  {
   "cell_type": "code",
   "execution_count": null,
   "metadata": {},
   "outputs": [],
   "source": [
    "df"
   ]
  },
  {
   "cell_type": "code",
   "execution_count": null,
   "metadata": {},
   "outputs": [],
   "source": []
  },
  {
   "cell_type": "code",
   "execution_count": null,
   "metadata": {},
   "outputs": [],
   "source": []
  },
  {
   "cell_type": "code",
   "execution_count": null,
   "metadata": {},
   "outputs": [],
   "source": [
    "df['rank'] = df['rank'].fillna(999)\n",
    "df['rank'] = df['rank'].astype(int)\n",
    "df['tier'] = 'Tier 3'\n",
    "df.loc[df['rank'] <= 8, 'tier'] = 'Tier 1'\n",
    "df.loc[(df['rank'] >= 9) & (df['rank'] <= 16), 'tier'] = 'Tier 2'"
   ]
  },
  {
   "cell_type": "code",
   "execution_count": null,
   "metadata": {},
   "outputs": [],
   "source": [
    "df"
   ]
  },
  {
   "cell_type": "code",
   "execution_count": null,
   "metadata": {},
   "outputs": [],
   "source": []
  },
  {
   "cell_type": "code",
   "execution_count": null,
   "metadata": {},
   "outputs": [],
   "source": []
  },
  {
   "cell_type": "code",
   "execution_count": null,
   "metadata": {},
   "outputs": [],
   "source": []
  },
  {
   "cell_type": "code",
   "execution_count": null,
   "metadata": {},
   "outputs": [],
   "source": []
  },
  {
   "cell_type": "code",
   "execution_count": null,
   "metadata": {},
   "outputs": [],
   "source": [
    "lb.df_pre_tourney.loc[lb.df_pre_tourney['current_rank'].notnull(), 'current_rank'] = lb.df_pre_tourney.loc[lb.df_pre_tourney['current_rank'].notnull(), 'current_rank'].astype(int)"
   ]
  },
  {
   "cell_type": "code",
   "execution_count": null,
   "metadata": {},
   "outputs": [],
   "source": [
    "lb.df_pre_tourney.loc[lb.df_pre_tourney['current_rank'].notnull(), 'current_rank'].astype(int)"
   ]
  },
  {
   "cell_type": "code",
   "execution_count": null,
   "metadata": {},
   "outputs": [],
   "source": [
    "lb.df_pre_tourney"
   ]
  },
  {
   "cell_type": "code",
   "execution_count": null,
   "metadata": {},
   "outputs": [],
   "source": [
    "DT.LoadWorldRankings().run()"
   ]
  },
  {
   "cell_type": "code",
   "execution_count": null,
   "metadata": {},
   "outputs": [],
   "source": [
    "DT.TournamentInfo().run()"
   ]
  },
  {
   "cell_type": "code",
   "execution_count": null,
   "metadata": {},
   "outputs": [],
   "source": []
  },
  {
   "cell_type": "code",
   "execution_count": null,
   "metadata": {},
   "outputs": [],
   "source": [
    "lb.run()"
   ]
  },
  {
   "cell_type": "code",
   "execution_count": null,
   "metadata": {},
   "outputs": [],
   "source": [
    "lb.data"
   ]
  },
  {
   "cell_type": "code",
   "execution_count": null,
   "metadata": {},
   "outputs": [],
   "source": []
  },
  {
   "cell_type": "code",
   "execution_count": null,
   "metadata": {},
   "outputs": [],
   "source": []
  },
  {
   "cell_type": "code",
   "execution_count": null,
   "metadata": {},
   "outputs": [],
   "source": [
    "lb.determine_current_round()"
   ]
  },
  {
   "cell_type": "code",
   "execution_count": null,
   "metadata": {},
   "outputs": [],
   "source": [
    "lb.calculate_cut_line()"
   ]
  },
  {
   "cell_type": "code",
   "execution_count": null,
   "metadata": {},
   "outputs": [],
   "source": [
    "df = lb.data"
   ]
  },
  {
   "cell_type": "code",
   "execution_count": null,
   "metadata": {},
   "outputs": [],
   "source": [
    "self = lb"
   ]
  },
  {
   "cell_type": "code",
   "execution_count": null,
   "metadata": {},
   "outputs": [],
   "source": [
    "cur_round = self.determine_current_round()\n",
    "\n",
    "if cur_round == 'r2':\n",
    "    sql = self.yaml_sql_dict.get('calculate_cut_line')\n",
    "    df = self.run_sql(sql)\n",
    "    # Grab the cut_str\n",
    "    cut_str = df['pos'][0].lower()\n",
    "    cut_dict = {}\n",
    "\n",
    "    # Not sure what will happen if cut is even...\n",
    "    if cut_str[-1:] == 'E':\n",
    "        cut_dict['cut_str'] = 'E'\n",
    "        cut_dict['cut_in'] = 0\n",
    "    else:\n",
    "        # Just grab the last two characters - this should be the cut score\n",
    "        cut_str = cut_str[-2:]\n",
    "        # Put both string and int representations into a dict\n",
    "        cut_dict['cut_str'] = cut_str\n",
    "        cut_dict['cut_int'] = int(cut_str.replace('+', '').replace('E', '0'))\n",
    "\n",
    "    return cut_dict\n",
    "else:\n",
    "    logger.info(\"Dont need to worry about the cut line now\")\n",
    "    return None"
   ]
  },
  {
   "cell_type": "code",
   "execution_count": null,
   "metadata": {},
   "outputs": [],
   "source": [
    "df"
   ]
  },
  {
   "cell_type": "code",
   "execution_count": null,
   "metadata": {},
   "outputs": [],
   "source": [
    "print(sql)"
   ]
  },
  {
   "cell_type": "code",
   "execution_count": null,
   "metadata": {},
   "outputs": [],
   "source": [
    "sql = self.yaml_sql_dict.get('calculate_cut_line')\n",
    "df = self.run_sql(sql)\n",
    "# Grab the cut_str\n",
    "cut_str = df['pos'][0].lower()\n",
    "cut_dict = {}"
   ]
  },
  {
   "cell_type": "code",
   "execution_count": null,
   "metadata": {},
   "outputs": [],
   "source": []
  },
  {
   "cell_type": "code",
   "execution_count": null,
   "metadata": {},
   "outputs": [],
   "source": []
  },
  {
   "cell_type": "code",
   "execution_count": null,
   "metadata": {},
   "outputs": [],
   "source": []
  },
  {
   "cell_type": "code",
   "execution_count": null,
   "metadata": {},
   "outputs": [],
   "source": []
  },
  {
   "cell_type": "code",
   "execution_count": null,
   "metadata": {},
   "outputs": [],
   "source": []
  },
  {
   "cell_type": "code",
   "execution_count": null,
   "metadata": {},
   "outputs": [],
   "source": []
  },
  {
   "cell_type": "code",
   "execution_count": null,
   "metadata": {},
   "outputs": [],
   "source": []
  },
  {
   "cell_type": "code",
   "execution_count": null,
   "metadata": {},
   "outputs": [],
   "source": [
    "user = DT.UserData(user_id=6)"
   ]
  },
  {
   "cell_type": "code",
   "execution_count": null,
   "metadata": {},
   "outputs": [],
   "source": [
    "user.run()"
   ]
  },
  {
   "cell_type": "code",
   "execution_count": null,
   "metadata": {},
   "outputs": [],
   "source": [
    "user.data"
   ]
  },
  {
   "cell_type": "code",
   "execution_count": null,
   "metadata": {},
   "outputs": [],
   "source": [
    "gs = DT.GameScoreboard()"
   ]
  },
  {
   "cell_type": "code",
   "execution_count": null,
   "metadata": {},
   "outputs": [],
   "source": [
    "gs.run()"
   ]
  },
  {
   "cell_type": "code",
   "execution_count": null,
   "metadata": {},
   "outputs": [],
   "source": [
    "gs.data"
   ]
  },
  {
   "cell_type": "code",
   "execution_count": null,
   "metadata": {},
   "outputs": [],
   "source": [
    "wha = DT.TeamPlayerResults()"
   ]
  },
  {
   "cell_type": "code",
   "execution_count": null,
   "metadata": {},
   "outputs": [],
   "source": [
    "wha.run()"
   ]
  },
  {
   "cell_type": "code",
   "execution_count": null,
   "metadata": {},
   "outputs": [],
   "source": [
    "wha.data.sort_values('username')"
   ]
  },
  {
   "cell_type": "code",
   "execution_count": null,
   "metadata": {},
   "outputs": [],
   "source": []
  },
  {
   "cell_type": "code",
   "execution_count": null,
   "metadata": {},
   "outputs": [],
   "source": []
  },
  {
   "cell_type": "code",
   "execution_count": null,
   "metadata": {},
   "outputs": [],
   "source": [
    "lb = DT.LoadLeaderboard()"
   ]
  },
  {
   "cell_type": "code",
   "execution_count": null,
   "metadata": {},
   "outputs": [],
   "source": [
    "lb.run()"
   ]
  },
  {
   "cell_type": "code",
   "execution_count": null,
   "metadata": {},
   "outputs": [],
   "source": [
    "gs = dg.data_things.GameScoreboard()"
   ]
  },
  {
   "cell_type": "code",
   "execution_count": null,
   "metadata": {},
   "outputs": [],
   "source": [
    "int(0)"
   ]
  },
  {
   "cell_type": "code",
   "execution_count": null,
   "metadata": {},
   "outputs": [],
   "source": [
    "gs.tourney_status"
   ]
  },
  {
   "cell_type": "code",
   "execution_count": null,
   "metadata": {},
   "outputs": [],
   "source": [
    "gs.run()"
   ]
  },
  {
   "cell_type": "code",
   "execution_count": null,
   "metadata": {},
   "outputs": [],
   "source": []
  },
  {
   "cell_type": "code",
   "execution_count": null,
   "metadata": {},
   "outputs": [],
   "source": []
  },
  {
   "cell_type": "code",
   "execution_count": null,
   "metadata": {},
   "outputs": [],
   "source": [
    "cmon = dg.data_things.LoadLeaderboard()"
   ]
  },
  {
   "cell_type": "code",
   "execution_count": null,
   "metadata": {},
   "outputs": [],
   "source": [
    "cmon.run()"
   ]
  },
  {
   "cell_type": "code",
   "execution_count": null,
   "metadata": {},
   "outputs": [],
   "source": []
  },
  {
   "cell_type": "code",
   "execution_count": null,
   "metadata": {},
   "outputs": [],
   "source": [
    "lb = dg.data_things.LoadLeaderboard()"
   ]
  },
  {
   "cell_type": "code",
   "execution_count": null,
   "metadata": {},
   "outputs": [],
   "source": [
    "lb.tourney_status"
   ]
  },
  {
   "cell_type": "code",
   "execution_count": null,
   "metadata": {},
   "outputs": [],
   "source": [
    "lb.scrape_espn_leaderboard(lb.url_lb)"
   ]
  },
  {
   "cell_type": "code",
   "execution_count": null,
   "metadata": {},
   "outputs": [],
   "source": [
    "lb.data"
   ]
  },
  {
   "cell_type": "code",
   "execution_count": null,
   "metadata": {},
   "outputs": [],
   "source": [
    "lb.determine_tourney_status()"
   ]
  },
  {
   "cell_type": "code",
   "execution_count": null,
   "metadata": {},
   "outputs": [],
   "source": []
  },
  {
   "cell_type": "code",
   "execution_count": null,
   "metadata": {},
   "outputs": [],
   "source": []
  },
  {
   "cell_type": "code",
   "execution_count": null,
   "metadata": {},
   "outputs": [],
   "source": []
  },
  {
   "cell_type": "code",
   "execution_count": null,
   "metadata": {},
   "outputs": [],
   "source": [
    "lb.load_tourney_status()"
   ]
  },
  {
   "cell_type": "code",
   "execution_count": null,
   "metadata": {},
   "outputs": [],
   "source": []
  },
  {
   "cell_type": "code",
   "execution_count": null,
   "metadata": {},
   "outputs": [],
   "source": []
  },
  {
   "cell_type": "code",
   "execution_count": null,
   "metadata": {},
   "outputs": [],
   "source": [
    "vamp.run()"
   ]
  },
  {
   "cell_type": "code",
   "execution_count": null,
   "metadata": {},
   "outputs": [],
   "source": [
    "vamp.tourney_status"
   ]
  },
  {
   "cell_type": "code",
   "execution_count": null,
   "metadata": {},
   "outputs": [],
   "source": [
    "new = dg.data_things.PullLeaderboard(user_id=10)"
   ]
  },
  {
   "cell_type": "code",
   "execution_count": null,
   "metadata": {},
   "outputs": [],
   "source": [
    "new.tourney_status"
   ]
  },
  {
   "cell_type": "code",
   "execution_count": null,
   "metadata": {},
   "outputs": [],
   "source": [
    "new.run()"
   ]
  },
  {
   "cell_type": "code",
   "execution_count": null,
   "metadata": {},
   "outputs": [],
   "source": [
    "new.pull_tourney_leaderboard()"
   ]
  },
  {
   "cell_type": "code",
   "execution_count": null,
   "metadata": {},
   "outputs": [],
   "source": [
    "new.user_df"
   ]
  },
  {
   "cell_type": "code",
   "execution_count": null,
   "metadata": {},
   "outputs": [],
   "source": [
    "new.user_id"
   ]
  },
  {
   "cell_type": "code",
   "execution_count": null,
   "metadata": {},
   "outputs": [],
   "source": [
    "new.pull_users_team()"
   ]
  },
  {
   "cell_type": "code",
   "execution_count": null,
   "metadata": {},
   "outputs": [],
   "source": [
    "new.data"
   ]
  },
  {
   "cell_type": "code",
   "execution_count": null,
   "metadata": {},
   "outputs": [],
   "source": [
    "new.pull_tourney_leaderboard()"
   ]
  },
  {
   "cell_type": "code",
   "execution_count": null,
   "metadata": {},
   "outputs": [],
   "source": [
    "getattr(new, 'user_df')"
   ]
  },
  {
   "cell_type": "code",
   "execution_count": null,
   "metadata": {},
   "outputs": [],
   "source": []
  },
  {
   "cell_type": "code",
   "execution_count": null,
   "metadata": {},
   "outputs": [],
   "source": [
    "print(getsource(new.pull_tourney_leaderboard))"
   ]
  },
  {
   "cell_type": "code",
   "execution_count": null,
   "metadata": {},
   "outputs": [],
   "source": [
    "new.user_df"
   ]
  },
  {
   "cell_type": "code",
   "execution_count": null,
   "metadata": {},
   "outputs": [],
   "source": [
    "pd.merge(new.data, new.user_df,\n",
    "        how='outer',\n",
    "        on='player')"
   ]
  },
  {
   "cell_type": "code",
   "execution_count": null,
   "metadata": {},
   "outputs": [],
   "source": [
    "new.tourney_status"
   ]
  },
  {
   "cell_type": "code",
   "execution_count": null,
   "metadata": {},
   "outputs": [],
   "source": [
    "gs = dg.data_things.GameScoreboard()"
   ]
  },
  {
   "cell_type": "code",
   "execution_count": null,
   "metadata": {},
   "outputs": [],
   "source": [
    "gs.tourney_status"
   ]
  },
  {
   "cell_type": "code",
   "execution_count": null,
   "metadata": {},
   "outputs": [],
   "source": [
    "gs.run()"
   ]
  },
  {
   "cell_type": "code",
   "execution_count": null,
   "metadata": {},
   "outputs": [],
   "source": [
    "wha = dg.data_things.LoadWorldRankings()"
   ]
  },
  {
   "cell_type": "code",
   "execution_count": null,
   "metadata": {},
   "outputs": [],
   "source": [
    "wha = dg.data_things.TournamentInfo()"
   ]
  },
  {
   "cell_type": "code",
   "execution_count": null,
   "metadata": {},
   "outputs": [],
   "source": [
    "wha.run()"
   ]
  },
  {
   "cell_type": "code",
   "execution_count": null,
   "metadata": {},
   "outputs": [],
   "source": [
    "draft = dg.data_things.DraftDay()"
   ]
  },
  {
   "cell_type": "code",
   "execution_count": null,
   "metadata": {},
   "outputs": [],
   "source": [
    "draft.run()"
   ]
  },
  {
   "cell_type": "code",
   "execution_count": null,
   "metadata": {},
   "outputs": [],
   "source": [
    "df = draft.data"
   ]
  },
  {
   "cell_type": "code",
   "execution_count": null,
   "metadata": {},
   "outputs": [],
   "source": [
    "for col in ['current_rank','events_played','rank']:\n",
    "    self.data.loc[self.data[col].notnull(), col] = self.data.loc[self.data[col].notnull(), col].astype(int).astype(str)"
   ]
  },
  {
   "cell_type": "code",
   "execution_count": null,
   "metadata": {},
   "outputs": [],
   "source": [
    "df"
   ]
  },
  {
   "cell_type": "code",
   "execution_count": null,
   "metadata": {},
   "outputs": [],
   "source": []
  },
  {
   "cell_type": "code",
   "execution_count": null,
   "metadata": {},
   "outputs": [],
   "source": [
    "draft.data['current_rank']"
   ]
  },
  {
   "cell_type": "code",
   "execution_count": null,
   "metadata": {},
   "outputs": [],
   "source": []
  },
  {
   "cell_type": "code",
   "execution_count": null,
   "metadata": {},
   "outputs": [],
   "source": []
  },
  {
   "cell_type": "code",
   "execution_count": null,
   "metadata": {},
   "outputs": [],
   "source": []
  },
  {
   "cell_type": "code",
   "execution_count": null,
   "metadata": {},
   "outputs": [],
   "source": [
    "vamp.new_determine_status()['value'][0].strip()"
   ]
  },
  {
   "cell_type": "code",
   "execution_count": null,
   "metadata": {},
   "outputs": [],
   "source": []
  },
  {
   "cell_type": "code",
   "execution_count": null,
   "metadata": {},
   "outputs": [],
   "source": []
  },
  {
   "cell_type": "code",
   "execution_count": null,
   "metadata": {},
   "outputs": [],
   "source": [
    "vamp.run()"
   ]
  },
  {
   "cell_type": "code",
   "execution_count": null,
   "metadata": {},
   "outputs": [],
   "source": [
    "vamp.load_tourney_status()"
   ]
  },
  {
   "cell_type": "code",
   "execution_count": null,
   "metadata": {},
   "outputs": [],
   "source": [
    "vamp.load_status_sql"
   ]
  },
  {
   "cell_type": "code",
   "execution_count": null,
   "metadata": {},
   "outputs": [],
   "source": [
    "with psycopg2.connect(vamp.conf.db_url) as conn:\n",
    "    cur = conn.cursor()\n",
    "    cur.execute(\"delete from donkey_variables where metric = 'current_tourney_status';\")\n",
    "    cur.execute(\"INSERT INTO donkey_variables VALUES ('current_tourney_status', 'pre_tourney');\")\n",
    "    #cur.close()"
   ]
  },
  {
   "cell_type": "code",
   "execution_count": null,
   "metadata": {},
   "outputs": [],
   "source": []
  },
  {
   "cell_type": "code",
   "execution_count": null,
   "metadata": {},
   "outputs": [],
   "source": []
  },
  {
   "cell_type": "code",
   "execution_count": null,
   "metadata": {},
   "outputs": [],
   "source": [
    "conn = psycopg2.connect(host=pg_credential.hostname,\n",
    "                        port=pg_credential.port,\n",
    "                        user=pg_credential.username,\n",
    "                        password=pg_credential.password,\n",
    "                        database=pg_credential.path[1:]) # To remove slash\n",
    "\n",
    "cursor = conn.cursor()\n",
    "cursor.execute(\"INSERT INTO a_table (c1, c2, c3) VALUES(%s, %s, %s)\", (v1, v2, v3))"
   ]
  },
  {
   "cell_type": "code",
   "execution_count": null,
   "metadata": {},
   "outputs": [],
   "source": []
  },
  {
   "cell_type": "code",
   "execution_count": null,
   "metadata": {},
   "outputs": [],
   "source": []
  },
  {
   "cell_type": "code",
   "execution_count": null,
   "metadata": {},
   "outputs": [],
   "source": []
  },
  {
   "cell_type": "code",
   "execution_count": null,
   "metadata": {},
   "outputs": [],
   "source": [
    "getattr(cmon, 'tourney_status')"
   ]
  },
  {
   "cell_type": "code",
   "execution_count": null,
   "metadata": {},
   "outputs": [],
   "source": [
    "vamp.load_tourney_status()"
   ]
  },
  {
   "cell_type": "code",
   "execution_count": null,
   "metadata": {},
   "outputs": [],
   "source": []
  },
  {
   "cell_type": "code",
   "execution_count": null,
   "metadata": {},
   "outputs": [],
   "source": [
    "vamp.tourney_status"
   ]
  },
  {
   "cell_type": "code",
   "execution_count": null,
   "metadata": {},
   "outputs": [],
   "source": [
    "pd.read_sql(\"INSERT INTO donkey_variables VALUES ('current_tourney_status', 'pre_tourney');\")"
   ]
  },
  {
   "cell_type": "code",
   "execution_count": null,
   "metadata": {},
   "outputs": [],
   "source": []
  },
  {
   "cell_type": "code",
   "execution_count": null,
   "metadata": {},
   "outputs": [],
   "source": [
    "cmon = dg.data_things.PullLeaderboard(user_id=5)"
   ]
  },
  {
   "cell_type": "code",
   "execution_count": null,
   "metadata": {},
   "outputs": [],
   "source": [
    "cmon.run()"
   ]
  },
  {
   "cell_type": "code",
   "execution_count": null,
   "metadata": {},
   "outputs": [],
   "source": [
    "cmon.tourney_status"
   ]
  },
  {
   "cell_type": "code",
   "execution_count": null,
   "metadata": {},
   "outputs": [],
   "source": [
    "cmon.pull_tourney_leaderboard()"
   ]
  },
  {
   "cell_type": "code",
   "execution_count": null,
   "metadata": {},
   "outputs": [],
   "source": [
    "if cmon.data.empty:\n",
    "    print(\"EMPTY\")"
   ]
  },
  {
   "cell_type": "code",
   "execution_count": null,
   "metadata": {},
   "outputs": [],
   "source": [
    "cmon.tourney_status"
   ]
  },
  {
   "cell_type": "code",
   "execution_count": null,
   "metadata": {},
   "outputs": [],
   "source": [
    "getattr(cmon, 'tourney_status')"
   ]
  },
  {
   "cell_type": "code",
   "execution_count": null,
   "metadata": {},
   "outputs": [],
   "source": [
    "getattr(cmon, 'tourney_statusss', 'whoops')"
   ]
  },
  {
   "cell_type": "code",
   "execution_count": null,
   "metadata": {},
   "outputs": [],
   "source": [
    "sb = dg.data_things.GameScoreboard()"
   ]
  },
  {
   "cell_type": "code",
   "execution_count": null,
   "metadata": {},
   "outputs": [],
   "source": [
    "sb.run()"
   ]
  },
  {
   "cell_type": "code",
   "execution_count": null,
   "metadata": {},
   "outputs": [],
   "source": []
  },
  {
   "cell_type": "code",
   "execution_count": null,
   "metadata": {},
   "outputs": [],
   "source": []
  },
  {
   "cell_type": "code",
   "execution_count": null,
   "metadata": {},
   "outputs": [],
   "source": []
  },
  {
   "cell_type": "code",
   "execution_count": null,
   "metadata": {},
   "outputs": [],
   "source": []
  },
  {
   "cell_type": "code",
   "execution_count": null,
   "metadata": {},
   "outputs": [],
   "source": [
    "vamp.golfer_count_by_team"
   ]
  },
  {
   "cell_type": "code",
   "execution_count": null,
   "metadata": {},
   "outputs": [],
   "source": [
    "df = vamp.data"
   ]
  },
  {
   "cell_type": "code",
   "execution_count": null,
   "metadata": {},
   "outputs": [],
   "source": [
    "df.head(2)"
   ]
  },
  {
   "cell_type": "code",
   "execution_count": null,
   "metadata": {},
   "outputs": [],
   "source": [
    "df.loc[df['team_count']> 0]"
   ]
  },
  {
   "cell_type": "code",
   "execution_count": null,
   "metadata": {},
   "outputs": [],
   "source": []
  },
  {
   "cell_type": "code",
   "execution_count": null,
   "metadata": {},
   "outputs": [],
   "source": [
    "huh = dg.data_things.PullLeaderboard(user_id=6)"
   ]
  },
  {
   "cell_type": "code",
   "execution_count": null,
   "metadata": {},
   "outputs": [],
   "source": [
    "huh.run()"
   ]
  },
  {
   "cell_type": "code",
   "execution_count": null,
   "metadata": {},
   "outputs": [],
   "source": [
    "huh.data['team_count'].value_counts()"
   ]
  },
  {
   "cell_type": "code",
   "execution_count": null,
   "metadata": {},
   "outputs": [],
   "source": [
    "df_tourney = huh.data\n",
    "df_tourney = df_tourney.loc[df_tourney['team_count'] > 0]"
   ]
  },
  {
   "cell_type": "code",
   "execution_count": null,
   "metadata": {},
   "outputs": [],
   "source": [
    "from datetime import datetime"
   ]
  },
  {
   "cell_type": "code",
   "execution_count": null,
   "metadata": {},
   "outputs": [],
   "source": [
    "datetime.today()"
   ]
  },
  {
   "cell_type": "code",
   "execution_count": null,
   "metadata": {},
   "outputs": [],
   "source": []
  },
  {
   "cell_type": "code",
   "execution_count": null,
   "metadata": {},
   "outputs": [],
   "source": [
    "df_tourney"
   ]
  },
  {
   "cell_type": "code",
   "execution_count": null,
   "metadata": {},
   "outputs": [],
   "source": [
    "ada = dg.data_things.PullLeaderboard(user_id=5)"
   ]
  },
  {
   "cell_type": "code",
   "execution_count": null,
   "metadata": {},
   "outputs": [],
   "source": [
    "ada.pull_tourney_leaderboard()"
   ]
  },
  {
   "cell_type": "code",
   "execution_count": null,
   "metadata": {},
   "outputs": [],
   "source": [
    "ada.data.team_count.value_counts()"
   ]
  },
  {
   "cell_type": "code",
   "execution_count": null,
   "metadata": {},
   "outputs": [],
   "source": []
  },
  {
   "cell_type": "code",
   "execution_count": null,
   "metadata": {},
   "outputs": [],
   "source": [
    "ada.calc_refresh_date()"
   ]
  },
  {
   "cell_type": "code",
   "execution_count": null,
   "metadata": {},
   "outputs": [],
   "source": [
    "ada.determine_tourney_status()"
   ]
  },
  {
   "cell_type": "code",
   "execution_count": null,
   "metadata": {},
   "outputs": [],
   "source": [
    "ada.pull_users_team()"
   ]
  },
  {
   "cell_type": "code",
   "execution_count": null,
   "metadata": {},
   "outputs": [],
   "source": [
    "ada.user_df"
   ]
  },
  {
   "cell_type": "code",
   "execution_count": null,
   "metadata": {},
   "outputs": [],
   "source": [
    "ada.sql_user"
   ]
  },
  {
   "cell_type": "code",
   "execution_count": null,
   "metadata": {},
   "outputs": [],
   "source": []
  }
 ],
 "metadata": {
  "kernelspec": {
   "display_name": "venv_dgolf",
   "language": "python",
   "name": "venv_dgolf"
  },
  "language_info": {
   "codemirror_mode": {
    "name": "ipython",
    "version": 3
   },
   "file_extension": ".py",
   "mimetype": "text/x-python",
   "name": "python",
   "nbconvert_exporter": "python",
   "pygments_lexer": "ipython3",
   "version": "3.7.3"
  }
 },
 "nbformat": 4,
 "nbformat_minor": 2
}
