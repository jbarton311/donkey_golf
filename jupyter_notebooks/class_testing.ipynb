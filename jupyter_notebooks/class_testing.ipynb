{
 "cells": [
  {
   "cell_type": "code",
   "execution_count": 1,
   "metadata": {},
   "outputs": [
    {
     "name": "stdout",
     "output_type": "stream",
     "text": [
      "/Users/amlvt225/Code/GitHub/donkey_golf\n"
     ]
    }
   ],
   "source": [
    "cd .."
   ]
  },
  {
   "cell_type": "code",
   "execution_count": 2,
   "metadata": {
    "scrolled": true
   },
   "outputs": [
    {
     "name": "stderr",
     "output_type": "stream",
     "text": [
      "/Users/amlvt225/Code/VirtualEnvs/venv_dgolf/lib/python3.7/site-packages/flask_sqlalchemy/__init__.py:794: FSADeprecationWarning: SQLALCHEMY_TRACK_MODIFICATIONS adds significant overhead and will be disabled by default in the future.  Set it to True or False to suppress this warning.\n",
      "  'SQLALCHEMY_TRACK_MODIFICATIONS adds significant overhead and '\n"
     ]
    }
   ],
   "source": [
    "from inspect import getsource\n",
    "\n",
    "import donkey_golf as dg\n",
    "\n",
    "import donkey_golf.data_things as DT\n",
    "\n",
    "import oyaml\n",
    "import pandas as pd\n",
    "import logging\n",
    "import psycopg2\n",
    "\n",
    "from sqlalchemy import create_engine\n",
    "\n",
    "from donkey_golf import config\n",
    "\n",
    "# create logger\n",
    "logger = logging.getLogger(__name__)\n",
    "logger.setLevel(logging.DEBUG)\n",
    "\n",
    "# create console handler and set level to debug\n",
    "ch = logging.StreamHandler()\n",
    "ch.setLevel(logging.DEBUG)\n",
    "\n",
    "# create formatter\n",
    "formatter = logging.Formatter('%(asctime)s - %(name)s - %(levelname)s - %(message)s')\n",
    "\n",
    "# add formatter to ch\n",
    "ch.setFormatter(formatter)\n",
    "\n",
    "# add ch to logger\n",
    "logger.addHandler(ch)"
   ]
  },
  {
   "cell_type": "code",
   "execution_count": 3,
   "metadata": {},
   "outputs": [
    {
     "name": "stderr",
     "output_type": "stream",
     "text": [
      "2019-05-13 21:41:50,505 - donkey_golf.data_things.base_class - DEBUG - ABOUT TO SET yaml_sql_dict\n",
      "2019-05-13 21:41:50,515 - donkey_golf.data_things.base_class - INFO - Executing run_sql\n",
      "2019-05-13 21:41:50,847 - donkey_golf.data_things.base_class - INFO - Current tourney ID: 401056552\n",
      "2019-05-13 21:41:50,848 - donkey_golf.data_things.base_class - INFO - Executing run_sql\n"
     ]
    }
   ],
   "source": [
    "lb = DT.PullLeaderboard(user_id=6)"
   ]
  },
  {
   "cell_type": "code",
   "execution_count": 4,
   "metadata": {},
   "outputs": [
    {
     "data": {
      "text/plain": [
       "'pre_tourney'"
      ]
     },
     "execution_count": 4,
     "metadata": {},
     "output_type": "execute_result"
    }
   ],
   "source": [
    "lb.tourney_status"
   ]
  },
  {
   "cell_type": "code",
   "execution_count": 5,
   "metadata": {},
   "outputs": [
    {
     "name": "stderr",
     "output_type": "stream",
     "text": [
      "2019-05-13 21:41:52,825 - donkey_golf.data_things.base_class - INFO - Executing run_sql\n",
      "2019-05-13 21:41:53,076 - donkey_golf.data_things.tourney_leaderboard - INFO - Pulling users pre_tourney team\n",
      "2019-05-13 21:41:53,077 - donkey_golf.data_things.base_class - INFO - Executing run_sql\n",
      "2019-05-13 21:41:53,334 - donkey_golf.data_things.tourney_leaderboard - INFO - Determing data refresh times\n",
      "2019-05-13 21:41:53,335 - donkey_golf.data_things.tourney_leaderboard - INFO - Tourney hasnt started yet - no relevant data in database \n"
     ]
    }
   ],
   "source": [
    "lb.run()"
   ]
  },
  {
   "cell_type": "code",
   "execution_count": 6,
   "metadata": {},
   "outputs": [
    {
     "name": "stderr",
     "output_type": "stream",
     "text": [
      "2019-05-13 21:41:54,673 - donkey_golf.data_things.base_class - INFO - Executing run_sql\n"
     ]
    }
   ],
   "source": [
    "lb.pull_pre_tourney_data()"
   ]
  },
  {
   "cell_type": "code",
   "execution_count": 23,
   "metadata": {},
   "outputs": [],
   "source": [
    "lb.df_pre_tourney['current_rank'] = lb.df_pre_tourney['current_rank'].fillna(9999).astype(int).astype(str)\n",
    "\n",
    "lb.df_pre_tourney['current_rank'] = lb.df_pre_tourney['current_rank'].replace('9999', '-')"
   ]
  },
  {
   "cell_type": "code",
   "execution_count": 28,
   "metadata": {},
   "outputs": [
    {
     "data": {
      "text/html": [
       "<div>\n",
       "<style scoped>\n",
       "    .dataframe tbody tr th:only-of-type {\n",
       "        vertical-align: middle;\n",
       "    }\n",
       "\n",
       "    .dataframe tbody tr th {\n",
       "        vertical-align: top;\n",
       "    }\n",
       "\n",
       "    .dataframe thead th {\n",
       "        text-align: right;\n",
       "    }\n",
       "</style>\n",
       "<table border=\"1\" class=\"dataframe\">\n",
       "  <thead>\n",
       "    <tr style=\"text-align: right;\">\n",
       "      <th></th>\n",
       "      <th>player</th>\n",
       "      <th>tee_time</th>\n",
       "      <th>current_rank</th>\n",
       "      <th>events_played</th>\n",
       "    </tr>\n",
       "  </thead>\n",
       "  <tbody>\n",
       "    <tr>\n",
       "      <th>0</th>\n",
       "      <td>Dustin Johnson</td>\n",
       "      <td>1:16 PM</td>\n",
       "      <td>1</td>\n",
       "      <td>47.0</td>\n",
       "    </tr>\n",
       "    <tr>\n",
       "      <th>1</th>\n",
       "      <td>Justin Rose</td>\n",
       "      <td>8:02 AM</td>\n",
       "      <td>2</td>\n",
       "      <td>47.0</td>\n",
       "    </tr>\n",
       "    <tr>\n",
       "      <th>2</th>\n",
       "      <td>Brooks Koepka</td>\n",
       "      <td>8:24 AM</td>\n",
       "      <td>3</td>\n",
       "      <td>44.0</td>\n",
       "    </tr>\n",
       "    <tr>\n",
       "      <th>3</th>\n",
       "      <td>Rory McIlroy</td>\n",
       "      <td>1:38 PM</td>\n",
       "      <td>4</td>\n",
       "      <td>46.0</td>\n",
       "    </tr>\n",
       "    <tr>\n",
       "      <th>4</th>\n",
       "      <td>Tiger Woods</td>\n",
       "      <td>8:24 AM</td>\n",
       "      <td>6</td>\n",
       "      <td>26.0</td>\n",
       "    </tr>\n",
       "    <tr>\n",
       "      <th>5</th>\n",
       "      <td>Francesco Molinari</td>\n",
       "      <td>8:24 AM</td>\n",
       "      <td>7</td>\n",
       "      <td>47.0</td>\n",
       "    </tr>\n",
       "    <tr>\n",
       "      <th>6</th>\n",
       "      <td>Bryson DeChambeau</td>\n",
       "      <td>1:27 PM</td>\n",
       "      <td>8</td>\n",
       "      <td>56.0</td>\n",
       "    </tr>\n",
       "    <tr>\n",
       "      <th>7</th>\n",
       "      <td>Xander Schauffele</td>\n",
       "      <td>8:13 AM</td>\n",
       "      <td>9</td>\n",
       "      <td>57.0</td>\n",
       "    </tr>\n",
       "    <tr>\n",
       "      <th>8</th>\n",
       "      <td>Rickie Fowler</td>\n",
       "      <td>8:02 AM</td>\n",
       "      <td>10</td>\n",
       "      <td>46.0</td>\n",
       "    </tr>\n",
       "    <tr>\n",
       "      <th>9</th>\n",
       "      <td>Jon Rahm</td>\n",
       "      <td>1:16 PM</td>\n",
       "      <td>11</td>\n",
       "      <td>52.0</td>\n",
       "    </tr>\n",
       "    <tr>\n",
       "      <th>10</th>\n",
       "      <td>Paul Casey</td>\n",
       "      <td>12:32 PM</td>\n",
       "      <td>12</td>\n",
       "      <td>48.0</td>\n",
       "    </tr>\n",
       "    <tr>\n",
       "      <th>11</th>\n",
       "      <td>Jason Day</td>\n",
       "      <td>1:38 PM</td>\n",
       "      <td>13</td>\n",
       "      <td>43.0</td>\n",
       "    </tr>\n",
       "    <tr>\n",
       "      <th>12</th>\n",
       "      <td>Tony Finau</td>\n",
       "      <td>12:43 PM</td>\n",
       "      <td>14</td>\n",
       "      <td>56.0</td>\n",
       "    </tr>\n",
       "    <tr>\n",
       "      <th>13</th>\n",
       "      <td>Tommy Fleetwood</td>\n",
       "      <td>7:29 AM</td>\n",
       "      <td>15</td>\n",
       "      <td>58.0</td>\n",
       "    </tr>\n",
       "    <tr>\n",
       "      <th>14</th>\n",
       "      <td>Matt Kuchar</td>\n",
       "      <td>1:49 PM</td>\n",
       "      <td>16</td>\n",
       "      <td>56.0</td>\n",
       "    </tr>\n",
       "    <tr>\n",
       "      <th>15</th>\n",
       "      <td>Bubba Watson</td>\n",
       "      <td>8:02 AM</td>\n",
       "      <td>17</td>\n",
       "      <td>47.0</td>\n",
       "    </tr>\n",
       "    <tr>\n",
       "      <th>16</th>\n",
       "      <td>Patrick Cantlay</td>\n",
       "      <td>1:05 PM</td>\n",
       "      <td>18</td>\n",
       "      <td>41.0</td>\n",
       "    </tr>\n",
       "    <tr>\n",
       "      <th>17</th>\n",
       "      <td>Patrick Reed</td>\n",
       "      <td>7:51 AM</td>\n",
       "      <td>19</td>\n",
       "      <td>62.0</td>\n",
       "    </tr>\n",
       "    <tr>\n",
       "      <th>18</th>\n",
       "      <td>Webb Simpson</td>\n",
       "      <td>1:38 PM</td>\n",
       "      <td>20</td>\n",
       "      <td>50.0</td>\n",
       "    </tr>\n",
       "    <tr>\n",
       "      <th>19</th>\n",
       "      <td>Louis Oosthuizen</td>\n",
       "      <td>7:51 AM</td>\n",
       "      <td>21</td>\n",
       "      <td>43.0</td>\n",
       "    </tr>\n",
       "    <tr>\n",
       "      <th>20</th>\n",
       "      <td>Marc Leishman</td>\n",
       "      <td>2:00 PM</td>\n",
       "      <td>22</td>\n",
       "      <td>52.0</td>\n",
       "    </tr>\n",
       "    <tr>\n",
       "      <th>21</th>\n",
       "      <td>Phil Mickelson</td>\n",
       "      <td>1:38 PM</td>\n",
       "      <td>23</td>\n",
       "      <td>47.0</td>\n",
       "    </tr>\n",
       "    <tr>\n",
       "      <th>22</th>\n",
       "      <td>Gary Woodland</td>\n",
       "      <td>12:54 PM</td>\n",
       "      <td>24</td>\n",
       "      <td>54.0</td>\n",
       "    </tr>\n",
       "    <tr>\n",
       "      <th>23</th>\n",
       "      <td>Kevin Kisner</td>\n",
       "      <td>1:27 PM</td>\n",
       "      <td>25</td>\n",
       "      <td>52.0</td>\n",
       "    </tr>\n",
       "    <tr>\n",
       "      <th>24</th>\n",
       "      <td>Hideki Matsuyama</td>\n",
       "      <td>8:13 AM</td>\n",
       "      <td>26</td>\n",
       "      <td>49.0</td>\n",
       "    </tr>\n",
       "    <tr>\n",
       "      <th>25</th>\n",
       "      <td>Adam Scott</td>\n",
       "      <td>7:40 AM</td>\n",
       "      <td>27</td>\n",
       "      <td>42.0</td>\n",
       "    </tr>\n",
       "    <tr>\n",
       "      <th>26</th>\n",
       "      <td>Sergio Garcia</td>\n",
       "      <td>7:40 AM</td>\n",
       "      <td>28</td>\n",
       "      <td>50.0</td>\n",
       "    </tr>\n",
       "    <tr>\n",
       "      <th>27</th>\n",
       "      <td>Cameron Smith</td>\n",
       "      <td>1:49 PM</td>\n",
       "      <td>29</td>\n",
       "      <td>51.0</td>\n",
       "    </tr>\n",
       "    <tr>\n",
       "      <th>28</th>\n",
       "      <td>Ian Poulter</td>\n",
       "      <td>12:43 PM</td>\n",
       "      <td>30</td>\n",
       "      <td>56.0</td>\n",
       "    </tr>\n",
       "    <tr>\n",
       "      <th>29</th>\n",
       "      <td>Rafael Cabrera Bello</td>\n",
       "      <td>12:54 PM</td>\n",
       "      <td>31</td>\n",
       "      <td>59.0</td>\n",
       "    </tr>\n",
       "    <tr>\n",
       "      <th>...</th>\n",
       "      <td>...</td>\n",
       "      <td>...</td>\n",
       "      <td>...</td>\n",
       "      <td>...</td>\n",
       "    </tr>\n",
       "    <tr>\n",
       "      <th>126</th>\n",
       "      <td>Steve Stricker</td>\n",
       "      <td>1:05 PM</td>\n",
       "      <td>366</td>\n",
       "      <td>24.0</td>\n",
       "    </tr>\n",
       "    <tr>\n",
       "      <th>127</th>\n",
       "      <td>Max Homa</td>\n",
       "      <td>7:07 AM</td>\n",
       "      <td>411</td>\n",
       "      <td>54.0</td>\n",
       "    </tr>\n",
       "    <tr>\n",
       "      <th>128</th>\n",
       "      <td>Vijay Singh</td>\n",
       "      <td>7:40 AM</td>\n",
       "      <td>481</td>\n",
       "      <td>26.0</td>\n",
       "    </tr>\n",
       "    <tr>\n",
       "      <th>129</th>\n",
       "      <td>John Daly</td>\n",
       "      <td>12:54 PM</td>\n",
       "      <td>1792</td>\n",
       "      <td>14.0</td>\n",
       "    </tr>\n",
       "    <tr>\n",
       "      <th>130</th>\n",
       "      <td>Marty Jertson</td>\n",
       "      <td>8:46 AM</td>\n",
       "      <td>2041</td>\n",
       "      <td>1.0</td>\n",
       "    </tr>\n",
       "    <tr>\n",
       "      <th>131</th>\n",
       "      <td>Casey Russell</td>\n",
       "      <td>8:46 AM</td>\n",
       "      <td>2041</td>\n",
       "      <td>1.0</td>\n",
       "    </tr>\n",
       "    <tr>\n",
       "      <th>132</th>\n",
       "      <td>Justin Bertsch</td>\n",
       "      <td>12:10 PM</td>\n",
       "      <td>2041</td>\n",
       "      <td>1.0</td>\n",
       "    </tr>\n",
       "    <tr>\n",
       "      <th>133</th>\n",
       "      <td>Ryan Vermeer</td>\n",
       "      <td>12:10 PM</td>\n",
       "      <td>2041</td>\n",
       "      <td>7.0</td>\n",
       "    </tr>\n",
       "    <tr>\n",
       "      <th>134</th>\n",
       "      <td>Craig Bowden</td>\n",
       "      <td>8:57 AM</td>\n",
       "      <td>2041</td>\n",
       "      <td>4.0</td>\n",
       "    </tr>\n",
       "    <tr>\n",
       "      <th>135</th>\n",
       "      <td>Rod Perry</td>\n",
       "      <td>12:21 PM</td>\n",
       "      <td>2041</td>\n",
       "      <td>4.0</td>\n",
       "    </tr>\n",
       "    <tr>\n",
       "      <th>136</th>\n",
       "      <td>Rich Beem</td>\n",
       "      <td>12:54 PM</td>\n",
       "      <td>2041</td>\n",
       "      <td>2.0</td>\n",
       "    </tr>\n",
       "    <tr>\n",
       "      <th>137</th>\n",
       "      <td>Shaun Micheel</td>\n",
       "      <td>1:16 PM</td>\n",
       "      <td>2041</td>\n",
       "      <td>24.0</td>\n",
       "    </tr>\n",
       "    <tr>\n",
       "      <th>138</th>\n",
       "      <td>Stuart Deane</td>\n",
       "      <td>2:11 PM</td>\n",
       "      <td>2041</td>\n",
       "      <td>2.0</td>\n",
       "    </tr>\n",
       "    <tr>\n",
       "      <th>139</th>\n",
       "      <td>Andrew Filbert</td>\n",
       "      <td>2:22 PM</td>\n",
       "      <td>2041</td>\n",
       "      <td>3.0</td>\n",
       "    </tr>\n",
       "    <tr>\n",
       "      <th>140</th>\n",
       "      <td>Craig Hocknull</td>\n",
       "      <td>2:22 PM</td>\n",
       "      <td>2041</td>\n",
       "      <td>2.0</td>\n",
       "    </tr>\n",
       "    <tr>\n",
       "      <th>141</th>\n",
       "      <td>J.J. Spaun</td>\n",
       "      <td>6:45 AM</td>\n",
       "      <td>-</td>\n",
       "      <td>NaN</td>\n",
       "    </tr>\n",
       "    <tr>\n",
       "      <th>142</th>\n",
       "      <td>Danny Balin</td>\n",
       "      <td>2:00 PM</td>\n",
       "      <td>-</td>\n",
       "      <td>NaN</td>\n",
       "    </tr>\n",
       "    <tr>\n",
       "      <th>143</th>\n",
       "      <td>John O'Leary</td>\n",
       "      <td>7:18 AM</td>\n",
       "      <td>-</td>\n",
       "      <td>NaN</td>\n",
       "    </tr>\n",
       "    <tr>\n",
       "      <th>144</th>\n",
       "      <td>Rob Labritz</td>\n",
       "      <td>6:45 AM</td>\n",
       "      <td>-</td>\n",
       "      <td>NaN</td>\n",
       "    </tr>\n",
       "    <tr>\n",
       "      <th>145</th>\n",
       "      <td>Sung-jae Im</td>\n",
       "      <td>8:57 AM</td>\n",
       "      <td>-</td>\n",
       "      <td>NaN</td>\n",
       "    </tr>\n",
       "    <tr>\n",
       "      <th>146</th>\n",
       "      <td>Jason Caron</td>\n",
       "      <td>7:07 AM</td>\n",
       "      <td>-</td>\n",
       "      <td>NaN</td>\n",
       "    </tr>\n",
       "    <tr>\n",
       "      <th>147</th>\n",
       "      <td>Tyler Hall</td>\n",
       "      <td>2:11 PM</td>\n",
       "      <td>-</td>\n",
       "      <td>NaN</td>\n",
       "    </tr>\n",
       "    <tr>\n",
       "      <th>148</th>\n",
       "      <td>Byeong-Hun An</td>\n",
       "      <td>7:07 AM</td>\n",
       "      <td>-</td>\n",
       "      <td>NaN</td>\n",
       "    </tr>\n",
       "    <tr>\n",
       "      <th>149</th>\n",
       "      <td>Sung Kang</td>\n",
       "      <td>1:16 PM</td>\n",
       "      <td>-</td>\n",
       "      <td>NaN</td>\n",
       "    </tr>\n",
       "    <tr>\n",
       "      <th>150</th>\n",
       "      <td>Rich Berberian Jr.</td>\n",
       "      <td>12:21 PM</td>\n",
       "      <td>-</td>\n",
       "      <td>NaN</td>\n",
       "    </tr>\n",
       "    <tr>\n",
       "      <th>151</th>\n",
       "      <td>Jeffrey Schmid</td>\n",
       "      <td>6:56 AM</td>\n",
       "      <td>-</td>\n",
       "      <td>NaN</td>\n",
       "    </tr>\n",
       "    <tr>\n",
       "      <th>152</th>\n",
       "      <td>Brian Mackey</td>\n",
       "      <td>8:35 AM</td>\n",
       "      <td>-</td>\n",
       "      <td>NaN</td>\n",
       "    </tr>\n",
       "    <tr>\n",
       "      <th>153</th>\n",
       "      <td>Ben Cook</td>\n",
       "      <td>6:45 AM</td>\n",
       "      <td>-</td>\n",
       "      <td>NaN</td>\n",
       "    </tr>\n",
       "    <tr>\n",
       "      <th>154</th>\n",
       "      <td>Cory Schneider</td>\n",
       "      <td>8:57 AM</td>\n",
       "      <td>-</td>\n",
       "      <td>NaN</td>\n",
       "    </tr>\n",
       "    <tr>\n",
       "      <th>155</th>\n",
       "      <td>Alex Beach</td>\n",
       "      <td>1:16 PM</td>\n",
       "      <td>-</td>\n",
       "      <td>NaN</td>\n",
       "    </tr>\n",
       "  </tbody>\n",
       "</table>\n",
       "<p>156 rows × 4 columns</p>\n",
       "</div>"
      ],
      "text/plain": [
       "                   player  tee_time current_rank  events_played\n",
       "0          Dustin Johnson   1:16 PM            1           47.0\n",
       "1             Justin Rose   8:02 AM            2           47.0\n",
       "2           Brooks Koepka   8:24 AM            3           44.0\n",
       "3            Rory McIlroy   1:38 PM            4           46.0\n",
       "4             Tiger Woods   8:24 AM            6           26.0\n",
       "5      Francesco Molinari   8:24 AM            7           47.0\n",
       "6       Bryson DeChambeau   1:27 PM            8           56.0\n",
       "7       Xander Schauffele   8:13 AM            9           57.0\n",
       "8           Rickie Fowler   8:02 AM           10           46.0\n",
       "9                Jon Rahm   1:16 PM           11           52.0\n",
       "10             Paul Casey  12:32 PM           12           48.0\n",
       "11              Jason Day   1:38 PM           13           43.0\n",
       "12             Tony Finau  12:43 PM           14           56.0\n",
       "13        Tommy Fleetwood   7:29 AM           15           58.0\n",
       "14            Matt Kuchar   1:49 PM           16           56.0\n",
       "15           Bubba Watson   8:02 AM           17           47.0\n",
       "16        Patrick Cantlay   1:05 PM           18           41.0\n",
       "17           Patrick Reed   7:51 AM           19           62.0\n",
       "18           Webb Simpson   1:38 PM           20           50.0\n",
       "19       Louis Oosthuizen   7:51 AM           21           43.0\n",
       "20          Marc Leishman   2:00 PM           22           52.0\n",
       "21         Phil Mickelson   1:38 PM           23           47.0\n",
       "22          Gary Woodland  12:54 PM           24           54.0\n",
       "23           Kevin Kisner   1:27 PM           25           52.0\n",
       "24       Hideki Matsuyama   8:13 AM           26           49.0\n",
       "25             Adam Scott   7:40 AM           27           42.0\n",
       "26          Sergio Garcia   7:40 AM           28           50.0\n",
       "27          Cameron Smith   1:49 PM           29           51.0\n",
       "28            Ian Poulter  12:43 PM           30           56.0\n",
       "29   Rafael Cabrera Bello  12:54 PM           31           59.0\n",
       "..                    ...       ...          ...            ...\n",
       "126        Steve Stricker   1:05 PM          366           24.0\n",
       "127              Max Homa   7:07 AM          411           54.0\n",
       "128           Vijay Singh   7:40 AM          481           26.0\n",
       "129             John Daly  12:54 PM         1792           14.0\n",
       "130         Marty Jertson   8:46 AM         2041            1.0\n",
       "131         Casey Russell   8:46 AM         2041            1.0\n",
       "132        Justin Bertsch  12:10 PM         2041            1.0\n",
       "133          Ryan Vermeer  12:10 PM         2041            7.0\n",
       "134          Craig Bowden   8:57 AM         2041            4.0\n",
       "135             Rod Perry  12:21 PM         2041            4.0\n",
       "136             Rich Beem  12:54 PM         2041            2.0\n",
       "137         Shaun Micheel   1:16 PM         2041           24.0\n",
       "138          Stuart Deane   2:11 PM         2041            2.0\n",
       "139        Andrew Filbert   2:22 PM         2041            3.0\n",
       "140        Craig Hocknull   2:22 PM         2041            2.0\n",
       "141            J.J. Spaun   6:45 AM            -            NaN\n",
       "142           Danny Balin   2:00 PM            -            NaN\n",
       "143          John O'Leary   7:18 AM            -            NaN\n",
       "144           Rob Labritz   6:45 AM            -            NaN\n",
       "145           Sung-jae Im   8:57 AM            -            NaN\n",
       "146           Jason Caron   7:07 AM            -            NaN\n",
       "147            Tyler Hall   2:11 PM            -            NaN\n",
       "148         Byeong-Hun An   7:07 AM            -            NaN\n",
       "149             Sung Kang   1:16 PM            -            NaN\n",
       "150    Rich Berberian Jr.  12:21 PM            -            NaN\n",
       "151        Jeffrey Schmid   6:56 AM            -            NaN\n",
       "152          Brian Mackey   8:35 AM            -            NaN\n",
       "153              Ben Cook   6:45 AM            -            NaN\n",
       "154        Cory Schneider   8:57 AM            -            NaN\n",
       "155            Alex Beach   1:16 PM            -            NaN\n",
       "\n",
       "[156 rows x 4 columns]"
      ]
     },
     "execution_count": 28,
     "metadata": {},
     "output_type": "execute_result"
    }
   ],
   "source": [
    "lb.df_pre_tourney"
   ]
  },
  {
   "cell_type": "code",
   "execution_count": 16,
   "metadata": {},
   "outputs": [],
   "source": [
    "lb.df_pre_tourney.loc[lb.df_pre_tourney['current_rank'].notnull(), 'current_rank'] = lb.df_pre_tourney.loc[lb.df_pre_tourney['current_rank'].notnull(), 'current_rank'].astype(int)"
   ]
  },
  {
   "cell_type": "code",
   "execution_count": 17,
   "metadata": {},
   "outputs": [
    {
     "data": {
      "text/plain": [
       "0         1\n",
       "1         2\n",
       "2         3\n",
       "3         4\n",
       "4         6\n",
       "5         7\n",
       "6         8\n",
       "7         9\n",
       "8        10\n",
       "9        11\n",
       "10       12\n",
       "11       13\n",
       "12       14\n",
       "13       15\n",
       "14       16\n",
       "15       17\n",
       "16       18\n",
       "17       19\n",
       "18       20\n",
       "19       21\n",
       "20       22\n",
       "21       23\n",
       "22       24\n",
       "23       25\n",
       "24       26\n",
       "25       27\n",
       "26       28\n",
       "27       29\n",
       "28       30\n",
       "29       31\n",
       "       ... \n",
       "111     135\n",
       "112     136\n",
       "113     139\n",
       "114     153\n",
       "115     158\n",
       "116     167\n",
       "117     169\n",
       "118     176\n",
       "119     185\n",
       "120     193\n",
       "121     204\n",
       "122     205\n",
       "123     212\n",
       "124     239\n",
       "125     331\n",
       "126     366\n",
       "127     411\n",
       "128     481\n",
       "129    1792\n",
       "130    2041\n",
       "131    2041\n",
       "132    2041\n",
       "133    2041\n",
       "134    2041\n",
       "135    2041\n",
       "136    2041\n",
       "137    2041\n",
       "138    2041\n",
       "139    2041\n",
       "140    2041\n",
       "Name: current_rank, Length: 141, dtype: int64"
      ]
     },
     "execution_count": 17,
     "metadata": {},
     "output_type": "execute_result"
    }
   ],
   "source": [
    "lb.df_pre_tourney.loc[lb.df_pre_tourney['current_rank'].notnull(), 'current_rank'].astype(int)"
   ]
  },
  {
   "cell_type": "code",
   "execution_count": 18,
   "metadata": {},
   "outputs": [
    {
     "data": {
      "text/html": [
       "<div>\n",
       "<style scoped>\n",
       "    .dataframe tbody tr th:only-of-type {\n",
       "        vertical-align: middle;\n",
       "    }\n",
       "\n",
       "    .dataframe tbody tr th {\n",
       "        vertical-align: top;\n",
       "    }\n",
       "\n",
       "    .dataframe thead th {\n",
       "        text-align: right;\n",
       "    }\n",
       "</style>\n",
       "<table border=\"1\" class=\"dataframe\">\n",
       "  <thead>\n",
       "    <tr style=\"text-align: right;\">\n",
       "      <th></th>\n",
       "      <th>player</th>\n",
       "      <th>tee_time</th>\n",
       "      <th>current_rank</th>\n",
       "      <th>events_played</th>\n",
       "    </tr>\n",
       "  </thead>\n",
       "  <tbody>\n",
       "    <tr>\n",
       "      <th>0</th>\n",
       "      <td>Dustin Johnson</td>\n",
       "      <td>1:16 PM</td>\n",
       "      <td>1.0</td>\n",
       "      <td>47.0</td>\n",
       "    </tr>\n",
       "    <tr>\n",
       "      <th>1</th>\n",
       "      <td>Justin Rose</td>\n",
       "      <td>8:02 AM</td>\n",
       "      <td>2.0</td>\n",
       "      <td>47.0</td>\n",
       "    </tr>\n",
       "    <tr>\n",
       "      <th>2</th>\n",
       "      <td>Brooks Koepka</td>\n",
       "      <td>8:24 AM</td>\n",
       "      <td>3.0</td>\n",
       "      <td>44.0</td>\n",
       "    </tr>\n",
       "    <tr>\n",
       "      <th>3</th>\n",
       "      <td>Rory McIlroy</td>\n",
       "      <td>1:38 PM</td>\n",
       "      <td>4.0</td>\n",
       "      <td>46.0</td>\n",
       "    </tr>\n",
       "    <tr>\n",
       "      <th>4</th>\n",
       "      <td>Tiger Woods</td>\n",
       "      <td>8:24 AM</td>\n",
       "      <td>6.0</td>\n",
       "      <td>26.0</td>\n",
       "    </tr>\n",
       "    <tr>\n",
       "      <th>5</th>\n",
       "      <td>Francesco Molinari</td>\n",
       "      <td>8:24 AM</td>\n",
       "      <td>7.0</td>\n",
       "      <td>47.0</td>\n",
       "    </tr>\n",
       "    <tr>\n",
       "      <th>6</th>\n",
       "      <td>Bryson DeChambeau</td>\n",
       "      <td>1:27 PM</td>\n",
       "      <td>8.0</td>\n",
       "      <td>56.0</td>\n",
       "    </tr>\n",
       "    <tr>\n",
       "      <th>7</th>\n",
       "      <td>Xander Schauffele</td>\n",
       "      <td>8:13 AM</td>\n",
       "      <td>9.0</td>\n",
       "      <td>57.0</td>\n",
       "    </tr>\n",
       "    <tr>\n",
       "      <th>8</th>\n",
       "      <td>Rickie Fowler</td>\n",
       "      <td>8:02 AM</td>\n",
       "      <td>10.0</td>\n",
       "      <td>46.0</td>\n",
       "    </tr>\n",
       "    <tr>\n",
       "      <th>9</th>\n",
       "      <td>Jon Rahm</td>\n",
       "      <td>1:16 PM</td>\n",
       "      <td>11.0</td>\n",
       "      <td>52.0</td>\n",
       "    </tr>\n",
       "    <tr>\n",
       "      <th>10</th>\n",
       "      <td>Paul Casey</td>\n",
       "      <td>12:32 PM</td>\n",
       "      <td>12.0</td>\n",
       "      <td>48.0</td>\n",
       "    </tr>\n",
       "    <tr>\n",
       "      <th>11</th>\n",
       "      <td>Jason Day</td>\n",
       "      <td>1:38 PM</td>\n",
       "      <td>13.0</td>\n",
       "      <td>43.0</td>\n",
       "    </tr>\n",
       "    <tr>\n",
       "      <th>12</th>\n",
       "      <td>Tony Finau</td>\n",
       "      <td>12:43 PM</td>\n",
       "      <td>14.0</td>\n",
       "      <td>56.0</td>\n",
       "    </tr>\n",
       "    <tr>\n",
       "      <th>13</th>\n",
       "      <td>Tommy Fleetwood</td>\n",
       "      <td>7:29 AM</td>\n",
       "      <td>15.0</td>\n",
       "      <td>58.0</td>\n",
       "    </tr>\n",
       "    <tr>\n",
       "      <th>14</th>\n",
       "      <td>Matt Kuchar</td>\n",
       "      <td>1:49 PM</td>\n",
       "      <td>16.0</td>\n",
       "      <td>56.0</td>\n",
       "    </tr>\n",
       "    <tr>\n",
       "      <th>15</th>\n",
       "      <td>Bubba Watson</td>\n",
       "      <td>8:02 AM</td>\n",
       "      <td>17.0</td>\n",
       "      <td>47.0</td>\n",
       "    </tr>\n",
       "    <tr>\n",
       "      <th>16</th>\n",
       "      <td>Patrick Cantlay</td>\n",
       "      <td>1:05 PM</td>\n",
       "      <td>18.0</td>\n",
       "      <td>41.0</td>\n",
       "    </tr>\n",
       "    <tr>\n",
       "      <th>17</th>\n",
       "      <td>Patrick Reed</td>\n",
       "      <td>7:51 AM</td>\n",
       "      <td>19.0</td>\n",
       "      <td>62.0</td>\n",
       "    </tr>\n",
       "    <tr>\n",
       "      <th>18</th>\n",
       "      <td>Webb Simpson</td>\n",
       "      <td>1:38 PM</td>\n",
       "      <td>20.0</td>\n",
       "      <td>50.0</td>\n",
       "    </tr>\n",
       "    <tr>\n",
       "      <th>19</th>\n",
       "      <td>Louis Oosthuizen</td>\n",
       "      <td>7:51 AM</td>\n",
       "      <td>21.0</td>\n",
       "      <td>43.0</td>\n",
       "    </tr>\n",
       "    <tr>\n",
       "      <th>20</th>\n",
       "      <td>Marc Leishman</td>\n",
       "      <td>2:00 PM</td>\n",
       "      <td>22.0</td>\n",
       "      <td>52.0</td>\n",
       "    </tr>\n",
       "    <tr>\n",
       "      <th>21</th>\n",
       "      <td>Phil Mickelson</td>\n",
       "      <td>1:38 PM</td>\n",
       "      <td>23.0</td>\n",
       "      <td>47.0</td>\n",
       "    </tr>\n",
       "    <tr>\n",
       "      <th>22</th>\n",
       "      <td>Gary Woodland</td>\n",
       "      <td>12:54 PM</td>\n",
       "      <td>24.0</td>\n",
       "      <td>54.0</td>\n",
       "    </tr>\n",
       "    <tr>\n",
       "      <th>23</th>\n",
       "      <td>Kevin Kisner</td>\n",
       "      <td>1:27 PM</td>\n",
       "      <td>25.0</td>\n",
       "      <td>52.0</td>\n",
       "    </tr>\n",
       "    <tr>\n",
       "      <th>24</th>\n",
       "      <td>Hideki Matsuyama</td>\n",
       "      <td>8:13 AM</td>\n",
       "      <td>26.0</td>\n",
       "      <td>49.0</td>\n",
       "    </tr>\n",
       "    <tr>\n",
       "      <th>25</th>\n",
       "      <td>Adam Scott</td>\n",
       "      <td>7:40 AM</td>\n",
       "      <td>27.0</td>\n",
       "      <td>42.0</td>\n",
       "    </tr>\n",
       "    <tr>\n",
       "      <th>26</th>\n",
       "      <td>Sergio Garcia</td>\n",
       "      <td>7:40 AM</td>\n",
       "      <td>28.0</td>\n",
       "      <td>50.0</td>\n",
       "    </tr>\n",
       "    <tr>\n",
       "      <th>27</th>\n",
       "      <td>Cameron Smith</td>\n",
       "      <td>1:49 PM</td>\n",
       "      <td>29.0</td>\n",
       "      <td>51.0</td>\n",
       "    </tr>\n",
       "    <tr>\n",
       "      <th>28</th>\n",
       "      <td>Ian Poulter</td>\n",
       "      <td>12:43 PM</td>\n",
       "      <td>30.0</td>\n",
       "      <td>56.0</td>\n",
       "    </tr>\n",
       "    <tr>\n",
       "      <th>29</th>\n",
       "      <td>Rafael Cabrera Bello</td>\n",
       "      <td>12:54 PM</td>\n",
       "      <td>31.0</td>\n",
       "      <td>59.0</td>\n",
       "    </tr>\n",
       "    <tr>\n",
       "      <th>...</th>\n",
       "      <td>...</td>\n",
       "      <td>...</td>\n",
       "      <td>...</td>\n",
       "      <td>...</td>\n",
       "    </tr>\n",
       "    <tr>\n",
       "      <th>126</th>\n",
       "      <td>Steve Stricker</td>\n",
       "      <td>1:05 PM</td>\n",
       "      <td>366.0</td>\n",
       "      <td>24.0</td>\n",
       "    </tr>\n",
       "    <tr>\n",
       "      <th>127</th>\n",
       "      <td>Max Homa</td>\n",
       "      <td>7:07 AM</td>\n",
       "      <td>411.0</td>\n",
       "      <td>54.0</td>\n",
       "    </tr>\n",
       "    <tr>\n",
       "      <th>128</th>\n",
       "      <td>Vijay Singh</td>\n",
       "      <td>7:40 AM</td>\n",
       "      <td>481.0</td>\n",
       "      <td>26.0</td>\n",
       "    </tr>\n",
       "    <tr>\n",
       "      <th>129</th>\n",
       "      <td>John Daly</td>\n",
       "      <td>12:54 PM</td>\n",
       "      <td>1792.0</td>\n",
       "      <td>14.0</td>\n",
       "    </tr>\n",
       "    <tr>\n",
       "      <th>130</th>\n",
       "      <td>Marty Jertson</td>\n",
       "      <td>8:46 AM</td>\n",
       "      <td>2041.0</td>\n",
       "      <td>1.0</td>\n",
       "    </tr>\n",
       "    <tr>\n",
       "      <th>131</th>\n",
       "      <td>Casey Russell</td>\n",
       "      <td>8:46 AM</td>\n",
       "      <td>2041.0</td>\n",
       "      <td>1.0</td>\n",
       "    </tr>\n",
       "    <tr>\n",
       "      <th>132</th>\n",
       "      <td>Justin Bertsch</td>\n",
       "      <td>12:10 PM</td>\n",
       "      <td>2041.0</td>\n",
       "      <td>1.0</td>\n",
       "    </tr>\n",
       "    <tr>\n",
       "      <th>133</th>\n",
       "      <td>Ryan Vermeer</td>\n",
       "      <td>12:10 PM</td>\n",
       "      <td>2041.0</td>\n",
       "      <td>7.0</td>\n",
       "    </tr>\n",
       "    <tr>\n",
       "      <th>134</th>\n",
       "      <td>Craig Bowden</td>\n",
       "      <td>8:57 AM</td>\n",
       "      <td>2041.0</td>\n",
       "      <td>4.0</td>\n",
       "    </tr>\n",
       "    <tr>\n",
       "      <th>135</th>\n",
       "      <td>Rod Perry</td>\n",
       "      <td>12:21 PM</td>\n",
       "      <td>2041.0</td>\n",
       "      <td>4.0</td>\n",
       "    </tr>\n",
       "    <tr>\n",
       "      <th>136</th>\n",
       "      <td>Rich Beem</td>\n",
       "      <td>12:54 PM</td>\n",
       "      <td>2041.0</td>\n",
       "      <td>2.0</td>\n",
       "    </tr>\n",
       "    <tr>\n",
       "      <th>137</th>\n",
       "      <td>Shaun Micheel</td>\n",
       "      <td>1:16 PM</td>\n",
       "      <td>2041.0</td>\n",
       "      <td>24.0</td>\n",
       "    </tr>\n",
       "    <tr>\n",
       "      <th>138</th>\n",
       "      <td>Stuart Deane</td>\n",
       "      <td>2:11 PM</td>\n",
       "      <td>2041.0</td>\n",
       "      <td>2.0</td>\n",
       "    </tr>\n",
       "    <tr>\n",
       "      <th>139</th>\n",
       "      <td>Andrew Filbert</td>\n",
       "      <td>2:22 PM</td>\n",
       "      <td>2041.0</td>\n",
       "      <td>3.0</td>\n",
       "    </tr>\n",
       "    <tr>\n",
       "      <th>140</th>\n",
       "      <td>Craig Hocknull</td>\n",
       "      <td>2:22 PM</td>\n",
       "      <td>2041.0</td>\n",
       "      <td>2.0</td>\n",
       "    </tr>\n",
       "    <tr>\n",
       "      <th>141</th>\n",
       "      <td>J.J. Spaun</td>\n",
       "      <td>6:45 AM</td>\n",
       "      <td>NaN</td>\n",
       "      <td>NaN</td>\n",
       "    </tr>\n",
       "    <tr>\n",
       "      <th>142</th>\n",
       "      <td>Danny Balin</td>\n",
       "      <td>2:00 PM</td>\n",
       "      <td>NaN</td>\n",
       "      <td>NaN</td>\n",
       "    </tr>\n",
       "    <tr>\n",
       "      <th>143</th>\n",
       "      <td>John O'Leary</td>\n",
       "      <td>7:18 AM</td>\n",
       "      <td>NaN</td>\n",
       "      <td>NaN</td>\n",
       "    </tr>\n",
       "    <tr>\n",
       "      <th>144</th>\n",
       "      <td>Rob Labritz</td>\n",
       "      <td>6:45 AM</td>\n",
       "      <td>NaN</td>\n",
       "      <td>NaN</td>\n",
       "    </tr>\n",
       "    <tr>\n",
       "      <th>145</th>\n",
       "      <td>Sung-jae Im</td>\n",
       "      <td>8:57 AM</td>\n",
       "      <td>NaN</td>\n",
       "      <td>NaN</td>\n",
       "    </tr>\n",
       "    <tr>\n",
       "      <th>146</th>\n",
       "      <td>Jason Caron</td>\n",
       "      <td>7:07 AM</td>\n",
       "      <td>NaN</td>\n",
       "      <td>NaN</td>\n",
       "    </tr>\n",
       "    <tr>\n",
       "      <th>147</th>\n",
       "      <td>Tyler Hall</td>\n",
       "      <td>2:11 PM</td>\n",
       "      <td>NaN</td>\n",
       "      <td>NaN</td>\n",
       "    </tr>\n",
       "    <tr>\n",
       "      <th>148</th>\n",
       "      <td>Byeong-Hun An</td>\n",
       "      <td>7:07 AM</td>\n",
       "      <td>NaN</td>\n",
       "      <td>NaN</td>\n",
       "    </tr>\n",
       "    <tr>\n",
       "      <th>149</th>\n",
       "      <td>Sung Kang</td>\n",
       "      <td>1:16 PM</td>\n",
       "      <td>NaN</td>\n",
       "      <td>NaN</td>\n",
       "    </tr>\n",
       "    <tr>\n",
       "      <th>150</th>\n",
       "      <td>Rich Berberian Jr.</td>\n",
       "      <td>12:21 PM</td>\n",
       "      <td>NaN</td>\n",
       "      <td>NaN</td>\n",
       "    </tr>\n",
       "    <tr>\n",
       "      <th>151</th>\n",
       "      <td>Jeffrey Schmid</td>\n",
       "      <td>6:56 AM</td>\n",
       "      <td>NaN</td>\n",
       "      <td>NaN</td>\n",
       "    </tr>\n",
       "    <tr>\n",
       "      <th>152</th>\n",
       "      <td>Brian Mackey</td>\n",
       "      <td>8:35 AM</td>\n",
       "      <td>NaN</td>\n",
       "      <td>NaN</td>\n",
       "    </tr>\n",
       "    <tr>\n",
       "      <th>153</th>\n",
       "      <td>Ben Cook</td>\n",
       "      <td>6:45 AM</td>\n",
       "      <td>NaN</td>\n",
       "      <td>NaN</td>\n",
       "    </tr>\n",
       "    <tr>\n",
       "      <th>154</th>\n",
       "      <td>Cory Schneider</td>\n",
       "      <td>8:57 AM</td>\n",
       "      <td>NaN</td>\n",
       "      <td>NaN</td>\n",
       "    </tr>\n",
       "    <tr>\n",
       "      <th>155</th>\n",
       "      <td>Alex Beach</td>\n",
       "      <td>1:16 PM</td>\n",
       "      <td>NaN</td>\n",
       "      <td>NaN</td>\n",
       "    </tr>\n",
       "  </tbody>\n",
       "</table>\n",
       "<p>156 rows × 4 columns</p>\n",
       "</div>"
      ],
      "text/plain": [
       "                   player  tee_time  current_rank  events_played\n",
       "0          Dustin Johnson   1:16 PM           1.0           47.0\n",
       "1             Justin Rose   8:02 AM           2.0           47.0\n",
       "2           Brooks Koepka   8:24 AM           3.0           44.0\n",
       "3            Rory McIlroy   1:38 PM           4.0           46.0\n",
       "4             Tiger Woods   8:24 AM           6.0           26.0\n",
       "5      Francesco Molinari   8:24 AM           7.0           47.0\n",
       "6       Bryson DeChambeau   1:27 PM           8.0           56.0\n",
       "7       Xander Schauffele   8:13 AM           9.0           57.0\n",
       "8           Rickie Fowler   8:02 AM          10.0           46.0\n",
       "9                Jon Rahm   1:16 PM          11.0           52.0\n",
       "10             Paul Casey  12:32 PM          12.0           48.0\n",
       "11              Jason Day   1:38 PM          13.0           43.0\n",
       "12             Tony Finau  12:43 PM          14.0           56.0\n",
       "13        Tommy Fleetwood   7:29 AM          15.0           58.0\n",
       "14            Matt Kuchar   1:49 PM          16.0           56.0\n",
       "15           Bubba Watson   8:02 AM          17.0           47.0\n",
       "16        Patrick Cantlay   1:05 PM          18.0           41.0\n",
       "17           Patrick Reed   7:51 AM          19.0           62.0\n",
       "18           Webb Simpson   1:38 PM          20.0           50.0\n",
       "19       Louis Oosthuizen   7:51 AM          21.0           43.0\n",
       "20          Marc Leishman   2:00 PM          22.0           52.0\n",
       "21         Phil Mickelson   1:38 PM          23.0           47.0\n",
       "22          Gary Woodland  12:54 PM          24.0           54.0\n",
       "23           Kevin Kisner   1:27 PM          25.0           52.0\n",
       "24       Hideki Matsuyama   8:13 AM          26.0           49.0\n",
       "25             Adam Scott   7:40 AM          27.0           42.0\n",
       "26          Sergio Garcia   7:40 AM          28.0           50.0\n",
       "27          Cameron Smith   1:49 PM          29.0           51.0\n",
       "28            Ian Poulter  12:43 PM          30.0           56.0\n",
       "29   Rafael Cabrera Bello  12:54 PM          31.0           59.0\n",
       "..                    ...       ...           ...            ...\n",
       "126        Steve Stricker   1:05 PM         366.0           24.0\n",
       "127              Max Homa   7:07 AM         411.0           54.0\n",
       "128           Vijay Singh   7:40 AM         481.0           26.0\n",
       "129             John Daly  12:54 PM        1792.0           14.0\n",
       "130         Marty Jertson   8:46 AM        2041.0            1.0\n",
       "131         Casey Russell   8:46 AM        2041.0            1.0\n",
       "132        Justin Bertsch  12:10 PM        2041.0            1.0\n",
       "133          Ryan Vermeer  12:10 PM        2041.0            7.0\n",
       "134          Craig Bowden   8:57 AM        2041.0            4.0\n",
       "135             Rod Perry  12:21 PM        2041.0            4.0\n",
       "136             Rich Beem  12:54 PM        2041.0            2.0\n",
       "137         Shaun Micheel   1:16 PM        2041.0           24.0\n",
       "138          Stuart Deane   2:11 PM        2041.0            2.0\n",
       "139        Andrew Filbert   2:22 PM        2041.0            3.0\n",
       "140        Craig Hocknull   2:22 PM        2041.0            2.0\n",
       "141            J.J. Spaun   6:45 AM           NaN            NaN\n",
       "142           Danny Balin   2:00 PM           NaN            NaN\n",
       "143          John O'Leary   7:18 AM           NaN            NaN\n",
       "144           Rob Labritz   6:45 AM           NaN            NaN\n",
       "145           Sung-jae Im   8:57 AM           NaN            NaN\n",
       "146           Jason Caron   7:07 AM           NaN            NaN\n",
       "147            Tyler Hall   2:11 PM           NaN            NaN\n",
       "148         Byeong-Hun An   7:07 AM           NaN            NaN\n",
       "149             Sung Kang   1:16 PM           NaN            NaN\n",
       "150    Rich Berberian Jr.  12:21 PM           NaN            NaN\n",
       "151        Jeffrey Schmid   6:56 AM           NaN            NaN\n",
       "152          Brian Mackey   8:35 AM           NaN            NaN\n",
       "153              Ben Cook   6:45 AM           NaN            NaN\n",
       "154        Cory Schneider   8:57 AM           NaN            NaN\n",
       "155            Alex Beach   1:16 PM           NaN            NaN\n",
       "\n",
       "[156 rows x 4 columns]"
      ]
     },
     "execution_count": 18,
     "metadata": {},
     "output_type": "execute_result"
    }
   ],
   "source": [
    "lb.df_pre_tourney"
   ]
  },
  {
   "cell_type": "code",
   "execution_count": null,
   "metadata": {},
   "outputs": [],
   "source": [
    "DT.LoadWorldRankings().run()"
   ]
  },
  {
   "cell_type": "code",
   "execution_count": null,
   "metadata": {},
   "outputs": [],
   "source": [
    "DT.TournamentInfo().run()"
   ]
  },
  {
   "cell_type": "code",
   "execution_count": null,
   "metadata": {},
   "outputs": [],
   "source": []
  },
  {
   "cell_type": "code",
   "execution_count": null,
   "metadata": {},
   "outputs": [],
   "source": [
    "lb.run()"
   ]
  },
  {
   "cell_type": "code",
   "execution_count": null,
   "metadata": {},
   "outputs": [],
   "source": [
    "lb.data"
   ]
  },
  {
   "cell_type": "code",
   "execution_count": null,
   "metadata": {},
   "outputs": [],
   "source": []
  },
  {
   "cell_type": "code",
   "execution_count": null,
   "metadata": {},
   "outputs": [],
   "source": []
  },
  {
   "cell_type": "code",
   "execution_count": null,
   "metadata": {},
   "outputs": [],
   "source": [
    "lb.determine_current_round()"
   ]
  },
  {
   "cell_type": "code",
   "execution_count": null,
   "metadata": {},
   "outputs": [],
   "source": [
    "lb.calculate_cut_line()"
   ]
  },
  {
   "cell_type": "code",
   "execution_count": null,
   "metadata": {},
   "outputs": [],
   "source": [
    "df = lb.data"
   ]
  },
  {
   "cell_type": "code",
   "execution_count": null,
   "metadata": {},
   "outputs": [],
   "source": [
    "self = lb"
   ]
  },
  {
   "cell_type": "code",
   "execution_count": null,
   "metadata": {},
   "outputs": [],
   "source": [
    "cur_round = self.determine_current_round()\n",
    "\n",
    "if cur_round == 'r2':\n",
    "    sql = self.yaml_sql_dict.get('calculate_cut_line')\n",
    "    df = self.run_sql(sql)\n",
    "    # Grab the cut_str\n",
    "    cut_str = df['pos'][0].lower()\n",
    "    cut_dict = {}\n",
    "\n",
    "    # Not sure what will happen if cut is even...\n",
    "    if cut_str[-1:] == 'E':\n",
    "        cut_dict['cut_str'] = 'E'\n",
    "        cut_dict['cut_in'] = 0\n",
    "    else:\n",
    "        # Just grab the last two characters - this should be the cut score\n",
    "        cut_str = cut_str[-2:]\n",
    "        # Put both string and int representations into a dict\n",
    "        cut_dict['cut_str'] = cut_str\n",
    "        cut_dict['cut_int'] = int(cut_str.replace('+', '').replace('E', '0'))\n",
    "\n",
    "    return cut_dict\n",
    "else:\n",
    "    logger.info(\"Dont need to worry about the cut line now\")\n",
    "    return None"
   ]
  },
  {
   "cell_type": "code",
   "execution_count": null,
   "metadata": {},
   "outputs": [],
   "source": [
    "df"
   ]
  },
  {
   "cell_type": "code",
   "execution_count": null,
   "metadata": {},
   "outputs": [],
   "source": [
    "print(sql)"
   ]
  },
  {
   "cell_type": "code",
   "execution_count": null,
   "metadata": {},
   "outputs": [],
   "source": [
    "sql = self.yaml_sql_dict.get('calculate_cut_line')\n",
    "df = self.run_sql(sql)\n",
    "# Grab the cut_str\n",
    "cut_str = df['pos'][0].lower()\n",
    "cut_dict = {}"
   ]
  },
  {
   "cell_type": "code",
   "execution_count": null,
   "metadata": {},
   "outputs": [],
   "source": []
  },
  {
   "cell_type": "code",
   "execution_count": null,
   "metadata": {},
   "outputs": [],
   "source": []
  },
  {
   "cell_type": "code",
   "execution_count": null,
   "metadata": {},
   "outputs": [],
   "source": []
  },
  {
   "cell_type": "code",
   "execution_count": null,
   "metadata": {},
   "outputs": [],
   "source": []
  },
  {
   "cell_type": "code",
   "execution_count": null,
   "metadata": {},
   "outputs": [],
   "source": []
  },
  {
   "cell_type": "code",
   "execution_count": null,
   "metadata": {},
   "outputs": [],
   "source": []
  },
  {
   "cell_type": "code",
   "execution_count": null,
   "metadata": {},
   "outputs": [],
   "source": []
  },
  {
   "cell_type": "code",
   "execution_count": null,
   "metadata": {},
   "outputs": [],
   "source": [
    "user = DT.UserData(user_id=6)"
   ]
  },
  {
   "cell_type": "code",
   "execution_count": null,
   "metadata": {},
   "outputs": [],
   "source": [
    "user.run()"
   ]
  },
  {
   "cell_type": "code",
   "execution_count": null,
   "metadata": {},
   "outputs": [],
   "source": [
    "user.data"
   ]
  },
  {
   "cell_type": "code",
   "execution_count": null,
   "metadata": {},
   "outputs": [],
   "source": [
    "gs = DT.GameScoreboard()"
   ]
  },
  {
   "cell_type": "code",
   "execution_count": null,
   "metadata": {},
   "outputs": [],
   "source": [
    "gs.run()"
   ]
  },
  {
   "cell_type": "code",
   "execution_count": null,
   "metadata": {},
   "outputs": [],
   "source": [
    "gs.data"
   ]
  },
  {
   "cell_type": "code",
   "execution_count": null,
   "metadata": {},
   "outputs": [],
   "source": [
    "wha = DT.TeamPlayerResults()"
   ]
  },
  {
   "cell_type": "code",
   "execution_count": null,
   "metadata": {},
   "outputs": [],
   "source": [
    "wha.run()"
   ]
  },
  {
   "cell_type": "code",
   "execution_count": null,
   "metadata": {},
   "outputs": [],
   "source": [
    "wha.data.sort_values('username')"
   ]
  },
  {
   "cell_type": "code",
   "execution_count": null,
   "metadata": {},
   "outputs": [],
   "source": []
  },
  {
   "cell_type": "code",
   "execution_count": null,
   "metadata": {},
   "outputs": [],
   "source": []
  },
  {
   "cell_type": "code",
   "execution_count": null,
   "metadata": {},
   "outputs": [],
   "source": [
    "lb = DT.LoadLeaderboard()"
   ]
  },
  {
   "cell_type": "code",
   "execution_count": null,
   "metadata": {},
   "outputs": [],
   "source": [
    "lb.run()"
   ]
  },
  {
   "cell_type": "code",
   "execution_count": null,
   "metadata": {},
   "outputs": [],
   "source": [
    "gs = dg.data_things.GameScoreboard()"
   ]
  },
  {
   "cell_type": "code",
   "execution_count": null,
   "metadata": {},
   "outputs": [],
   "source": [
    "int(0)"
   ]
  },
  {
   "cell_type": "code",
   "execution_count": null,
   "metadata": {},
   "outputs": [],
   "source": [
    "gs.tourney_status"
   ]
  },
  {
   "cell_type": "code",
   "execution_count": null,
   "metadata": {},
   "outputs": [],
   "source": [
    "gs.run()"
   ]
  },
  {
   "cell_type": "code",
   "execution_count": null,
   "metadata": {},
   "outputs": [],
   "source": []
  },
  {
   "cell_type": "code",
   "execution_count": null,
   "metadata": {},
   "outputs": [],
   "source": []
  },
  {
   "cell_type": "code",
   "execution_count": null,
   "metadata": {},
   "outputs": [],
   "source": [
    "cmon = dg.data_things.LoadLeaderboard()"
   ]
  },
  {
   "cell_type": "code",
   "execution_count": null,
   "metadata": {},
   "outputs": [],
   "source": [
    "cmon.run()"
   ]
  },
  {
   "cell_type": "code",
   "execution_count": null,
   "metadata": {},
   "outputs": [],
   "source": []
  },
  {
   "cell_type": "code",
   "execution_count": null,
   "metadata": {},
   "outputs": [],
   "source": [
    "lb = dg.data_things.LoadLeaderboard()"
   ]
  },
  {
   "cell_type": "code",
   "execution_count": null,
   "metadata": {},
   "outputs": [],
   "source": [
    "lb.tourney_status"
   ]
  },
  {
   "cell_type": "code",
   "execution_count": null,
   "metadata": {},
   "outputs": [],
   "source": [
    "lb.scrape_espn_leaderboard(lb.url_lb)"
   ]
  },
  {
   "cell_type": "code",
   "execution_count": null,
   "metadata": {},
   "outputs": [],
   "source": [
    "lb.data"
   ]
  },
  {
   "cell_type": "code",
   "execution_count": null,
   "metadata": {},
   "outputs": [],
   "source": [
    "lb.determine_tourney_status()"
   ]
  },
  {
   "cell_type": "code",
   "execution_count": null,
   "metadata": {},
   "outputs": [],
   "source": []
  },
  {
   "cell_type": "code",
   "execution_count": null,
   "metadata": {},
   "outputs": [],
   "source": []
  },
  {
   "cell_type": "code",
   "execution_count": null,
   "metadata": {},
   "outputs": [],
   "source": []
  },
  {
   "cell_type": "code",
   "execution_count": null,
   "metadata": {},
   "outputs": [],
   "source": [
    "lb.load_tourney_status()"
   ]
  },
  {
   "cell_type": "code",
   "execution_count": null,
   "metadata": {},
   "outputs": [],
   "source": []
  },
  {
   "cell_type": "code",
   "execution_count": null,
   "metadata": {},
   "outputs": [],
   "source": []
  },
  {
   "cell_type": "code",
   "execution_count": null,
   "metadata": {},
   "outputs": [],
   "source": [
    "vamp.run()"
   ]
  },
  {
   "cell_type": "code",
   "execution_count": null,
   "metadata": {},
   "outputs": [],
   "source": [
    "vamp.tourney_status"
   ]
  },
  {
   "cell_type": "code",
   "execution_count": null,
   "metadata": {},
   "outputs": [],
   "source": [
    "new = dg.data_things.PullLeaderboard(user_id=10)"
   ]
  },
  {
   "cell_type": "code",
   "execution_count": null,
   "metadata": {},
   "outputs": [],
   "source": [
    "new.tourney_status"
   ]
  },
  {
   "cell_type": "code",
   "execution_count": null,
   "metadata": {},
   "outputs": [],
   "source": [
    "new.run()"
   ]
  },
  {
   "cell_type": "code",
   "execution_count": null,
   "metadata": {},
   "outputs": [],
   "source": [
    "new.pull_tourney_leaderboard()"
   ]
  },
  {
   "cell_type": "code",
   "execution_count": null,
   "metadata": {},
   "outputs": [],
   "source": [
    "new.user_df"
   ]
  },
  {
   "cell_type": "code",
   "execution_count": null,
   "metadata": {},
   "outputs": [],
   "source": [
    "new.user_id"
   ]
  },
  {
   "cell_type": "code",
   "execution_count": null,
   "metadata": {},
   "outputs": [],
   "source": [
    "new.pull_users_team()"
   ]
  },
  {
   "cell_type": "code",
   "execution_count": null,
   "metadata": {},
   "outputs": [],
   "source": [
    "new.data"
   ]
  },
  {
   "cell_type": "code",
   "execution_count": null,
   "metadata": {},
   "outputs": [],
   "source": [
    "new.pull_tourney_leaderboard()"
   ]
  },
  {
   "cell_type": "code",
   "execution_count": null,
   "metadata": {},
   "outputs": [],
   "source": [
    "getattr(new, 'user_df')"
   ]
  },
  {
   "cell_type": "code",
   "execution_count": null,
   "metadata": {},
   "outputs": [],
   "source": []
  },
  {
   "cell_type": "code",
   "execution_count": null,
   "metadata": {},
   "outputs": [],
   "source": [
    "print(getsource(new.pull_tourney_leaderboard))"
   ]
  },
  {
   "cell_type": "code",
   "execution_count": null,
   "metadata": {},
   "outputs": [],
   "source": [
    "new.user_df"
   ]
  },
  {
   "cell_type": "code",
   "execution_count": null,
   "metadata": {},
   "outputs": [],
   "source": [
    "pd.merge(new.data, new.user_df,\n",
    "        how='outer',\n",
    "        on='player')"
   ]
  },
  {
   "cell_type": "code",
   "execution_count": null,
   "metadata": {},
   "outputs": [],
   "source": [
    "new.tourney_status"
   ]
  },
  {
   "cell_type": "code",
   "execution_count": null,
   "metadata": {},
   "outputs": [],
   "source": [
    "gs = dg.data_things.GameScoreboard()"
   ]
  },
  {
   "cell_type": "code",
   "execution_count": null,
   "metadata": {},
   "outputs": [],
   "source": [
    "gs.tourney_status"
   ]
  },
  {
   "cell_type": "code",
   "execution_count": null,
   "metadata": {},
   "outputs": [],
   "source": [
    "gs.run()"
   ]
  },
  {
   "cell_type": "code",
   "execution_count": null,
   "metadata": {},
   "outputs": [],
   "source": [
    "wha = dg.data_things.LoadWorldRankings()"
   ]
  },
  {
   "cell_type": "code",
   "execution_count": null,
   "metadata": {},
   "outputs": [],
   "source": [
    "wha = dg.data_things.TournamentInfo()"
   ]
  },
  {
   "cell_type": "code",
   "execution_count": null,
   "metadata": {},
   "outputs": [],
   "source": [
    "wha.run()"
   ]
  },
  {
   "cell_type": "code",
   "execution_count": null,
   "metadata": {},
   "outputs": [],
   "source": [
    "draft = dg.data_things.DraftDay()"
   ]
  },
  {
   "cell_type": "code",
   "execution_count": null,
   "metadata": {},
   "outputs": [],
   "source": [
    "draft.run()"
   ]
  },
  {
   "cell_type": "code",
   "execution_count": null,
   "metadata": {},
   "outputs": [],
   "source": [
    "df = draft.data"
   ]
  },
  {
   "cell_type": "code",
   "execution_count": null,
   "metadata": {},
   "outputs": [],
   "source": [
    "for col in ['current_rank','events_played','rank']:\n",
    "    self.data.loc[self.data[col].notnull(), col] = self.data.loc[self.data[col].notnull(), col].astype(int).astype(str)"
   ]
  },
  {
   "cell_type": "code",
   "execution_count": null,
   "metadata": {},
   "outputs": [],
   "source": [
    "df"
   ]
  },
  {
   "cell_type": "code",
   "execution_count": null,
   "metadata": {},
   "outputs": [],
   "source": []
  },
  {
   "cell_type": "code",
   "execution_count": null,
   "metadata": {},
   "outputs": [],
   "source": [
    "draft.data['current_rank']"
   ]
  },
  {
   "cell_type": "code",
   "execution_count": null,
   "metadata": {},
   "outputs": [],
   "source": []
  },
  {
   "cell_type": "code",
   "execution_count": null,
   "metadata": {},
   "outputs": [],
   "source": []
  },
  {
   "cell_type": "code",
   "execution_count": null,
   "metadata": {},
   "outputs": [],
   "source": []
  },
  {
   "cell_type": "code",
   "execution_count": null,
   "metadata": {},
   "outputs": [],
   "source": [
    "vamp.new_determine_status()['value'][0].strip()"
   ]
  },
  {
   "cell_type": "code",
   "execution_count": null,
   "metadata": {},
   "outputs": [],
   "source": []
  },
  {
   "cell_type": "code",
   "execution_count": null,
   "metadata": {},
   "outputs": [],
   "source": []
  },
  {
   "cell_type": "code",
   "execution_count": null,
   "metadata": {},
   "outputs": [],
   "source": [
    "vamp.run()"
   ]
  },
  {
   "cell_type": "code",
   "execution_count": null,
   "metadata": {},
   "outputs": [],
   "source": [
    "vamp.load_tourney_status()"
   ]
  },
  {
   "cell_type": "code",
   "execution_count": null,
   "metadata": {},
   "outputs": [],
   "source": [
    "vamp.load_status_sql"
   ]
  },
  {
   "cell_type": "code",
   "execution_count": null,
   "metadata": {},
   "outputs": [],
   "source": [
    "with psycopg2.connect(vamp.conf.db_url) as conn:\n",
    "    cur = conn.cursor()\n",
    "    cur.execute(\"delete from donkey_variables where metric = 'current_tourney_status';\")\n",
    "    cur.execute(\"INSERT INTO donkey_variables VALUES ('current_tourney_status', 'pre_tourney');\")\n",
    "    #cur.close()"
   ]
  },
  {
   "cell_type": "code",
   "execution_count": null,
   "metadata": {},
   "outputs": [],
   "source": []
  },
  {
   "cell_type": "code",
   "execution_count": null,
   "metadata": {},
   "outputs": [],
   "source": []
  },
  {
   "cell_type": "code",
   "execution_count": null,
   "metadata": {},
   "outputs": [],
   "source": [
    "conn = psycopg2.connect(host=pg_credential.hostname,\n",
    "                        port=pg_credential.port,\n",
    "                        user=pg_credential.username,\n",
    "                        password=pg_credential.password,\n",
    "                        database=pg_credential.path[1:]) # To remove slash\n",
    "\n",
    "cursor = conn.cursor()\n",
    "cursor.execute(\"INSERT INTO a_table (c1, c2, c3) VALUES(%s, %s, %s)\", (v1, v2, v3))"
   ]
  },
  {
   "cell_type": "code",
   "execution_count": null,
   "metadata": {},
   "outputs": [],
   "source": []
  },
  {
   "cell_type": "code",
   "execution_count": null,
   "metadata": {},
   "outputs": [],
   "source": []
  },
  {
   "cell_type": "code",
   "execution_count": null,
   "metadata": {},
   "outputs": [],
   "source": []
  },
  {
   "cell_type": "code",
   "execution_count": null,
   "metadata": {},
   "outputs": [],
   "source": [
    "getattr(cmon, 'tourney_status')"
   ]
  },
  {
   "cell_type": "code",
   "execution_count": null,
   "metadata": {},
   "outputs": [],
   "source": [
    "vamp.load_tourney_status()"
   ]
  },
  {
   "cell_type": "code",
   "execution_count": null,
   "metadata": {},
   "outputs": [],
   "source": []
  },
  {
   "cell_type": "code",
   "execution_count": null,
   "metadata": {},
   "outputs": [],
   "source": [
    "vamp.tourney_status"
   ]
  },
  {
   "cell_type": "code",
   "execution_count": null,
   "metadata": {},
   "outputs": [],
   "source": [
    "pd.read_sql(\"INSERT INTO donkey_variables VALUES ('current_tourney_status', 'pre_tourney');\")"
   ]
  },
  {
   "cell_type": "code",
   "execution_count": null,
   "metadata": {},
   "outputs": [],
   "source": []
  },
  {
   "cell_type": "code",
   "execution_count": null,
   "metadata": {},
   "outputs": [],
   "source": [
    "cmon = dg.data_things.PullLeaderboard(user_id=5)"
   ]
  },
  {
   "cell_type": "code",
   "execution_count": null,
   "metadata": {},
   "outputs": [],
   "source": [
    "cmon.run()"
   ]
  },
  {
   "cell_type": "code",
   "execution_count": null,
   "metadata": {},
   "outputs": [],
   "source": [
    "cmon.tourney_status"
   ]
  },
  {
   "cell_type": "code",
   "execution_count": null,
   "metadata": {},
   "outputs": [],
   "source": [
    "cmon.pull_tourney_leaderboard()"
   ]
  },
  {
   "cell_type": "code",
   "execution_count": null,
   "metadata": {},
   "outputs": [],
   "source": [
    "if cmon.data.empty:\n",
    "    print(\"EMPTY\")"
   ]
  },
  {
   "cell_type": "code",
   "execution_count": null,
   "metadata": {},
   "outputs": [],
   "source": [
    "cmon.tourney_status"
   ]
  },
  {
   "cell_type": "code",
   "execution_count": null,
   "metadata": {},
   "outputs": [],
   "source": [
    "getattr(cmon, 'tourney_status')"
   ]
  },
  {
   "cell_type": "code",
   "execution_count": null,
   "metadata": {},
   "outputs": [],
   "source": [
    "getattr(cmon, 'tourney_statusss', 'whoops')"
   ]
  },
  {
   "cell_type": "code",
   "execution_count": null,
   "metadata": {},
   "outputs": [],
   "source": [
    "sb = dg.data_things.GameScoreboard()"
   ]
  },
  {
   "cell_type": "code",
   "execution_count": null,
   "metadata": {},
   "outputs": [],
   "source": [
    "sb.run()"
   ]
  },
  {
   "cell_type": "code",
   "execution_count": null,
   "metadata": {},
   "outputs": [],
   "source": []
  },
  {
   "cell_type": "code",
   "execution_count": null,
   "metadata": {},
   "outputs": [],
   "source": []
  },
  {
   "cell_type": "code",
   "execution_count": null,
   "metadata": {},
   "outputs": [],
   "source": []
  },
  {
   "cell_type": "code",
   "execution_count": null,
   "metadata": {},
   "outputs": [],
   "source": []
  },
  {
   "cell_type": "code",
   "execution_count": null,
   "metadata": {},
   "outputs": [],
   "source": [
    "vamp.golfer_count_by_team"
   ]
  },
  {
   "cell_type": "code",
   "execution_count": null,
   "metadata": {},
   "outputs": [],
   "source": [
    "df = vamp.data"
   ]
  },
  {
   "cell_type": "code",
   "execution_count": null,
   "metadata": {},
   "outputs": [],
   "source": [
    "df.head(2)"
   ]
  },
  {
   "cell_type": "code",
   "execution_count": null,
   "metadata": {},
   "outputs": [],
   "source": [
    "df.loc[df['team_count']> 0]"
   ]
  },
  {
   "cell_type": "code",
   "execution_count": null,
   "metadata": {},
   "outputs": [],
   "source": []
  },
  {
   "cell_type": "code",
   "execution_count": null,
   "metadata": {},
   "outputs": [],
   "source": [
    "huh = dg.data_things.PullLeaderboard(user_id=6)"
   ]
  },
  {
   "cell_type": "code",
   "execution_count": null,
   "metadata": {},
   "outputs": [],
   "source": [
    "huh.run()"
   ]
  },
  {
   "cell_type": "code",
   "execution_count": null,
   "metadata": {},
   "outputs": [],
   "source": [
    "huh.data['team_count'].value_counts()"
   ]
  },
  {
   "cell_type": "code",
   "execution_count": null,
   "metadata": {},
   "outputs": [],
   "source": [
    "df_tourney = huh.data\n",
    "df_tourney = df_tourney.loc[df_tourney['team_count'] > 0]"
   ]
  },
  {
   "cell_type": "code",
   "execution_count": null,
   "metadata": {},
   "outputs": [],
   "source": [
    "from datetime import datetime"
   ]
  },
  {
   "cell_type": "code",
   "execution_count": null,
   "metadata": {},
   "outputs": [],
   "source": [
    "datetime.today()"
   ]
  },
  {
   "cell_type": "code",
   "execution_count": null,
   "metadata": {},
   "outputs": [],
   "source": []
  },
  {
   "cell_type": "code",
   "execution_count": null,
   "metadata": {},
   "outputs": [],
   "source": [
    "df_tourney"
   ]
  },
  {
   "cell_type": "code",
   "execution_count": null,
   "metadata": {},
   "outputs": [],
   "source": [
    "ada = dg.data_things.PullLeaderboard(user_id=5)"
   ]
  },
  {
   "cell_type": "code",
   "execution_count": null,
   "metadata": {},
   "outputs": [],
   "source": [
    "ada.pull_tourney_leaderboard()"
   ]
  },
  {
   "cell_type": "code",
   "execution_count": null,
   "metadata": {},
   "outputs": [],
   "source": [
    "ada.data.team_count.value_counts()"
   ]
  },
  {
   "cell_type": "code",
   "execution_count": null,
   "metadata": {},
   "outputs": [],
   "source": []
  },
  {
   "cell_type": "code",
   "execution_count": null,
   "metadata": {},
   "outputs": [],
   "source": [
    "ada.calc_refresh_date()"
   ]
  },
  {
   "cell_type": "code",
   "execution_count": null,
   "metadata": {},
   "outputs": [],
   "source": [
    "ada.determine_tourney_status()"
   ]
  },
  {
   "cell_type": "code",
   "execution_count": null,
   "metadata": {},
   "outputs": [],
   "source": [
    "ada.pull_users_team()"
   ]
  },
  {
   "cell_type": "code",
   "execution_count": null,
   "metadata": {},
   "outputs": [],
   "source": [
    "ada.user_df"
   ]
  },
  {
   "cell_type": "code",
   "execution_count": null,
   "metadata": {},
   "outputs": [],
   "source": [
    "ada.sql_user"
   ]
  },
  {
   "cell_type": "code",
   "execution_count": null,
   "metadata": {},
   "outputs": [],
   "source": []
  }
 ],
 "metadata": {
  "kernelspec": {
   "display_name": "venv_dgolf",
   "language": "python",
   "name": "venv_dgolf"
  },
  "language_info": {
   "codemirror_mode": {
    "name": "ipython",
    "version": 3
   },
   "file_extension": ".py",
   "mimetype": "text/x-python",
   "name": "python",
   "nbconvert_exporter": "python",
   "pygments_lexer": "ipython3",
   "version": "3.7.3"
  }
 },
 "nbformat": 4,
 "nbformat_minor": 2
}
