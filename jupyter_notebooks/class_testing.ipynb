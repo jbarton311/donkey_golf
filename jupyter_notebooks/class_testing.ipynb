{
 "cells": [
  {
   "cell_type": "code",
   "execution_count": 1,
   "metadata": {},
   "outputs": [
    {
     "name": "stdout",
     "output_type": "stream",
     "text": [
      "/Users/amlvt225/Code/GitHub/donkey_golf\n"
     ]
    }
   ],
   "source": [
    "cd .."
   ]
  },
  {
   "cell_type": "code",
   "execution_count": 2,
   "metadata": {},
   "outputs": [
    {
     "name": "stdout",
     "output_type": "stream",
     "text": [
      "README.md          \u001b[34mjupyter_notebooks\u001b[m\u001b[m/ run.py\r\n",
      "\u001b[34mdonkey_golf\u001b[m\u001b[m/       requirements.txt\r\n"
     ]
    }
   ],
   "source": [
    "ls"
   ]
  },
  {
   "cell_type": "code",
   "execution_count": 3,
   "metadata": {},
   "outputs": [
    {
     "name": "stderr",
     "output_type": "stream",
     "text": [
      "/Users/amlvt225/Code/VirtualEnvs/venv_dgolf/lib/python3.7/site-packages/flask_sqlalchemy/__init__.py:794: FSADeprecationWarning: SQLALCHEMY_TRACK_MODIFICATIONS adds significant overhead and will be disabled by default in the future.  Set it to True or False to suppress this warning.\n",
      "  'SQLALCHEMY_TRACK_MODIFICATIONS adds significant overhead and '\n"
     ]
    }
   ],
   "source": [
    "import donkey_golf as dg"
   ]
  },
  {
   "cell_type": "code",
   "execution_count": 4,
   "metadata": {},
   "outputs": [],
   "source": [
    "import oyaml\n",
    "import pandas as pd\n",
    "import logging\n",
    "import psycopg2\n",
    "\n",
    "from sqlalchemy import create_engine\n",
    "\n",
    "from donkey_golf import config\n",
    "\n",
    "# create logger\n",
    "logger = logging.getLogger(__name__)\n",
    "logger.setLevel(logging.DEBUG)\n",
    "\n",
    "# create console handler and set level to debug\n",
    "ch = logging.StreamHandler()\n",
    "ch.setLevel(logging.DEBUG)\n",
    "\n",
    "# create formatter\n",
    "formatter = logging.Formatter('%(asctime)s - %(name)s - %(levelname)s - %(message)s')\n",
    "\n",
    "# add formatter to ch\n",
    "ch.setFormatter(formatter)\n",
    "\n",
    "# add ch to logger\n",
    "logger.addHandler(ch)"
   ]
  },
  {
   "cell_type": "code",
   "execution_count": 5,
   "metadata": {},
   "outputs": [
    {
     "name": "stderr",
     "output_type": "stream",
     "text": [
      "2019-05-05 15:48:42,474 - donkey_golf.data_things.base_class - DEBUG - ABOUT TO SET yaml_sql_dict\n",
      "2019-05-05 15:48:42,489 - donkey_golf.data_things.base_class - INFO - Executing run_sql\n",
      "2019-05-05 15:48:42,754 - donkey_golf.data_things.base_class - INFO - Current tourney ID: 401056550\n"
     ]
    }
   ],
   "source": [
    "vamp = dg.data_things.LoadLeaderboard()"
   ]
  },
  {
   "cell_type": "code",
   "execution_count": 6,
   "metadata": {},
   "outputs": [
    {
     "name": "stderr",
     "output_type": "stream",
     "text": [
      "2019-05-05 15:48:46,061 - donkey_golf.data_things.tourney_leaderboard - INFO - Tourney current status: in_progress\n",
      "2019-05-05 15:48:46,062 - donkey_golf.data_things.tourney_leaderboard - INFO - Running clean_data function\n",
      "2019-05-05 15:48:46,063 - donkey_golf.data_things.tourney_leaderboard - INFO - Running prepare_in_progress_data\n",
      "2019-05-05 15:48:46,064 - donkey_golf.data_things.tourney_leaderboard - INFO - Calculating the donkey_score column\n",
      "2019-05-05 15:48:46,082 - donkey_golf.data_things.tourney_leaderboard - INFO - Determining score for cut players and adding missed_cut indicator\n",
      "2019-05-05 15:48:46,100 - donkey_golf.data_things.tourney_leaderboard - INFO - Determine if the player is active and if he has been cut or not\n",
      "2019-05-05 15:48:46,115 - donkey_golf.data_things.base_class - INFO - Executing run_sql\n",
      "2019-05-05 15:48:46,472 - donkey_golf.data_things.tourney_leaderboard - DEBUG - Adding golfer team count\n",
      "2019-05-05 15:48:46,481 - donkey_golf.data_things.tourney_leaderboard - INFO - Loading data into the leaderboard table\n",
      "2019-05-05 15:48:46,482 - donkey_golf.data_things.base_class - INFO - Loading leaderboard to database\n"
     ]
    }
   ],
   "source": [
    "vamp.run()"
   ]
  },
  {
   "cell_type": "code",
   "execution_count": 7,
   "metadata": {},
   "outputs": [
    {
     "data": {
      "text/html": [
       "<div>\n",
       "<style scoped>\n",
       "    .dataframe tbody tr th:only-of-type {\n",
       "        vertical-align: middle;\n",
       "    }\n",
       "\n",
       "    .dataframe tbody tr th {\n",
       "        vertical-align: top;\n",
       "    }\n",
       "\n",
       "    .dataframe thead th {\n",
       "        text-align: right;\n",
       "    }\n",
       "</style>\n",
       "<table border=\"1\" class=\"dataframe\">\n",
       "  <thead>\n",
       "    <tr style=\"text-align: right;\">\n",
       "      <th></th>\n",
       "      <th>player</th>\n",
       "      <th>team_count</th>\n",
       "    </tr>\n",
       "  </thead>\n",
       "  <tbody>\n",
       "    <tr>\n",
       "      <th>0</th>\n",
       "      <td>Rickie Fowler</td>\n",
       "      <td>2</td>\n",
       "    </tr>\n",
       "    <tr>\n",
       "      <th>1</th>\n",
       "      <td>Henrik Stenson</td>\n",
       "      <td>2</td>\n",
       "    </tr>\n",
       "    <tr>\n",
       "      <th>2</th>\n",
       "      <td>Kyle Stanley</td>\n",
       "      <td>1</td>\n",
       "    </tr>\n",
       "    <tr>\n",
       "      <th>3</th>\n",
       "      <td>Keegan Bradley</td>\n",
       "      <td>1</td>\n",
       "    </tr>\n",
       "    <tr>\n",
       "      <th>4</th>\n",
       "      <td>Cameron Champ</td>\n",
       "      <td>1</td>\n",
       "    </tr>\n",
       "    <tr>\n",
       "      <th>5</th>\n",
       "      <td>Tony Finau</td>\n",
       "      <td>1</td>\n",
       "    </tr>\n",
       "    <tr>\n",
       "      <th>6</th>\n",
       "      <td>Rory McIlroy</td>\n",
       "      <td>1</td>\n",
       "    </tr>\n",
       "    <tr>\n",
       "      <th>7</th>\n",
       "      <td>Zach Johnson</td>\n",
       "      <td>1</td>\n",
       "    </tr>\n",
       "    <tr>\n",
       "      <th>8</th>\n",
       "      <td>Jason Day</td>\n",
       "      <td>1</td>\n",
       "    </tr>\n",
       "    <tr>\n",
       "      <th>9</th>\n",
       "      <td>Phil Mickelson</td>\n",
       "      <td>1</td>\n",
       "    </tr>\n",
       "  </tbody>\n",
       "</table>\n",
       "</div>"
      ],
      "text/plain": [
       "           player  team_count\n",
       "0   Rickie Fowler           2\n",
       "1  Henrik Stenson           2\n",
       "2    Kyle Stanley           1\n",
       "3  Keegan Bradley           1\n",
       "4   Cameron Champ           1\n",
       "5      Tony Finau           1\n",
       "6    Rory McIlroy           1\n",
       "7    Zach Johnson           1\n",
       "8       Jason Day           1\n",
       "9  Phil Mickelson           1"
      ]
     },
     "execution_count": 7,
     "metadata": {},
     "output_type": "execute_result"
    }
   ],
   "source": [
    "vamp.golfer_count_by_team"
   ]
  },
  {
   "cell_type": "code",
   "execution_count": 9,
   "metadata": {},
   "outputs": [],
   "source": [
    "df = vamp.data"
   ]
  },
  {
   "cell_type": "code",
   "execution_count": 10,
   "metadata": {},
   "outputs": [
    {
     "data": {
      "text/html": [
       "<div>\n",
       "<style scoped>\n",
       "    .dataframe tbody tr th:only-of-type {\n",
       "        vertical-align: middle;\n",
       "    }\n",
       "\n",
       "    .dataframe tbody tr th {\n",
       "        vertical-align: top;\n",
       "    }\n",
       "\n",
       "    .dataframe thead th {\n",
       "        text-align: right;\n",
       "    }\n",
       "</style>\n",
       "<table border=\"1\" class=\"dataframe\">\n",
       "  <thead>\n",
       "    <tr style=\"text-align: right;\">\n",
       "      <th></th>\n",
       "      <th>pos</th>\n",
       "      <th>player</th>\n",
       "      <th>to_par</th>\n",
       "      <th>today</th>\n",
       "      <th>thru</th>\n",
       "      <th>r1</th>\n",
       "      <th>r2</th>\n",
       "      <th>r3</th>\n",
       "      <th>r4</th>\n",
       "      <th>tot</th>\n",
       "      <th>tourney_id</th>\n",
       "      <th>donkey_score</th>\n",
       "      <th>missed_cut</th>\n",
       "      <th>player_left</th>\n",
       "      <th>team_count</th>\n",
       "      <th>load_date</th>\n",
       "    </tr>\n",
       "  </thead>\n",
       "  <tbody>\n",
       "    <tr>\n",
       "      <th>0</th>\n",
       "      <td>T1</td>\n",
       "      <td>Joel Dahmen</td>\n",
       "      <td>-13</td>\n",
       "      <td>-2</td>\n",
       "      <td>8</td>\n",
       "      <td>66</td>\n",
       "      <td>66</td>\n",
       "      <td>70</td>\n",
       "      <td>--</td>\n",
       "      <td>202</td>\n",
       "      <td>401056550</td>\n",
       "      <td>-13</td>\n",
       "      <td>0</td>\n",
       "      <td>1</td>\n",
       "      <td>0</td>\n",
       "      <td>2019-05-05 15:48:46.480659</td>\n",
       "    </tr>\n",
       "    <tr>\n",
       "      <th>1</th>\n",
       "      <td>T1</td>\n",
       "      <td>Max Homa</td>\n",
       "      <td>-13</td>\n",
       "      <td>-2</td>\n",
       "      <td>7</td>\n",
       "      <td>69</td>\n",
       "      <td>63</td>\n",
       "      <td>70</td>\n",
       "      <td>--</td>\n",
       "      <td>202</td>\n",
       "      <td>401056550</td>\n",
       "      <td>-13</td>\n",
       "      <td>0</td>\n",
       "      <td>1</td>\n",
       "      <td>0</td>\n",
       "      <td>2019-05-05 15:48:46.480659</td>\n",
       "    </tr>\n",
       "  </tbody>\n",
       "</table>\n",
       "</div>"
      ],
      "text/plain": [
       "  pos       player to_par today thru  r1  r2  r3  r4  tot tourney_id  \\\n",
       "0  T1  Joel Dahmen    -13    -2    8  66  66  70  --  202  401056550   \n",
       "1  T1     Max Homa    -13    -2    7  69  63  70  --  202  401056550   \n",
       "\n",
       "  donkey_score  missed_cut  player_left  team_count                  load_date  \n",
       "0          -13           0            1           0 2019-05-05 15:48:46.480659  \n",
       "1          -13           0            1           0 2019-05-05 15:48:46.480659  "
      ]
     },
     "execution_count": 10,
     "metadata": {},
     "output_type": "execute_result"
    }
   ],
   "source": [
    "df.head(2)"
   ]
  },
  {
   "cell_type": "code",
   "execution_count": 11,
   "metadata": {},
   "outputs": [
    {
     "data": {
      "text/html": [
       "<div>\n",
       "<style scoped>\n",
       "    .dataframe tbody tr th:only-of-type {\n",
       "        vertical-align: middle;\n",
       "    }\n",
       "\n",
       "    .dataframe tbody tr th {\n",
       "        vertical-align: top;\n",
       "    }\n",
       "\n",
       "    .dataframe thead th {\n",
       "        text-align: right;\n",
       "    }\n",
       "</style>\n",
       "<table border=\"1\" class=\"dataframe\">\n",
       "  <thead>\n",
       "    <tr style=\"text-align: right;\">\n",
       "      <th></th>\n",
       "      <th>pos</th>\n",
       "      <th>player</th>\n",
       "      <th>to_par</th>\n",
       "      <th>today</th>\n",
       "      <th>thru</th>\n",
       "      <th>r1</th>\n",
       "      <th>r2</th>\n",
       "      <th>r3</th>\n",
       "      <th>r4</th>\n",
       "      <th>tot</th>\n",
       "      <th>tourney_id</th>\n",
       "      <th>donkey_score</th>\n",
       "      <th>missed_cut</th>\n",
       "      <th>player_left</th>\n",
       "      <th>team_count</th>\n",
       "      <th>load_date</th>\n",
       "    </tr>\n",
       "  </thead>\n",
       "  <tbody>\n",
       "    <tr>\n",
       "      <th>6</th>\n",
       "      <td>T6</td>\n",
       "      <td>Rory McIlroy</td>\n",
       "      <td>-8</td>\n",
       "      <td>+1</td>\n",
       "      <td>9</td>\n",
       "      <td>66</td>\n",
       "      <td>70</td>\n",
       "      <td>68</td>\n",
       "      <td>--</td>\n",
       "      <td>204</td>\n",
       "      <td>401056550</td>\n",
       "      <td>-8</td>\n",
       "      <td>0</td>\n",
       "      <td>1</td>\n",
       "      <td>1</td>\n",
       "      <td>2019-05-05 15:48:46.480659</td>\n",
       "    </tr>\n",
       "    <tr>\n",
       "      <th>8</th>\n",
       "      <td>T8</td>\n",
       "      <td>Kyle Stanley</td>\n",
       "      <td>-7</td>\n",
       "      <td>-3</td>\n",
       "      <td>14</td>\n",
       "      <td>69</td>\n",
       "      <td>69</td>\n",
       "      <td>71</td>\n",
       "      <td>--</td>\n",
       "      <td>209</td>\n",
       "      <td>401056550</td>\n",
       "      <td>-7</td>\n",
       "      <td>0</td>\n",
       "      <td>1</td>\n",
       "      <td>1</td>\n",
       "      <td>2019-05-05 15:48:46.480659</td>\n",
       "    </tr>\n",
       "    <tr>\n",
       "      <th>11</th>\n",
       "      <td>T8</td>\n",
       "      <td>Rickie Fowler</td>\n",
       "      <td>-7</td>\n",
       "      <td>-1</td>\n",
       "      <td>10</td>\n",
       "      <td>71</td>\n",
       "      <td>70</td>\n",
       "      <td>66</td>\n",
       "      <td>--</td>\n",
       "      <td>207</td>\n",
       "      <td>401056550</td>\n",
       "      <td>-7</td>\n",
       "      <td>0</td>\n",
       "      <td>1</td>\n",
       "      <td>2</td>\n",
       "      <td>2019-05-05 15:48:46.480659</td>\n",
       "    </tr>\n",
       "    <tr>\n",
       "      <th>23</th>\n",
       "      <td>T23</td>\n",
       "      <td>Jason Day</td>\n",
       "      <td>-4</td>\n",
       "      <td>-2</td>\n",
       "      <td>F</td>\n",
       "      <td>68</td>\n",
       "      <td>69</td>\n",
       "      <td>74</td>\n",
       "      <td>69</td>\n",
       "      <td>280</td>\n",
       "      <td>401056550</td>\n",
       "      <td>-4</td>\n",
       "      <td>0</td>\n",
       "      <td>0</td>\n",
       "      <td>1</td>\n",
       "      <td>2019-05-05 15:48:46.480659</td>\n",
       "    </tr>\n",
       "    <tr>\n",
       "      <th>26</th>\n",
       "      <td>T27</td>\n",
       "      <td>Henrik Stenson</td>\n",
       "      <td>-3</td>\n",
       "      <td>-1</td>\n",
       "      <td>F</td>\n",
       "      <td>74</td>\n",
       "      <td>67</td>\n",
       "      <td>70</td>\n",
       "      <td>70</td>\n",
       "      <td>281</td>\n",
       "      <td>401056550</td>\n",
       "      <td>-3</td>\n",
       "      <td>0</td>\n",
       "      <td>0</td>\n",
       "      <td>2</td>\n",
       "      <td>2019-05-05 15:48:46.480659</td>\n",
       "    </tr>\n",
       "    <tr>\n",
       "      <th>60</th>\n",
       "      <td>T60</td>\n",
       "      <td>Tony Finau</td>\n",
       "      <td>+3</td>\n",
       "      <td>+3</td>\n",
       "      <td>F</td>\n",
       "      <td>72</td>\n",
       "      <td>69</td>\n",
       "      <td>72</td>\n",
       "      <td>74</td>\n",
       "      <td>287</td>\n",
       "      <td>401056550</td>\n",
       "      <td>3</td>\n",
       "      <td>0</td>\n",
       "      <td>0</td>\n",
       "      <td>1</td>\n",
       "      <td>2019-05-05 15:48:46.480659</td>\n",
       "    </tr>\n",
       "    <tr>\n",
       "      <th>79</th>\n",
       "      <td>-</td>\n",
       "      <td>Keegan Bradley</td>\n",
       "      <td>CUT</td>\n",
       "      <td>-</td>\n",
       "      <td>CUT</td>\n",
       "      <td>70</td>\n",
       "      <td>74</td>\n",
       "      <td>--</td>\n",
       "      <td>--</td>\n",
       "      <td>144</td>\n",
       "      <td>401056550</td>\n",
       "      <td>14</td>\n",
       "      <td>1</td>\n",
       "      <td>0</td>\n",
       "      <td>1</td>\n",
       "      <td>2019-05-05 15:48:46.480659</td>\n",
       "    </tr>\n",
       "    <tr>\n",
       "      <th>81</th>\n",
       "      <td>-</td>\n",
       "      <td>Zach Johnson</td>\n",
       "      <td>CUT</td>\n",
       "      <td>-</td>\n",
       "      <td>CUT</td>\n",
       "      <td>70</td>\n",
       "      <td>74</td>\n",
       "      <td>--</td>\n",
       "      <td>--</td>\n",
       "      <td>144</td>\n",
       "      <td>401056550</td>\n",
       "      <td>14</td>\n",
       "      <td>1</td>\n",
       "      <td>0</td>\n",
       "      <td>1</td>\n",
       "      <td>2019-05-05 15:48:46.480659</td>\n",
       "    </tr>\n",
       "    <tr>\n",
       "      <th>82</th>\n",
       "      <td>-</td>\n",
       "      <td>Cameron Champ</td>\n",
       "      <td>CUT</td>\n",
       "      <td>-</td>\n",
       "      <td>CUT</td>\n",
       "      <td>72</td>\n",
       "      <td>73</td>\n",
       "      <td>--</td>\n",
       "      <td>--</td>\n",
       "      <td>145</td>\n",
       "      <td>401056550</td>\n",
       "      <td>14</td>\n",
       "      <td>1</td>\n",
       "      <td>0</td>\n",
       "      <td>1</td>\n",
       "      <td>2019-05-05 15:48:46.480659</td>\n",
       "    </tr>\n",
       "    <tr>\n",
       "      <th>120</th>\n",
       "      <td>-</td>\n",
       "      <td>Phil Mickelson</td>\n",
       "      <td>CUT</td>\n",
       "      <td>-</td>\n",
       "      <td>CUT</td>\n",
       "      <td>71</td>\n",
       "      <td>76</td>\n",
       "      <td>--</td>\n",
       "      <td>--</td>\n",
       "      <td>147</td>\n",
       "      <td>401056550</td>\n",
       "      <td>14</td>\n",
       "      <td>1</td>\n",
       "      <td>0</td>\n",
       "      <td>1</td>\n",
       "      <td>2019-05-05 15:48:46.480659</td>\n",
       "    </tr>\n",
       "  </tbody>\n",
       "</table>\n",
       "</div>"
      ],
      "text/plain": [
       "     pos          player to_par today thru  r1  r2  r3  r4  tot tourney_id  \\\n",
       "6     T6    Rory McIlroy     -8    +1    9  66  70  68  --  204  401056550   \n",
       "8     T8    Kyle Stanley     -7    -3   14  69  69  71  --  209  401056550   \n",
       "11    T8   Rickie Fowler     -7    -1   10  71  70  66  --  207  401056550   \n",
       "23   T23       Jason Day     -4    -2    F  68  69  74  69  280  401056550   \n",
       "26   T27  Henrik Stenson     -3    -1    F  74  67  70  70  281  401056550   \n",
       "60   T60      Tony Finau     +3    +3    F  72  69  72  74  287  401056550   \n",
       "79     -  Keegan Bradley    CUT     -  CUT  70  74  --  --  144  401056550   \n",
       "81     -    Zach Johnson    CUT     -  CUT  70  74  --  --  144  401056550   \n",
       "82     -   Cameron Champ    CUT     -  CUT  72  73  --  --  145  401056550   \n",
       "120    -  Phil Mickelson    CUT     -  CUT  71  76  --  --  147  401056550   \n",
       "\n",
       "    donkey_score  missed_cut  player_left  team_count  \\\n",
       "6             -8           0            1           1   \n",
       "8             -7           0            1           1   \n",
       "11            -7           0            1           2   \n",
       "23            -4           0            0           1   \n",
       "26            -3           0            0           2   \n",
       "60             3           0            0           1   \n",
       "79            14           1            0           1   \n",
       "81            14           1            0           1   \n",
       "82            14           1            0           1   \n",
       "120           14           1            0           1   \n",
       "\n",
       "                     load_date  \n",
       "6   2019-05-05 15:48:46.480659  \n",
       "8   2019-05-05 15:48:46.480659  \n",
       "11  2019-05-05 15:48:46.480659  \n",
       "23  2019-05-05 15:48:46.480659  \n",
       "26  2019-05-05 15:48:46.480659  \n",
       "60  2019-05-05 15:48:46.480659  \n",
       "79  2019-05-05 15:48:46.480659  \n",
       "81  2019-05-05 15:48:46.480659  \n",
       "82  2019-05-05 15:48:46.480659  \n",
       "120 2019-05-05 15:48:46.480659  "
      ]
     },
     "execution_count": 11,
     "metadata": {},
     "output_type": "execute_result"
    }
   ],
   "source": [
    "df.loc[df['team_count']> 0]"
   ]
  },
  {
   "cell_type": "code",
   "execution_count": null,
   "metadata": {},
   "outputs": [],
   "source": []
  },
  {
   "cell_type": "code",
   "execution_count": 12,
   "metadata": {},
   "outputs": [
    {
     "name": "stderr",
     "output_type": "stream",
     "text": [
      "2019-05-05 15:50:18,516 - donkey_golf.data_things.base_class - DEBUG - ABOUT TO SET yaml_sql_dict\n",
      "2019-05-05 15:50:18,528 - donkey_golf.data_things.base_class - INFO - Executing run_sql\n",
      "2019-05-05 15:50:18,775 - donkey_golf.data_things.base_class - INFO - Current tourney ID: 401056550\n"
     ]
    }
   ],
   "source": [
    "huh = dg.data_things.PullLeaderboard(user_id=6)"
   ]
  },
  {
   "cell_type": "code",
   "execution_count": 13,
   "metadata": {},
   "outputs": [
    {
     "name": "stderr",
     "output_type": "stream",
     "text": [
      "2019-05-05 15:50:19,383 - donkey_golf.data_things.base_class - INFO - Executing run_sql\n",
      "2019-05-05 15:50:19,679 - donkey_golf.data_things.tourney_leaderboard - INFO - Tourney current status: in_progress\n",
      "2019-05-05 15:50:19,680 - donkey_golf.data_things.tourney_leaderboard - INFO - Pulling users active tourney team\n",
      "2019-05-05 15:50:19,681 - donkey_golf.data_things.base_class - INFO - Executing run_sql\n",
      "2019-05-05 15:50:19,949 - donkey_golf.data_things.tourney_leaderboard - INFO - Determing data refresh times\n",
      "2019-05-05 15:50:19,950 - donkey_golf.data_things.tourney_leaderboard - INFO - Tourney current status: in_progress\n",
      "2019-05-05 15:50:19,952 - donkey_golf.data_things.tourney_leaderboard - INFO - Pulling users active tourney team\n",
      "2019-05-05 15:50:19,953 - donkey_golf.data_things.base_class - INFO - Executing run_sql\n"
     ]
    }
   ],
   "source": [
    "huh.run()"
   ]
  },
  {
   "cell_type": "code",
   "execution_count": 15,
   "metadata": {},
   "outputs": [
    {
     "data": {
      "text/plain": [
       "0    147\n",
       "1      8\n",
       "2      2\n",
       "Name: team_count, dtype: int64"
      ]
     },
     "execution_count": 15,
     "metadata": {},
     "output_type": "execute_result"
    }
   ],
   "source": [
    "huh.data['team_count'].value_counts()"
   ]
  },
  {
   "cell_type": "code",
   "execution_count": null,
   "metadata": {},
   "outputs": [],
   "source": [
    "df_tourney = huh.data\n",
    "df_tourney = df_tourney.loc[df_tourney['team_count'] > 0]"
   ]
  },
  {
   "cell_type": "code",
   "execution_count": null,
   "metadata": {},
   "outputs": [],
   "source": [
    "df_tourney"
   ]
  },
  {
   "cell_type": "code",
   "execution_count": null,
   "metadata": {},
   "outputs": [],
   "source": [
    "ada = dg.data_things.PullLeaderboard(user_id=5)"
   ]
  },
  {
   "cell_type": "code",
   "execution_count": null,
   "metadata": {},
   "outputs": [],
   "source": [
    "ada.pull_tourney_leaderboard()"
   ]
  },
  {
   "cell_type": "code",
   "execution_count": null,
   "metadata": {},
   "outputs": [],
   "source": [
    "ada.data.team_count.value_counts()"
   ]
  },
  {
   "cell_type": "code",
   "execution_count": null,
   "metadata": {},
   "outputs": [],
   "source": []
  },
  {
   "cell_type": "code",
   "execution_count": null,
   "metadata": {},
   "outputs": [],
   "source": [
    "ada.calc_refresh_date()"
   ]
  },
  {
   "cell_type": "code",
   "execution_count": null,
   "metadata": {},
   "outputs": [],
   "source": [
    "ada.determine_tourney_status()"
   ]
  },
  {
   "cell_type": "code",
   "execution_count": null,
   "metadata": {},
   "outputs": [],
   "source": [
    "ada.pull_users_team()"
   ]
  },
  {
   "cell_type": "code",
   "execution_count": null,
   "metadata": {},
   "outputs": [],
   "source": [
    "ada.user_df"
   ]
  },
  {
   "cell_type": "code",
   "execution_count": null,
   "metadata": {},
   "outputs": [],
   "source": [
    "ada.sql_user"
   ]
  },
  {
   "cell_type": "code",
   "execution_count": null,
   "metadata": {},
   "outputs": [],
   "source": []
  }
 ],
 "metadata": {
  "kernelspec": {
   "display_name": "venv_dgolf",
   "language": "python",
   "name": "venv_dgolf"
  },
  "language_info": {
   "codemirror_mode": {
    "name": "ipython",
    "version": 3
   },
   "file_extension": ".py",
   "mimetype": "text/x-python",
   "name": "python",
   "nbconvert_exporter": "python",
   "pygments_lexer": "ipython3",
   "version": "3.7.3"
  }
 },
 "nbformat": 4,
 "nbformat_minor": 2
}
