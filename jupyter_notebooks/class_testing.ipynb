{
 "cells": [
  {
   "cell_type": "code",
   "execution_count": 1,
   "metadata": {},
   "outputs": [
    {
     "name": "stdout",
     "output_type": "stream",
     "text": [
      "/Users/amlvt225/Code/GitHub/donkey_golf\n"
     ]
    }
   ],
   "source": [
    "cd .."
   ]
  },
  {
   "cell_type": "code",
   "execution_count": 2,
   "metadata": {
    "scrolled": true
   },
   "outputs": [
    {
     "name": "stderr",
     "output_type": "stream",
     "text": [
      "/Users/amlvt225/Code/VirtualEnvs/venv_dgolf/lib/python3.7/site-packages/flask_sqlalchemy/__init__.py:794: FSADeprecationWarning: SQLALCHEMY_TRACK_MODIFICATIONS adds significant overhead and will be disabled by default in the future.  Set it to True or False to suppress this warning.\n",
      "  'SQLALCHEMY_TRACK_MODIFICATIONS adds significant overhead and '\n"
     ]
    }
   ],
   "source": [
    "from inspect import getsource\n",
    "\n",
    "import donkey_golf as dg\n",
    "\n",
    "import donkey_golf.data_things as DT\n",
    "\n",
    "import oyaml\n",
    "import pandas as pd\n",
    "import logging\n",
    "import psycopg2\n",
    "\n",
    "from sqlalchemy import create_engine\n",
    "\n",
    "from donkey_golf import config\n",
    "\n",
    "# create logger\n",
    "logger = logging.getLogger(__name__)\n",
    "logger.setLevel(logging.DEBUG)\n",
    "\n",
    "# create console handler and set level to debug\n",
    "ch = logging.StreamHandler()\n",
    "ch.setLevel(logging.DEBUG)\n",
    "\n",
    "# create formatter\n",
    "formatter = logging.Formatter('%(asctime)s - %(name)s - %(levelname)s - %(message)s')\n",
    "\n",
    "# add formatter to ch\n",
    "ch.setFormatter(formatter)\n",
    "\n",
    "# add ch to logger\n",
    "logger.addHandler(ch)"
   ]
  },
  {
   "cell_type": "code",
   "execution_count": null,
   "metadata": {},
   "outputs": [],
   "source": [
    "yay = DT.LoadPlayerInfo()"
   ]
  },
  {
   "cell_type": "code",
   "execution_count": null,
   "metadata": {},
   "outputs": [],
   "source": [
    "yay.run()"
   ]
  },
  {
   "cell_type": "code",
   "execution_count": null,
   "metadata": {},
   "outputs": [],
   "source": [
    "yay.load_table_to_db(yay.data, 'player_info')"
   ]
  },
  {
   "cell_type": "code",
   "execution_count": 3,
   "metadata": {},
   "outputs": [
    {
     "name": "stderr",
     "output_type": "stream",
     "text": [
      "2019-06-15 10:42:45,828 - donkey_golf.data_things.base_class - DEBUG - ABOUT TO SET yaml_sql_dict\n",
      "2019-06-15 10:42:45,836 - donkey_golf.data_things.base_class - INFO - Executing run_sql\n",
      "2019-06-15 10:42:46,604 - donkey_golf.data_things.base_class - INFO - Current tourney ID: 401056556\n",
      "2019-06-15 10:42:46,605 - donkey_golf.data_things.base_class - INFO - Executing run_sql\n"
     ]
    }
   ],
   "source": [
    "cmon = DT.PullLeaderboard(user_id=28)"
   ]
  },
  {
   "cell_type": "code",
   "execution_count": 4,
   "metadata": {},
   "outputs": [
    {
     "name": "stderr",
     "output_type": "stream",
     "text": [
      "2019-06-15 10:42:47,043 - donkey_golf.data_things.base_class - INFO - Executing run_sql\n",
      "2019-06-15 10:42:47,829 - donkey_golf.data_things.tourney_leaderboard - INFO - Pulling users active tourney team\n",
      "2019-06-15 10:42:47,830 - donkey_golf.data_things.base_class - INFO - Executing run_sql\n",
      "2019-06-15 10:42:48,282 - donkey_golf.data_things.tourney_leaderboard - INFO - OUTER JOIN\n",
      "2019-06-15 10:42:48,295 - donkey_golf.data_things.tourney_leaderboard - INFO - Determing data refresh times\n"
     ]
    }
   ],
   "source": [
    "cmon.run()"
   ]
  },
  {
   "cell_type": "code",
   "execution_count": 5,
   "metadata": {},
   "outputs": [
    {
     "data": {
      "text/plain": [
       "\"select * from leaderboard a left join player_info b on a.player=b.player_name where tourney_id = (select value from donkey_variables where metric = 'current_tourney_id') order by donkey_score\""
      ]
     },
     "execution_count": 5,
     "metadata": {},
     "output_type": "execute_result"
    }
   ],
   "source": [
    "cmon.sql"
   ]
  },
  {
   "cell_type": "code",
   "execution_count": 6,
   "metadata": {},
   "outputs": [
    {
     "data": {
      "text/html": [
       "<div>\n",
       "<style scoped>\n",
       "    .dataframe tbody tr th:only-of-type {\n",
       "        vertical-align: middle;\n",
       "    }\n",
       "\n",
       "    .dataframe tbody tr th {\n",
       "        vertical-align: top;\n",
       "    }\n",
       "\n",
       "    .dataframe thead th {\n",
       "        text-align: right;\n",
       "    }\n",
       "</style>\n",
       "<table border=\"1\" class=\"dataframe\">\n",
       "  <thead>\n",
       "    <tr style=\"text-align: right;\">\n",
       "      <th></th>\n",
       "      <th>pos</th>\n",
       "      <th>player</th>\n",
       "      <th>to_par</th>\n",
       "      <th>today</th>\n",
       "      <th>thru</th>\n",
       "      <th>r1</th>\n",
       "      <th>r2</th>\n",
       "      <th>r3</th>\n",
       "      <th>r4</th>\n",
       "      <th>tot</th>\n",
       "      <th>...</th>\n",
       "      <th>donkey_score</th>\n",
       "      <th>missed_cut</th>\n",
       "      <th>player_left</th>\n",
       "      <th>team_count</th>\n",
       "      <th>load_date</th>\n",
       "      <th>player_id</th>\n",
       "      <th>player_name</th>\n",
       "      <th>player_page</th>\n",
       "      <th>player_country</th>\n",
       "      <th>on_team</th>\n",
       "    </tr>\n",
       "  </thead>\n",
       "  <tbody>\n",
       "    <tr>\n",
       "      <th>0</th>\n",
       "      <td>1</td>\n",
       "      <td>Gary Woodland</td>\n",
       "      <td>-9</td>\n",
       "      <td>-6</td>\n",
       "      <td>F</td>\n",
       "      <td>68</td>\n",
       "      <td>65</td>\n",
       "      <td>--</td>\n",
       "      <td>--</td>\n",
       "      <td>133</td>\n",
       "      <td>...</td>\n",
       "      <td>-9</td>\n",
       "      <td>0</td>\n",
       "      <td>0</td>\n",
       "      <td>1</td>\n",
       "      <td>2019-06-15 14:40:03.473061</td>\n",
       "      <td>3550</td>\n",
       "      <td>Gary Woodland</td>\n",
       "      <td>http://www.espn.com/golf/player/_/id/3550/gary...</td>\n",
       "      <td>https://a.espncdn.com/combiner/i?img=/i/teamlo...</td>\n",
       "      <td>No</td>\n",
       "    </tr>\n",
       "    <tr>\n",
       "      <th>1</th>\n",
       "      <td>2</td>\n",
       "      <td>Justin Rose</td>\n",
       "      <td>-7</td>\n",
       "      <td>-1</td>\n",
       "      <td>F</td>\n",
       "      <td>65</td>\n",
       "      <td>70</td>\n",
       "      <td>--</td>\n",
       "      <td>--</td>\n",
       "      <td>135</td>\n",
       "      <td>...</td>\n",
       "      <td>-7</td>\n",
       "      <td>0</td>\n",
       "      <td>0</td>\n",
       "      <td>1</td>\n",
       "      <td>2019-06-15 14:40:03.473061</td>\n",
       "      <td>569</td>\n",
       "      <td>Justin Rose</td>\n",
       "      <td>http://www.espn.com/golf/player/_/id/569/justi...</td>\n",
       "      <td>https://a.espncdn.com/combiner/i?img=/i/teamlo...</td>\n",
       "      <td>No</td>\n",
       "    </tr>\n",
       "    <tr>\n",
       "      <th>2</th>\n",
       "      <td>3</td>\n",
       "      <td>Louis Oosthuizen</td>\n",
       "      <td>-6</td>\n",
       "      <td>-1</td>\n",
       "      <td>F</td>\n",
       "      <td>66</td>\n",
       "      <td>70</td>\n",
       "      <td>--</td>\n",
       "      <td>--</td>\n",
       "      <td>136</td>\n",
       "      <td>...</td>\n",
       "      <td>-6</td>\n",
       "      <td>0</td>\n",
       "      <td>0</td>\n",
       "      <td>0</td>\n",
       "      <td>2019-06-15 14:40:03.473061</td>\n",
       "      <td>1293</td>\n",
       "      <td>Louis Oosthuizen</td>\n",
       "      <td>http://www.espn.com/golf/player/_/id/1293/loui...</td>\n",
       "      <td>https://a.espncdn.com/combiner/i?img=/i/teamlo...</td>\n",
       "      <td>No</td>\n",
       "    </tr>\n",
       "    <tr>\n",
       "      <th>3</th>\n",
       "      <td>T4</td>\n",
       "      <td>Rory McIlroy</td>\n",
       "      <td>-5</td>\n",
       "      <td>-2</td>\n",
       "      <td>F</td>\n",
       "      <td>68</td>\n",
       "      <td>69</td>\n",
       "      <td>--</td>\n",
       "      <td>--</td>\n",
       "      <td>137</td>\n",
       "      <td>...</td>\n",
       "      <td>-5</td>\n",
       "      <td>0</td>\n",
       "      <td>0</td>\n",
       "      <td>2</td>\n",
       "      <td>2019-06-15 14:40:03.473061</td>\n",
       "      <td>3470</td>\n",
       "      <td>Rory McIlroy</td>\n",
       "      <td>http://www.espn.com/golf/player/_/id/3470/rory...</td>\n",
       "      <td>https://a.espncdn.com/combiner/i?img=/i/teamlo...</td>\n",
       "      <td>Yes</td>\n",
       "    </tr>\n",
       "    <tr>\n",
       "      <th>4</th>\n",
       "      <td>T4</td>\n",
       "      <td>Aaron Wise</td>\n",
       "      <td>-5</td>\n",
       "      <td>E</td>\n",
       "      <td>F</td>\n",
       "      <td>66</td>\n",
       "      <td>71</td>\n",
       "      <td>--</td>\n",
       "      <td>--</td>\n",
       "      <td>137</td>\n",
       "      <td>...</td>\n",
       "      <td>-5</td>\n",
       "      <td>0</td>\n",
       "      <td>0</td>\n",
       "      <td>0</td>\n",
       "      <td>2019-06-15 14:40:03.473061</td>\n",
       "      <td>10577</td>\n",
       "      <td>Aaron Wise</td>\n",
       "      <td>http://www.espn.com/golf/player/_/id/10577/aar...</td>\n",
       "      <td>https://a.espncdn.com/combiner/i?img=/i/teamlo...</td>\n",
       "      <td>No</td>\n",
       "    </tr>\n",
       "    <tr>\n",
       "      <th>5</th>\n",
       "      <td>T6</td>\n",
       "      <td>Brooks Koepka</td>\n",
       "      <td>-4</td>\n",
       "      <td>-2</td>\n",
       "      <td>F</td>\n",
       "      <td>69</td>\n",
       "      <td>69</td>\n",
       "      <td>--</td>\n",
       "      <td>--</td>\n",
       "      <td>138</td>\n",
       "      <td>...</td>\n",
       "      <td>-4</td>\n",
       "      <td>0</td>\n",
       "      <td>0</td>\n",
       "      <td>12</td>\n",
       "      <td>2019-06-15 14:40:03.473061</td>\n",
       "      <td>6798</td>\n",
       "      <td>Brooks Koepka</td>\n",
       "      <td>http://www.espn.com/golf/player/_/id/6798/broo...</td>\n",
       "      <td>https://a.espncdn.com/combiner/i?img=/i/teamlo...</td>\n",
       "      <td>Yes</td>\n",
       "    </tr>\n",
       "    <tr>\n",
       "      <th>6</th>\n",
       "      <td>T6</td>\n",
       "      <td>Chesson Hadley</td>\n",
       "      <td>-4</td>\n",
       "      <td>-1</td>\n",
       "      <td>F</td>\n",
       "      <td>68</td>\n",
       "      <td>70</td>\n",
       "      <td>--</td>\n",
       "      <td>--</td>\n",
       "      <td>138</td>\n",
       "      <td>...</td>\n",
       "      <td>-4</td>\n",
       "      <td>0</td>\n",
       "      <td>0</td>\n",
       "      <td>0</td>\n",
       "      <td>2019-06-15 14:40:03.473061</td>\n",
       "      <td>5704</td>\n",
       "      <td>Chesson Hadley</td>\n",
       "      <td>http://www.espn.com/golf/player/_/id/5704/ches...</td>\n",
       "      <td>https://a.espncdn.com/combiner/i?img=/i/teamlo...</td>\n",
       "      <td>No</td>\n",
       "    </tr>\n",
       "    <tr>\n",
       "      <th>7</th>\n",
       "      <td>T6</td>\n",
       "      <td>Chez Reavie</td>\n",
       "      <td>-4</td>\n",
       "      <td>-1</td>\n",
       "      <td>F</td>\n",
       "      <td>68</td>\n",
       "      <td>70</td>\n",
       "      <td>--</td>\n",
       "      <td>--</td>\n",
       "      <td>138</td>\n",
       "      <td>...</td>\n",
       "      <td>-4</td>\n",
       "      <td>0</td>\n",
       "      <td>0</td>\n",
       "      <td>0</td>\n",
       "      <td>2019-06-15 14:40:03.473061</td>\n",
       "      <td>769</td>\n",
       "      <td>Chez Reavie</td>\n",
       "      <td>http://www.espn.com/golf/player/_/id/769/chez-...</td>\n",
       "      <td>https://a.espncdn.com/combiner/i?img=/i/teamlo...</td>\n",
       "      <td>No</td>\n",
       "    </tr>\n",
       "    <tr>\n",
       "      <th>8</th>\n",
       "      <td>T6</td>\n",
       "      <td>Matt Wallace</td>\n",
       "      <td>-4</td>\n",
       "      <td>-3</td>\n",
       "      <td>F</td>\n",
       "      <td>70</td>\n",
       "      <td>68</td>\n",
       "      <td>--</td>\n",
       "      <td>--</td>\n",
       "      <td>138</td>\n",
       "      <td>...</td>\n",
       "      <td>-4</td>\n",
       "      <td>0</td>\n",
       "      <td>0</td>\n",
       "      <td>0</td>\n",
       "      <td>2019-06-15 14:40:03.473061</td>\n",
       "      <td>10548</td>\n",
       "      <td>Matt Wallace</td>\n",
       "      <td>http://www.espn.com/golf/player/_/id/10548/mat...</td>\n",
       "      <td>https://a.espncdn.com/combiner/i?img=/i/teamlo...</td>\n",
       "      <td>No</td>\n",
       "    </tr>\n",
       "    <tr>\n",
       "      <th>9</th>\n",
       "      <td>T6</td>\n",
       "      <td>Matt Kuchar</td>\n",
       "      <td>-4</td>\n",
       "      <td>-2</td>\n",
       "      <td>F</td>\n",
       "      <td>69</td>\n",
       "      <td>69</td>\n",
       "      <td>--</td>\n",
       "      <td>--</td>\n",
       "      <td>138</td>\n",
       "      <td>...</td>\n",
       "      <td>-4</td>\n",
       "      <td>0</td>\n",
       "      <td>0</td>\n",
       "      <td>3</td>\n",
       "      <td>2019-06-15 14:40:03.473061</td>\n",
       "      <td>257</td>\n",
       "      <td>Matt Kuchar</td>\n",
       "      <td>http://www.espn.com/golf/player/_/id/257/matt-...</td>\n",
       "      <td>https://a.espncdn.com/combiner/i?img=/i/teamlo...</td>\n",
       "      <td>No</td>\n",
       "    </tr>\n",
       "    <tr>\n",
       "      <th>10</th>\n",
       "      <td>T11</td>\n",
       "      <td>Xander Schauffele</td>\n",
       "      <td>-3</td>\n",
       "      <td>+2</td>\n",
       "      <td>F</td>\n",
       "      <td>66</td>\n",
       "      <td>73</td>\n",
       "      <td>--</td>\n",
       "      <td>--</td>\n",
       "      <td>139</td>\n",
       "      <td>...</td>\n",
       "      <td>-3</td>\n",
       "      <td>0</td>\n",
       "      <td>0</td>\n",
       "      <td>6</td>\n",
       "      <td>2019-06-15 14:40:03.473061</td>\n",
       "      <td>10140</td>\n",
       "      <td>Xander Schauffele</td>\n",
       "      <td>http://www.espn.com/golf/player/_/id/10140/xan...</td>\n",
       "      <td>https://a.espncdn.com/combiner/i?img=/i/teamlo...</td>\n",
       "      <td>Yes</td>\n",
       "    </tr>\n",
       "    <tr>\n",
       "      <th>11</th>\n",
       "      <td>T11</td>\n",
       "      <td>Jon Rahm</td>\n",
       "      <td>-3</td>\n",
       "      <td>-1</td>\n",
       "      <td>F</td>\n",
       "      <td>69</td>\n",
       "      <td>70</td>\n",
       "      <td>--</td>\n",
       "      <td>--</td>\n",
       "      <td>139</td>\n",
       "      <td>...</td>\n",
       "      <td>-3</td>\n",
       "      <td>0</td>\n",
       "      <td>0</td>\n",
       "      <td>2</td>\n",
       "      <td>2019-06-15 14:40:03.473061</td>\n",
       "      <td>9780</td>\n",
       "      <td>Jon Rahm</td>\n",
       "      <td>http://www.espn.com/golf/player/_/id/9780/jon-...</td>\n",
       "      <td>https://a.espncdn.com/combiner/i?img=/i/teamlo...</td>\n",
       "      <td>No</td>\n",
       "    </tr>\n",
       "    <tr>\n",
       "      <th>12</th>\n",
       "      <td>T11</td>\n",
       "      <td>Sergio Garcia</td>\n",
       "      <td>-3</td>\n",
       "      <td>-1</td>\n",
       "      <td>F</td>\n",
       "      <td>69</td>\n",
       "      <td>70</td>\n",
       "      <td>--</td>\n",
       "      <td>--</td>\n",
       "      <td>139</td>\n",
       "      <td>...</td>\n",
       "      <td>-3</td>\n",
       "      <td>0</td>\n",
       "      <td>0</td>\n",
       "      <td>2</td>\n",
       "      <td>2019-06-15 14:40:03.473061</td>\n",
       "      <td>158</td>\n",
       "      <td>Sergio Garcia</td>\n",
       "      <td>http://www.espn.com/golf/player/_/id/158/sergi...</td>\n",
       "      <td>https://a.espncdn.com/combiner/i?img=/i/teamlo...</td>\n",
       "      <td>No</td>\n",
       "    </tr>\n",
       "    <tr>\n",
       "      <th>13</th>\n",
       "      <td>T11</td>\n",
       "      <td>Graeme McDowell</td>\n",
       "      <td>-3</td>\n",
       "      <td>-1</td>\n",
       "      <td>F</td>\n",
       "      <td>69</td>\n",
       "      <td>70</td>\n",
       "      <td>--</td>\n",
       "      <td>--</td>\n",
       "      <td>139</td>\n",
       "      <td>...</td>\n",
       "      <td>-3</td>\n",
       "      <td>0</td>\n",
       "      <td>0</td>\n",
       "      <td>0</td>\n",
       "      <td>2019-06-15 14:40:03.473061</td>\n",
       "      <td>301</td>\n",
       "      <td>Graeme McDowell</td>\n",
       "      <td>http://www.espn.com/golf/player/_/id/301/graem...</td>\n",
       "      <td>https://a.espncdn.com/combiner/i?img=/i/teamlo...</td>\n",
       "      <td>No</td>\n",
       "    </tr>\n",
       "    <tr>\n",
       "      <th>14</th>\n",
       "      <td>T11</td>\n",
       "      <td>Scott Piercy</td>\n",
       "      <td>-3</td>\n",
       "      <td>+1</td>\n",
       "      <td>F</td>\n",
       "      <td>67</td>\n",
       "      <td>72</td>\n",
       "      <td>--</td>\n",
       "      <td>--</td>\n",
       "      <td>139</td>\n",
       "      <td>...</td>\n",
       "      <td>-3</td>\n",
       "      <td>0</td>\n",
       "      <td>0</td>\n",
       "      <td>0</td>\n",
       "      <td>2019-06-15 14:40:03.473061</td>\n",
       "      <td>1037</td>\n",
       "      <td>Scott Piercy</td>\n",
       "      <td>http://www.espn.com/golf/player/_/id/1037/scot...</td>\n",
       "      <td>https://a.espncdn.com/combiner/i?img=/i/teamlo...</td>\n",
       "      <td>No</td>\n",
       "    </tr>\n",
       "    <tr>\n",
       "      <th>15</th>\n",
       "      <td>T11</td>\n",
       "      <td>Henrik Stenson</td>\n",
       "      <td>-3</td>\n",
       "      <td>E</td>\n",
       "      <td>F</td>\n",
       "      <td>68</td>\n",
       "      <td>71</td>\n",
       "      <td>--</td>\n",
       "      <td>--</td>\n",
       "      <td>139</td>\n",
       "      <td>...</td>\n",
       "      <td>-3</td>\n",
       "      <td>0</td>\n",
       "      <td>0</td>\n",
       "      <td>1</td>\n",
       "      <td>2019-06-15 14:40:03.473061</td>\n",
       "      <td>576</td>\n",
       "      <td>Henrik Stenson</td>\n",
       "      <td>http://www.espn.com/golf/player/_/id/576/henri...</td>\n",
       "      <td>https://a.espncdn.com/combiner/i?img=/i/teamlo...</td>\n",
       "      <td>No</td>\n",
       "    </tr>\n",
       "    <tr>\n",
       "      <th>16</th>\n",
       "      <td>T11</td>\n",
       "      <td>Adam Scott</td>\n",
       "      <td>-3</td>\n",
       "      <td>-2</td>\n",
       "      <td>F</td>\n",
       "      <td>70</td>\n",
       "      <td>69</td>\n",
       "      <td>--</td>\n",
       "      <td>--</td>\n",
       "      <td>139</td>\n",
       "      <td>...</td>\n",
       "      <td>-3</td>\n",
       "      <td>0</td>\n",
       "      <td>0</td>\n",
       "      <td>8</td>\n",
       "      <td>2019-06-15 14:40:03.473061</td>\n",
       "      <td>388</td>\n",
       "      <td>Adam Scott</td>\n",
       "      <td>http://www.espn.com/golf/player/_/id/388/adam-...</td>\n",
       "      <td>https://a.espncdn.com/combiner/i?img=/i/teamlo...</td>\n",
       "      <td>Yes</td>\n",
       "    </tr>\n",
       "    <tr>\n",
       "      <th>17</th>\n",
       "      <td>T11</td>\n",
       "      <td>Zach Johnson</td>\n",
       "      <td>-3</td>\n",
       "      <td>-2</td>\n",
       "      <td>F</td>\n",
       "      <td>70</td>\n",
       "      <td>69</td>\n",
       "      <td>--</td>\n",
       "      <td>--</td>\n",
       "      <td>139</td>\n",
       "      <td>...</td>\n",
       "      <td>-3</td>\n",
       "      <td>0</td>\n",
       "      <td>0</td>\n",
       "      <td>0</td>\n",
       "      <td>2019-06-15 14:40:03.473061</td>\n",
       "      <td>686</td>\n",
       "      <td>Zach Johnson</td>\n",
       "      <td>http://www.espn.com/golf/player/_/id/686/zach-...</td>\n",
       "      <td>https://a.espncdn.com/combiner/i?img=/i/teamlo...</td>\n",
       "      <td>No</td>\n",
       "    </tr>\n",
       "    <tr>\n",
       "      <th>18</th>\n",
       "      <td>T19</td>\n",
       "      <td>Matthew Fitzpatrick</td>\n",
       "      <td>-2</td>\n",
       "      <td>E</td>\n",
       "      <td>F</td>\n",
       "      <td>69</td>\n",
       "      <td>71</td>\n",
       "      <td>--</td>\n",
       "      <td>--</td>\n",
       "      <td>140</td>\n",
       "      <td>...</td>\n",
       "      <td>-2</td>\n",
       "      <td>0</td>\n",
       "      <td>0</td>\n",
       "      <td>1</td>\n",
       "      <td>2019-06-15 14:40:03.473061</td>\n",
       "      <td>9037</td>\n",
       "      <td>Matthew Fitzpatrick</td>\n",
       "      <td>http://www.espn.com/golf/player/_/id/9037/matt...</td>\n",
       "      <td>https://a.espncdn.com/combiner/i?img=/i/teamlo...</td>\n",
       "      <td>No</td>\n",
       "    </tr>\n",
       "    <tr>\n",
       "      <th>19</th>\n",
       "      <td>T19</td>\n",
       "      <td>Dustin Johnson</td>\n",
       "      <td>-2</td>\n",
       "      <td>-2</td>\n",
       "      <td>F</td>\n",
       "      <td>71</td>\n",
       "      <td>69</td>\n",
       "      <td>--</td>\n",
       "      <td>--</td>\n",
       "      <td>140</td>\n",
       "      <td>...</td>\n",
       "      <td>-2</td>\n",
       "      <td>0</td>\n",
       "      <td>0</td>\n",
       "      <td>5</td>\n",
       "      <td>2019-06-15 14:40:03.473061</td>\n",
       "      <td>3448</td>\n",
       "      <td>Dustin Johnson</td>\n",
       "      <td>http://www.espn.com/golf/player/_/id/3448/dust...</td>\n",
       "      <td>https://a.espncdn.com/combiner/i?img=/i/teamlo...</td>\n",
       "      <td>No</td>\n",
       "    </tr>\n",
       "    <tr>\n",
       "      <th>20</th>\n",
       "      <td>T19</td>\n",
       "      <td>Sepp Straka</td>\n",
       "      <td>-2</td>\n",
       "      <td>+1</td>\n",
       "      <td>F</td>\n",
       "      <td>68</td>\n",
       "      <td>72</td>\n",
       "      <td>--</td>\n",
       "      <td>--</td>\n",
       "      <td>140</td>\n",
       "      <td>...</td>\n",
       "      <td>-2</td>\n",
       "      <td>0</td>\n",
       "      <td>0</td>\n",
       "      <td>0</td>\n",
       "      <td>2019-06-15 14:40:03.473061</td>\n",
       "      <td>8961</td>\n",
       "      <td>Sepp Straka</td>\n",
       "      <td>http://www.espn.com/golf/player/_/id/8961/sepp...</td>\n",
       "      <td>https://a.espncdn.com/combiner/i?img=/i/teamlo...</td>\n",
       "      <td>No</td>\n",
       "    </tr>\n",
       "    <tr>\n",
       "      <th>21</th>\n",
       "      <td>T19</td>\n",
       "      <td>Carlos Ortiz</td>\n",
       "      <td>-2</td>\n",
       "      <td>-1</td>\n",
       "      <td>F</td>\n",
       "      <td>70</td>\n",
       "      <td>70</td>\n",
       "      <td>--</td>\n",
       "      <td>--</td>\n",
       "      <td>140</td>\n",
       "      <td>...</td>\n",
       "      <td>-2</td>\n",
       "      <td>0</td>\n",
       "      <td>0</td>\n",
       "      <td>0</td>\n",
       "      <td>2019-06-15 14:40:03.473061</td>\n",
       "      <td>5532</td>\n",
       "      <td>Carlos Ortiz</td>\n",
       "      <td>http://www.espn.com/golf/player/_/id/5532/carl...</td>\n",
       "      <td>https://a.espncdn.com/combiner/i?img=/i/teamlo...</td>\n",
       "      <td>No</td>\n",
       "    </tr>\n",
       "    <tr>\n",
       "      <th>22</th>\n",
       "      <td>T19</td>\n",
       "      <td>Harris English</td>\n",
       "      <td>-2</td>\n",
       "      <td>-2</td>\n",
       "      <td>F</td>\n",
       "      <td>71</td>\n",
       "      <td>69</td>\n",
       "      <td>--</td>\n",
       "      <td>--</td>\n",
       "      <td>140</td>\n",
       "      <td>...</td>\n",
       "      <td>-2</td>\n",
       "      <td>0</td>\n",
       "      <td>0</td>\n",
       "      <td>0</td>\n",
       "      <td>2019-06-15 14:40:03.473061</td>\n",
       "      <td>5408</td>\n",
       "      <td>Harris English</td>\n",
       "      <td>http://www.espn.com/golf/player/_/id/5408/harr...</td>\n",
       "      <td>https://a.espncdn.com/combiner/i?img=/i/teamlo...</td>\n",
       "      <td>No</td>\n",
       "    </tr>\n",
       "    <tr>\n",
       "      <th>23</th>\n",
       "      <td>T19</td>\n",
       "      <td>Francesco Molinari</td>\n",
       "      <td>-2</td>\n",
       "      <td>+1</td>\n",
       "      <td>F</td>\n",
       "      <td>68</td>\n",
       "      <td>72</td>\n",
       "      <td>--</td>\n",
       "      <td>--</td>\n",
       "      <td>140</td>\n",
       "      <td>...</td>\n",
       "      <td>-2</td>\n",
       "      <td>0</td>\n",
       "      <td>0</td>\n",
       "      <td>3</td>\n",
       "      <td>2019-06-15 14:40:03.473061</td>\n",
       "      <td>1483</td>\n",
       "      <td>Francesco Molinari</td>\n",
       "      <td>http://www.espn.com/golf/player/_/id/1483/fran...</td>\n",
       "      <td>https://a.espncdn.com/combiner/i?img=/i/teamlo...</td>\n",
       "      <td>No</td>\n",
       "    </tr>\n",
       "    <tr>\n",
       "      <th>24</th>\n",
       "      <td>T19</td>\n",
       "      <td>Jim Furyk</td>\n",
       "      <td>-2</td>\n",
       "      <td>-4</td>\n",
       "      <td>F</td>\n",
       "      <td>73</td>\n",
       "      <td>67</td>\n",
       "      <td>--</td>\n",
       "      <td>--</td>\n",
       "      <td>140</td>\n",
       "      <td>...</td>\n",
       "      <td>-2</td>\n",
       "      <td>0</td>\n",
       "      <td>0</td>\n",
       "      <td>0</td>\n",
       "      <td>2019-06-15 14:40:03.473061</td>\n",
       "      <td>153</td>\n",
       "      <td>Jim Furyk</td>\n",
       "      <td>http://www.espn.com/golf/player/_/id/153/jim-f...</td>\n",
       "      <td>https://a.espncdn.com/combiner/i?img=/i/teamlo...</td>\n",
       "      <td>No</td>\n",
       "    </tr>\n",
       "    <tr>\n",
       "      <th>25</th>\n",
       "      <td>T19</td>\n",
       "      <td>Brandon Wu (a)</td>\n",
       "      <td>-2</td>\n",
       "      <td>-2</td>\n",
       "      <td>F</td>\n",
       "      <td>71</td>\n",
       "      <td>69</td>\n",
       "      <td>--</td>\n",
       "      <td>--</td>\n",
       "      <td>140</td>\n",
       "      <td>...</td>\n",
       "      <td>-2</td>\n",
       "      <td>0</td>\n",
       "      <td>0</td>\n",
       "      <td>0</td>\n",
       "      <td>2019-06-15 14:40:03.473061</td>\n",
       "      <td>4355673</td>\n",
       "      <td>Brandon Wu (a)</td>\n",
       "      <td>http://www.espn.com/golf/player/_/id/4355673/b...</td>\n",
       "      <td>https://a.espncdn.com/combiner/i?img=/i/teamlo...</td>\n",
       "      <td>No</td>\n",
       "    </tr>\n",
       "    <tr>\n",
       "      <th>26</th>\n",
       "      <td>T27</td>\n",
       "      <td>Jason Dufner</td>\n",
       "      <td>-1</td>\n",
       "      <td>E</td>\n",
       "      <td>F</td>\n",
       "      <td>70</td>\n",
       "      <td>71</td>\n",
       "      <td>--</td>\n",
       "      <td>--</td>\n",
       "      <td>141</td>\n",
       "      <td>...</td>\n",
       "      <td>-1</td>\n",
       "      <td>0</td>\n",
       "      <td>0</td>\n",
       "      <td>0</td>\n",
       "      <td>2019-06-15 14:40:03.473061</td>\n",
       "      <td>110</td>\n",
       "      <td>Jason Dufner</td>\n",
       "      <td>http://www.espn.com/golf/player/_/id/110/jason...</td>\n",
       "      <td>https://a.espncdn.com/combiner/i?img=/i/teamlo...</td>\n",
       "      <td>No</td>\n",
       "    </tr>\n",
       "    <tr>\n",
       "      <th>27</th>\n",
       "      <td>T27</td>\n",
       "      <td>Nate Lashley</td>\n",
       "      <td>-1</td>\n",
       "      <td>+3</td>\n",
       "      <td>F</td>\n",
       "      <td>67</td>\n",
       "      <td>74</td>\n",
       "      <td>--</td>\n",
       "      <td>--</td>\n",
       "      <td>141</td>\n",
       "      <td>...</td>\n",
       "      <td>-1</td>\n",
       "      <td>0</td>\n",
       "      <td>0</td>\n",
       "      <td>0</td>\n",
       "      <td>2019-06-15 14:40:03.473061</td>\n",
       "      <td>1600</td>\n",
       "      <td>Nate Lashley</td>\n",
       "      <td>http://www.espn.com/golf/player/_/id/1600/nate...</td>\n",
       "      <td>https://a.espncdn.com/combiner/i?img=/i/teamlo...</td>\n",
       "      <td>No</td>\n",
       "    </tr>\n",
       "    <tr>\n",
       "      <th>28</th>\n",
       "      <td>T27</td>\n",
       "      <td>Li Haotong</td>\n",
       "      <td>-1</td>\n",
       "      <td>-1</td>\n",
       "      <td>F</td>\n",
       "      <td>71</td>\n",
       "      <td>70</td>\n",
       "      <td>--</td>\n",
       "      <td>--</td>\n",
       "      <td>141</td>\n",
       "      <td>...</td>\n",
       "      <td>-1</td>\n",
       "      <td>0</td>\n",
       "      <td>0</td>\n",
       "      <td>0</td>\n",
       "      <td>2019-06-15 14:40:03.473061</td>\n",
       "      <td>5934</td>\n",
       "      <td>Li Haotong</td>\n",
       "      <td>http://www.espn.com/golf/player/_/id/5934/li-h...</td>\n",
       "      <td>https://a.espncdn.com/combiner/i?img=/i/teamlo...</td>\n",
       "      <td>No</td>\n",
       "    </tr>\n",
       "    <tr>\n",
       "      <th>29</th>\n",
       "      <td>T27</td>\n",
       "      <td>Phil Mickelson</td>\n",
       "      <td>-1</td>\n",
       "      <td>-2</td>\n",
       "      <td>F</td>\n",
       "      <td>72</td>\n",
       "      <td>69</td>\n",
       "      <td>--</td>\n",
       "      <td>--</td>\n",
       "      <td>141</td>\n",
       "      <td>...</td>\n",
       "      <td>-1</td>\n",
       "      <td>0</td>\n",
       "      <td>0</td>\n",
       "      <td>3</td>\n",
       "      <td>2019-06-15 14:40:03.473061</td>\n",
       "      <td>308</td>\n",
       "      <td>Phil Mickelson</td>\n",
       "      <td>http://www.espn.com/golf/player/_/id/308/phil-...</td>\n",
       "      <td>https://a.espncdn.com/combiner/i?img=/i/teamlo...</td>\n",
       "      <td>No</td>\n",
       "    </tr>\n",
       "    <tr>\n",
       "      <th>...</th>\n",
       "      <td>...</td>\n",
       "      <td>...</td>\n",
       "      <td>...</td>\n",
       "      <td>...</td>\n",
       "      <td>...</td>\n",
       "      <td>...</td>\n",
       "      <td>...</td>\n",
       "      <td>...</td>\n",
       "      <td>...</td>\n",
       "      <td>...</td>\n",
       "      <td>...</td>\n",
       "      <td>...</td>\n",
       "      <td>...</td>\n",
       "      <td>...</td>\n",
       "      <td>...</td>\n",
       "      <td>...</td>\n",
       "      <td>...</td>\n",
       "      <td>...</td>\n",
       "      <td>...</td>\n",
       "      <td>...</td>\n",
       "      <td>...</td>\n",
       "    </tr>\n",
       "    <tr>\n",
       "      <th>127</th>\n",
       "      <td>-</td>\n",
       "      <td>Lucas Glover</td>\n",
       "      <td>CUT</td>\n",
       "      <td>-</td>\n",
       "      <td>CUT</td>\n",
       "      <td>73</td>\n",
       "      <td>72</td>\n",
       "      <td>--</td>\n",
       "      <td>--</td>\n",
       "      <td>145</td>\n",
       "      <td>...</td>\n",
       "      <td>3</td>\n",
       "      <td>1</td>\n",
       "      <td>0</td>\n",
       "      <td>0</td>\n",
       "      <td>2019-06-15 14:40:03.473061</td>\n",
       "      <td>676</td>\n",
       "      <td>Lucas Glover</td>\n",
       "      <td>http://www.espn.com/golf/player/_/id/676/lucas...</td>\n",
       "      <td>https://a.espncdn.com/combiner/i?img=/i/teamlo...</td>\n",
       "      <td>No</td>\n",
       "    </tr>\n",
       "    <tr>\n",
       "      <th>128</th>\n",
       "      <td>-</td>\n",
       "      <td>Kevin Na</td>\n",
       "      <td>CUT</td>\n",
       "      <td>-</td>\n",
       "      <td>CUT</td>\n",
       "      <td>72</td>\n",
       "      <td>77</td>\n",
       "      <td>--</td>\n",
       "      <td>--</td>\n",
       "      <td>149</td>\n",
       "      <td>...</td>\n",
       "      <td>3</td>\n",
       "      <td>1</td>\n",
       "      <td>0</td>\n",
       "      <td>0</td>\n",
       "      <td>2019-06-15 14:40:03.473061</td>\n",
       "      <td>318</td>\n",
       "      <td>Kevin Na</td>\n",
       "      <td>http://www.espn.com/golf/player/_/id/318/kevin-na</td>\n",
       "      <td>https://a.espncdn.com/combiner/i?img=/i/teamlo...</td>\n",
       "      <td>No</td>\n",
       "    </tr>\n",
       "    <tr>\n",
       "      <th>129</th>\n",
       "      <td>-</td>\n",
       "      <td>Connor Arendell</td>\n",
       "      <td>CUT</td>\n",
       "      <td>-</td>\n",
       "      <td>CUT</td>\n",
       "      <td>77</td>\n",
       "      <td>73</td>\n",
       "      <td>--</td>\n",
       "      <td>--</td>\n",
       "      <td>150</td>\n",
       "      <td>...</td>\n",
       "      <td>3</td>\n",
       "      <td>1</td>\n",
       "      <td>0</td>\n",
       "      <td>0</td>\n",
       "      <td>2019-06-15 14:40:03.473061</td>\n",
       "      <td>6781</td>\n",
       "      <td>Connor Arendell</td>\n",
       "      <td>http://www.espn.com/golf/player/_/id/6781/conn...</td>\n",
       "      <td>https://a.espncdn.com/combiner/i?img=/i/teamlo...</td>\n",
       "      <td>No</td>\n",
       "    </tr>\n",
       "    <tr>\n",
       "      <th>130</th>\n",
       "      <td>-</td>\n",
       "      <td>Matthieu Pavon</td>\n",
       "      <td>CUT</td>\n",
       "      <td>-</td>\n",
       "      <td>CUT</td>\n",
       "      <td>73</td>\n",
       "      <td>74</td>\n",
       "      <td>--</td>\n",
       "      <td>--</td>\n",
       "      <td>147</td>\n",
       "      <td>...</td>\n",
       "      <td>3</td>\n",
       "      <td>1</td>\n",
       "      <td>0</td>\n",
       "      <td>0</td>\n",
       "      <td>2019-06-15 14:40:03.473061</td>\n",
       "      <td>10596</td>\n",
       "      <td>Matthieu Pavon</td>\n",
       "      <td>http://www.espn.com/golf/player/_/id/10596/mat...</td>\n",
       "      <td>https://a.espncdn.com/combiner/i?img=/i/teamlo...</td>\n",
       "      <td>No</td>\n",
       "    </tr>\n",
       "    <tr>\n",
       "      <th>131</th>\n",
       "      <td>-</td>\n",
       "      <td>Ollie Schniederjans</td>\n",
       "      <td>CUT</td>\n",
       "      <td>-</td>\n",
       "      <td>CUT</td>\n",
       "      <td>75</td>\n",
       "      <td>70</td>\n",
       "      <td>--</td>\n",
       "      <td>--</td>\n",
       "      <td>145</td>\n",
       "      <td>...</td>\n",
       "      <td>3</td>\n",
       "      <td>1</td>\n",
       "      <td>0</td>\n",
       "      <td>0</td>\n",
       "      <td>2019-06-15 14:40:03.473061</td>\n",
       "      <td>9568</td>\n",
       "      <td>Ollie Schniederjans</td>\n",
       "      <td>http://www.espn.com/golf/player/_/id/9568/olli...</td>\n",
       "      <td>https://a.espncdn.com/combiner/i?img=/i/teamlo...</td>\n",
       "      <td>No</td>\n",
       "    </tr>\n",
       "    <tr>\n",
       "      <th>132</th>\n",
       "      <td>-</td>\n",
       "      <td>Renato Paratore</td>\n",
       "      <td>CUT</td>\n",
       "      <td>-</td>\n",
       "      <td>CUT</td>\n",
       "      <td>75</td>\n",
       "      <td>74</td>\n",
       "      <td>--</td>\n",
       "      <td>--</td>\n",
       "      <td>149</td>\n",
       "      <td>...</td>\n",
       "      <td>3</td>\n",
       "      <td>1</td>\n",
       "      <td>0</td>\n",
       "      <td>0</td>\n",
       "      <td>2019-06-15 14:40:03.473061</td>\n",
       "      <td>6979</td>\n",
       "      <td>Renato Paratore</td>\n",
       "      <td>http://www.espn.com/golf/player/_/id/6979/rena...</td>\n",
       "      <td>https://a.espncdn.com/combiner/i?img=/i/teamlo...</td>\n",
       "      <td>No</td>\n",
       "    </tr>\n",
       "    <tr>\n",
       "      <th>133</th>\n",
       "      <td>-</td>\n",
       "      <td>Si Woo Kim</td>\n",
       "      <td>CUT</td>\n",
       "      <td>-</td>\n",
       "      <td>CUT</td>\n",
       "      <td>76</td>\n",
       "      <td>74</td>\n",
       "      <td>--</td>\n",
       "      <td>--</td>\n",
       "      <td>150</td>\n",
       "      <td>...</td>\n",
       "      <td>3</td>\n",
       "      <td>1</td>\n",
       "      <td>0</td>\n",
       "      <td>0</td>\n",
       "      <td>2019-06-15 14:40:03.473061</td>\n",
       "      <td>7081</td>\n",
       "      <td>Si Woo Kim</td>\n",
       "      <td>http://www.espn.com/golf/player/_/id/7081/si-w...</td>\n",
       "      <td>https://a.espncdn.com/combiner/i?img=/i/teamlo...</td>\n",
       "      <td>No</td>\n",
       "    </tr>\n",
       "    <tr>\n",
       "      <th>134</th>\n",
       "      <td>-</td>\n",
       "      <td>Lucas Bjerregaard</td>\n",
       "      <td>CUT</td>\n",
       "      <td>-</td>\n",
       "      <td>CUT</td>\n",
       "      <td>80</td>\n",
       "      <td>75</td>\n",
       "      <td>--</td>\n",
       "      <td>--</td>\n",
       "      <td>155</td>\n",
       "      <td>...</td>\n",
       "      <td>3</td>\n",
       "      <td>1</td>\n",
       "      <td>0</td>\n",
       "      <td>0</td>\n",
       "      <td>2019-06-15 14:40:03.473061</td>\n",
       "      <td>9575</td>\n",
       "      <td>Lucas Bjerregaard</td>\n",
       "      <td>http://www.espn.com/golf/player/_/id/9575/luca...</td>\n",
       "      <td>https://a.espncdn.com/combiner/i?img=/i/teamlo...</td>\n",
       "      <td>No</td>\n",
       "    </tr>\n",
       "    <tr>\n",
       "      <th>135</th>\n",
       "      <td>-</td>\n",
       "      <td>Roberto Castro</td>\n",
       "      <td>CUT</td>\n",
       "      <td>-</td>\n",
       "      <td>CUT</td>\n",
       "      <td>78</td>\n",
       "      <td>77</td>\n",
       "      <td>--</td>\n",
       "      <td>--</td>\n",
       "      <td>155</td>\n",
       "      <td>...</td>\n",
       "      <td>3</td>\n",
       "      <td>1</td>\n",
       "      <td>0</td>\n",
       "      <td>0</td>\n",
       "      <td>2019-06-15 14:40:03.473061</td>\n",
       "      <td>3740</td>\n",
       "      <td>Roberto Castro</td>\n",
       "      <td>http://www.espn.com/golf/player/_/id/3740/robe...</td>\n",
       "      <td>https://a.espncdn.com/combiner/i?img=/i/teamlo...</td>\n",
       "      <td>No</td>\n",
       "    </tr>\n",
       "    <tr>\n",
       "      <th>136</th>\n",
       "      <td>-</td>\n",
       "      <td>Nick Hardy</td>\n",
       "      <td>CUT</td>\n",
       "      <td>-</td>\n",
       "      <td>CUT</td>\n",
       "      <td>73</td>\n",
       "      <td>72</td>\n",
       "      <td>--</td>\n",
       "      <td>--</td>\n",
       "      <td>145</td>\n",
       "      <td>...</td>\n",
       "      <td>3</td>\n",
       "      <td>1</td>\n",
       "      <td>0</td>\n",
       "      <td>0</td>\n",
       "      <td>2019-06-15 14:40:03.473061</td>\n",
       "      <td>10048</td>\n",
       "      <td>Nick Hardy</td>\n",
       "      <td>http://www.espn.com/golf/player/_/id/10048/nic...</td>\n",
       "      <td>https://a.espncdn.com/combiner/i?img=/i/teamlo...</td>\n",
       "      <td>No</td>\n",
       "    </tr>\n",
       "    <tr>\n",
       "      <th>137</th>\n",
       "      <td>-</td>\n",
       "      <td>Kyoung-Hoon Lee</td>\n",
       "      <td>CUT</td>\n",
       "      <td>-</td>\n",
       "      <td>CUT</td>\n",
       "      <td>76</td>\n",
       "      <td>74</td>\n",
       "      <td>--</td>\n",
       "      <td>--</td>\n",
       "      <td>150</td>\n",
       "      <td>...</td>\n",
       "      <td>3</td>\n",
       "      <td>1</td>\n",
       "      <td>0</td>\n",
       "      <td>0</td>\n",
       "      <td>2019-06-15 14:40:03.473061</td>\n",
       "      <td>7083</td>\n",
       "      <td>Kyoung-Hoon Lee</td>\n",
       "      <td>http://www.espn.com/golf/player/_/id/7083/kyou...</td>\n",
       "      <td>https://a.espncdn.com/combiner/i?img=/i/teamlo...</td>\n",
       "      <td>No</td>\n",
       "    </tr>\n",
       "    <tr>\n",
       "      <th>138</th>\n",
       "      <td>-</td>\n",
       "      <td>Alexander Noren</td>\n",
       "      <td>CUT</td>\n",
       "      <td>-</td>\n",
       "      <td>CUT</td>\n",
       "      <td>75</td>\n",
       "      <td>72</td>\n",
       "      <td>--</td>\n",
       "      <td>--</td>\n",
       "      <td>147</td>\n",
       "      <td>...</td>\n",
       "      <td>3</td>\n",
       "      <td>1</td>\n",
       "      <td>0</td>\n",
       "      <td>0</td>\n",
       "      <td>2019-06-15 14:40:03.473061</td>\n",
       "      <td>3832</td>\n",
       "      <td>Alexander Noren</td>\n",
       "      <td>http://www.espn.com/golf/player/_/id/3832/alex...</td>\n",
       "      <td>https://a.espncdn.com/combiner/i?img=/i/teamlo...</td>\n",
       "      <td>No</td>\n",
       "    </tr>\n",
       "    <tr>\n",
       "      <th>139</th>\n",
       "      <td>-</td>\n",
       "      <td>Ryan Sullivan</td>\n",
       "      <td>CUT</td>\n",
       "      <td>-</td>\n",
       "      <td>CUT</td>\n",
       "      <td>73</td>\n",
       "      <td>79</td>\n",
       "      <td>--</td>\n",
       "      <td>--</td>\n",
       "      <td>152</td>\n",
       "      <td>...</td>\n",
       "      <td>3</td>\n",
       "      <td>1</td>\n",
       "      <td>0</td>\n",
       "      <td>0</td>\n",
       "      <td>2019-06-15 14:40:03.473061</td>\n",
       "      <td>7087</td>\n",
       "      <td>Ryan Sullivan</td>\n",
       "      <td>http://www.espn.com/golf/player/_/id/7087/ryan...</td>\n",
       "      <td>https://a.espncdn.com/combiner/i?img=/i/teamlo...</td>\n",
       "      <td>No</td>\n",
       "    </tr>\n",
       "    <tr>\n",
       "      <th>140</th>\n",
       "      <td>-</td>\n",
       "      <td>Patton Kizzire</td>\n",
       "      <td>CUT</td>\n",
       "      <td>-</td>\n",
       "      <td>CUT</td>\n",
       "      <td>80</td>\n",
       "      <td>67</td>\n",
       "      <td>--</td>\n",
       "      <td>--</td>\n",
       "      <td>147</td>\n",
       "      <td>...</td>\n",
       "      <td>3</td>\n",
       "      <td>1</td>\n",
       "      <td>0</td>\n",
       "      <td>0</td>\n",
       "      <td>2019-06-15 14:40:03.473061</td>\n",
       "      <td>3980</td>\n",
       "      <td>Patton Kizzire</td>\n",
       "      <td>http://www.espn.com/golf/player/_/id/3980/patt...</td>\n",
       "      <td>https://a.espncdn.com/combiner/i?img=/i/teamlo...</td>\n",
       "      <td>No</td>\n",
       "    </tr>\n",
       "    <tr>\n",
       "      <th>141</th>\n",
       "      <td>-</td>\n",
       "      <td>Luke List</td>\n",
       "      <td>CUT</td>\n",
       "      <td>-</td>\n",
       "      <td>CUT</td>\n",
       "      <td>74</td>\n",
       "      <td>72</td>\n",
       "      <td>--</td>\n",
       "      <td>--</td>\n",
       "      <td>146</td>\n",
       "      <td>...</td>\n",
       "      <td>3</td>\n",
       "      <td>1</td>\n",
       "      <td>0</td>\n",
       "      <td>0</td>\n",
       "      <td>2019-06-15 14:40:03.473061</td>\n",
       "      <td>1059</td>\n",
       "      <td>Luke List</td>\n",
       "      <td>http://www.espn.com/golf/player/_/id/1059/luke...</td>\n",
       "      <td>https://a.espncdn.com/combiner/i?img=/i/teamlo...</td>\n",
       "      <td>No</td>\n",
       "    </tr>\n",
       "    <tr>\n",
       "      <th>142</th>\n",
       "      <td>-</td>\n",
       "      <td>Ryan Fox</td>\n",
       "      <td>CUT</td>\n",
       "      <td>-</td>\n",
       "      <td>CUT</td>\n",
       "      <td>74</td>\n",
       "      <td>73</td>\n",
       "      <td>--</td>\n",
       "      <td>--</td>\n",
       "      <td>147</td>\n",
       "      <td>...</td>\n",
       "      <td>3</td>\n",
       "      <td>1</td>\n",
       "      <td>0</td>\n",
       "      <td>0</td>\n",
       "      <td>2019-06-15 14:40:03.473061</td>\n",
       "      <td>4251</td>\n",
       "      <td>Ryan Fox</td>\n",
       "      <td>http://www.espn.com/golf/player/_/id/4251/ryan...</td>\n",
       "      <td>https://a.espncdn.com/combiner/i?img=/i/teamlo...</td>\n",
       "      <td>No</td>\n",
       "    </tr>\n",
       "    <tr>\n",
       "      <th>143</th>\n",
       "      <td>-</td>\n",
       "      <td>David Toms</td>\n",
       "      <td>CUT</td>\n",
       "      <td>-</td>\n",
       "      <td>CUT</td>\n",
       "      <td>72</td>\n",
       "      <td>74</td>\n",
       "      <td>--</td>\n",
       "      <td>--</td>\n",
       "      <td>146</td>\n",
       "      <td>...</td>\n",
       "      <td>3</td>\n",
       "      <td>1</td>\n",
       "      <td>0</td>\n",
       "      <td>0</td>\n",
       "      <td>2019-06-15 14:40:03.473061</td>\n",
       "      <td>429</td>\n",
       "      <td>David Toms</td>\n",
       "      <td>http://www.espn.com/golf/player/_/id/429/david...</td>\n",
       "      <td>https://a.espncdn.com/combiner/i?img=/i/teamlo...</td>\n",
       "      <td>No</td>\n",
       "    </tr>\n",
       "    <tr>\n",
       "      <th>144</th>\n",
       "      <td>-</td>\n",
       "      <td>Rob Oppenheim</td>\n",
       "      <td>CUT</td>\n",
       "      <td>-</td>\n",
       "      <td>CUT</td>\n",
       "      <td>73</td>\n",
       "      <td>72</td>\n",
       "      <td>--</td>\n",
       "      <td>--</td>\n",
       "      <td>145</td>\n",
       "      <td>...</td>\n",
       "      <td>3</td>\n",
       "      <td>1</td>\n",
       "      <td>0</td>\n",
       "      <td>0</td>\n",
       "      <td>2019-06-15 14:40:03.473061</td>\n",
       "      <td>1733</td>\n",
       "      <td>Rob Oppenheim</td>\n",
       "      <td>http://www.espn.com/golf/player/_/id/1733/rob-...</td>\n",
       "      <td>https://a.espncdn.com/combiner/i?img=/i/teamlo...</td>\n",
       "      <td>No</td>\n",
       "    </tr>\n",
       "    <tr>\n",
       "      <th>145</th>\n",
       "      <td>-</td>\n",
       "      <td>Brian Davis</td>\n",
       "      <td>CUT</td>\n",
       "      <td>-</td>\n",
       "      <td>CUT</td>\n",
       "      <td>75</td>\n",
       "      <td>76</td>\n",
       "      <td>--</td>\n",
       "      <td>--</td>\n",
       "      <td>151</td>\n",
       "      <td>...</td>\n",
       "      <td>3</td>\n",
       "      <td>1</td>\n",
       "      <td>0</td>\n",
       "      <td>0</td>\n",
       "      <td>2019-06-15 14:40:03.473061</td>\n",
       "      <td>1049</td>\n",
       "      <td>Brian Davis</td>\n",
       "      <td>http://www.espn.com/golf/player/_/id/1049/bria...</td>\n",
       "      <td>https://a.espncdn.com/combiner/i?img=/i/teamlo...</td>\n",
       "      <td>No</td>\n",
       "    </tr>\n",
       "    <tr>\n",
       "      <th>146</th>\n",
       "      <td>-</td>\n",
       "      <td>Kodai Ichihara</td>\n",
       "      <td>CUT</td>\n",
       "      <td>-</td>\n",
       "      <td>CUT</td>\n",
       "      <td>80</td>\n",
       "      <td>74</td>\n",
       "      <td>--</td>\n",
       "      <td>--</td>\n",
       "      <td>154</td>\n",
       "      <td>...</td>\n",
       "      <td>3</td>\n",
       "      <td>1</td>\n",
       "      <td>0</td>\n",
       "      <td>0</td>\n",
       "      <td>2019-06-15 14:40:03.473061</td>\n",
       "      <td>4318</td>\n",
       "      <td>Kodai Ichihara</td>\n",
       "      <td>http://www.espn.com/golf/player/_/id/4318/koda...</td>\n",
       "      <td>https://a.espncdn.com/combiner/i?img=/i/teamlo...</td>\n",
       "      <td>No</td>\n",
       "    </tr>\n",
       "    <tr>\n",
       "      <th>147</th>\n",
       "      <td>-</td>\n",
       "      <td>Bubba Watson</td>\n",
       "      <td>CUT</td>\n",
       "      <td>-</td>\n",
       "      <td>CUT</td>\n",
       "      <td>75</td>\n",
       "      <td>75</td>\n",
       "      <td>--</td>\n",
       "      <td>--</td>\n",
       "      <td>150</td>\n",
       "      <td>...</td>\n",
       "      <td>3</td>\n",
       "      <td>1</td>\n",
       "      <td>0</td>\n",
       "      <td>0</td>\n",
       "      <td>2019-06-15 14:40:03.473061</td>\n",
       "      <td>780</td>\n",
       "      <td>Bubba Watson</td>\n",
       "      <td>http://www.espn.com/golf/player/_/id/780/bubba...</td>\n",
       "      <td>https://a.espncdn.com/combiner/i?img=/i/teamlo...</td>\n",
       "      <td>No</td>\n",
       "    </tr>\n",
       "    <tr>\n",
       "      <th>148</th>\n",
       "      <td>-</td>\n",
       "      <td>Luis Gagne</td>\n",
       "      <td>CUT</td>\n",
       "      <td>-</td>\n",
       "      <td>CUT</td>\n",
       "      <td>71</td>\n",
       "      <td>78</td>\n",
       "      <td>--</td>\n",
       "      <td>--</td>\n",
       "      <td>149</td>\n",
       "      <td>...</td>\n",
       "      <td>3</td>\n",
       "      <td>1</td>\n",
       "      <td>0</td>\n",
       "      <td>0</td>\n",
       "      <td>2019-06-15 14:40:03.473061</td>\n",
       "      <td>4349536</td>\n",
       "      <td>Luis Gagne</td>\n",
       "      <td>http://www.espn.com/golf/player/_/id/4349536/l...</td>\n",
       "      <td>https://a.espncdn.com/combiner/i?img=/i/teamlo...</td>\n",
       "      <td>No</td>\n",
       "    </tr>\n",
       "    <tr>\n",
       "      <th>149</th>\n",
       "      <td>-</td>\n",
       "      <td>Chun An Yu (a)</td>\n",
       "      <td>CUT</td>\n",
       "      <td>-</td>\n",
       "      <td>CUT</td>\n",
       "      <td>74</td>\n",
       "      <td>73</td>\n",
       "      <td>--</td>\n",
       "      <td>--</td>\n",
       "      <td>147</td>\n",
       "      <td>...</td>\n",
       "      <td>3</td>\n",
       "      <td>1</td>\n",
       "      <td>0</td>\n",
       "      <td>0</td>\n",
       "      <td>2019-06-15 14:40:03.473061</td>\n",
       "      <td>4349547</td>\n",
       "      <td>Chun An Yu (a)</td>\n",
       "      <td>http://www.espn.com/golf/player/_/id/4349547/c...</td>\n",
       "      <td>https://a.espncdn.com/combiner/i?img=/i/teamlo...</td>\n",
       "      <td>No</td>\n",
       "    </tr>\n",
       "    <tr>\n",
       "      <th>150</th>\n",
       "      <td>-</td>\n",
       "      <td>Sam Saunders</td>\n",
       "      <td>CUT</td>\n",
       "      <td>-</td>\n",
       "      <td>CUT</td>\n",
       "      <td>72</td>\n",
       "      <td>75</td>\n",
       "      <td>--</td>\n",
       "      <td>--</td>\n",
       "      <td>147</td>\n",
       "      <td>...</td>\n",
       "      <td>3</td>\n",
       "      <td>1</td>\n",
       "      <td>0</td>\n",
       "      <td>0</td>\n",
       "      <td>2019-06-15 14:40:03.473061</td>\n",
       "      <td>1613</td>\n",
       "      <td>Sam Saunders</td>\n",
       "      <td>http://www.espn.com/golf/player/_/id/1613/sam-...</td>\n",
       "      <td>https://a.espncdn.com/combiner/i?img=/i/teamlo...</td>\n",
       "      <td>No</td>\n",
       "    </tr>\n",
       "    <tr>\n",
       "      <th>151</th>\n",
       "      <td>-</td>\n",
       "      <td>Keith Mitchell</td>\n",
       "      <td>CUT</td>\n",
       "      <td>-</td>\n",
       "      <td>CUT</td>\n",
       "      <td>76</td>\n",
       "      <td>70</td>\n",
       "      <td>--</td>\n",
       "      <td>--</td>\n",
       "      <td>146</td>\n",
       "      <td>...</td>\n",
       "      <td>3</td>\n",
       "      <td>1</td>\n",
       "      <td>0</td>\n",
       "      <td>0</td>\n",
       "      <td>2019-06-15 14:40:03.473061</td>\n",
       "      <td>8906</td>\n",
       "      <td>Keith Mitchell</td>\n",
       "      <td>http://www.espn.com/golf/player/_/id/8906/keit...</td>\n",
       "      <td>https://a.espncdn.com/combiner/i?img=/i/teamlo...</td>\n",
       "      <td>No</td>\n",
       "    </tr>\n",
       "    <tr>\n",
       "      <th>152</th>\n",
       "      <td>-</td>\n",
       "      <td>Aaron Baddeley</td>\n",
       "      <td>CUT</td>\n",
       "      <td>-</td>\n",
       "      <td>CUT</td>\n",
       "      <td>72</td>\n",
       "      <td>75</td>\n",
       "      <td>--</td>\n",
       "      <td>--</td>\n",
       "      <td>147</td>\n",
       "      <td>...</td>\n",
       "      <td>3</td>\n",
       "      <td>1</td>\n",
       "      <td>0</td>\n",
       "      <td>0</td>\n",
       "      <td>2019-06-15 14:40:03.473061</td>\n",
       "      <td>16</td>\n",
       "      <td>Aaron Baddeley</td>\n",
       "      <td>http://www.espn.com/golf/player/_/id/16/aaron-...</td>\n",
       "      <td>https://a.espncdn.com/combiner/i?img=/i/teamlo...</td>\n",
       "      <td>No</td>\n",
       "    </tr>\n",
       "    <tr>\n",
       "      <th>153</th>\n",
       "      <td>-</td>\n",
       "      <td>Branden Grace</td>\n",
       "      <td>CUT</td>\n",
       "      <td>-</td>\n",
       "      <td>CUT</td>\n",
       "      <td>75</td>\n",
       "      <td>71</td>\n",
       "      <td>--</td>\n",
       "      <td>--</td>\n",
       "      <td>146</td>\n",
       "      <td>...</td>\n",
       "      <td>3</td>\n",
       "      <td>1</td>\n",
       "      <td>0</td>\n",
       "      <td>0</td>\n",
       "      <td>2019-06-15 14:40:03.473061</td>\n",
       "      <td>4383</td>\n",
       "      <td>Branden Grace</td>\n",
       "      <td>http://www.espn.com/golf/player/_/id/4383/bran...</td>\n",
       "      <td>https://a.espncdn.com/combiner/i?img=/i/teamlo...</td>\n",
       "      <td>No</td>\n",
       "    </tr>\n",
       "    <tr>\n",
       "      <th>154</th>\n",
       "      <td>-</td>\n",
       "      <td>Devon Bling (a)</td>\n",
       "      <td>CUT</td>\n",
       "      <td>-</td>\n",
       "      <td>CUT</td>\n",
       "      <td>82</td>\n",
       "      <td>80</td>\n",
       "      <td>--</td>\n",
       "      <td>--</td>\n",
       "      <td>162</td>\n",
       "      <td>...</td>\n",
       "      <td>3</td>\n",
       "      <td>1</td>\n",
       "      <td>0</td>\n",
       "      <td>0</td>\n",
       "      <td>2019-06-15 14:40:03.473061</td>\n",
       "      <td>4420723</td>\n",
       "      <td>Devon Bling (a)</td>\n",
       "      <td>http://www.espn.com/golf/player/_/id/4420723/d...</td>\n",
       "      <td>https://a.espncdn.com/combiner/i?img=/i/teamlo...</td>\n",
       "      <td>No</td>\n",
       "    </tr>\n",
       "    <tr>\n",
       "      <th>155</th>\n",
       "      <td>-</td>\n",
       "      <td>Eric Dietrich</td>\n",
       "      <td>CUT</td>\n",
       "      <td>-</td>\n",
       "      <td>CUT</td>\n",
       "      <td>83</td>\n",
       "      <td>75</td>\n",
       "      <td>--</td>\n",
       "      <td>--</td>\n",
       "      <td>158</td>\n",
       "      <td>...</td>\n",
       "      <td>3</td>\n",
       "      <td>1</td>\n",
       "      <td>0</td>\n",
       "      <td>0</td>\n",
       "      <td>2019-06-15 14:40:03.473061</td>\n",
       "      <td>4425896</td>\n",
       "      <td>Eric Dietrich</td>\n",
       "      <td>http://www.espn.com/golf/player/_/id/4425896/e...</td>\n",
       "      <td>https://a.espncdn.com/combiner/i?img=/i/teamlo...</td>\n",
       "      <td>No</td>\n",
       "    </tr>\n",
       "    <tr>\n",
       "      <th>156</th>\n",
       "      <td>-</td>\n",
       "      <td>Lee Slattery</td>\n",
       "      <td>CUT</td>\n",
       "      <td>-</td>\n",
       "      <td>CUT</td>\n",
       "      <td>73</td>\n",
       "      <td>72</td>\n",
       "      <td>--</td>\n",
       "      <td>--</td>\n",
       "      <td>145</td>\n",
       "      <td>...</td>\n",
       "      <td>3</td>\n",
       "      <td>1</td>\n",
       "      <td>0</td>\n",
       "      <td>0</td>\n",
       "      <td>2019-06-15 14:40:03.473061</td>\n",
       "      <td>1498</td>\n",
       "      <td>Lee Slattery</td>\n",
       "      <td>http://www.espn.com/golf/player/_/id/1498/lee-...</td>\n",
       "      <td>https://a.espncdn.com/combiner/i?img=/i/teamlo...</td>\n",
       "      <td>No</td>\n",
       "    </tr>\n",
       "  </tbody>\n",
       "</table>\n",
       "<p>157 rows × 21 columns</p>\n",
       "</div>"
      ],
      "text/plain": [
       "     pos               player to_par today thru  r1  r2  r3  r4  tot  ...  \\\n",
       "0      1        Gary Woodland     -9    -6    F  68  65  --  --  133  ...   \n",
       "1      2          Justin Rose     -7    -1    F  65  70  --  --  135  ...   \n",
       "2      3     Louis Oosthuizen     -6    -1    F  66  70  --  --  136  ...   \n",
       "3     T4         Rory McIlroy     -5    -2    F  68  69  --  --  137  ...   \n",
       "4     T4           Aaron Wise     -5     E    F  66  71  --  --  137  ...   \n",
       "5     T6        Brooks Koepka     -4    -2    F  69  69  --  --  138  ...   \n",
       "6     T6       Chesson Hadley     -4    -1    F  68  70  --  --  138  ...   \n",
       "7     T6          Chez Reavie     -4    -1    F  68  70  --  --  138  ...   \n",
       "8     T6         Matt Wallace     -4    -3    F  70  68  --  --  138  ...   \n",
       "9     T6          Matt Kuchar     -4    -2    F  69  69  --  --  138  ...   \n",
       "10   T11    Xander Schauffele     -3    +2    F  66  73  --  --  139  ...   \n",
       "11   T11             Jon Rahm     -3    -1    F  69  70  --  --  139  ...   \n",
       "12   T11        Sergio Garcia     -3    -1    F  69  70  --  --  139  ...   \n",
       "13   T11      Graeme McDowell     -3    -1    F  69  70  --  --  139  ...   \n",
       "14   T11         Scott Piercy     -3    +1    F  67  72  --  --  139  ...   \n",
       "15   T11       Henrik Stenson     -3     E    F  68  71  --  --  139  ...   \n",
       "16   T11           Adam Scott     -3    -2    F  70  69  --  --  139  ...   \n",
       "17   T11         Zach Johnson     -3    -2    F  70  69  --  --  139  ...   \n",
       "18   T19  Matthew Fitzpatrick     -2     E    F  69  71  --  --  140  ...   \n",
       "19   T19       Dustin Johnson     -2    -2    F  71  69  --  --  140  ...   \n",
       "20   T19          Sepp Straka     -2    +1    F  68  72  --  --  140  ...   \n",
       "21   T19         Carlos Ortiz     -2    -1    F  70  70  --  --  140  ...   \n",
       "22   T19       Harris English     -2    -2    F  71  69  --  --  140  ...   \n",
       "23   T19   Francesco Molinari     -2    +1    F  68  72  --  --  140  ...   \n",
       "24   T19            Jim Furyk     -2    -4    F  73  67  --  --  140  ...   \n",
       "25   T19       Brandon Wu (a)     -2    -2    F  71  69  --  --  140  ...   \n",
       "26   T27         Jason Dufner     -1     E    F  70  71  --  --  141  ...   \n",
       "27   T27         Nate Lashley     -1    +3    F  67  74  --  --  141  ...   \n",
       "28   T27           Li Haotong     -1    -1    F  71  70  --  --  141  ...   \n",
       "29   T27       Phil Mickelson     -1    -2    F  72  69  --  --  141  ...   \n",
       "..   ...                  ...    ...   ...  ...  ..  ..  ..  ..  ...  ...   \n",
       "127    -         Lucas Glover    CUT     -  CUT  73  72  --  --  145  ...   \n",
       "128    -             Kevin Na    CUT     -  CUT  72  77  --  --  149  ...   \n",
       "129    -      Connor Arendell    CUT     -  CUT  77  73  --  --  150  ...   \n",
       "130    -       Matthieu Pavon    CUT     -  CUT  73  74  --  --  147  ...   \n",
       "131    -  Ollie Schniederjans    CUT     -  CUT  75  70  --  --  145  ...   \n",
       "132    -      Renato Paratore    CUT     -  CUT  75  74  --  --  149  ...   \n",
       "133    -           Si Woo Kim    CUT     -  CUT  76  74  --  --  150  ...   \n",
       "134    -    Lucas Bjerregaard    CUT     -  CUT  80  75  --  --  155  ...   \n",
       "135    -       Roberto Castro    CUT     -  CUT  78  77  --  --  155  ...   \n",
       "136    -           Nick Hardy    CUT     -  CUT  73  72  --  --  145  ...   \n",
       "137    -      Kyoung-Hoon Lee    CUT     -  CUT  76  74  --  --  150  ...   \n",
       "138    -      Alexander Noren    CUT     -  CUT  75  72  --  --  147  ...   \n",
       "139    -        Ryan Sullivan    CUT     -  CUT  73  79  --  --  152  ...   \n",
       "140    -       Patton Kizzire    CUT     -  CUT  80  67  --  --  147  ...   \n",
       "141    -            Luke List    CUT     -  CUT  74  72  --  --  146  ...   \n",
       "142    -             Ryan Fox    CUT     -  CUT  74  73  --  --  147  ...   \n",
       "143    -           David Toms    CUT     -  CUT  72  74  --  --  146  ...   \n",
       "144    -        Rob Oppenheim    CUT     -  CUT  73  72  --  --  145  ...   \n",
       "145    -          Brian Davis    CUT     -  CUT  75  76  --  --  151  ...   \n",
       "146    -       Kodai Ichihara    CUT     -  CUT  80  74  --  --  154  ...   \n",
       "147    -         Bubba Watson    CUT     -  CUT  75  75  --  --  150  ...   \n",
       "148    -           Luis Gagne    CUT     -  CUT  71  78  --  --  149  ...   \n",
       "149    -       Chun An Yu (a)    CUT     -  CUT  74  73  --  --  147  ...   \n",
       "150    -         Sam Saunders    CUT     -  CUT  72  75  --  --  147  ...   \n",
       "151    -       Keith Mitchell    CUT     -  CUT  76  70  --  --  146  ...   \n",
       "152    -       Aaron Baddeley    CUT     -  CUT  72  75  --  --  147  ...   \n",
       "153    -        Branden Grace    CUT     -  CUT  75  71  --  --  146  ...   \n",
       "154    -      Devon Bling (a)    CUT     -  CUT  82  80  --  --  162  ...   \n",
       "155    -        Eric Dietrich    CUT     -  CUT  83  75  --  --  158  ...   \n",
       "156    -         Lee Slattery    CUT     -  CUT  73  72  --  --  145  ...   \n",
       "\n",
       "    donkey_score  missed_cut  player_left  team_count  \\\n",
       "0             -9           0            0           1   \n",
       "1             -7           0            0           1   \n",
       "2             -6           0            0           0   \n",
       "3             -5           0            0           2   \n",
       "4             -5           0            0           0   \n",
       "5             -4           0            0          12   \n",
       "6             -4           0            0           0   \n",
       "7             -4           0            0           0   \n",
       "8             -4           0            0           0   \n",
       "9             -4           0            0           3   \n",
       "10            -3           0            0           6   \n",
       "11            -3           0            0           2   \n",
       "12            -3           0            0           2   \n",
       "13            -3           0            0           0   \n",
       "14            -3           0            0           0   \n",
       "15            -3           0            0           1   \n",
       "16            -3           0            0           8   \n",
       "17            -3           0            0           0   \n",
       "18            -2           0            0           1   \n",
       "19            -2           0            0           5   \n",
       "20            -2           0            0           0   \n",
       "21            -2           0            0           0   \n",
       "22            -2           0            0           0   \n",
       "23            -2           0            0           3   \n",
       "24            -2           0            0           0   \n",
       "25            -2           0            0           0   \n",
       "26            -1           0            0           0   \n",
       "27            -1           0            0           0   \n",
       "28            -1           0            0           0   \n",
       "29            -1           0            0           3   \n",
       "..           ...         ...          ...         ...   \n",
       "127            3           1            0           0   \n",
       "128            3           1            0           0   \n",
       "129            3           1            0           0   \n",
       "130            3           1            0           0   \n",
       "131            3           1            0           0   \n",
       "132            3           1            0           0   \n",
       "133            3           1            0           0   \n",
       "134            3           1            0           0   \n",
       "135            3           1            0           0   \n",
       "136            3           1            0           0   \n",
       "137            3           1            0           0   \n",
       "138            3           1            0           0   \n",
       "139            3           1            0           0   \n",
       "140            3           1            0           0   \n",
       "141            3           1            0           0   \n",
       "142            3           1            0           0   \n",
       "143            3           1            0           0   \n",
       "144            3           1            0           0   \n",
       "145            3           1            0           0   \n",
       "146            3           1            0           0   \n",
       "147            3           1            0           0   \n",
       "148            3           1            0           0   \n",
       "149            3           1            0           0   \n",
       "150            3           1            0           0   \n",
       "151            3           1            0           0   \n",
       "152            3           1            0           0   \n",
       "153            3           1            0           0   \n",
       "154            3           1            0           0   \n",
       "155            3           1            0           0   \n",
       "156            3           1            0           0   \n",
       "\n",
       "                     load_date player_id          player_name  \\\n",
       "0   2019-06-15 14:40:03.473061      3550        Gary Woodland   \n",
       "1   2019-06-15 14:40:03.473061       569          Justin Rose   \n",
       "2   2019-06-15 14:40:03.473061      1293     Louis Oosthuizen   \n",
       "3   2019-06-15 14:40:03.473061      3470         Rory McIlroy   \n",
       "4   2019-06-15 14:40:03.473061     10577           Aaron Wise   \n",
       "5   2019-06-15 14:40:03.473061      6798        Brooks Koepka   \n",
       "6   2019-06-15 14:40:03.473061      5704       Chesson Hadley   \n",
       "7   2019-06-15 14:40:03.473061       769          Chez Reavie   \n",
       "8   2019-06-15 14:40:03.473061     10548         Matt Wallace   \n",
       "9   2019-06-15 14:40:03.473061       257          Matt Kuchar   \n",
       "10  2019-06-15 14:40:03.473061     10140    Xander Schauffele   \n",
       "11  2019-06-15 14:40:03.473061      9780             Jon Rahm   \n",
       "12  2019-06-15 14:40:03.473061       158        Sergio Garcia   \n",
       "13  2019-06-15 14:40:03.473061       301      Graeme McDowell   \n",
       "14  2019-06-15 14:40:03.473061      1037         Scott Piercy   \n",
       "15  2019-06-15 14:40:03.473061       576       Henrik Stenson   \n",
       "16  2019-06-15 14:40:03.473061       388           Adam Scott   \n",
       "17  2019-06-15 14:40:03.473061       686         Zach Johnson   \n",
       "18  2019-06-15 14:40:03.473061      9037  Matthew Fitzpatrick   \n",
       "19  2019-06-15 14:40:03.473061      3448       Dustin Johnson   \n",
       "20  2019-06-15 14:40:03.473061      8961          Sepp Straka   \n",
       "21  2019-06-15 14:40:03.473061      5532         Carlos Ortiz   \n",
       "22  2019-06-15 14:40:03.473061      5408       Harris English   \n",
       "23  2019-06-15 14:40:03.473061      1483   Francesco Molinari   \n",
       "24  2019-06-15 14:40:03.473061       153            Jim Furyk   \n",
       "25  2019-06-15 14:40:03.473061   4355673       Brandon Wu (a)   \n",
       "26  2019-06-15 14:40:03.473061       110         Jason Dufner   \n",
       "27  2019-06-15 14:40:03.473061      1600         Nate Lashley   \n",
       "28  2019-06-15 14:40:03.473061      5934           Li Haotong   \n",
       "29  2019-06-15 14:40:03.473061       308       Phil Mickelson   \n",
       "..                         ...       ...                  ...   \n",
       "127 2019-06-15 14:40:03.473061       676         Lucas Glover   \n",
       "128 2019-06-15 14:40:03.473061       318             Kevin Na   \n",
       "129 2019-06-15 14:40:03.473061      6781      Connor Arendell   \n",
       "130 2019-06-15 14:40:03.473061     10596       Matthieu Pavon   \n",
       "131 2019-06-15 14:40:03.473061      9568  Ollie Schniederjans   \n",
       "132 2019-06-15 14:40:03.473061      6979      Renato Paratore   \n",
       "133 2019-06-15 14:40:03.473061      7081           Si Woo Kim   \n",
       "134 2019-06-15 14:40:03.473061      9575    Lucas Bjerregaard   \n",
       "135 2019-06-15 14:40:03.473061      3740       Roberto Castro   \n",
       "136 2019-06-15 14:40:03.473061     10048           Nick Hardy   \n",
       "137 2019-06-15 14:40:03.473061      7083      Kyoung-Hoon Lee   \n",
       "138 2019-06-15 14:40:03.473061      3832      Alexander Noren   \n",
       "139 2019-06-15 14:40:03.473061      7087        Ryan Sullivan   \n",
       "140 2019-06-15 14:40:03.473061      3980       Patton Kizzire   \n",
       "141 2019-06-15 14:40:03.473061      1059            Luke List   \n",
       "142 2019-06-15 14:40:03.473061      4251             Ryan Fox   \n",
       "143 2019-06-15 14:40:03.473061       429           David Toms   \n",
       "144 2019-06-15 14:40:03.473061      1733        Rob Oppenheim   \n",
       "145 2019-06-15 14:40:03.473061      1049          Brian Davis   \n",
       "146 2019-06-15 14:40:03.473061      4318       Kodai Ichihara   \n",
       "147 2019-06-15 14:40:03.473061       780         Bubba Watson   \n",
       "148 2019-06-15 14:40:03.473061   4349536           Luis Gagne   \n",
       "149 2019-06-15 14:40:03.473061   4349547       Chun An Yu (a)   \n",
       "150 2019-06-15 14:40:03.473061      1613         Sam Saunders   \n",
       "151 2019-06-15 14:40:03.473061      8906       Keith Mitchell   \n",
       "152 2019-06-15 14:40:03.473061        16       Aaron Baddeley   \n",
       "153 2019-06-15 14:40:03.473061      4383        Branden Grace   \n",
       "154 2019-06-15 14:40:03.473061   4420723      Devon Bling (a)   \n",
       "155 2019-06-15 14:40:03.473061   4425896        Eric Dietrich   \n",
       "156 2019-06-15 14:40:03.473061      1498         Lee Slattery   \n",
       "\n",
       "                                           player_page  \\\n",
       "0    http://www.espn.com/golf/player/_/id/3550/gary...   \n",
       "1    http://www.espn.com/golf/player/_/id/569/justi...   \n",
       "2    http://www.espn.com/golf/player/_/id/1293/loui...   \n",
       "3    http://www.espn.com/golf/player/_/id/3470/rory...   \n",
       "4    http://www.espn.com/golf/player/_/id/10577/aar...   \n",
       "5    http://www.espn.com/golf/player/_/id/6798/broo...   \n",
       "6    http://www.espn.com/golf/player/_/id/5704/ches...   \n",
       "7    http://www.espn.com/golf/player/_/id/769/chez-...   \n",
       "8    http://www.espn.com/golf/player/_/id/10548/mat...   \n",
       "9    http://www.espn.com/golf/player/_/id/257/matt-...   \n",
       "10   http://www.espn.com/golf/player/_/id/10140/xan...   \n",
       "11   http://www.espn.com/golf/player/_/id/9780/jon-...   \n",
       "12   http://www.espn.com/golf/player/_/id/158/sergi...   \n",
       "13   http://www.espn.com/golf/player/_/id/301/graem...   \n",
       "14   http://www.espn.com/golf/player/_/id/1037/scot...   \n",
       "15   http://www.espn.com/golf/player/_/id/576/henri...   \n",
       "16   http://www.espn.com/golf/player/_/id/388/adam-...   \n",
       "17   http://www.espn.com/golf/player/_/id/686/zach-...   \n",
       "18   http://www.espn.com/golf/player/_/id/9037/matt...   \n",
       "19   http://www.espn.com/golf/player/_/id/3448/dust...   \n",
       "20   http://www.espn.com/golf/player/_/id/8961/sepp...   \n",
       "21   http://www.espn.com/golf/player/_/id/5532/carl...   \n",
       "22   http://www.espn.com/golf/player/_/id/5408/harr...   \n",
       "23   http://www.espn.com/golf/player/_/id/1483/fran...   \n",
       "24   http://www.espn.com/golf/player/_/id/153/jim-f...   \n",
       "25   http://www.espn.com/golf/player/_/id/4355673/b...   \n",
       "26   http://www.espn.com/golf/player/_/id/110/jason...   \n",
       "27   http://www.espn.com/golf/player/_/id/1600/nate...   \n",
       "28   http://www.espn.com/golf/player/_/id/5934/li-h...   \n",
       "29   http://www.espn.com/golf/player/_/id/308/phil-...   \n",
       "..                                                 ...   \n",
       "127  http://www.espn.com/golf/player/_/id/676/lucas...   \n",
       "128  http://www.espn.com/golf/player/_/id/318/kevin-na   \n",
       "129  http://www.espn.com/golf/player/_/id/6781/conn...   \n",
       "130  http://www.espn.com/golf/player/_/id/10596/mat...   \n",
       "131  http://www.espn.com/golf/player/_/id/9568/olli...   \n",
       "132  http://www.espn.com/golf/player/_/id/6979/rena...   \n",
       "133  http://www.espn.com/golf/player/_/id/7081/si-w...   \n",
       "134  http://www.espn.com/golf/player/_/id/9575/luca...   \n",
       "135  http://www.espn.com/golf/player/_/id/3740/robe...   \n",
       "136  http://www.espn.com/golf/player/_/id/10048/nic...   \n",
       "137  http://www.espn.com/golf/player/_/id/7083/kyou...   \n",
       "138  http://www.espn.com/golf/player/_/id/3832/alex...   \n",
       "139  http://www.espn.com/golf/player/_/id/7087/ryan...   \n",
       "140  http://www.espn.com/golf/player/_/id/3980/patt...   \n",
       "141  http://www.espn.com/golf/player/_/id/1059/luke...   \n",
       "142  http://www.espn.com/golf/player/_/id/4251/ryan...   \n",
       "143  http://www.espn.com/golf/player/_/id/429/david...   \n",
       "144  http://www.espn.com/golf/player/_/id/1733/rob-...   \n",
       "145  http://www.espn.com/golf/player/_/id/1049/bria...   \n",
       "146  http://www.espn.com/golf/player/_/id/4318/koda...   \n",
       "147  http://www.espn.com/golf/player/_/id/780/bubba...   \n",
       "148  http://www.espn.com/golf/player/_/id/4349536/l...   \n",
       "149  http://www.espn.com/golf/player/_/id/4349547/c...   \n",
       "150  http://www.espn.com/golf/player/_/id/1613/sam-...   \n",
       "151  http://www.espn.com/golf/player/_/id/8906/keit...   \n",
       "152  http://www.espn.com/golf/player/_/id/16/aaron-...   \n",
       "153  http://www.espn.com/golf/player/_/id/4383/bran...   \n",
       "154  http://www.espn.com/golf/player/_/id/4420723/d...   \n",
       "155  http://www.espn.com/golf/player/_/id/4425896/e...   \n",
       "156  http://www.espn.com/golf/player/_/id/1498/lee-...   \n",
       "\n",
       "                                        player_country on_team  \n",
       "0    https://a.espncdn.com/combiner/i?img=/i/teamlo...      No  \n",
       "1    https://a.espncdn.com/combiner/i?img=/i/teamlo...      No  \n",
       "2    https://a.espncdn.com/combiner/i?img=/i/teamlo...      No  \n",
       "3    https://a.espncdn.com/combiner/i?img=/i/teamlo...     Yes  \n",
       "4    https://a.espncdn.com/combiner/i?img=/i/teamlo...      No  \n",
       "5    https://a.espncdn.com/combiner/i?img=/i/teamlo...     Yes  \n",
       "6    https://a.espncdn.com/combiner/i?img=/i/teamlo...      No  \n",
       "7    https://a.espncdn.com/combiner/i?img=/i/teamlo...      No  \n",
       "8    https://a.espncdn.com/combiner/i?img=/i/teamlo...      No  \n",
       "9    https://a.espncdn.com/combiner/i?img=/i/teamlo...      No  \n",
       "10   https://a.espncdn.com/combiner/i?img=/i/teamlo...     Yes  \n",
       "11   https://a.espncdn.com/combiner/i?img=/i/teamlo...      No  \n",
       "12   https://a.espncdn.com/combiner/i?img=/i/teamlo...      No  \n",
       "13   https://a.espncdn.com/combiner/i?img=/i/teamlo...      No  \n",
       "14   https://a.espncdn.com/combiner/i?img=/i/teamlo...      No  \n",
       "15   https://a.espncdn.com/combiner/i?img=/i/teamlo...      No  \n",
       "16   https://a.espncdn.com/combiner/i?img=/i/teamlo...     Yes  \n",
       "17   https://a.espncdn.com/combiner/i?img=/i/teamlo...      No  \n",
       "18   https://a.espncdn.com/combiner/i?img=/i/teamlo...      No  \n",
       "19   https://a.espncdn.com/combiner/i?img=/i/teamlo...      No  \n",
       "20   https://a.espncdn.com/combiner/i?img=/i/teamlo...      No  \n",
       "21   https://a.espncdn.com/combiner/i?img=/i/teamlo...      No  \n",
       "22   https://a.espncdn.com/combiner/i?img=/i/teamlo...      No  \n",
       "23   https://a.espncdn.com/combiner/i?img=/i/teamlo...      No  \n",
       "24   https://a.espncdn.com/combiner/i?img=/i/teamlo...      No  \n",
       "25   https://a.espncdn.com/combiner/i?img=/i/teamlo...      No  \n",
       "26   https://a.espncdn.com/combiner/i?img=/i/teamlo...      No  \n",
       "27   https://a.espncdn.com/combiner/i?img=/i/teamlo...      No  \n",
       "28   https://a.espncdn.com/combiner/i?img=/i/teamlo...      No  \n",
       "29   https://a.espncdn.com/combiner/i?img=/i/teamlo...      No  \n",
       "..                                                 ...     ...  \n",
       "127  https://a.espncdn.com/combiner/i?img=/i/teamlo...      No  \n",
       "128  https://a.espncdn.com/combiner/i?img=/i/teamlo...      No  \n",
       "129  https://a.espncdn.com/combiner/i?img=/i/teamlo...      No  \n",
       "130  https://a.espncdn.com/combiner/i?img=/i/teamlo...      No  \n",
       "131  https://a.espncdn.com/combiner/i?img=/i/teamlo...      No  \n",
       "132  https://a.espncdn.com/combiner/i?img=/i/teamlo...      No  \n",
       "133  https://a.espncdn.com/combiner/i?img=/i/teamlo...      No  \n",
       "134  https://a.espncdn.com/combiner/i?img=/i/teamlo...      No  \n",
       "135  https://a.espncdn.com/combiner/i?img=/i/teamlo...      No  \n",
       "136  https://a.espncdn.com/combiner/i?img=/i/teamlo...      No  \n",
       "137  https://a.espncdn.com/combiner/i?img=/i/teamlo...      No  \n",
       "138  https://a.espncdn.com/combiner/i?img=/i/teamlo...      No  \n",
       "139  https://a.espncdn.com/combiner/i?img=/i/teamlo...      No  \n",
       "140  https://a.espncdn.com/combiner/i?img=/i/teamlo...      No  \n",
       "141  https://a.espncdn.com/combiner/i?img=/i/teamlo...      No  \n",
       "142  https://a.espncdn.com/combiner/i?img=/i/teamlo...      No  \n",
       "143  https://a.espncdn.com/combiner/i?img=/i/teamlo...      No  \n",
       "144  https://a.espncdn.com/combiner/i?img=/i/teamlo...      No  \n",
       "145  https://a.espncdn.com/combiner/i?img=/i/teamlo...      No  \n",
       "146  https://a.espncdn.com/combiner/i?img=/i/teamlo...      No  \n",
       "147  https://a.espncdn.com/combiner/i?img=/i/teamlo...      No  \n",
       "148  https://a.espncdn.com/combiner/i?img=/i/teamlo...      No  \n",
       "149  https://a.espncdn.com/combiner/i?img=/i/teamlo...      No  \n",
       "150  https://a.espncdn.com/combiner/i?img=/i/teamlo...      No  \n",
       "151  https://a.espncdn.com/combiner/i?img=/i/teamlo...      No  \n",
       "152  https://a.espncdn.com/combiner/i?img=/i/teamlo...      No  \n",
       "153  https://a.espncdn.com/combiner/i?img=/i/teamlo...      No  \n",
       "154  https://a.espncdn.com/combiner/i?img=/i/teamlo...      No  \n",
       "155  https://a.espncdn.com/combiner/i?img=/i/teamlo...      No  \n",
       "156  https://a.espncdn.com/combiner/i?img=/i/teamlo...      No  \n",
       "\n",
       "[157 rows x 21 columns]"
      ]
     },
     "execution_count": 6,
     "metadata": {},
     "output_type": "execute_result"
    }
   ],
   "source": [
    "cmon.data"
   ]
  },
  {
   "cell_type": "code",
   "execution_count": 11,
   "metadata": {},
   "outputs": [
    {
     "data": {
      "text/html": [
       "<div>\n",
       "<style scoped>\n",
       "    .dataframe tbody tr th:only-of-type {\n",
       "        vertical-align: middle;\n",
       "    }\n",
       "\n",
       "    .dataframe tbody tr th {\n",
       "        vertical-align: top;\n",
       "    }\n",
       "\n",
       "    .dataframe thead th {\n",
       "        text-align: right;\n",
       "    }\n",
       "</style>\n",
       "<table border=\"1\" class=\"dataframe\">\n",
       "  <thead>\n",
       "    <tr style=\"text-align: right;\">\n",
       "      <th></th>\n",
       "      <th>id</th>\n",
       "      <th>pos</th>\n",
       "      <th>player</th>\n",
       "      <th>to_par</th>\n",
       "      <th>today</th>\n",
       "      <th>thru</th>\n",
       "      <th>r1</th>\n",
       "      <th>r2</th>\n",
       "      <th>r3</th>\n",
       "      <th>r4</th>\n",
       "      <th>tot</th>\n",
       "      <th>tourney_id</th>\n",
       "      <th>donkey_score</th>\n",
       "      <th>missed_cut</th>\n",
       "      <th>player_left</th>\n",
       "      <th>team_count</th>\n",
       "      <th>load_date</th>\n",
       "    </tr>\n",
       "  </thead>\n",
       "  <tbody>\n",
       "    <tr>\n",
       "      <th>0</th>\n",
       "      <td>28</td>\n",
       "      <td>T4</td>\n",
       "      <td>Rory McIlroy</td>\n",
       "      <td>-5</td>\n",
       "      <td>-2</td>\n",
       "      <td>F</td>\n",
       "      <td>68</td>\n",
       "      <td>69</td>\n",
       "      <td>--</td>\n",
       "      <td>--</td>\n",
       "      <td>137</td>\n",
       "      <td>401056556</td>\n",
       "      <td>-5</td>\n",
       "      <td>0</td>\n",
       "      <td>0</td>\n",
       "      <td>2</td>\n",
       "      <td>2019-06-15 14:40:03.473061</td>\n",
       "    </tr>\n",
       "    <tr>\n",
       "      <th>1</th>\n",
       "      <td>28</td>\n",
       "      <td>T6</td>\n",
       "      <td>Brooks Koepka</td>\n",
       "      <td>-4</td>\n",
       "      <td>-2</td>\n",
       "      <td>F</td>\n",
       "      <td>69</td>\n",
       "      <td>69</td>\n",
       "      <td>--</td>\n",
       "      <td>--</td>\n",
       "      <td>138</td>\n",
       "      <td>401056556</td>\n",
       "      <td>-4</td>\n",
       "      <td>0</td>\n",
       "      <td>0</td>\n",
       "      <td>12</td>\n",
       "      <td>2019-06-15 14:40:03.473061</td>\n",
       "    </tr>\n",
       "    <tr>\n",
       "      <th>2</th>\n",
       "      <td>28</td>\n",
       "      <td>T11</td>\n",
       "      <td>Adam Scott</td>\n",
       "      <td>-3</td>\n",
       "      <td>-2</td>\n",
       "      <td>F</td>\n",
       "      <td>70</td>\n",
       "      <td>69</td>\n",
       "      <td>--</td>\n",
       "      <td>--</td>\n",
       "      <td>139</td>\n",
       "      <td>401056556</td>\n",
       "      <td>-3</td>\n",
       "      <td>0</td>\n",
       "      <td>0</td>\n",
       "      <td>8</td>\n",
       "      <td>2019-06-15 14:40:03.473061</td>\n",
       "    </tr>\n",
       "    <tr>\n",
       "      <th>3</th>\n",
       "      <td>28</td>\n",
       "      <td>T11</td>\n",
       "      <td>Xander Schauffele</td>\n",
       "      <td>-3</td>\n",
       "      <td>+2</td>\n",
       "      <td>F</td>\n",
       "      <td>66</td>\n",
       "      <td>73</td>\n",
       "      <td>--</td>\n",
       "      <td>--</td>\n",
       "      <td>139</td>\n",
       "      <td>401056556</td>\n",
       "      <td>-3</td>\n",
       "      <td>0</td>\n",
       "      <td>0</td>\n",
       "      <td>6</td>\n",
       "      <td>2019-06-15 14:40:03.473061</td>\n",
       "    </tr>\n",
       "    <tr>\n",
       "      <th>4</th>\n",
       "      <td>28</td>\n",
       "      <td>T32</td>\n",
       "      <td>Hideki Matsuyama</td>\n",
       "      <td>E</td>\n",
       "      <td>+2</td>\n",
       "      <td>F</td>\n",
       "      <td>69</td>\n",
       "      <td>73</td>\n",
       "      <td>--</td>\n",
       "      <td>--</td>\n",
       "      <td>142</td>\n",
       "      <td>401056556</td>\n",
       "      <td>0</td>\n",
       "      <td>0</td>\n",
       "      <td>0</td>\n",
       "      <td>4</td>\n",
       "      <td>2019-06-15 14:40:03.473061</td>\n",
       "    </tr>\n",
       "    <tr>\n",
       "      <th>5</th>\n",
       "      <td>28</td>\n",
       "      <td>T56</td>\n",
       "      <td>Patrick Cantlay</td>\n",
       "      <td>+2</td>\n",
       "      <td>E</td>\n",
       "      <td>F</td>\n",
       "      <td>73</td>\n",
       "      <td>71</td>\n",
       "      <td>--</td>\n",
       "      <td>--</td>\n",
       "      <td>144</td>\n",
       "      <td>401056556</td>\n",
       "      <td>2</td>\n",
       "      <td>0</td>\n",
       "      <td>0</td>\n",
       "      <td>8</td>\n",
       "      <td>2019-06-15 14:40:03.473061</td>\n",
       "    </tr>\n",
       "    <tr>\n",
       "      <th>6</th>\n",
       "      <td>28</td>\n",
       "      <td>T56</td>\n",
       "      <td>Tommy Fleetwood</td>\n",
       "      <td>+2</td>\n",
       "      <td>+2</td>\n",
       "      <td>F</td>\n",
       "      <td>71</td>\n",
       "      <td>73</td>\n",
       "      <td>--</td>\n",
       "      <td>--</td>\n",
       "      <td>144</td>\n",
       "      <td>401056556</td>\n",
       "      <td>2</td>\n",
       "      <td>0</td>\n",
       "      <td>0</td>\n",
       "      <td>7</td>\n",
       "      <td>2019-06-15 14:40:03.473061</td>\n",
       "    </tr>\n",
       "  </tbody>\n",
       "</table>\n",
       "</div>"
      ],
      "text/plain": [
       "   id  pos             player to_par today thru  r1  r2  r3  r4  tot  \\\n",
       "0  28   T4       Rory McIlroy     -5    -2    F  68  69  --  --  137   \n",
       "1  28   T6      Brooks Koepka     -4    -2    F  69  69  --  --  138   \n",
       "2  28  T11         Adam Scott     -3    -2    F  70  69  --  --  139   \n",
       "3  28  T11  Xander Schauffele     -3    +2    F  66  73  --  --  139   \n",
       "4  28  T32   Hideki Matsuyama      E    +2    F  69  73  --  --  142   \n",
       "5  28  T56    Patrick Cantlay     +2     E    F  73  71  --  --  144   \n",
       "6  28  T56    Tommy Fleetwood     +2    +2    F  71  73  --  --  144   \n",
       "\n",
       "  tourney_id  donkey_score  missed_cut  player_left  team_count  \\\n",
       "0  401056556            -5           0            0           2   \n",
       "1  401056556            -4           0            0          12   \n",
       "2  401056556            -3           0            0           8   \n",
       "3  401056556            -3           0            0           6   \n",
       "4  401056556             0           0            0           4   \n",
       "5  401056556             2           0            0           8   \n",
       "6  401056556             2           0            0           7   \n",
       "\n",
       "                   load_date  \n",
       "0 2019-06-15 14:40:03.473061  \n",
       "1 2019-06-15 14:40:03.473061  \n",
       "2 2019-06-15 14:40:03.473061  \n",
       "3 2019-06-15 14:40:03.473061  \n",
       "4 2019-06-15 14:40:03.473061  \n",
       "5 2019-06-15 14:40:03.473061  \n",
       "6 2019-06-15 14:40:03.473061  "
      ]
     },
     "execution_count": 11,
     "metadata": {},
     "output_type": "execute_result"
    }
   ],
   "source": [
    "cmon.user_df"
   ]
  },
  {
   "cell_type": "code",
   "execution_count": null,
   "metadata": {},
   "outputs": [],
   "source": []
  },
  {
   "cell_type": "code",
   "execution_count": null,
   "metadata": {},
   "outputs": [],
   "source": []
  },
  {
   "cell_type": "code",
   "execution_count": null,
   "metadata": {},
   "outputs": [],
   "source": [
    "pd.options.display.max_columns=200"
   ]
  },
  {
   "cell_type": "code",
   "execution_count": 8,
   "metadata": {},
   "outputs": [
    {
     "name": "stderr",
     "output_type": "stream",
     "text": [
      "2019-06-15 10:51:51,810 - donkey_golf.data_things.base_class - DEBUG - ABOUT TO SET yaml_sql_dict\n",
      "2019-06-15 10:51:51,821 - donkey_golf.data_things.base_class - INFO - Executing run_sql\n",
      "2019-06-15 10:51:54,735 - donkey_golf.data_things.base_class - INFO - Current tourney ID: 401056556\n",
      "2019-06-15 10:51:54,736 - donkey_golf.data_things.base_class - INFO - Executing run_sql\n"
     ]
    }
   ],
   "source": [
    "yo = DT.TeamPlayerResults()"
   ]
  },
  {
   "cell_type": "code",
   "execution_count": 9,
   "metadata": {},
   "outputs": [
    {
     "name": "stderr",
     "output_type": "stream",
     "text": [
      "2019-06-15 10:52:01,254 - donkey_golf.data_things.team_player_results - INFO - Pulling full team results by player\n",
      "2019-06-15 10:52:01,255 - donkey_golf.data_things.base_class - INFO - Executing run_sql\n"
     ]
    }
   ],
   "source": [
    "yo.run()"
   ]
  },
  {
   "cell_type": "code",
   "execution_count": 10,
   "metadata": {},
   "outputs": [
    {
     "data": {
      "text/plain": [
       "\"select a.id, b.username, c.* from teams a left join public.user b on a.id=b.id left join leaderboard c on a.player=c.player WHERE a.tourney_id = (select value from donkey_variables where metric = 'current_tourney_id');\""
      ]
     },
     "execution_count": 10,
     "metadata": {},
     "output_type": "execute_result"
    }
   ],
   "source": [
    "yo.sql"
   ]
  },
  {
   "cell_type": "code",
   "execution_count": null,
   "metadata": {},
   "outputs": [],
   "source": []
  },
  {
   "cell_type": "code",
   "execution_count": null,
   "metadata": {},
   "outputs": [],
   "source": []
  },
  {
   "cell_type": "code",
   "execution_count": null,
   "metadata": {},
   "outputs": [],
   "source": []
  },
  {
   "cell_type": "code",
   "execution_count": null,
   "metadata": {},
   "outputs": [],
   "source": [
    "world = DT.LoadWorldRankings()"
   ]
  },
  {
   "cell_type": "code",
   "execution_count": null,
   "metadata": {},
   "outputs": [],
   "source": [
    "world.scrape_world_rankings_data()"
   ]
  },
  {
   "cell_type": "code",
   "execution_count": null,
   "metadata": {},
   "outputs": [],
   "source": [
    "world.data"
   ]
  },
  {
   "cell_type": "code",
   "execution_count": null,
   "metadata": {},
   "outputs": [],
   "source": [
    "pd.read_html('http://www.owgr.com/ranking?pageNo=1&pageSize=All&country=All', header=0)[0]"
   ]
  },
  {
   "cell_type": "code",
   "execution_count": null,
   "metadata": {},
   "outputs": [],
   "source": [
    "gs = DT.GameScoreboard()"
   ]
  },
  {
   "cell_type": "code",
   "execution_count": null,
   "metadata": {},
   "outputs": [],
   "source": [
    "gs.run()"
   ]
  },
  {
   "cell_type": "code",
   "execution_count": null,
   "metadata": {},
   "outputs": [],
   "source": [
    "gs.data"
   ]
  },
  {
   "cell_type": "code",
   "execution_count": null,
   "metadata": {},
   "outputs": [],
   "source": [
    "df = gs.data"
   ]
  },
  {
   "cell_type": "code",
   "execution_count": null,
   "metadata": {},
   "outputs": [],
   "source": [
    "self.data['donkey_score'] = self.data['donkey_score'].astype(int)\n",
    "\n",
    "self.data.loc[self.data['donkey_score'] > 0, 'donkey_score'] = \"+\" + self.data['donkey_score'].astype(str)\n",
    "\n",
    "self.data.loc[self.data['donkey_score'] == 0, 'donkey_score'] = 'E'"
   ]
  },
  {
   "cell_type": "code",
   "execution_count": null,
   "metadata": {},
   "outputs": [],
   "source": [
    "df"
   ]
  },
  {
   "cell_type": "code",
   "execution_count": null,
   "metadata": {},
   "outputs": [],
   "source": [
    "df.loc[]"
   ]
  },
  {
   "cell_type": "code",
   "execution_count": null,
   "metadata": {},
   "outputs": [],
   "source": [
    "lb = DT.PullLeaderboard(user_id=6)"
   ]
  },
  {
   "cell_type": "code",
   "execution_count": null,
   "metadata": {},
   "outputs": [],
   "source": [
    "lb.tourney_status"
   ]
  },
  {
   "cell_type": "code",
   "execution_count": null,
   "metadata": {},
   "outputs": [],
   "source": [
    "lb.run()"
   ]
  },
  {
   "cell_type": "code",
   "execution_count": null,
   "metadata": {},
   "outputs": [],
   "source": [
    "lb.data"
   ]
  },
  {
   "cell_type": "code",
   "execution_count": null,
   "metadata": {},
   "outputs": [],
   "source": [
    "wha = DT.TeamPlayerResults()"
   ]
  },
  {
   "cell_type": "code",
   "execution_count": null,
   "metadata": {},
   "outputs": [],
   "source": [
    "wha.run()"
   ]
  },
  {
   "cell_type": "code",
   "execution_count": null,
   "metadata": {},
   "outputs": [],
   "source": [
    "team_player_df = wha.data"
   ]
  },
  {
   "cell_type": "code",
   "execution_count": null,
   "metadata": {},
   "outputs": [],
   "source": [
    "team_player_df = team_player_df.merge(df_sb, how='left', on='id',\n",
    "              suffixes=('_team','_gs'))"
   ]
  },
  {
   "cell_type": "code",
   "execution_count": null,
   "metadata": {},
   "outputs": [],
   "source": [
    "team_player_df.sort_values('rank', inplace=True)"
   ]
  },
  {
   "cell_type": "code",
   "execution_count": null,
   "metadata": {},
   "outputs": [],
   "source": [
    "team_player_df.loc[team_player_df['username_team'] == 'Geo1630']"
   ]
  },
  {
   "cell_type": "code",
   "execution_count": null,
   "metadata": {},
   "outputs": [],
   "source": [
    "for i, row in team_player_df.sort_values('pos').iterrows():\n",
    "    if row['username_team'] == 'Geo1630':\n",
    "        print(row['pos'])\n",
    "    #print(row['username'])"
   ]
  },
  {
   "cell_type": "code",
   "execution_count": null,
   "metadata": {},
   "outputs": [],
   "source": [
    "GS = DT.GameScoreboard()"
   ]
  },
  {
   "cell_type": "code",
   "execution_count": null,
   "metadata": {},
   "outputs": [],
   "source": [
    "GS.run()"
   ]
  },
  {
   "cell_type": "code",
   "execution_count": null,
   "metadata": {},
   "outputs": [],
   "source": [
    "df_sb = GS.data"
   ]
  },
  {
   "cell_type": "code",
   "execution_count": null,
   "metadata": {},
   "outputs": [],
   "source": []
  },
  {
   "cell_type": "code",
   "execution_count": null,
   "metadata": {},
   "outputs": [],
   "source": []
  },
  {
   "cell_type": "code",
   "execution_count": null,
   "metadata": {},
   "outputs": [],
   "source": [
    "loader = DT.LoadLeaderboard()"
   ]
  },
  {
   "cell_type": "code",
   "execution_count": null,
   "metadata": {},
   "outputs": [],
   "source": [
    "loader.run()"
   ]
  },
  {
   "cell_type": "code",
   "execution_count": null,
   "metadata": {},
   "outputs": [],
   "source": [
    "self.data.loc[self.data['today'] == '-', 'player_left'] = 0"
   ]
  },
  {
   "cell_type": "code",
   "execution_count": null,
   "metadata": {},
   "outputs": [],
   "source": []
  },
  {
   "cell_type": "code",
   "execution_count": null,
   "metadata": {},
   "outputs": [],
   "source": []
  },
  {
   "cell_type": "code",
   "execution_count": null,
   "metadata": {},
   "outputs": [],
   "source": []
  },
  {
   "cell_type": "code",
   "execution_count": null,
   "metadata": {},
   "outputs": [],
   "source": [
    "lb.pull_pre_tourney_data()"
   ]
  },
  {
   "cell_type": "code",
   "execution_count": null,
   "metadata": {},
   "outputs": [],
   "source": [
    "lb.df_pre_tourney['current_rank'] = lb.df_pre_tourney['current_rank'].fillna(9999).astype(int).astype(str)\n",
    "\n",
    "lb.df_pre_tourney['current_rank'] = lb.df_pre_tourney['current_rank'].replace('9999', '-')"
   ]
  },
  {
   "cell_type": "code",
   "execution_count": null,
   "metadata": {},
   "outputs": [],
   "source": [
    "lb.df_pre_tourney"
   ]
  },
  {
   "cell_type": "code",
   "execution_count": null,
   "metadata": {},
   "outputs": [],
   "source": [
    "dd = DT.DraftDay()"
   ]
  },
  {
   "cell_type": "code",
   "execution_count": null,
   "metadata": {},
   "outputs": [],
   "source": [
    "dd.run()"
   ]
  },
  {
   "cell_type": "code",
   "execution_count": null,
   "metadata": {},
   "outputs": [],
   "source": [
    "df = dd.data"
   ]
  },
  {
   "cell_type": "code",
   "execution_count": null,
   "metadata": {},
   "outputs": [],
   "source": [
    "# top 8 pick 2\n",
    "# next 12 pick 3\n",
    "# "
   ]
  },
  {
   "cell_type": "code",
   "execution_count": null,
   "metadata": {},
   "outputs": [],
   "source": [
    "df"
   ]
  },
  {
   "cell_type": "code",
   "execution_count": null,
   "metadata": {},
   "outputs": [],
   "source": []
  },
  {
   "cell_type": "code",
   "execution_count": null,
   "metadata": {},
   "outputs": [],
   "source": []
  },
  {
   "cell_type": "code",
   "execution_count": null,
   "metadata": {},
   "outputs": [],
   "source": [
    "df['rank'] = df['rank'].fillna(999)\n",
    "df['rank'] = df['rank'].astype(int)\n",
    "df['tier'] = 'Tier 3'\n",
    "df.loc[df['rank'] <= 8, 'tier'] = 'Tier 1'\n",
    "df.loc[(df['rank'] >= 9) & (df['rank'] <= 16), 'tier'] = 'Tier 2'"
   ]
  },
  {
   "cell_type": "code",
   "execution_count": null,
   "metadata": {},
   "outputs": [],
   "source": [
    "df"
   ]
  },
  {
   "cell_type": "code",
   "execution_count": null,
   "metadata": {},
   "outputs": [],
   "source": []
  },
  {
   "cell_type": "code",
   "execution_count": null,
   "metadata": {},
   "outputs": [],
   "source": []
  },
  {
   "cell_type": "code",
   "execution_count": null,
   "metadata": {},
   "outputs": [],
   "source": []
  },
  {
   "cell_type": "code",
   "execution_count": null,
   "metadata": {},
   "outputs": [],
   "source": []
  },
  {
   "cell_type": "code",
   "execution_count": null,
   "metadata": {},
   "outputs": [],
   "source": [
    "lb.df_pre_tourney.loc[lb.df_pre_tourney['current_rank'].notnull(), 'current_rank'] = lb.df_pre_tourney.loc[lb.df_pre_tourney['current_rank'].notnull(), 'current_rank'].astype(int)"
   ]
  },
  {
   "cell_type": "code",
   "execution_count": null,
   "metadata": {},
   "outputs": [],
   "source": [
    "lb.df_pre_tourney.loc[lb.df_pre_tourney['current_rank'].notnull(), 'current_rank'].astype(int)"
   ]
  },
  {
   "cell_type": "code",
   "execution_count": null,
   "metadata": {},
   "outputs": [],
   "source": [
    "lb.df_pre_tourney"
   ]
  },
  {
   "cell_type": "code",
   "execution_count": null,
   "metadata": {},
   "outputs": [],
   "source": [
    "DT.LoadWorldRankings().run()"
   ]
  },
  {
   "cell_type": "code",
   "execution_count": null,
   "metadata": {},
   "outputs": [],
   "source": [
    "DT.TournamentInfo().run()"
   ]
  },
  {
   "cell_type": "code",
   "execution_count": null,
   "metadata": {},
   "outputs": [],
   "source": []
  },
  {
   "cell_type": "code",
   "execution_count": null,
   "metadata": {},
   "outputs": [],
   "source": [
    "lb.run()"
   ]
  },
  {
   "cell_type": "code",
   "execution_count": null,
   "metadata": {},
   "outputs": [],
   "source": [
    "lb.data"
   ]
  },
  {
   "cell_type": "code",
   "execution_count": null,
   "metadata": {},
   "outputs": [],
   "source": []
  },
  {
   "cell_type": "code",
   "execution_count": null,
   "metadata": {},
   "outputs": [],
   "source": []
  },
  {
   "cell_type": "code",
   "execution_count": null,
   "metadata": {},
   "outputs": [],
   "source": [
    "lb.determine_current_round()"
   ]
  },
  {
   "cell_type": "code",
   "execution_count": null,
   "metadata": {},
   "outputs": [],
   "source": [
    "lb.calculate_cut_line()"
   ]
  },
  {
   "cell_type": "code",
   "execution_count": null,
   "metadata": {},
   "outputs": [],
   "source": [
    "df = lb.data"
   ]
  },
  {
   "cell_type": "code",
   "execution_count": null,
   "metadata": {},
   "outputs": [],
   "source": [
    "self = lb"
   ]
  },
  {
   "cell_type": "code",
   "execution_count": null,
   "metadata": {},
   "outputs": [],
   "source": [
    "cur_round = self.determine_current_round()\n",
    "\n",
    "if cur_round == 'r2':\n",
    "    sql = self.yaml_sql_dict.get('calculate_cut_line')\n",
    "    df = self.run_sql(sql)\n",
    "    # Grab the cut_str\n",
    "    cut_str = df['pos'][0].lower()\n",
    "    cut_dict = {}\n",
    "\n",
    "    # Not sure what will happen if cut is even...\n",
    "    if cut_str[-1:] == 'E':\n",
    "        cut_dict['cut_str'] = 'E'\n",
    "        cut_dict['cut_in'] = 0\n",
    "    else:\n",
    "        # Just grab the last two characters - this should be the cut score\n",
    "        cut_str = cut_str[-2:]\n",
    "        # Put both string and int representations into a dict\n",
    "        cut_dict['cut_str'] = cut_str\n",
    "        cut_dict['cut_int'] = int(cut_str.replace('+', '').replace('E', '0'))\n",
    "\n",
    "    return cut_dict\n",
    "else:\n",
    "    logger.info(\"Dont need to worry about the cut line now\")\n",
    "    return None"
   ]
  },
  {
   "cell_type": "code",
   "execution_count": null,
   "metadata": {},
   "outputs": [],
   "source": [
    "df"
   ]
  },
  {
   "cell_type": "code",
   "execution_count": null,
   "metadata": {},
   "outputs": [],
   "source": [
    "print(sql)"
   ]
  },
  {
   "cell_type": "code",
   "execution_count": null,
   "metadata": {},
   "outputs": [],
   "source": [
    "sql = self.yaml_sql_dict.get('calculate_cut_line')\n",
    "df = self.run_sql(sql)\n",
    "# Grab the cut_str\n",
    "cut_str = df['pos'][0].lower()\n",
    "cut_dict = {}"
   ]
  },
  {
   "cell_type": "code",
   "execution_count": null,
   "metadata": {},
   "outputs": [],
   "source": []
  },
  {
   "cell_type": "code",
   "execution_count": null,
   "metadata": {},
   "outputs": [],
   "source": []
  },
  {
   "cell_type": "code",
   "execution_count": null,
   "metadata": {},
   "outputs": [],
   "source": []
  },
  {
   "cell_type": "code",
   "execution_count": null,
   "metadata": {},
   "outputs": [],
   "source": []
  },
  {
   "cell_type": "code",
   "execution_count": null,
   "metadata": {},
   "outputs": [],
   "source": []
  },
  {
   "cell_type": "code",
   "execution_count": null,
   "metadata": {},
   "outputs": [],
   "source": []
  },
  {
   "cell_type": "code",
   "execution_count": null,
   "metadata": {},
   "outputs": [],
   "source": []
  },
  {
   "cell_type": "code",
   "execution_count": null,
   "metadata": {},
   "outputs": [],
   "source": [
    "user = DT.UserData(user_id=6)"
   ]
  },
  {
   "cell_type": "code",
   "execution_count": null,
   "metadata": {},
   "outputs": [],
   "source": [
    "user.run()"
   ]
  },
  {
   "cell_type": "code",
   "execution_count": null,
   "metadata": {},
   "outputs": [],
   "source": [
    "user.data"
   ]
  },
  {
   "cell_type": "code",
   "execution_count": null,
   "metadata": {},
   "outputs": [],
   "source": [
    "gs = DT.GameScoreboard()"
   ]
  },
  {
   "cell_type": "code",
   "execution_count": null,
   "metadata": {},
   "outputs": [],
   "source": [
    "gs.run()"
   ]
  },
  {
   "cell_type": "code",
   "execution_count": null,
   "metadata": {},
   "outputs": [],
   "source": [
    "gs.data"
   ]
  },
  {
   "cell_type": "code",
   "execution_count": null,
   "metadata": {},
   "outputs": [],
   "source": [
    "wha = DT.TeamPlayerResults()"
   ]
  },
  {
   "cell_type": "code",
   "execution_count": null,
   "metadata": {},
   "outputs": [],
   "source": [
    "wha.run()"
   ]
  },
  {
   "cell_type": "code",
   "execution_count": null,
   "metadata": {},
   "outputs": [],
   "source": [
    "wha.data.sort_values('username')"
   ]
  },
  {
   "cell_type": "code",
   "execution_count": null,
   "metadata": {},
   "outputs": [],
   "source": []
  },
  {
   "cell_type": "code",
   "execution_count": null,
   "metadata": {},
   "outputs": [],
   "source": []
  },
  {
   "cell_type": "code",
   "execution_count": null,
   "metadata": {},
   "outputs": [],
   "source": [
    "lb = DT.LoadLeaderboard()"
   ]
  },
  {
   "cell_type": "code",
   "execution_count": null,
   "metadata": {},
   "outputs": [],
   "source": [
    "lb.run()"
   ]
  },
  {
   "cell_type": "code",
   "execution_count": null,
   "metadata": {},
   "outputs": [],
   "source": [
    "gs = dg.data_things.GameScoreboard()"
   ]
  },
  {
   "cell_type": "code",
   "execution_count": null,
   "metadata": {},
   "outputs": [],
   "source": [
    "int(0)"
   ]
  },
  {
   "cell_type": "code",
   "execution_count": null,
   "metadata": {},
   "outputs": [],
   "source": [
    "gs.tourney_status"
   ]
  },
  {
   "cell_type": "code",
   "execution_count": null,
   "metadata": {},
   "outputs": [],
   "source": [
    "gs.run()"
   ]
  },
  {
   "cell_type": "code",
   "execution_count": null,
   "metadata": {},
   "outputs": [],
   "source": []
  },
  {
   "cell_type": "code",
   "execution_count": null,
   "metadata": {},
   "outputs": [],
   "source": []
  },
  {
   "cell_type": "code",
   "execution_count": null,
   "metadata": {},
   "outputs": [],
   "source": [
    "cmon = dg.data_things.LoadLeaderboard()"
   ]
  },
  {
   "cell_type": "code",
   "execution_count": null,
   "metadata": {},
   "outputs": [],
   "source": [
    "cmon.run()"
   ]
  },
  {
   "cell_type": "code",
   "execution_count": null,
   "metadata": {},
   "outputs": [],
   "source": []
  },
  {
   "cell_type": "code",
   "execution_count": null,
   "metadata": {},
   "outputs": [],
   "source": [
    "lb = dg.data_things.LoadLeaderboard()"
   ]
  },
  {
   "cell_type": "code",
   "execution_count": null,
   "metadata": {},
   "outputs": [],
   "source": [
    "lb.tourney_status"
   ]
  },
  {
   "cell_type": "code",
   "execution_count": null,
   "metadata": {},
   "outputs": [],
   "source": [
    "lb.scrape_espn_leaderboard(lb.url_lb)"
   ]
  },
  {
   "cell_type": "code",
   "execution_count": null,
   "metadata": {},
   "outputs": [],
   "source": [
    "lb.data"
   ]
  },
  {
   "cell_type": "code",
   "execution_count": null,
   "metadata": {},
   "outputs": [],
   "source": [
    "lb.determine_tourney_status()"
   ]
  },
  {
   "cell_type": "code",
   "execution_count": null,
   "metadata": {},
   "outputs": [],
   "source": []
  },
  {
   "cell_type": "code",
   "execution_count": null,
   "metadata": {},
   "outputs": [],
   "source": []
  },
  {
   "cell_type": "code",
   "execution_count": null,
   "metadata": {},
   "outputs": [],
   "source": []
  },
  {
   "cell_type": "code",
   "execution_count": null,
   "metadata": {},
   "outputs": [],
   "source": [
    "lb.load_tourney_status()"
   ]
  },
  {
   "cell_type": "code",
   "execution_count": null,
   "metadata": {},
   "outputs": [],
   "source": []
  },
  {
   "cell_type": "code",
   "execution_count": null,
   "metadata": {},
   "outputs": [],
   "source": []
  },
  {
   "cell_type": "code",
   "execution_count": null,
   "metadata": {},
   "outputs": [],
   "source": [
    "vamp.run()"
   ]
  },
  {
   "cell_type": "code",
   "execution_count": null,
   "metadata": {},
   "outputs": [],
   "source": [
    "vamp.tourney_status"
   ]
  },
  {
   "cell_type": "code",
   "execution_count": null,
   "metadata": {},
   "outputs": [],
   "source": [
    "new = dg.data_things.PullLeaderboard(user_id=10)"
   ]
  },
  {
   "cell_type": "code",
   "execution_count": null,
   "metadata": {},
   "outputs": [],
   "source": [
    "new.tourney_status"
   ]
  },
  {
   "cell_type": "code",
   "execution_count": null,
   "metadata": {},
   "outputs": [],
   "source": [
    "new.run()"
   ]
  },
  {
   "cell_type": "code",
   "execution_count": null,
   "metadata": {},
   "outputs": [],
   "source": [
    "new.pull_tourney_leaderboard()"
   ]
  },
  {
   "cell_type": "code",
   "execution_count": null,
   "metadata": {},
   "outputs": [],
   "source": [
    "new.user_df"
   ]
  },
  {
   "cell_type": "code",
   "execution_count": null,
   "metadata": {},
   "outputs": [],
   "source": [
    "new.user_id"
   ]
  },
  {
   "cell_type": "code",
   "execution_count": null,
   "metadata": {},
   "outputs": [],
   "source": [
    "new.pull_users_team()"
   ]
  },
  {
   "cell_type": "code",
   "execution_count": null,
   "metadata": {},
   "outputs": [],
   "source": [
    "new.data"
   ]
  },
  {
   "cell_type": "code",
   "execution_count": null,
   "metadata": {},
   "outputs": [],
   "source": [
    "new.pull_tourney_leaderboard()"
   ]
  },
  {
   "cell_type": "code",
   "execution_count": null,
   "metadata": {},
   "outputs": [],
   "source": [
    "getattr(new, 'user_df')"
   ]
  },
  {
   "cell_type": "code",
   "execution_count": null,
   "metadata": {},
   "outputs": [],
   "source": []
  },
  {
   "cell_type": "code",
   "execution_count": null,
   "metadata": {},
   "outputs": [],
   "source": [
    "print(getsource(new.pull_tourney_leaderboard))"
   ]
  },
  {
   "cell_type": "code",
   "execution_count": null,
   "metadata": {},
   "outputs": [],
   "source": [
    "new.user_df"
   ]
  },
  {
   "cell_type": "code",
   "execution_count": null,
   "metadata": {},
   "outputs": [],
   "source": [
    "pd.merge(new.data, new.user_df,\n",
    "        how='outer',\n",
    "        on='player')"
   ]
  },
  {
   "cell_type": "code",
   "execution_count": null,
   "metadata": {},
   "outputs": [],
   "source": [
    "new.tourney_status"
   ]
  },
  {
   "cell_type": "code",
   "execution_count": null,
   "metadata": {},
   "outputs": [],
   "source": [
    "gs = dg.data_things.GameScoreboard()"
   ]
  },
  {
   "cell_type": "code",
   "execution_count": null,
   "metadata": {},
   "outputs": [],
   "source": [
    "gs.tourney_status"
   ]
  },
  {
   "cell_type": "code",
   "execution_count": null,
   "metadata": {},
   "outputs": [],
   "source": [
    "gs.run()"
   ]
  },
  {
   "cell_type": "code",
   "execution_count": null,
   "metadata": {},
   "outputs": [],
   "source": [
    "wha = dg.data_things.LoadWorldRankings()"
   ]
  },
  {
   "cell_type": "code",
   "execution_count": null,
   "metadata": {},
   "outputs": [],
   "source": [
    "wha = dg.data_things.TournamentInfo()"
   ]
  },
  {
   "cell_type": "code",
   "execution_count": null,
   "metadata": {},
   "outputs": [],
   "source": [
    "wha.run()"
   ]
  },
  {
   "cell_type": "code",
   "execution_count": null,
   "metadata": {},
   "outputs": [],
   "source": [
    "draft = dg.data_things.DraftDay()"
   ]
  },
  {
   "cell_type": "code",
   "execution_count": null,
   "metadata": {},
   "outputs": [],
   "source": [
    "draft.run()"
   ]
  },
  {
   "cell_type": "code",
   "execution_count": null,
   "metadata": {},
   "outputs": [],
   "source": [
    "df = draft.data"
   ]
  },
  {
   "cell_type": "code",
   "execution_count": null,
   "metadata": {},
   "outputs": [],
   "source": [
    "for col in ['current_rank','events_played','rank']:\n",
    "    self.data.loc[self.data[col].notnull(), col] = self.data.loc[self.data[col].notnull(), col].astype(int).astype(str)"
   ]
  },
  {
   "cell_type": "code",
   "execution_count": null,
   "metadata": {},
   "outputs": [],
   "source": [
    "df"
   ]
  },
  {
   "cell_type": "code",
   "execution_count": null,
   "metadata": {},
   "outputs": [],
   "source": []
  },
  {
   "cell_type": "code",
   "execution_count": null,
   "metadata": {},
   "outputs": [],
   "source": [
    "draft.data['current_rank']"
   ]
  },
  {
   "cell_type": "code",
   "execution_count": null,
   "metadata": {},
   "outputs": [],
   "source": []
  },
  {
   "cell_type": "code",
   "execution_count": null,
   "metadata": {},
   "outputs": [],
   "source": []
  },
  {
   "cell_type": "code",
   "execution_count": null,
   "metadata": {},
   "outputs": [],
   "source": []
  },
  {
   "cell_type": "code",
   "execution_count": null,
   "metadata": {},
   "outputs": [],
   "source": [
    "vamp.new_determine_status()['value'][0].strip()"
   ]
  },
  {
   "cell_type": "code",
   "execution_count": null,
   "metadata": {},
   "outputs": [],
   "source": []
  },
  {
   "cell_type": "code",
   "execution_count": null,
   "metadata": {},
   "outputs": [],
   "source": []
  },
  {
   "cell_type": "code",
   "execution_count": null,
   "metadata": {},
   "outputs": [],
   "source": [
    "vamp.run()"
   ]
  },
  {
   "cell_type": "code",
   "execution_count": null,
   "metadata": {},
   "outputs": [],
   "source": [
    "vamp.load_tourney_status()"
   ]
  },
  {
   "cell_type": "code",
   "execution_count": null,
   "metadata": {},
   "outputs": [],
   "source": [
    "vamp.load_status_sql"
   ]
  },
  {
   "cell_type": "code",
   "execution_count": null,
   "metadata": {},
   "outputs": [],
   "source": [
    "with psycopg2.connect(vamp.conf.db_url) as conn:\n",
    "    cur = conn.cursor()\n",
    "    cur.execute(\"delete from donkey_variables where metric = 'current_tourney_status';\")\n",
    "    cur.execute(\"INSERT INTO donkey_variables VALUES ('current_tourney_status', 'pre_tourney');\")\n",
    "    #cur.close()"
   ]
  },
  {
   "cell_type": "code",
   "execution_count": null,
   "metadata": {},
   "outputs": [],
   "source": []
  },
  {
   "cell_type": "code",
   "execution_count": null,
   "metadata": {},
   "outputs": [],
   "source": []
  },
  {
   "cell_type": "code",
   "execution_count": null,
   "metadata": {},
   "outputs": [],
   "source": [
    "conn = psycopg2.connect(host=pg_credential.hostname,\n",
    "                        port=pg_credential.port,\n",
    "                        user=pg_credential.username,\n",
    "                        password=pg_credential.password,\n",
    "                        database=pg_credential.path[1:]) # To remove slash\n",
    "\n",
    "cursor = conn.cursor()\n",
    "cursor.execute(\"INSERT INTO a_table (c1, c2, c3) VALUES(%s, %s, %s)\", (v1, v2, v3))"
   ]
  },
  {
   "cell_type": "code",
   "execution_count": null,
   "metadata": {},
   "outputs": [],
   "source": []
  },
  {
   "cell_type": "code",
   "execution_count": null,
   "metadata": {},
   "outputs": [],
   "source": []
  },
  {
   "cell_type": "code",
   "execution_count": null,
   "metadata": {},
   "outputs": [],
   "source": []
  },
  {
   "cell_type": "code",
   "execution_count": null,
   "metadata": {},
   "outputs": [],
   "source": [
    "getattr(cmon, 'tourney_status')"
   ]
  },
  {
   "cell_type": "code",
   "execution_count": null,
   "metadata": {},
   "outputs": [],
   "source": [
    "vamp.load_tourney_status()"
   ]
  },
  {
   "cell_type": "code",
   "execution_count": null,
   "metadata": {},
   "outputs": [],
   "source": []
  },
  {
   "cell_type": "code",
   "execution_count": null,
   "metadata": {},
   "outputs": [],
   "source": [
    "vamp.tourney_status"
   ]
  },
  {
   "cell_type": "code",
   "execution_count": null,
   "metadata": {},
   "outputs": [],
   "source": [
    "pd.read_sql(\"INSERT INTO donkey_variables VALUES ('current_tourney_status', 'pre_tourney');\")"
   ]
  },
  {
   "cell_type": "code",
   "execution_count": null,
   "metadata": {},
   "outputs": [],
   "source": []
  },
  {
   "cell_type": "code",
   "execution_count": null,
   "metadata": {},
   "outputs": [],
   "source": [
    "cmon = dg.data_things.PullLeaderboard(user_id=5)"
   ]
  },
  {
   "cell_type": "code",
   "execution_count": null,
   "metadata": {},
   "outputs": [],
   "source": [
    "cmon.run()"
   ]
  },
  {
   "cell_type": "code",
   "execution_count": null,
   "metadata": {},
   "outputs": [],
   "source": [
    "cmon.tourney_status"
   ]
  },
  {
   "cell_type": "code",
   "execution_count": null,
   "metadata": {},
   "outputs": [],
   "source": [
    "cmon.pull_tourney_leaderboard()"
   ]
  },
  {
   "cell_type": "code",
   "execution_count": null,
   "metadata": {},
   "outputs": [],
   "source": [
    "if cmon.data.empty:\n",
    "    print(\"EMPTY\")"
   ]
  },
  {
   "cell_type": "code",
   "execution_count": null,
   "metadata": {},
   "outputs": [],
   "source": [
    "cmon.tourney_status"
   ]
  },
  {
   "cell_type": "code",
   "execution_count": null,
   "metadata": {},
   "outputs": [],
   "source": [
    "getattr(cmon, 'tourney_status')"
   ]
  },
  {
   "cell_type": "code",
   "execution_count": null,
   "metadata": {},
   "outputs": [],
   "source": [
    "getattr(cmon, 'tourney_statusss', 'whoops')"
   ]
  },
  {
   "cell_type": "code",
   "execution_count": null,
   "metadata": {},
   "outputs": [],
   "source": [
    "sb = dg.data_things.GameScoreboard()"
   ]
  },
  {
   "cell_type": "code",
   "execution_count": null,
   "metadata": {},
   "outputs": [],
   "source": [
    "sb.run()"
   ]
  },
  {
   "cell_type": "code",
   "execution_count": null,
   "metadata": {},
   "outputs": [],
   "source": []
  },
  {
   "cell_type": "code",
   "execution_count": null,
   "metadata": {},
   "outputs": [],
   "source": []
  },
  {
   "cell_type": "code",
   "execution_count": null,
   "metadata": {},
   "outputs": [],
   "source": []
  },
  {
   "cell_type": "code",
   "execution_count": null,
   "metadata": {},
   "outputs": [],
   "source": []
  },
  {
   "cell_type": "code",
   "execution_count": null,
   "metadata": {},
   "outputs": [],
   "source": [
    "vamp.golfer_count_by_team"
   ]
  },
  {
   "cell_type": "code",
   "execution_count": null,
   "metadata": {},
   "outputs": [],
   "source": [
    "df = vamp.data"
   ]
  },
  {
   "cell_type": "code",
   "execution_count": null,
   "metadata": {},
   "outputs": [],
   "source": [
    "df.head(2)"
   ]
  },
  {
   "cell_type": "code",
   "execution_count": null,
   "metadata": {},
   "outputs": [],
   "source": [
    "df.loc[df['team_count']> 0]"
   ]
  },
  {
   "cell_type": "code",
   "execution_count": null,
   "metadata": {},
   "outputs": [],
   "source": []
  },
  {
   "cell_type": "code",
   "execution_count": null,
   "metadata": {},
   "outputs": [],
   "source": [
    "huh = dg.data_things.PullLeaderboard(user_id=6)"
   ]
  },
  {
   "cell_type": "code",
   "execution_count": null,
   "metadata": {},
   "outputs": [],
   "source": [
    "huh.run()"
   ]
  },
  {
   "cell_type": "code",
   "execution_count": null,
   "metadata": {},
   "outputs": [],
   "source": [
    "huh.data['team_count'].value_counts()"
   ]
  },
  {
   "cell_type": "code",
   "execution_count": null,
   "metadata": {},
   "outputs": [],
   "source": [
    "df_tourney = huh.data\n",
    "df_tourney = df_tourney.loc[df_tourney['team_count'] > 0]"
   ]
  },
  {
   "cell_type": "code",
   "execution_count": null,
   "metadata": {},
   "outputs": [],
   "source": [
    "from datetime import datetime"
   ]
  },
  {
   "cell_type": "code",
   "execution_count": null,
   "metadata": {},
   "outputs": [],
   "source": [
    "datetime.today()"
   ]
  },
  {
   "cell_type": "code",
   "execution_count": null,
   "metadata": {},
   "outputs": [],
   "source": []
  },
  {
   "cell_type": "code",
   "execution_count": null,
   "metadata": {},
   "outputs": [],
   "source": [
    "df_tourney"
   ]
  },
  {
   "cell_type": "code",
   "execution_count": null,
   "metadata": {},
   "outputs": [],
   "source": [
    "ada = dg.data_things.PullLeaderboard(user_id=5)"
   ]
  },
  {
   "cell_type": "code",
   "execution_count": null,
   "metadata": {},
   "outputs": [],
   "source": [
    "ada.pull_tourney_leaderboard()"
   ]
  },
  {
   "cell_type": "code",
   "execution_count": null,
   "metadata": {},
   "outputs": [],
   "source": [
    "ada.data.team_count.value_counts()"
   ]
  },
  {
   "cell_type": "code",
   "execution_count": null,
   "metadata": {},
   "outputs": [],
   "source": []
  },
  {
   "cell_type": "code",
   "execution_count": null,
   "metadata": {},
   "outputs": [],
   "source": [
    "ada.calc_refresh_date()"
   ]
  },
  {
   "cell_type": "code",
   "execution_count": null,
   "metadata": {},
   "outputs": [],
   "source": [
    "ada.determine_tourney_status()"
   ]
  },
  {
   "cell_type": "code",
   "execution_count": null,
   "metadata": {},
   "outputs": [],
   "source": [
    "ada.pull_users_team()"
   ]
  },
  {
   "cell_type": "code",
   "execution_count": null,
   "metadata": {},
   "outputs": [],
   "source": [
    "ada.user_df"
   ]
  },
  {
   "cell_type": "code",
   "execution_count": null,
   "metadata": {},
   "outputs": [],
   "source": [
    "ada.sql_user"
   ]
  },
  {
   "cell_type": "code",
   "execution_count": null,
   "metadata": {},
   "outputs": [],
   "source": []
  }
 ],
 "metadata": {
  "kernelspec": {
   "display_name": "venv_dgolf",
   "language": "python",
   "name": "venv_dgolf"
  },
  "language_info": {
   "codemirror_mode": {
    "name": "ipython",
    "version": 3
   },
   "file_extension": ".py",
   "mimetype": "text/x-python",
   "name": "python",
   "nbconvert_exporter": "python",
   "pygments_lexer": "ipython3",
   "version": "3.7.3"
  }
 },
 "nbformat": 4,
 "nbformat_minor": 2
}
