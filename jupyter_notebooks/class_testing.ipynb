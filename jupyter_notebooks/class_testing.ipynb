{
 "cells": [
  {
   "cell_type": "code",
   "execution_count": 1,
   "metadata": {},
   "outputs": [
    {
     "name": "stdout",
     "output_type": "stream",
     "text": [
      "/Users/amlvt225/Code/GitHub/donkey_golf\n"
     ]
    }
   ],
   "source": [
    "cd .."
   ]
  },
  {
   "cell_type": "code",
   "execution_count": 32,
   "metadata": {},
   "outputs": [],
   "source": [
    "pd.options.display.max_columns=200"
   ]
  },
  {
   "cell_type": "code",
   "execution_count": 2,
   "metadata": {
    "scrolled": true
   },
   "outputs": [
    {
     "name": "stderr",
     "output_type": "stream",
     "text": [
      "/Users/amlvt225/Code/VirtualEnvs/venv_dgolf/lib/python3.7/site-packages/flask_sqlalchemy/__init__.py:794: FSADeprecationWarning: SQLALCHEMY_TRACK_MODIFICATIONS adds significant overhead and will be disabled by default in the future.  Set it to True or False to suppress this warning.\n",
      "  'SQLALCHEMY_TRACK_MODIFICATIONS adds significant overhead and '\n"
     ]
    }
   ],
   "source": [
    "from inspect import getsource\n",
    "\n",
    "import donkey_golf as dg\n",
    "\n",
    "import donkey_golf.data_things as DT\n",
    "\n",
    "import oyaml\n",
    "import pandas as pd\n",
    "import logging\n",
    "import psycopg2\n",
    "\n",
    "from sqlalchemy import create_engine\n",
    "\n",
    "from donkey_golf import config\n",
    "\n",
    "# create logger\n",
    "logger = logging.getLogger(__name__)\n",
    "logger.setLevel(logging.DEBUG)\n",
    "\n",
    "# create console handler and set level to debug\n",
    "ch = logging.StreamHandler()\n",
    "ch.setLevel(logging.DEBUG)\n",
    "\n",
    "# create formatter\n",
    "formatter = logging.Formatter('%(asctime)s - %(name)s - %(levelname)s - %(message)s')\n",
    "\n",
    "# add formatter to ch\n",
    "ch.setFormatter(formatter)\n",
    "\n",
    "# add ch to logger\n",
    "logger.addHandler(ch)"
   ]
  },
  {
   "cell_type": "code",
   "execution_count": 3,
   "metadata": {},
   "outputs": [
    {
     "name": "stderr",
     "output_type": "stream",
     "text": [
      "2019-05-16 13:51:59,285 - donkey_golf.data_things.base_class - DEBUG - ABOUT TO SET yaml_sql_dict\n",
      "2019-05-16 13:51:59,296 - donkey_golf.data_things.base_class - INFO - Executing run_sql\n",
      "2019-05-16 13:51:59,558 - donkey_golf.data_things.base_class - INFO - Current tourney ID: 401056552\n",
      "2019-05-16 13:51:59,559 - donkey_golf.data_things.base_class - INFO - Executing run_sql\n"
     ]
    }
   ],
   "source": [
    "gs = DT.GameScoreboard()"
   ]
  },
  {
   "cell_type": "code",
   "execution_count": null,
   "metadata": {},
   "outputs": [],
   "source": [
    "gs.run()"
   ]
  },
  {
   "cell_type": "code",
   "execution_count": null,
   "metadata": {},
   "outputs": [],
   "source": [
    "gs.data"
   ]
  },
  {
   "cell_type": "code",
   "execution_count": null,
   "metadata": {},
   "outputs": [],
   "source": [
    "df = gs.data"
   ]
  },
  {
   "cell_type": "code",
   "execution_count": null,
   "metadata": {},
   "outputs": [],
   "source": [
    "self.data['donkey_score'] = self.data['donkey_score'].astype(int)\n",
    "\n",
    "self.data.loc[self.data['donkey_score'] > 0, 'donkey_score'] = \"+\" + self.data['donkey_score'].astype(str)\n",
    "\n",
    "self.data.loc[self.data['donkey_score'] == 0, 'donkey_score'] = 'E'"
   ]
  },
  {
   "cell_type": "code",
   "execution_count": null,
   "metadata": {},
   "outputs": [],
   "source": [
    "df"
   ]
  },
  {
   "cell_type": "code",
   "execution_count": null,
   "metadata": {},
   "outputs": [],
   "source": [
    "df.loc[]"
   ]
  },
  {
   "cell_type": "code",
   "execution_count": 6,
   "metadata": {},
   "outputs": [
    {
     "name": "stderr",
     "output_type": "stream",
     "text": [
      "2019-05-16 13:52:15,461 - donkey_golf.data_things.base_class - DEBUG - ABOUT TO SET yaml_sql_dict\n",
      "2019-05-16 13:52:15,474 - donkey_golf.data_things.base_class - INFO - Executing run_sql\n",
      "2019-05-16 13:52:15,739 - donkey_golf.data_things.base_class - INFO - Current tourney ID: 401056552\n",
      "2019-05-16 13:52:15,741 - donkey_golf.data_things.base_class - INFO - Executing run_sql\n"
     ]
    }
   ],
   "source": [
    "lb = DT.PullLeaderboard(user_id=6)"
   ]
  },
  {
   "cell_type": "code",
   "execution_count": 7,
   "metadata": {},
   "outputs": [
    {
     "data": {
      "text/plain": [
       "'in_progress'"
      ]
     },
     "execution_count": 7,
     "metadata": {},
     "output_type": "execute_result"
    }
   ],
   "source": [
    "lb.tourney_status"
   ]
  },
  {
   "cell_type": "code",
   "execution_count": 8,
   "metadata": {},
   "outputs": [
    {
     "name": "stderr",
     "output_type": "stream",
     "text": [
      "2019-05-16 13:52:16,035 - donkey_golf.data_things.base_class - INFO - Executing run_sql\n",
      "2019-05-16 13:52:16,349 - donkey_golf.data_things.tourney_leaderboard - INFO - Pulling users active tourney team\n",
      "2019-05-16 13:52:16,350 - donkey_golf.data_things.base_class - INFO - Executing run_sql\n",
      "2019-05-16 13:52:16,644 - donkey_golf.data_things.tourney_leaderboard - INFO - Determing data refresh times\n"
     ]
    }
   ],
   "source": [
    "lb.run()"
   ]
  },
  {
   "cell_type": "code",
   "execution_count": 9,
   "metadata": {},
   "outputs": [
    {
     "data": {
      "text/html": [
       "<div>\n",
       "<style scoped>\n",
       "    .dataframe tbody tr th:only-of-type {\n",
       "        vertical-align: middle;\n",
       "    }\n",
       "\n",
       "    .dataframe tbody tr th {\n",
       "        vertical-align: top;\n",
       "    }\n",
       "\n",
       "    .dataframe thead th {\n",
       "        text-align: right;\n",
       "    }\n",
       "</style>\n",
       "<table border=\"1\" class=\"dataframe\">\n",
       "  <thead>\n",
       "    <tr style=\"text-align: right;\">\n",
       "      <th></th>\n",
       "      <th>pos</th>\n",
       "      <th>player</th>\n",
       "      <th>to_par</th>\n",
       "      <th>today</th>\n",
       "      <th>thru</th>\n",
       "      <th>r1</th>\n",
       "      <th>r2</th>\n",
       "      <th>r3</th>\n",
       "      <th>r4</th>\n",
       "      <th>tot</th>\n",
       "      <th>tourney_id</th>\n",
       "      <th>donkey_score</th>\n",
       "      <th>missed_cut</th>\n",
       "      <th>player_left</th>\n",
       "      <th>team_count</th>\n",
       "      <th>load_date</th>\n",
       "    </tr>\n",
       "  </thead>\n",
       "  <tbody>\n",
       "    <tr>\n",
       "      <th>0</th>\n",
       "      <td>1</td>\n",
       "      <td>Brooks Koepka</td>\n",
       "      <td>-7</td>\n",
       "      <td>-7</td>\n",
       "      <td>F</td>\n",
       "      <td>63</td>\n",
       "      <td>--</td>\n",
       "      <td>--</td>\n",
       "      <td>--</td>\n",
       "      <td>63</td>\n",
       "      <td>401056552</td>\n",
       "      <td>-7</td>\n",
       "      <td>0</td>\n",
       "      <td>0</td>\n",
       "      <td>11</td>\n",
       "      <td>2019-05-16 13:52:04.354189</td>\n",
       "    </tr>\n",
       "    <tr>\n",
       "      <th>1</th>\n",
       "      <td>2</td>\n",
       "      <td>Tommy Fleetwood</td>\n",
       "      <td>-3</td>\n",
       "      <td>-3</td>\n",
       "      <td>F</td>\n",
       "      <td>67</td>\n",
       "      <td>--</td>\n",
       "      <td>--</td>\n",
       "      <td>--</td>\n",
       "      <td>67</td>\n",
       "      <td>401056552</td>\n",
       "      <td>-3</td>\n",
       "      <td>0</td>\n",
       "      <td>0</td>\n",
       "      <td>3</td>\n",
       "      <td>2019-05-16 13:52:04.354189</td>\n",
       "    </tr>\n",
       "    <tr>\n",
       "      <th>2</th>\n",
       "      <td>T3</td>\n",
       "      <td>Mike Lorenzo-Vera</td>\n",
       "      <td>-2</td>\n",
       "      <td>-2</td>\n",
       "      <td>F</td>\n",
       "      <td>68</td>\n",
       "      <td>--</td>\n",
       "      <td>--</td>\n",
       "      <td>--</td>\n",
       "      <td>68</td>\n",
       "      <td>401056552</td>\n",
       "      <td>-2</td>\n",
       "      <td>0</td>\n",
       "      <td>0</td>\n",
       "      <td>0</td>\n",
       "      <td>2019-05-16 13:52:04.354189</td>\n",
       "    </tr>\n",
       "    <tr>\n",
       "      <th>3</th>\n",
       "      <td>T3</td>\n",
       "      <td>Chez Reavie</td>\n",
       "      <td>-2</td>\n",
       "      <td>-2</td>\n",
       "      <td>F</td>\n",
       "      <td>68</td>\n",
       "      <td>--</td>\n",
       "      <td>--</td>\n",
       "      <td>--</td>\n",
       "      <td>68</td>\n",
       "      <td>401056552</td>\n",
       "      <td>-2</td>\n",
       "      <td>0</td>\n",
       "      <td>0</td>\n",
       "      <td>0</td>\n",
       "      <td>2019-05-16 13:52:04.354189</td>\n",
       "    </tr>\n",
       "    <tr>\n",
       "      <th>4</th>\n",
       "      <td>T3</td>\n",
       "      <td>Luke List</td>\n",
       "      <td>-2</td>\n",
       "      <td>-2</td>\n",
       "      <td>F</td>\n",
       "      <td>68</td>\n",
       "      <td>--</td>\n",
       "      <td>--</td>\n",
       "      <td>--</td>\n",
       "      <td>68</td>\n",
       "      <td>401056552</td>\n",
       "      <td>-2</td>\n",
       "      <td>0</td>\n",
       "      <td>0</td>\n",
       "      <td>0</td>\n",
       "      <td>2019-05-16 13:52:04.354189</td>\n",
       "    </tr>\n",
       "    <tr>\n",
       "      <th>5</th>\n",
       "      <td>T3</td>\n",
       "      <td>Paul Casey</td>\n",
       "      <td>-2</td>\n",
       "      <td>-2</td>\n",
       "      <td>4</td>\n",
       "      <td>--</td>\n",
       "      <td>--</td>\n",
       "      <td>--</td>\n",
       "      <td>--</td>\n",
       "      <td>--</td>\n",
       "      <td>401056552</td>\n",
       "      <td>-2</td>\n",
       "      <td>0</td>\n",
       "      <td>1</td>\n",
       "      <td>3</td>\n",
       "      <td>2019-05-16 13:52:04.354189</td>\n",
       "    </tr>\n",
       "    <tr>\n",
       "      <th>6</th>\n",
       "      <td>T3</td>\n",
       "      <td>Tony Finau</td>\n",
       "      <td>-2</td>\n",
       "      <td>-2</td>\n",
       "      <td>4</td>\n",
       "      <td>--</td>\n",
       "      <td>--</td>\n",
       "      <td>--</td>\n",
       "      <td>--</td>\n",
       "      <td>--</td>\n",
       "      <td>401056552</td>\n",
       "      <td>-2</td>\n",
       "      <td>0</td>\n",
       "      <td>1</td>\n",
       "      <td>8</td>\n",
       "      <td>2019-05-16 13:52:04.354189</td>\n",
       "    </tr>\n",
       "    <tr>\n",
       "      <th>7</th>\n",
       "      <td>T8</td>\n",
       "      <td>Rickie Fowler</td>\n",
       "      <td>-1</td>\n",
       "      <td>-1</td>\n",
       "      <td>F</td>\n",
       "      <td>69</td>\n",
       "      <td>--</td>\n",
       "      <td>--</td>\n",
       "      <td>--</td>\n",
       "      <td>69</td>\n",
       "      <td>401056552</td>\n",
       "      <td>-1</td>\n",
       "      <td>0</td>\n",
       "      <td>0</td>\n",
       "      <td>10</td>\n",
       "      <td>2019-05-16 13:52:04.354189</td>\n",
       "    </tr>\n",
       "    <tr>\n",
       "      <th>8</th>\n",
       "      <td>T8</td>\n",
       "      <td>Matt Wallace</td>\n",
       "      <td>-1</td>\n",
       "      <td>-1</td>\n",
       "      <td>F</td>\n",
       "      <td>69</td>\n",
       "      <td>--</td>\n",
       "      <td>--</td>\n",
       "      <td>--</td>\n",
       "      <td>69</td>\n",
       "      <td>401056552</td>\n",
       "      <td>-1</td>\n",
       "      <td>0</td>\n",
       "      <td>0</td>\n",
       "      <td>0</td>\n",
       "      <td>2019-05-16 13:52:04.354189</td>\n",
       "    </tr>\n",
       "    <tr>\n",
       "      <th>9</th>\n",
       "      <td>T8</td>\n",
       "      <td>Danny Lee</td>\n",
       "      <td>-1</td>\n",
       "      <td>-1</td>\n",
       "      <td>6</td>\n",
       "      <td>--</td>\n",
       "      <td>--</td>\n",
       "      <td>--</td>\n",
       "      <td>--</td>\n",
       "      <td>--</td>\n",
       "      <td>401056552</td>\n",
       "      <td>-1</td>\n",
       "      <td>0</td>\n",
       "      <td>1</td>\n",
       "      <td>0</td>\n",
       "      <td>2019-05-16 13:52:04.354189</td>\n",
       "    </tr>\n",
       "    <tr>\n",
       "      <th>10</th>\n",
       "      <td>T8</td>\n",
       "      <td>Ryan Vermeer</td>\n",
       "      <td>-1</td>\n",
       "      <td>-1</td>\n",
       "      <td>6</td>\n",
       "      <td>--</td>\n",
       "      <td>--</td>\n",
       "      <td>--</td>\n",
       "      <td>--</td>\n",
       "      <td>--</td>\n",
       "      <td>401056552</td>\n",
       "      <td>-1</td>\n",
       "      <td>0</td>\n",
       "      <td>1</td>\n",
       "      <td>0</td>\n",
       "      <td>2019-05-16 13:52:04.354189</td>\n",
       "    </tr>\n",
       "    <tr>\n",
       "      <th>11</th>\n",
       "      <td>T8</td>\n",
       "      <td>Daniel Berger</td>\n",
       "      <td>-1</td>\n",
       "      <td>-1</td>\n",
       "      <td>4</td>\n",
       "      <td>--</td>\n",
       "      <td>--</td>\n",
       "      <td>--</td>\n",
       "      <td>--</td>\n",
       "      <td>--</td>\n",
       "      <td>401056552</td>\n",
       "      <td>-1</td>\n",
       "      <td>0</td>\n",
       "      <td>1</td>\n",
       "      <td>0</td>\n",
       "      <td>2019-05-16 13:52:04.354189</td>\n",
       "    </tr>\n",
       "    <tr>\n",
       "      <th>12</th>\n",
       "      <td>T8</td>\n",
       "      <td>Ian Poulter</td>\n",
       "      <td>-1</td>\n",
       "      <td>-1</td>\n",
       "      <td>4</td>\n",
       "      <td>--</td>\n",
       "      <td>--</td>\n",
       "      <td>--</td>\n",
       "      <td>--</td>\n",
       "      <td>--</td>\n",
       "      <td>401056552</td>\n",
       "      <td>-1</td>\n",
       "      <td>0</td>\n",
       "      <td>1</td>\n",
       "      <td>2</td>\n",
       "      <td>2019-05-16 13:52:04.354189</td>\n",
       "    </tr>\n",
       "    <tr>\n",
       "      <th>13</th>\n",
       "      <td>T8</td>\n",
       "      <td>Billy Horschel</td>\n",
       "      <td>-1</td>\n",
       "      <td>-1</td>\n",
       "      <td>4</td>\n",
       "      <td>--</td>\n",
       "      <td>--</td>\n",
       "      <td>--</td>\n",
       "      <td>--</td>\n",
       "      <td>--</td>\n",
       "      <td>401056552</td>\n",
       "      <td>-1</td>\n",
       "      <td>0</td>\n",
       "      <td>1</td>\n",
       "      <td>0</td>\n",
       "      <td>2019-05-16 13:52:04.354189</td>\n",
       "    </tr>\n",
       "    <tr>\n",
       "      <th>14</th>\n",
       "      <td>T8</td>\n",
       "      <td>Gary Woodland</td>\n",
       "      <td>-1</td>\n",
       "      <td>-1</td>\n",
       "      <td>3</td>\n",
       "      <td>--</td>\n",
       "      <td>--</td>\n",
       "      <td>--</td>\n",
       "      <td>--</td>\n",
       "      <td>--</td>\n",
       "      <td>401056552</td>\n",
       "      <td>-1</td>\n",
       "      <td>0</td>\n",
       "      <td>1</td>\n",
       "      <td>1</td>\n",
       "      <td>2019-05-16 13:52:04.354189</td>\n",
       "    </tr>\n",
       "    <tr>\n",
       "      <th>15</th>\n",
       "      <td>T8</td>\n",
       "      <td>Martin Kaymer</td>\n",
       "      <td>-1</td>\n",
       "      <td>-1</td>\n",
       "      <td>2</td>\n",
       "      <td>--</td>\n",
       "      <td>--</td>\n",
       "      <td>--</td>\n",
       "      <td>--</td>\n",
       "      <td>--</td>\n",
       "      <td>401056552</td>\n",
       "      <td>-1</td>\n",
       "      <td>0</td>\n",
       "      <td>1</td>\n",
       "      <td>0</td>\n",
       "      <td>2019-05-16 13:52:04.354189</td>\n",
       "    </tr>\n",
       "    <tr>\n",
       "      <th>16</th>\n",
       "      <td>T8</td>\n",
       "      <td>Jon Rahm</td>\n",
       "      <td>-1</td>\n",
       "      <td>-1</td>\n",
       "      <td>2</td>\n",
       "      <td>--</td>\n",
       "      <td>--</td>\n",
       "      <td>--</td>\n",
       "      <td>--</td>\n",
       "      <td>--</td>\n",
       "      <td>401056552</td>\n",
       "      <td>-1</td>\n",
       "      <td>0</td>\n",
       "      <td>1</td>\n",
       "      <td>6</td>\n",
       "      <td>2019-05-16 13:52:04.354189</td>\n",
       "    </tr>\n",
       "    <tr>\n",
       "      <th>17</th>\n",
       "      <td>T18</td>\n",
       "      <td>Sam Burns</td>\n",
       "      <td>E</td>\n",
       "      <td>E</td>\n",
       "      <td>F</td>\n",
       "      <td>70</td>\n",
       "      <td>--</td>\n",
       "      <td>--</td>\n",
       "      <td>--</td>\n",
       "      <td>70</td>\n",
       "      <td>401056552</td>\n",
       "      <td>0</td>\n",
       "      <td>0</td>\n",
       "      <td>0</td>\n",
       "      <td>0</td>\n",
       "      <td>2019-05-16 13:52:04.354189</td>\n",
       "    </tr>\n",
       "    <tr>\n",
       "      <th>18</th>\n",
       "      <td>T18</td>\n",
       "      <td>Patton Kizzire</td>\n",
       "      <td>E</td>\n",
       "      <td>E</td>\n",
       "      <td>F</td>\n",
       "      <td>70</td>\n",
       "      <td>--</td>\n",
       "      <td>--</td>\n",
       "      <td>--</td>\n",
       "      <td>70</td>\n",
       "      <td>401056552</td>\n",
       "      <td>0</td>\n",
       "      <td>0</td>\n",
       "      <td>0</td>\n",
       "      <td>0</td>\n",
       "      <td>2019-05-16 13:52:04.354189</td>\n",
       "    </tr>\n",
       "    <tr>\n",
       "      <th>19</th>\n",
       "      <td>T18</td>\n",
       "      <td>Jason Caron</td>\n",
       "      <td>E</td>\n",
       "      <td>E</td>\n",
       "      <td>F</td>\n",
       "      <td>70</td>\n",
       "      <td>--</td>\n",
       "      <td>--</td>\n",
       "      <td>--</td>\n",
       "      <td>70</td>\n",
       "      <td>401056552</td>\n",
       "      <td>0</td>\n",
       "      <td>0</td>\n",
       "      <td>0</td>\n",
       "      <td>0</td>\n",
       "      <td>2019-05-16 13:52:04.354189</td>\n",
       "    </tr>\n",
       "    <tr>\n",
       "      <th>20</th>\n",
       "      <td>T18</td>\n",
       "      <td>Max Homa</td>\n",
       "      <td>E</td>\n",
       "      <td>E</td>\n",
       "      <td>F</td>\n",
       "      <td>70</td>\n",
       "      <td>--</td>\n",
       "      <td>--</td>\n",
       "      <td>--</td>\n",
       "      <td>70</td>\n",
       "      <td>401056552</td>\n",
       "      <td>0</td>\n",
       "      <td>0</td>\n",
       "      <td>0</td>\n",
       "      <td>0</td>\n",
       "      <td>2019-05-16 13:52:04.354189</td>\n",
       "    </tr>\n",
       "    <tr>\n",
       "      <th>21</th>\n",
       "      <td>T18</td>\n",
       "      <td>David Lipsky</td>\n",
       "      <td>E</td>\n",
       "      <td>E</td>\n",
       "      <td>F</td>\n",
       "      <td>70</td>\n",
       "      <td>--</td>\n",
       "      <td>--</td>\n",
       "      <td>--</td>\n",
       "      <td>70</td>\n",
       "      <td>401056552</td>\n",
       "      <td>0</td>\n",
       "      <td>0</td>\n",
       "      <td>0</td>\n",
       "      <td>0</td>\n",
       "      <td>2019-05-16 13:52:04.354189</td>\n",
       "    </tr>\n",
       "    <tr>\n",
       "      <th>22</th>\n",
       "      <td>T18</td>\n",
       "      <td>Erik van Rooyen</td>\n",
       "      <td>E</td>\n",
       "      <td>E</td>\n",
       "      <td>F</td>\n",
       "      <td>70</td>\n",
       "      <td>--</td>\n",
       "      <td>--</td>\n",
       "      <td>--</td>\n",
       "      <td>70</td>\n",
       "      <td>401056552</td>\n",
       "      <td>0</td>\n",
       "      <td>0</td>\n",
       "      <td>0</td>\n",
       "      <td>0</td>\n",
       "      <td>2019-05-16 13:52:04.354189</td>\n",
       "    </tr>\n",
       "    <tr>\n",
       "      <th>23</th>\n",
       "      <td>T18</td>\n",
       "      <td>Jimmy Walker</td>\n",
       "      <td>E</td>\n",
       "      <td>E</td>\n",
       "      <td>F</td>\n",
       "      <td>70</td>\n",
       "      <td>--</td>\n",
       "      <td>--</td>\n",
       "      <td>--</td>\n",
       "      <td>70</td>\n",
       "      <td>401056552</td>\n",
       "      <td>0</td>\n",
       "      <td>0</td>\n",
       "      <td>0</td>\n",
       "      <td>1</td>\n",
       "      <td>2019-05-16 13:52:04.354189</td>\n",
       "    </tr>\n",
       "    <tr>\n",
       "      <th>24</th>\n",
       "      <td>T18</td>\n",
       "      <td>Graeme McDowell</td>\n",
       "      <td>E</td>\n",
       "      <td>E</td>\n",
       "      <td>F</td>\n",
       "      <td>70</td>\n",
       "      <td>--</td>\n",
       "      <td>--</td>\n",
       "      <td>--</td>\n",
       "      <td>70</td>\n",
       "      <td>401056552</td>\n",
       "      <td>0</td>\n",
       "      <td>0</td>\n",
       "      <td>0</td>\n",
       "      <td>0</td>\n",
       "      <td>2019-05-16 13:52:04.354189</td>\n",
       "    </tr>\n",
       "    <tr>\n",
       "      <th>25</th>\n",
       "      <td>T18</td>\n",
       "      <td>Louis Oosthuizen</td>\n",
       "      <td>E</td>\n",
       "      <td>E</td>\n",
       "      <td>F</td>\n",
       "      <td>70</td>\n",
       "      <td>--</td>\n",
       "      <td>--</td>\n",
       "      <td>--</td>\n",
       "      <td>70</td>\n",
       "      <td>401056552</td>\n",
       "      <td>0</td>\n",
       "      <td>0</td>\n",
       "      <td>0</td>\n",
       "      <td>1</td>\n",
       "      <td>2019-05-16 13:52:04.354189</td>\n",
       "    </tr>\n",
       "    <tr>\n",
       "      <th>26</th>\n",
       "      <td>T18</td>\n",
       "      <td>Justin Rose</td>\n",
       "      <td>E</td>\n",
       "      <td>E</td>\n",
       "      <td>F</td>\n",
       "      <td>70</td>\n",
       "      <td>--</td>\n",
       "      <td>--</td>\n",
       "      <td>--</td>\n",
       "      <td>70</td>\n",
       "      <td>401056552</td>\n",
       "      <td>0</td>\n",
       "      <td>0</td>\n",
       "      <td>0</td>\n",
       "      <td>1</td>\n",
       "      <td>2019-05-16 13:52:04.354189</td>\n",
       "    </tr>\n",
       "    <tr>\n",
       "      <th>27</th>\n",
       "      <td>T18</td>\n",
       "      <td>Xander Schauffele</td>\n",
       "      <td>E</td>\n",
       "      <td>E</td>\n",
       "      <td>F</td>\n",
       "      <td>70</td>\n",
       "      <td>--</td>\n",
       "      <td>--</td>\n",
       "      <td>--</td>\n",
       "      <td>70</td>\n",
       "      <td>401056552</td>\n",
       "      <td>0</td>\n",
       "      <td>0</td>\n",
       "      <td>0</td>\n",
       "      <td>0</td>\n",
       "      <td>2019-05-16 13:52:04.354189</td>\n",
       "    </tr>\n",
       "    <tr>\n",
       "      <th>28</th>\n",
       "      <td>T18</td>\n",
       "      <td>Hideki Matsuyama</td>\n",
       "      <td>E</td>\n",
       "      <td>E</td>\n",
       "      <td>F</td>\n",
       "      <td>70</td>\n",
       "      <td>--</td>\n",
       "      <td>--</td>\n",
       "      <td>--</td>\n",
       "      <td>70</td>\n",
       "      <td>401056552</td>\n",
       "      <td>0</td>\n",
       "      <td>0</td>\n",
       "      <td>0</td>\n",
       "      <td>2</td>\n",
       "      <td>2019-05-16 13:52:04.354189</td>\n",
       "    </tr>\n",
       "    <tr>\n",
       "      <th>29</th>\n",
       "      <td>T18</td>\n",
       "      <td>Aaron Wise</td>\n",
       "      <td>E</td>\n",
       "      <td>E</td>\n",
       "      <td>F</td>\n",
       "      <td>70</td>\n",
       "      <td>--</td>\n",
       "      <td>--</td>\n",
       "      <td>--</td>\n",
       "      <td>70</td>\n",
       "      <td>401056552</td>\n",
       "      <td>0</td>\n",
       "      <td>0</td>\n",
       "      <td>0</td>\n",
       "      <td>0</td>\n",
       "      <td>2019-05-16 13:52:04.354189</td>\n",
       "    </tr>\n",
       "    <tr>\n",
       "      <th>...</th>\n",
       "      <td>...</td>\n",
       "      <td>...</td>\n",
       "      <td>...</td>\n",
       "      <td>...</td>\n",
       "      <td>...</td>\n",
       "      <td>...</td>\n",
       "      <td>...</td>\n",
       "      <td>...</td>\n",
       "      <td>...</td>\n",
       "      <td>...</td>\n",
       "      <td>...</td>\n",
       "      <td>...</td>\n",
       "      <td>...</td>\n",
       "      <td>...</td>\n",
       "      <td>...</td>\n",
       "      <td>...</td>\n",
       "    </tr>\n",
       "    <tr>\n",
       "      <th>126</th>\n",
       "      <td>-</td>\n",
       "      <td>Jason Day</td>\n",
       "      <td>E</td>\n",
       "      <td>-</td>\n",
       "      <td>1:38 PM</td>\n",
       "      <td>--</td>\n",
       "      <td>--</td>\n",
       "      <td>--</td>\n",
       "      <td>--</td>\n",
       "      <td>--</td>\n",
       "      <td>401056552</td>\n",
       "      <td>0</td>\n",
       "      <td>0</td>\n",
       "      <td>0</td>\n",
       "      <td>7</td>\n",
       "      <td>2019-05-16 13:52:04.354189</td>\n",
       "    </tr>\n",
       "    <tr>\n",
       "      <th>127</th>\n",
       "      <td>-</td>\n",
       "      <td>Rory McIlroy</td>\n",
       "      <td>E</td>\n",
       "      <td>-</td>\n",
       "      <td>1:38 PM</td>\n",
       "      <td>--</td>\n",
       "      <td>--</td>\n",
       "      <td>--</td>\n",
       "      <td>--</td>\n",
       "      <td>--</td>\n",
       "      <td>401056552</td>\n",
       "      <td>0</td>\n",
       "      <td>0</td>\n",
       "      <td>0</td>\n",
       "      <td>2</td>\n",
       "      <td>2019-05-16 13:52:04.354189</td>\n",
       "    </tr>\n",
       "    <tr>\n",
       "      <th>128</th>\n",
       "      <td>-</td>\n",
       "      <td>Phil Mickelson</td>\n",
       "      <td>E</td>\n",
       "      <td>-</td>\n",
       "      <td>1:38 PM</td>\n",
       "      <td>--</td>\n",
       "      <td>--</td>\n",
       "      <td>--</td>\n",
       "      <td>--</td>\n",
       "      <td>--</td>\n",
       "      <td>401056552</td>\n",
       "      <td>0</td>\n",
       "      <td>0</td>\n",
       "      <td>0</td>\n",
       "      <td>3</td>\n",
       "      <td>2019-05-16 13:52:04.354189</td>\n",
       "    </tr>\n",
       "    <tr>\n",
       "      <th>129</th>\n",
       "      <td>-</td>\n",
       "      <td>Danny Willett</td>\n",
       "      <td>E</td>\n",
       "      <td>-</td>\n",
       "      <td>1:38 PM</td>\n",
       "      <td>--</td>\n",
       "      <td>--</td>\n",
       "      <td>--</td>\n",
       "      <td>--</td>\n",
       "      <td>--</td>\n",
       "      <td>401056552</td>\n",
       "      <td>0</td>\n",
       "      <td>0</td>\n",
       "      <td>0</td>\n",
       "      <td>0</td>\n",
       "      <td>2019-05-16 13:52:04.354189</td>\n",
       "    </tr>\n",
       "    <tr>\n",
       "      <th>130</th>\n",
       "      <td>-</td>\n",
       "      <td>Webb Simpson</td>\n",
       "      <td>E</td>\n",
       "      <td>-</td>\n",
       "      <td>1:38 PM</td>\n",
       "      <td>--</td>\n",
       "      <td>--</td>\n",
       "      <td>--</td>\n",
       "      <td>--</td>\n",
       "      <td>--</td>\n",
       "      <td>401056552</td>\n",
       "      <td>0</td>\n",
       "      <td>0</td>\n",
       "      <td>0</td>\n",
       "      <td>1</td>\n",
       "      <td>2019-05-16 13:52:04.354189</td>\n",
       "    </tr>\n",
       "    <tr>\n",
       "      <th>131</th>\n",
       "      <td>-</td>\n",
       "      <td>Zach Johnson</td>\n",
       "      <td>E</td>\n",
       "      <td>-</td>\n",
       "      <td>1:38 PM</td>\n",
       "      <td>--</td>\n",
       "      <td>--</td>\n",
       "      <td>--</td>\n",
       "      <td>--</td>\n",
       "      <td>--</td>\n",
       "      <td>401056552</td>\n",
       "      <td>0</td>\n",
       "      <td>0</td>\n",
       "      <td>0</td>\n",
       "      <td>0</td>\n",
       "      <td>2019-05-16 13:52:04.354189</td>\n",
       "    </tr>\n",
       "    <tr>\n",
       "      <th>132</th>\n",
       "      <td>-</td>\n",
       "      <td>Matt Kuchar</td>\n",
       "      <td>E</td>\n",
       "      <td>-</td>\n",
       "      <td>1:49 PM</td>\n",
       "      <td>--</td>\n",
       "      <td>--</td>\n",
       "      <td>--</td>\n",
       "      <td>--</td>\n",
       "      <td>--</td>\n",
       "      <td>401056552</td>\n",
       "      <td>0</td>\n",
       "      <td>0</td>\n",
       "      <td>0</td>\n",
       "      <td>5</td>\n",
       "      <td>2019-05-16 13:52:04.354189</td>\n",
       "    </tr>\n",
       "    <tr>\n",
       "      <th>133</th>\n",
       "      <td>-</td>\n",
       "      <td>Satoshi Kodaira</td>\n",
       "      <td>E</td>\n",
       "      <td>-</td>\n",
       "      <td>1:49 PM</td>\n",
       "      <td>--</td>\n",
       "      <td>--</td>\n",
       "      <td>--</td>\n",
       "      <td>--</td>\n",
       "      <td>--</td>\n",
       "      <td>401056552</td>\n",
       "      <td>0</td>\n",
       "      <td>0</td>\n",
       "      <td>0</td>\n",
       "      <td>0</td>\n",
       "      <td>2019-05-16 13:52:04.354189</td>\n",
       "    </tr>\n",
       "    <tr>\n",
       "      <th>134</th>\n",
       "      <td>-</td>\n",
       "      <td>Cameron Smith</td>\n",
       "      <td>E</td>\n",
       "      <td>-</td>\n",
       "      <td>1:49 PM</td>\n",
       "      <td>--</td>\n",
       "      <td>--</td>\n",
       "      <td>--</td>\n",
       "      <td>--</td>\n",
       "      <td>--</td>\n",
       "      <td>401056552</td>\n",
       "      <td>0</td>\n",
       "      <td>0</td>\n",
       "      <td>0</td>\n",
       "      <td>0</td>\n",
       "      <td>2019-05-16 13:52:04.354189</td>\n",
       "    </tr>\n",
       "    <tr>\n",
       "      <th>135</th>\n",
       "      <td>-</td>\n",
       "      <td>Kevin Tway</td>\n",
       "      <td>E</td>\n",
       "      <td>-</td>\n",
       "      <td>1:49 PM</td>\n",
       "      <td>--</td>\n",
       "      <td>--</td>\n",
       "      <td>--</td>\n",
       "      <td>--</td>\n",
       "      <td>--</td>\n",
       "      <td>401056552</td>\n",
       "      <td>0</td>\n",
       "      <td>0</td>\n",
       "      <td>0</td>\n",
       "      <td>0</td>\n",
       "      <td>2019-05-16 13:52:04.354189</td>\n",
       "    </tr>\n",
       "    <tr>\n",
       "      <th>136</th>\n",
       "      <td>-</td>\n",
       "      <td>Bronson Burgoon</td>\n",
       "      <td>E</td>\n",
       "      <td>-</td>\n",
       "      <td>1:49 PM</td>\n",
       "      <td>--</td>\n",
       "      <td>--</td>\n",
       "      <td>--</td>\n",
       "      <td>--</td>\n",
       "      <td>--</td>\n",
       "      <td>401056552</td>\n",
       "      <td>0</td>\n",
       "      <td>0</td>\n",
       "      <td>0</td>\n",
       "      <td>0</td>\n",
       "      <td>2019-05-16 13:52:04.354189</td>\n",
       "    </tr>\n",
       "    <tr>\n",
       "      <th>137</th>\n",
       "      <td>-</td>\n",
       "      <td>Brandon Stone</td>\n",
       "      <td>E</td>\n",
       "      <td>-</td>\n",
       "      <td>1:49 PM</td>\n",
       "      <td>--</td>\n",
       "      <td>--</td>\n",
       "      <td>--</td>\n",
       "      <td>--</td>\n",
       "      <td>--</td>\n",
       "      <td>401056552</td>\n",
       "      <td>0</td>\n",
       "      <td>0</td>\n",
       "      <td>0</td>\n",
       "      <td>0</td>\n",
       "      <td>2019-05-16 13:52:04.354189</td>\n",
       "    </tr>\n",
       "    <tr>\n",
       "      <th>138</th>\n",
       "      <td>-</td>\n",
       "      <td>Corey Conners</td>\n",
       "      <td>E</td>\n",
       "      <td>-</td>\n",
       "      <td>2:00 PM</td>\n",
       "      <td>--</td>\n",
       "      <td>--</td>\n",
       "      <td>--</td>\n",
       "      <td>--</td>\n",
       "      <td>--</td>\n",
       "      <td>401056552</td>\n",
       "      <td>0</td>\n",
       "      <td>0</td>\n",
       "      <td>0</td>\n",
       "      <td>0</td>\n",
       "      <td>2019-05-16 13:52:04.354189</td>\n",
       "    </tr>\n",
       "    <tr>\n",
       "      <th>139</th>\n",
       "      <td>-</td>\n",
       "      <td>Marc Leishman</td>\n",
       "      <td>E</td>\n",
       "      <td>-</td>\n",
       "      <td>2:00 PM</td>\n",
       "      <td>--</td>\n",
       "      <td>--</td>\n",
       "      <td>--</td>\n",
       "      <td>--</td>\n",
       "      <td>--</td>\n",
       "      <td>401056552</td>\n",
       "      <td>0</td>\n",
       "      <td>0</td>\n",
       "      <td>0</td>\n",
       "      <td>2</td>\n",
       "      <td>2019-05-16 13:52:04.354189</td>\n",
       "    </tr>\n",
       "    <tr>\n",
       "      <th>140</th>\n",
       "      <td>-</td>\n",
       "      <td>Jim Furyk</td>\n",
       "      <td>E</td>\n",
       "      <td>-</td>\n",
       "      <td>2:00 PM</td>\n",
       "      <td>--</td>\n",
       "      <td>--</td>\n",
       "      <td>--</td>\n",
       "      <td>--</td>\n",
       "      <td>--</td>\n",
       "      <td>401056552</td>\n",
       "      <td>0</td>\n",
       "      <td>0</td>\n",
       "      <td>0</td>\n",
       "      <td>0</td>\n",
       "      <td>2019-05-16 13:52:04.354189</td>\n",
       "    </tr>\n",
       "    <tr>\n",
       "      <th>141</th>\n",
       "      <td>-</td>\n",
       "      <td>Danny Balin</td>\n",
       "      <td>E</td>\n",
       "      <td>-</td>\n",
       "      <td>2:00 PM</td>\n",
       "      <td>--</td>\n",
       "      <td>--</td>\n",
       "      <td>--</td>\n",
       "      <td>--</td>\n",
       "      <td>--</td>\n",
       "      <td>401056552</td>\n",
       "      <td>0</td>\n",
       "      <td>0</td>\n",
       "      <td>0</td>\n",
       "      <td>0</td>\n",
       "      <td>2019-05-16 13:52:04.354189</td>\n",
       "    </tr>\n",
       "    <tr>\n",
       "      <th>142</th>\n",
       "      <td>-</td>\n",
       "      <td>Si Woo Kim</td>\n",
       "      <td>E</td>\n",
       "      <td>-</td>\n",
       "      <td>2:00 PM</td>\n",
       "      <td>--</td>\n",
       "      <td>--</td>\n",
       "      <td>--</td>\n",
       "      <td>--</td>\n",
       "      <td>--</td>\n",
       "      <td>401056552</td>\n",
       "      <td>0</td>\n",
       "      <td>0</td>\n",
       "      <td>0</td>\n",
       "      <td>0</td>\n",
       "      <td>2019-05-16 13:52:04.354189</td>\n",
       "    </tr>\n",
       "    <tr>\n",
       "      <th>143</th>\n",
       "      <td>-</td>\n",
       "      <td>Tom Lewis</td>\n",
       "      <td>E</td>\n",
       "      <td>-</td>\n",
       "      <td>2:00 PM</td>\n",
       "      <td>--</td>\n",
       "      <td>--</td>\n",
       "      <td>--</td>\n",
       "      <td>--</td>\n",
       "      <td>--</td>\n",
       "      <td>401056552</td>\n",
       "      <td>0</td>\n",
       "      <td>0</td>\n",
       "      <td>0</td>\n",
       "      <td>0</td>\n",
       "      <td>2019-05-16 13:52:04.354189</td>\n",
       "    </tr>\n",
       "    <tr>\n",
       "      <th>144</th>\n",
       "      <td>-</td>\n",
       "      <td>Stuart Deane</td>\n",
       "      <td>E</td>\n",
       "      <td>-</td>\n",
       "      <td>2:11 PM</td>\n",
       "      <td>--</td>\n",
       "      <td>--</td>\n",
       "      <td>--</td>\n",
       "      <td>--</td>\n",
       "      <td>--</td>\n",
       "      <td>401056552</td>\n",
       "      <td>0</td>\n",
       "      <td>0</td>\n",
       "      <td>0</td>\n",
       "      <td>0</td>\n",
       "      <td>2019-05-16 13:52:04.354189</td>\n",
       "    </tr>\n",
       "    <tr>\n",
       "      <th>145</th>\n",
       "      <td>-</td>\n",
       "      <td>Chesson Hadley</td>\n",
       "      <td>E</td>\n",
       "      <td>-</td>\n",
       "      <td>2:11 PM</td>\n",
       "      <td>--</td>\n",
       "      <td>--</td>\n",
       "      <td>--</td>\n",
       "      <td>--</td>\n",
       "      <td>--</td>\n",
       "      <td>401056552</td>\n",
       "      <td>0</td>\n",
       "      <td>0</td>\n",
       "      <td>0</td>\n",
       "      <td>0</td>\n",
       "      <td>2019-05-16 13:52:04.354189</td>\n",
       "    </tr>\n",
       "    <tr>\n",
       "      <th>146</th>\n",
       "      <td>-</td>\n",
       "      <td>Jorge Campillo</td>\n",
       "      <td>E</td>\n",
       "      <td>-</td>\n",
       "      <td>2:11 PM</td>\n",
       "      <td>--</td>\n",
       "      <td>--</td>\n",
       "      <td>--</td>\n",
       "      <td>--</td>\n",
       "      <td>--</td>\n",
       "      <td>401056552</td>\n",
       "      <td>0</td>\n",
       "      <td>0</td>\n",
       "      <td>0</td>\n",
       "      <td>0</td>\n",
       "      <td>2019-05-16 13:52:04.354189</td>\n",
       "    </tr>\n",
       "    <tr>\n",
       "      <th>147</th>\n",
       "      <td>-</td>\n",
       "      <td>Tyler Hall</td>\n",
       "      <td>E</td>\n",
       "      <td>-</td>\n",
       "      <td>2:11 PM</td>\n",
       "      <td>--</td>\n",
       "      <td>--</td>\n",
       "      <td>--</td>\n",
       "      <td>--</td>\n",
       "      <td>--</td>\n",
       "      <td>401056552</td>\n",
       "      <td>0</td>\n",
       "      <td>0</td>\n",
       "      <td>0</td>\n",
       "      <td>0</td>\n",
       "      <td>2019-05-16 13:52:04.354189</td>\n",
       "    </tr>\n",
       "    <tr>\n",
       "      <th>148</th>\n",
       "      <td>-</td>\n",
       "      <td>Michael Kim</td>\n",
       "      <td>E</td>\n",
       "      <td>-</td>\n",
       "      <td>2:11 PM</td>\n",
       "      <td>--</td>\n",
       "      <td>--</td>\n",
       "      <td>--</td>\n",
       "      <td>--</td>\n",
       "      <td>--</td>\n",
       "      <td>401056552</td>\n",
       "      <td>0</td>\n",
       "      <td>0</td>\n",
       "      <td>0</td>\n",
       "      <td>0</td>\n",
       "      <td>2019-05-16 13:52:04.354189</td>\n",
       "    </tr>\n",
       "    <tr>\n",
       "      <th>149</th>\n",
       "      <td>-</td>\n",
       "      <td>Jazz Janewattananond</td>\n",
       "      <td>E</td>\n",
       "      <td>-</td>\n",
       "      <td>2:11 PM</td>\n",
       "      <td>--</td>\n",
       "      <td>--</td>\n",
       "      <td>--</td>\n",
       "      <td>--</td>\n",
       "      <td>--</td>\n",
       "      <td>401056552</td>\n",
       "      <td>0</td>\n",
       "      <td>0</td>\n",
       "      <td>0</td>\n",
       "      <td>0</td>\n",
       "      <td>2019-05-16 13:52:04.354189</td>\n",
       "    </tr>\n",
       "    <tr>\n",
       "      <th>150</th>\n",
       "      <td>-</td>\n",
       "      <td>Kurt Kitayama</td>\n",
       "      <td>E</td>\n",
       "      <td>-</td>\n",
       "      <td>2:22 PM</td>\n",
       "      <td>--</td>\n",
       "      <td>--</td>\n",
       "      <td>--</td>\n",
       "      <td>--</td>\n",
       "      <td>--</td>\n",
       "      <td>401056552</td>\n",
       "      <td>0</td>\n",
       "      <td>0</td>\n",
       "      <td>0</td>\n",
       "      <td>0</td>\n",
       "      <td>2019-05-16 13:52:04.354189</td>\n",
       "    </tr>\n",
       "    <tr>\n",
       "      <th>151</th>\n",
       "      <td>-</td>\n",
       "      <td>Dylan Frittelli</td>\n",
       "      <td>E</td>\n",
       "      <td>-</td>\n",
       "      <td>2:22 PM</td>\n",
       "      <td>--</td>\n",
       "      <td>--</td>\n",
       "      <td>--</td>\n",
       "      <td>--</td>\n",
       "      <td>--</td>\n",
       "      <td>401056552</td>\n",
       "      <td>0</td>\n",
       "      <td>0</td>\n",
       "      <td>0</td>\n",
       "      <td>0</td>\n",
       "      <td>2019-05-16 13:52:04.354189</td>\n",
       "    </tr>\n",
       "    <tr>\n",
       "      <th>152</th>\n",
       "      <td>-</td>\n",
       "      <td>Andrew Filbert</td>\n",
       "      <td>E</td>\n",
       "      <td>-</td>\n",
       "      <td>2:22 PM</td>\n",
       "      <td>--</td>\n",
       "      <td>--</td>\n",
       "      <td>--</td>\n",
       "      <td>--</td>\n",
       "      <td>--</td>\n",
       "      <td>401056552</td>\n",
       "      <td>0</td>\n",
       "      <td>0</td>\n",
       "      <td>0</td>\n",
       "      <td>0</td>\n",
       "      <td>2019-05-16 13:52:04.354189</td>\n",
       "    </tr>\n",
       "    <tr>\n",
       "      <th>153</th>\n",
       "      <td>-</td>\n",
       "      <td>Craig Hocknull</td>\n",
       "      <td>E</td>\n",
       "      <td>-</td>\n",
       "      <td>2:22 PM</td>\n",
       "      <td>--</td>\n",
       "      <td>--</td>\n",
       "      <td>--</td>\n",
       "      <td>--</td>\n",
       "      <td>--</td>\n",
       "      <td>401056552</td>\n",
       "      <td>0</td>\n",
       "      <td>0</td>\n",
       "      <td>0</td>\n",
       "      <td>0</td>\n",
       "      <td>2019-05-16 13:52:04.354189</td>\n",
       "    </tr>\n",
       "    <tr>\n",
       "      <th>154</th>\n",
       "      <td>-</td>\n",
       "      <td>Mikko Korhonen</td>\n",
       "      <td>E</td>\n",
       "      <td>-</td>\n",
       "      <td>2:22 PM</td>\n",
       "      <td>--</td>\n",
       "      <td>--</td>\n",
       "      <td>--</td>\n",
       "      <td>--</td>\n",
       "      <td>--</td>\n",
       "      <td>401056552</td>\n",
       "      <td>0</td>\n",
       "      <td>0</td>\n",
       "      <td>0</td>\n",
       "      <td>0</td>\n",
       "      <td>2019-05-16 13:52:04.354189</td>\n",
       "    </tr>\n",
       "    <tr>\n",
       "      <th>155</th>\n",
       "      <td>-</td>\n",
       "      <td>Jhonattan Vegas</td>\n",
       "      <td>E</td>\n",
       "      <td>-</td>\n",
       "      <td>2:22 PM</td>\n",
       "      <td>--</td>\n",
       "      <td>--</td>\n",
       "      <td>--</td>\n",
       "      <td>--</td>\n",
       "      <td>--</td>\n",
       "      <td>401056552</td>\n",
       "      <td>0</td>\n",
       "      <td>0</td>\n",
       "      <td>0</td>\n",
       "      <td>0</td>\n",
       "      <td>2019-05-16 13:52:04.354189</td>\n",
       "    </tr>\n",
       "  </tbody>\n",
       "</table>\n",
       "<p>156 rows × 16 columns</p>\n",
       "</div>"
      ],
      "text/plain": [
       "     pos                player to_par today     thru  r1  r2  r3  r4 tot  \\\n",
       "0      1         Brooks Koepka     -7    -7        F  63  --  --  --  63   \n",
       "1      2       Tommy Fleetwood     -3    -3        F  67  --  --  --  67   \n",
       "2     T3     Mike Lorenzo-Vera     -2    -2        F  68  --  --  --  68   \n",
       "3     T3           Chez Reavie     -2    -2        F  68  --  --  --  68   \n",
       "4     T3             Luke List     -2    -2        F  68  --  --  --  68   \n",
       "5     T3            Paul Casey     -2    -2        4  --  --  --  --  --   \n",
       "6     T3            Tony Finau     -2    -2        4  --  --  --  --  --   \n",
       "7     T8         Rickie Fowler     -1    -1        F  69  --  --  --  69   \n",
       "8     T8          Matt Wallace     -1    -1        F  69  --  --  --  69   \n",
       "9     T8             Danny Lee     -1    -1        6  --  --  --  --  --   \n",
       "10    T8          Ryan Vermeer     -1    -1        6  --  --  --  --  --   \n",
       "11    T8         Daniel Berger     -1    -1        4  --  --  --  --  --   \n",
       "12    T8           Ian Poulter     -1    -1        4  --  --  --  --  --   \n",
       "13    T8        Billy Horschel     -1    -1        4  --  --  --  --  --   \n",
       "14    T8         Gary Woodland     -1    -1        3  --  --  --  --  --   \n",
       "15    T8         Martin Kaymer     -1    -1        2  --  --  --  --  --   \n",
       "16    T8              Jon Rahm     -1    -1        2  --  --  --  --  --   \n",
       "17   T18             Sam Burns      E     E        F  70  --  --  --  70   \n",
       "18   T18        Patton Kizzire      E     E        F  70  --  --  --  70   \n",
       "19   T18           Jason Caron      E     E        F  70  --  --  --  70   \n",
       "20   T18              Max Homa      E     E        F  70  --  --  --  70   \n",
       "21   T18          David Lipsky      E     E        F  70  --  --  --  70   \n",
       "22   T18       Erik van Rooyen      E     E        F  70  --  --  --  70   \n",
       "23   T18          Jimmy Walker      E     E        F  70  --  --  --  70   \n",
       "24   T18       Graeme McDowell      E     E        F  70  --  --  --  70   \n",
       "25   T18      Louis Oosthuizen      E     E        F  70  --  --  --  70   \n",
       "26   T18           Justin Rose      E     E        F  70  --  --  --  70   \n",
       "27   T18     Xander Schauffele      E     E        F  70  --  --  --  70   \n",
       "28   T18      Hideki Matsuyama      E     E        F  70  --  --  --  70   \n",
       "29   T18            Aaron Wise      E     E        F  70  --  --  --  70   \n",
       "..   ...                   ...    ...   ...      ...  ..  ..  ..  ..  ..   \n",
       "126    -             Jason Day      E     -  1:38 PM  --  --  --  --  --   \n",
       "127    -          Rory McIlroy      E     -  1:38 PM  --  --  --  --  --   \n",
       "128    -        Phil Mickelson      E     -  1:38 PM  --  --  --  --  --   \n",
       "129    -         Danny Willett      E     -  1:38 PM  --  --  --  --  --   \n",
       "130    -          Webb Simpson      E     -  1:38 PM  --  --  --  --  --   \n",
       "131    -          Zach Johnson      E     -  1:38 PM  --  --  --  --  --   \n",
       "132    -           Matt Kuchar      E     -  1:49 PM  --  --  --  --  --   \n",
       "133    -       Satoshi Kodaira      E     -  1:49 PM  --  --  --  --  --   \n",
       "134    -         Cameron Smith      E     -  1:49 PM  --  --  --  --  --   \n",
       "135    -            Kevin Tway      E     -  1:49 PM  --  --  --  --  --   \n",
       "136    -       Bronson Burgoon      E     -  1:49 PM  --  --  --  --  --   \n",
       "137    -         Brandon Stone      E     -  1:49 PM  --  --  --  --  --   \n",
       "138    -         Corey Conners      E     -  2:00 PM  --  --  --  --  --   \n",
       "139    -         Marc Leishman      E     -  2:00 PM  --  --  --  --  --   \n",
       "140    -             Jim Furyk      E     -  2:00 PM  --  --  --  --  --   \n",
       "141    -           Danny Balin      E     -  2:00 PM  --  --  --  --  --   \n",
       "142    -            Si Woo Kim      E     -  2:00 PM  --  --  --  --  --   \n",
       "143    -             Tom Lewis      E     -  2:00 PM  --  --  --  --  --   \n",
       "144    -          Stuart Deane      E     -  2:11 PM  --  --  --  --  --   \n",
       "145    -        Chesson Hadley      E     -  2:11 PM  --  --  --  --  --   \n",
       "146    -        Jorge Campillo      E     -  2:11 PM  --  --  --  --  --   \n",
       "147    -            Tyler Hall      E     -  2:11 PM  --  --  --  --  --   \n",
       "148    -           Michael Kim      E     -  2:11 PM  --  --  --  --  --   \n",
       "149    -  Jazz Janewattananond      E     -  2:11 PM  --  --  --  --  --   \n",
       "150    -         Kurt Kitayama      E     -  2:22 PM  --  --  --  --  --   \n",
       "151    -       Dylan Frittelli      E     -  2:22 PM  --  --  --  --  --   \n",
       "152    -        Andrew Filbert      E     -  2:22 PM  --  --  --  --  --   \n",
       "153    -        Craig Hocknull      E     -  2:22 PM  --  --  --  --  --   \n",
       "154    -        Mikko Korhonen      E     -  2:22 PM  --  --  --  --  --   \n",
       "155    -       Jhonattan Vegas      E     -  2:22 PM  --  --  --  --  --   \n",
       "\n",
       "    tourney_id  donkey_score  missed_cut  player_left  team_count  \\\n",
       "0    401056552            -7           0            0          11   \n",
       "1    401056552            -3           0            0           3   \n",
       "2    401056552            -2           0            0           0   \n",
       "3    401056552            -2           0            0           0   \n",
       "4    401056552            -2           0            0           0   \n",
       "5    401056552            -2           0            1           3   \n",
       "6    401056552            -2           0            1           8   \n",
       "7    401056552            -1           0            0          10   \n",
       "8    401056552            -1           0            0           0   \n",
       "9    401056552            -1           0            1           0   \n",
       "10   401056552            -1           0            1           0   \n",
       "11   401056552            -1           0            1           0   \n",
       "12   401056552            -1           0            1           2   \n",
       "13   401056552            -1           0            1           0   \n",
       "14   401056552            -1           0            1           1   \n",
       "15   401056552            -1           0            1           0   \n",
       "16   401056552            -1           0            1           6   \n",
       "17   401056552             0           0            0           0   \n",
       "18   401056552             0           0            0           0   \n",
       "19   401056552             0           0            0           0   \n",
       "20   401056552             0           0            0           0   \n",
       "21   401056552             0           0            0           0   \n",
       "22   401056552             0           0            0           0   \n",
       "23   401056552             0           0            0           1   \n",
       "24   401056552             0           0            0           0   \n",
       "25   401056552             0           0            0           1   \n",
       "26   401056552             0           0            0           1   \n",
       "27   401056552             0           0            0           0   \n",
       "28   401056552             0           0            0           2   \n",
       "29   401056552             0           0            0           0   \n",
       "..         ...           ...         ...          ...         ...   \n",
       "126  401056552             0           0            0           7   \n",
       "127  401056552             0           0            0           2   \n",
       "128  401056552             0           0            0           3   \n",
       "129  401056552             0           0            0           0   \n",
       "130  401056552             0           0            0           1   \n",
       "131  401056552             0           0            0           0   \n",
       "132  401056552             0           0            0           5   \n",
       "133  401056552             0           0            0           0   \n",
       "134  401056552             0           0            0           0   \n",
       "135  401056552             0           0            0           0   \n",
       "136  401056552             0           0            0           0   \n",
       "137  401056552             0           0            0           0   \n",
       "138  401056552             0           0            0           0   \n",
       "139  401056552             0           0            0           2   \n",
       "140  401056552             0           0            0           0   \n",
       "141  401056552             0           0            0           0   \n",
       "142  401056552             0           0            0           0   \n",
       "143  401056552             0           0            0           0   \n",
       "144  401056552             0           0            0           0   \n",
       "145  401056552             0           0            0           0   \n",
       "146  401056552             0           0            0           0   \n",
       "147  401056552             0           0            0           0   \n",
       "148  401056552             0           0            0           0   \n",
       "149  401056552             0           0            0           0   \n",
       "150  401056552             0           0            0           0   \n",
       "151  401056552             0           0            0           0   \n",
       "152  401056552             0           0            0           0   \n",
       "153  401056552             0           0            0           0   \n",
       "154  401056552             0           0            0           0   \n",
       "155  401056552             0           0            0           0   \n",
       "\n",
       "                     load_date  \n",
       "0   2019-05-16 13:52:04.354189  \n",
       "1   2019-05-16 13:52:04.354189  \n",
       "2   2019-05-16 13:52:04.354189  \n",
       "3   2019-05-16 13:52:04.354189  \n",
       "4   2019-05-16 13:52:04.354189  \n",
       "5   2019-05-16 13:52:04.354189  \n",
       "6   2019-05-16 13:52:04.354189  \n",
       "7   2019-05-16 13:52:04.354189  \n",
       "8   2019-05-16 13:52:04.354189  \n",
       "9   2019-05-16 13:52:04.354189  \n",
       "10  2019-05-16 13:52:04.354189  \n",
       "11  2019-05-16 13:52:04.354189  \n",
       "12  2019-05-16 13:52:04.354189  \n",
       "13  2019-05-16 13:52:04.354189  \n",
       "14  2019-05-16 13:52:04.354189  \n",
       "15  2019-05-16 13:52:04.354189  \n",
       "16  2019-05-16 13:52:04.354189  \n",
       "17  2019-05-16 13:52:04.354189  \n",
       "18  2019-05-16 13:52:04.354189  \n",
       "19  2019-05-16 13:52:04.354189  \n",
       "20  2019-05-16 13:52:04.354189  \n",
       "21  2019-05-16 13:52:04.354189  \n",
       "22  2019-05-16 13:52:04.354189  \n",
       "23  2019-05-16 13:52:04.354189  \n",
       "24  2019-05-16 13:52:04.354189  \n",
       "25  2019-05-16 13:52:04.354189  \n",
       "26  2019-05-16 13:52:04.354189  \n",
       "27  2019-05-16 13:52:04.354189  \n",
       "28  2019-05-16 13:52:04.354189  \n",
       "29  2019-05-16 13:52:04.354189  \n",
       "..                         ...  \n",
       "126 2019-05-16 13:52:04.354189  \n",
       "127 2019-05-16 13:52:04.354189  \n",
       "128 2019-05-16 13:52:04.354189  \n",
       "129 2019-05-16 13:52:04.354189  \n",
       "130 2019-05-16 13:52:04.354189  \n",
       "131 2019-05-16 13:52:04.354189  \n",
       "132 2019-05-16 13:52:04.354189  \n",
       "133 2019-05-16 13:52:04.354189  \n",
       "134 2019-05-16 13:52:04.354189  \n",
       "135 2019-05-16 13:52:04.354189  \n",
       "136 2019-05-16 13:52:04.354189  \n",
       "137 2019-05-16 13:52:04.354189  \n",
       "138 2019-05-16 13:52:04.354189  \n",
       "139 2019-05-16 13:52:04.354189  \n",
       "140 2019-05-16 13:52:04.354189  \n",
       "141 2019-05-16 13:52:04.354189  \n",
       "142 2019-05-16 13:52:04.354189  \n",
       "143 2019-05-16 13:52:04.354189  \n",
       "144 2019-05-16 13:52:04.354189  \n",
       "145 2019-05-16 13:52:04.354189  \n",
       "146 2019-05-16 13:52:04.354189  \n",
       "147 2019-05-16 13:52:04.354189  \n",
       "148 2019-05-16 13:52:04.354189  \n",
       "149 2019-05-16 13:52:04.354189  \n",
       "150 2019-05-16 13:52:04.354189  \n",
       "151 2019-05-16 13:52:04.354189  \n",
       "152 2019-05-16 13:52:04.354189  \n",
       "153 2019-05-16 13:52:04.354189  \n",
       "154 2019-05-16 13:52:04.354189  \n",
       "155 2019-05-16 13:52:04.354189  \n",
       "\n",
       "[156 rows x 16 columns]"
      ]
     },
     "execution_count": 9,
     "metadata": {},
     "output_type": "execute_result"
    }
   ],
   "source": [
    "lb.data"
   ]
  },
  {
   "cell_type": "code",
   "execution_count": 10,
   "metadata": {},
   "outputs": [
    {
     "name": "stderr",
     "output_type": "stream",
     "text": [
      "2019-05-16 16:41:25,002 - donkey_golf.data_things.base_class - DEBUG - ABOUT TO SET yaml_sql_dict\n",
      "2019-05-16 16:41:25,017 - donkey_golf.data_things.base_class - INFO - Executing run_sql\n",
      "2019-05-16 16:41:25,371 - donkey_golf.data_things.base_class - INFO - Current tourney ID: 401056552\n",
      "2019-05-16 16:41:25,373 - donkey_golf.data_things.base_class - INFO - Executing run_sql\n"
     ]
    }
   ],
   "source": [
    "wha = DT.TeamPlayerResults()"
   ]
  },
  {
   "cell_type": "code",
   "execution_count": 11,
   "metadata": {},
   "outputs": [
    {
     "name": "stderr",
     "output_type": "stream",
     "text": [
      "2019-05-16 16:41:30,535 - donkey_golf.data_things.team_player_results - INFO - Pulling full team results by player\n",
      "2019-05-16 16:41:30,537 - donkey_golf.data_things.base_class - INFO - Executing run_sql\n"
     ]
    }
   ],
   "source": [
    "wha.run()"
   ]
  },
  {
   "cell_type": "code",
   "execution_count": 26,
   "metadata": {},
   "outputs": [],
   "source": [
    "team_player_df = wha.data"
   ]
  },
  {
   "cell_type": "code",
   "execution_count": 28,
   "metadata": {},
   "outputs": [],
   "source": [
    "team_player_df = team_player_df.merge(df_sb, how='left', on='id',\n",
    "              suffixes=('_team','_gs'))"
   ]
  },
  {
   "cell_type": "code",
   "execution_count": 35,
   "metadata": {},
   "outputs": [],
   "source": [
    "team_player_df.sort_values('rank', inplace=True)"
   ]
  },
  {
   "cell_type": "code",
   "execution_count": 33,
   "metadata": {},
   "outputs": [
    {
     "data": {
      "text/html": [
       "<div>\n",
       "<style scoped>\n",
       "    .dataframe tbody tr th:only-of-type {\n",
       "        vertical-align: middle;\n",
       "    }\n",
       "\n",
       "    .dataframe tbody tr th {\n",
       "        vertical-align: top;\n",
       "    }\n",
       "\n",
       "    .dataframe thead th {\n",
       "        text-align: right;\n",
       "    }\n",
       "</style>\n",
       "<table border=\"1\" class=\"dataframe\">\n",
       "  <thead>\n",
       "    <tr style=\"text-align: right;\">\n",
       "      <th></th>\n",
       "      <th>id</th>\n",
       "      <th>username_team</th>\n",
       "      <th>pos</th>\n",
       "      <th>player</th>\n",
       "      <th>to_par</th>\n",
       "      <th>today</th>\n",
       "      <th>thru</th>\n",
       "      <th>r1</th>\n",
       "      <th>r2</th>\n",
       "      <th>r3</th>\n",
       "      <th>r4</th>\n",
       "      <th>tot</th>\n",
       "      <th>tourney_id</th>\n",
       "      <th>donkey_score_team</th>\n",
       "      <th>missed_cut_team</th>\n",
       "      <th>player_left_team</th>\n",
       "      <th>team_count</th>\n",
       "      <th>load_date</th>\n",
       "      <th>username_gs</th>\n",
       "      <th>pay_flag</th>\n",
       "      <th>donkey_score_gs</th>\n",
       "      <th>missed_cut_gs</th>\n",
       "      <th>player_left_gs</th>\n",
       "      <th>rank</th>\n",
       "      <th>final_rank</th>\n",
       "    </tr>\n",
       "  </thead>\n",
       "  <tbody>\n",
       "    <tr>\n",
       "      <th>0</th>\n",
       "      <td>27</td>\n",
       "      <td>Geo1630</td>\n",
       "      <td>1</td>\n",
       "      <td>Brooks Koepka</td>\n",
       "      <td>-7</td>\n",
       "      <td>-7</td>\n",
       "      <td>F</td>\n",
       "      <td>63</td>\n",
       "      <td>--</td>\n",
       "      <td>--</td>\n",
       "      <td>--</td>\n",
       "      <td>63</td>\n",
       "      <td>401056552</td>\n",
       "      <td>-7</td>\n",
       "      <td>0</td>\n",
       "      <td>0</td>\n",
       "      <td>11</td>\n",
       "      <td>2019-05-16 20:40:04.435092</td>\n",
       "      <td>Geo1630</td>\n",
       "      <td>Y</td>\n",
       "      <td>-2</td>\n",
       "      <td>0</td>\n",
       "      <td>4</td>\n",
       "      <td>8</td>\n",
       "      <td>8</td>\n",
       "    </tr>\n",
       "    <tr>\n",
       "      <th>24</th>\n",
       "      <td>27</td>\n",
       "      <td>Geo1630</td>\n",
       "      <td>T7</td>\n",
       "      <td>Rickie Fowler</td>\n",
       "      <td>-1</td>\n",
       "      <td>-1</td>\n",
       "      <td>F</td>\n",
       "      <td>69</td>\n",
       "      <td>--</td>\n",
       "      <td>--</td>\n",
       "      <td>--</td>\n",
       "      <td>69</td>\n",
       "      <td>401056552</td>\n",
       "      <td>-1</td>\n",
       "      <td>0</td>\n",
       "      <td>0</td>\n",
       "      <td>10</td>\n",
       "      <td>2019-05-16 20:40:04.435092</td>\n",
       "      <td>Geo1630</td>\n",
       "      <td>Y</td>\n",
       "      <td>-2</td>\n",
       "      <td>0</td>\n",
       "      <td>4</td>\n",
       "      <td>8</td>\n",
       "      <td>8</td>\n",
       "    </tr>\n",
       "    <tr>\n",
       "      <th>36</th>\n",
       "      <td>27</td>\n",
       "      <td>Geo1630</td>\n",
       "      <td>T7</td>\n",
       "      <td>Tony Finau</td>\n",
       "      <td>-1</td>\n",
       "      <td>-1</td>\n",
       "      <td>13</td>\n",
       "      <td>--</td>\n",
       "      <td>--</td>\n",
       "      <td>--</td>\n",
       "      <td>--</td>\n",
       "      <td>--</td>\n",
       "      <td>401056552</td>\n",
       "      <td>-1</td>\n",
       "      <td>0</td>\n",
       "      <td>1</td>\n",
       "      <td>8</td>\n",
       "      <td>2019-05-16 20:40:04.435092</td>\n",
       "      <td>Geo1630</td>\n",
       "      <td>Y</td>\n",
       "      <td>-2</td>\n",
       "      <td>0</td>\n",
       "      <td>4</td>\n",
       "      <td>8</td>\n",
       "      <td>8</td>\n",
       "    </tr>\n",
       "    <tr>\n",
       "      <th>55</th>\n",
       "      <td>27</td>\n",
       "      <td>Geo1630</td>\n",
       "      <td>T16</td>\n",
       "      <td>Jon Rahm</td>\n",
       "      <td>E</td>\n",
       "      <td>E</td>\n",
       "      <td>11</td>\n",
       "      <td>--</td>\n",
       "      <td>--</td>\n",
       "      <td>--</td>\n",
       "      <td>--</td>\n",
       "      <td>--</td>\n",
       "      <td>401056552</td>\n",
       "      <td>0</td>\n",
       "      <td>0</td>\n",
       "      <td>1</td>\n",
       "      <td>6</td>\n",
       "      <td>2019-05-16 20:40:04.435092</td>\n",
       "      <td>Geo1630</td>\n",
       "      <td>Y</td>\n",
       "      <td>-2</td>\n",
       "      <td>0</td>\n",
       "      <td>4</td>\n",
       "      <td>8</td>\n",
       "      <td>8</td>\n",
       "    </tr>\n",
       "    <tr>\n",
       "      <th>56</th>\n",
       "      <td>27</td>\n",
       "      <td>Geo1630</td>\n",
       "      <td>T16</td>\n",
       "      <td>Dustin Johnson</td>\n",
       "      <td>E</td>\n",
       "      <td>E</td>\n",
       "      <td>11</td>\n",
       "      <td>--</td>\n",
       "      <td>--</td>\n",
       "      <td>--</td>\n",
       "      <td>--</td>\n",
       "      <td>--</td>\n",
       "      <td>401056552</td>\n",
       "      <td>0</td>\n",
       "      <td>0</td>\n",
       "      <td>1</td>\n",
       "      <td>4</td>\n",
       "      <td>2019-05-16 20:40:04.435092</td>\n",
       "      <td>Geo1630</td>\n",
       "      <td>Y</td>\n",
       "      <td>-2</td>\n",
       "      <td>0</td>\n",
       "      <td>4</td>\n",
       "      <td>8</td>\n",
       "      <td>8</td>\n",
       "    </tr>\n",
       "    <tr>\n",
       "      <th>62</th>\n",
       "      <td>27</td>\n",
       "      <td>Geo1630</td>\n",
       "      <td>T39</td>\n",
       "      <td>Phil Mickelson</td>\n",
       "      <td>+1</td>\n",
       "      <td>+1</td>\n",
       "      <td>10</td>\n",
       "      <td>--</td>\n",
       "      <td>--</td>\n",
       "      <td>--</td>\n",
       "      <td>--</td>\n",
       "      <td>--</td>\n",
       "      <td>401056552</td>\n",
       "      <td>1</td>\n",
       "      <td>0</td>\n",
       "      <td>1</td>\n",
       "      <td>3</td>\n",
       "      <td>2019-05-16 20:40:04.435092</td>\n",
       "      <td>Geo1630</td>\n",
       "      <td>Y</td>\n",
       "      <td>-2</td>\n",
       "      <td>0</td>\n",
       "      <td>4</td>\n",
       "      <td>8</td>\n",
       "      <td>8</td>\n",
       "    </tr>\n",
       "    <tr>\n",
       "      <th>105</th>\n",
       "      <td>27</td>\n",
       "      <td>Geo1630</td>\n",
       "      <td>T88</td>\n",
       "      <td>Kevin Kisner</td>\n",
       "      <td>+3</td>\n",
       "      <td>+3</td>\n",
       "      <td>10</td>\n",
       "      <td>--</td>\n",
       "      <td>--</td>\n",
       "      <td>--</td>\n",
       "      <td>--</td>\n",
       "      <td>--</td>\n",
       "      <td>401056552</td>\n",
       "      <td>3</td>\n",
       "      <td>0</td>\n",
       "      <td>1</td>\n",
       "      <td>3</td>\n",
       "      <td>2019-05-16 20:40:04.435092</td>\n",
       "      <td>Geo1630</td>\n",
       "      <td>Y</td>\n",
       "      <td>-2</td>\n",
       "      <td>0</td>\n",
       "      <td>4</td>\n",
       "      <td>8</td>\n",
       "      <td>8</td>\n",
       "    </tr>\n",
       "  </tbody>\n",
       "</table>\n",
       "</div>"
      ],
      "text/plain": [
       "     id username_team  pos          player to_par today thru  r1  r2  r3  r4  \\\n",
       "0    27       Geo1630    1   Brooks Koepka     -7    -7    F  63  --  --  --   \n",
       "24   27       Geo1630   T7   Rickie Fowler     -1    -1    F  69  --  --  --   \n",
       "36   27       Geo1630   T7      Tony Finau     -1    -1   13  --  --  --  --   \n",
       "55   27       Geo1630  T16        Jon Rahm      E     E   11  --  --  --  --   \n",
       "56   27       Geo1630  T16  Dustin Johnson      E     E   11  --  --  --  --   \n",
       "62   27       Geo1630  T39  Phil Mickelson     +1    +1   10  --  --  --  --   \n",
       "105  27       Geo1630  T88    Kevin Kisner     +3    +3   10  --  --  --  --   \n",
       "\n",
       "    tot tourney_id  donkey_score_team  missed_cut_team  player_left_team  \\\n",
       "0    63  401056552                 -7                0                 0   \n",
       "24   69  401056552                 -1                0                 0   \n",
       "36   --  401056552                 -1                0                 1   \n",
       "55   --  401056552                  0                0                 1   \n",
       "56   --  401056552                  0                0                 1   \n",
       "62   --  401056552                  1                0                 1   \n",
       "105  --  401056552                  3                0                 1   \n",
       "\n",
       "     team_count                  load_date username_gs pay_flag  \\\n",
       "0            11 2019-05-16 20:40:04.435092     Geo1630        Y   \n",
       "24           10 2019-05-16 20:40:04.435092     Geo1630        Y   \n",
       "36            8 2019-05-16 20:40:04.435092     Geo1630        Y   \n",
       "55            6 2019-05-16 20:40:04.435092     Geo1630        Y   \n",
       "56            4 2019-05-16 20:40:04.435092     Geo1630        Y   \n",
       "62            3 2019-05-16 20:40:04.435092     Geo1630        Y   \n",
       "105           3 2019-05-16 20:40:04.435092     Geo1630        Y   \n",
       "\n",
       "    donkey_score_gs  missed_cut_gs  player_left_gs  rank final_rank  \n",
       "0                -2              0               4     8          8  \n",
       "24               -2              0               4     8          8  \n",
       "36               -2              0               4     8          8  \n",
       "55               -2              0               4     8          8  \n",
       "56               -2              0               4     8          8  \n",
       "62               -2              0               4     8          8  \n",
       "105              -2              0               4     8          8  "
      ]
     },
     "execution_count": 33,
     "metadata": {},
     "output_type": "execute_result"
    }
   ],
   "source": [
    "team_player_df.loc[team_player_df['username_team'] == 'Geo1630']"
   ]
  },
  {
   "cell_type": "code",
   "execution_count": 22,
   "metadata": {},
   "outputs": [
    {
     "name": "stdout",
     "output_type": "stream",
     "text": [
      "-2\n",
      "+5\n",
      "-5\n",
      "-8\n",
      "-3\n",
      "+3\n",
      "-11\n",
      "-9\n",
      "-9\n",
      "+1\n",
      "-6\n",
      "-9\n",
      "-6\n",
      "-11\n",
      "+5\n",
      "+3\n",
      "-8\n",
      "+1\n",
      "+1\n",
      "+3\n",
      "+3\n",
      "-3\n",
      "-5\n",
      "+3\n",
      "-2\n",
      "-9\n",
      "+9\n",
      "+12\n",
      "+9\n",
      "-9\n",
      "+8\n",
      "-9\n",
      "+5\n",
      "-3\n",
      "-6\n",
      "-6\n",
      "-2\n",
      "-8\n",
      "+3\n",
      "-11\n",
      "+3\n",
      "-9\n",
      "-8\n",
      "-5\n",
      "+8\n",
      "-5\n",
      "+8\n",
      "-9\n",
      "+1\n",
      "+9\n",
      "+12\n",
      "-11\n",
      "-11\n",
      "+5\n",
      "+5\n",
      "-2\n",
      "-2\n",
      "+5\n",
      "+3\n",
      "+1\n",
      "-5\n",
      "+3\n",
      "-2\n",
      "-5\n",
      "+3\n",
      "+9\n",
      "-8\n",
      "+9\n",
      "+1\n",
      "-3\n",
      "+12\n",
      "+1\n",
      "-9\n",
      "-9\n",
      "+5\n",
      "-6\n",
      "+8\n",
      "-9\n",
      "-6\n",
      "+5\n",
      "-11\n",
      "-9\n",
      "+5\n",
      "-9\n",
      "-5\n",
      "+9\n",
      "+5\n",
      "+5\n",
      "+12\n",
      "-11\n",
      "+3\n",
      "-3\n",
      "-3\n",
      "+3\n",
      "-9\n",
      "+12\n",
      "-8\n",
      "-8\n",
      "+8\n",
      "+8\n",
      "+3\n",
      "-6\n",
      "+8\n",
      "+5\n",
      "+9\n",
      "-2\n",
      "+3\n",
      "+5\n",
      "+12\n",
      "-3\n",
      "+5\n",
      "+12\n"
     ]
    }
   ],
   "source": [
    "for i, row in wha.data.iterrows():\n",
    "    print(df_sb.loc[df_sb['id'] == row['id'], 'donkey_score'].values[0])\n",
    "    #print(row['username'])"
   ]
  },
  {
   "cell_type": "code",
   "execution_count": 14,
   "metadata": {},
   "outputs": [
    {
     "name": "stderr",
     "output_type": "stream",
     "text": [
      "2019-05-17 08:34:13,339 - donkey_golf.data_things.base_class - DEBUG - ABOUT TO SET yaml_sql_dict\n",
      "2019-05-17 08:34:13,353 - donkey_golf.data_things.base_class - INFO - Executing run_sql\n",
      "2019-05-17 08:34:13,708 - donkey_golf.data_things.base_class - INFO - Current tourney ID: 401056552\n",
      "2019-05-17 08:34:13,709 - donkey_golf.data_things.base_class - INFO - Executing run_sql\n"
     ]
    }
   ],
   "source": [
    "GS = DT.GameScoreboard()"
   ]
  },
  {
   "cell_type": "code",
   "execution_count": 15,
   "metadata": {},
   "outputs": [
    {
     "name": "stderr",
     "output_type": "stream",
     "text": [
      "2019-05-17 08:34:19,324 - donkey_golf.data_things.game_scoreboard - INFO - Pulling aggregated team score for scoreboard\n",
      "2019-05-17 08:34:19,326 - donkey_golf.data_things.base_class - INFO - Executing run_sql\n",
      "2019-05-17 08:34:19,684 - donkey_golf.data_things.game_scoreboard - INFO - Determining where ties exist in the donkey scoreboard\n",
      "2019-05-17 08:34:19,705 - donkey_golf.data_things.game_scoreboard - INFO - Adding ties to scoreboard data\n"
     ]
    }
   ],
   "source": [
    "GS.run()"
   ]
  },
  {
   "cell_type": "code",
   "execution_count": 23,
   "metadata": {},
   "outputs": [],
   "source": [
    "df_sb = GS.data"
   ]
  },
  {
   "cell_type": "code",
   "execution_count": null,
   "metadata": {},
   "outputs": [],
   "source": []
  },
  {
   "cell_type": "code",
   "execution_count": null,
   "metadata": {},
   "outputs": [],
   "source": []
  },
  {
   "cell_type": "code",
   "execution_count": 4,
   "metadata": {},
   "outputs": [
    {
     "name": "stderr",
     "output_type": "stream",
     "text": [
      "2019-05-16 13:52:02,942 - donkey_golf.data_things.base_class - DEBUG - ABOUT TO SET yaml_sql_dict\n",
      "2019-05-16 13:52:02,953 - donkey_golf.data_things.base_class - INFO - Executing run_sql\n",
      "2019-05-16 13:52:03,230 - donkey_golf.data_things.base_class - INFO - Current tourney ID: 401056552\n",
      "2019-05-16 13:52:03,231 - donkey_golf.data_things.base_class - INFO - Executing run_sql\n"
     ]
    }
   ],
   "source": [
    "loader = DT.LoadLeaderboard()"
   ]
  },
  {
   "cell_type": "code",
   "execution_count": 5,
   "metadata": {},
   "outputs": [
    {
     "name": "stderr",
     "output_type": "stream",
     "text": [
      "2019-05-16 13:52:03,992 - donkey_golf.data_things.tourney_leaderboard - INFO - Tourney current status: in_progress\n",
      "2019-05-16 13:52:03,993 - donkey_golf.data_things.tourney_leaderboard - INFO - Running clean_data function\n",
      "2019-05-16 13:52:03,993 - donkey_golf.data_things.tourney_leaderboard - INFO - Running prepare_in_progress_data\n",
      "2019-05-16 13:52:03,995 - donkey_golf.data_things.tourney_leaderboard - INFO - Calculating the donkey_score column\n",
      "2019-05-16 13:52:04,007 - donkey_golf.data_things.tourney_leaderboard - INFO - Determining score for cut players and adding missed_cut indicator\n",
      "2019-05-16 13:52:04,016 - donkey_golf.data_things.tourney_leaderboard - INFO - Determine if the player is active and if he has been cut or not\n",
      "2019-05-16 13:52:04,035 - donkey_golf.data_things.base_class - INFO - Executing run_sql\n",
      "2019-05-16 13:52:04,348 - donkey_golf.data_things.tourney_leaderboard - DEBUG - Adding golfer team count\n",
      "2019-05-16 13:52:04,355 - donkey_golf.data_things.tourney_leaderboard - INFO - Loading data into the leaderboard table\n",
      "2019-05-16 13:52:04,356 - donkey_golf.data_things.base_class - INFO - Loading leaderboard to database\n"
     ]
    }
   ],
   "source": [
    "loader.run()"
   ]
  },
  {
   "cell_type": "code",
   "execution_count": null,
   "metadata": {},
   "outputs": [],
   "source": [
    "self.data.loc[self.data['today'] == '-', 'player_left'] = 0"
   ]
  },
  {
   "cell_type": "code",
   "execution_count": null,
   "metadata": {},
   "outputs": [],
   "source": []
  },
  {
   "cell_type": "code",
   "execution_count": null,
   "metadata": {},
   "outputs": [],
   "source": []
  },
  {
   "cell_type": "code",
   "execution_count": null,
   "metadata": {},
   "outputs": [],
   "source": []
  },
  {
   "cell_type": "code",
   "execution_count": null,
   "metadata": {},
   "outputs": [],
   "source": [
    "lb.pull_pre_tourney_data()"
   ]
  },
  {
   "cell_type": "code",
   "execution_count": null,
   "metadata": {},
   "outputs": [],
   "source": [
    "lb.df_pre_tourney['current_rank'] = lb.df_pre_tourney['current_rank'].fillna(9999).astype(int).astype(str)\n",
    "\n",
    "lb.df_pre_tourney['current_rank'] = lb.df_pre_tourney['current_rank'].replace('9999', '-')"
   ]
  },
  {
   "cell_type": "code",
   "execution_count": null,
   "metadata": {},
   "outputs": [],
   "source": [
    "lb.df_pre_tourney"
   ]
  },
  {
   "cell_type": "code",
   "execution_count": null,
   "metadata": {},
   "outputs": [],
   "source": [
    "dd = DT.DraftDay()"
   ]
  },
  {
   "cell_type": "code",
   "execution_count": null,
   "metadata": {},
   "outputs": [],
   "source": [
    "dd.run()"
   ]
  },
  {
   "cell_type": "code",
   "execution_count": null,
   "metadata": {},
   "outputs": [],
   "source": [
    "df = dd.data"
   ]
  },
  {
   "cell_type": "code",
   "execution_count": null,
   "metadata": {},
   "outputs": [],
   "source": [
    "# top 8 pick 2\n",
    "# next 12 pick 3\n",
    "# "
   ]
  },
  {
   "cell_type": "code",
   "execution_count": null,
   "metadata": {},
   "outputs": [],
   "source": [
    "df"
   ]
  },
  {
   "cell_type": "code",
   "execution_count": null,
   "metadata": {},
   "outputs": [],
   "source": []
  },
  {
   "cell_type": "code",
   "execution_count": null,
   "metadata": {},
   "outputs": [],
   "source": []
  },
  {
   "cell_type": "code",
   "execution_count": null,
   "metadata": {},
   "outputs": [],
   "source": [
    "df['rank'] = df['rank'].fillna(999)\n",
    "df['rank'] = df['rank'].astype(int)\n",
    "df['tier'] = 'Tier 3'\n",
    "df.loc[df['rank'] <= 8, 'tier'] = 'Tier 1'\n",
    "df.loc[(df['rank'] >= 9) & (df['rank'] <= 16), 'tier'] = 'Tier 2'"
   ]
  },
  {
   "cell_type": "code",
   "execution_count": null,
   "metadata": {},
   "outputs": [],
   "source": [
    "df"
   ]
  },
  {
   "cell_type": "code",
   "execution_count": null,
   "metadata": {},
   "outputs": [],
   "source": []
  },
  {
   "cell_type": "code",
   "execution_count": null,
   "metadata": {},
   "outputs": [],
   "source": []
  },
  {
   "cell_type": "code",
   "execution_count": null,
   "metadata": {},
   "outputs": [],
   "source": []
  },
  {
   "cell_type": "code",
   "execution_count": null,
   "metadata": {},
   "outputs": [],
   "source": []
  },
  {
   "cell_type": "code",
   "execution_count": null,
   "metadata": {},
   "outputs": [],
   "source": [
    "lb.df_pre_tourney.loc[lb.df_pre_tourney['current_rank'].notnull(), 'current_rank'] = lb.df_pre_tourney.loc[lb.df_pre_tourney['current_rank'].notnull(), 'current_rank'].astype(int)"
   ]
  },
  {
   "cell_type": "code",
   "execution_count": null,
   "metadata": {},
   "outputs": [],
   "source": [
    "lb.df_pre_tourney.loc[lb.df_pre_tourney['current_rank'].notnull(), 'current_rank'].astype(int)"
   ]
  },
  {
   "cell_type": "code",
   "execution_count": null,
   "metadata": {},
   "outputs": [],
   "source": [
    "lb.df_pre_tourney"
   ]
  },
  {
   "cell_type": "code",
   "execution_count": null,
   "metadata": {},
   "outputs": [],
   "source": [
    "DT.LoadWorldRankings().run()"
   ]
  },
  {
   "cell_type": "code",
   "execution_count": null,
   "metadata": {},
   "outputs": [],
   "source": [
    "DT.TournamentInfo().run()"
   ]
  },
  {
   "cell_type": "code",
   "execution_count": null,
   "metadata": {},
   "outputs": [],
   "source": []
  },
  {
   "cell_type": "code",
   "execution_count": null,
   "metadata": {},
   "outputs": [],
   "source": [
    "lb.run()"
   ]
  },
  {
   "cell_type": "code",
   "execution_count": null,
   "metadata": {},
   "outputs": [],
   "source": [
    "lb.data"
   ]
  },
  {
   "cell_type": "code",
   "execution_count": null,
   "metadata": {},
   "outputs": [],
   "source": []
  },
  {
   "cell_type": "code",
   "execution_count": null,
   "metadata": {},
   "outputs": [],
   "source": []
  },
  {
   "cell_type": "code",
   "execution_count": null,
   "metadata": {},
   "outputs": [],
   "source": [
    "lb.determine_current_round()"
   ]
  },
  {
   "cell_type": "code",
   "execution_count": null,
   "metadata": {},
   "outputs": [],
   "source": [
    "lb.calculate_cut_line()"
   ]
  },
  {
   "cell_type": "code",
   "execution_count": null,
   "metadata": {},
   "outputs": [],
   "source": [
    "df = lb.data"
   ]
  },
  {
   "cell_type": "code",
   "execution_count": null,
   "metadata": {},
   "outputs": [],
   "source": [
    "self = lb"
   ]
  },
  {
   "cell_type": "code",
   "execution_count": null,
   "metadata": {},
   "outputs": [],
   "source": [
    "cur_round = self.determine_current_round()\n",
    "\n",
    "if cur_round == 'r2':\n",
    "    sql = self.yaml_sql_dict.get('calculate_cut_line')\n",
    "    df = self.run_sql(sql)\n",
    "    # Grab the cut_str\n",
    "    cut_str = df['pos'][0].lower()\n",
    "    cut_dict = {}\n",
    "\n",
    "    # Not sure what will happen if cut is even...\n",
    "    if cut_str[-1:] == 'E':\n",
    "        cut_dict['cut_str'] = 'E'\n",
    "        cut_dict['cut_in'] = 0\n",
    "    else:\n",
    "        # Just grab the last two characters - this should be the cut score\n",
    "        cut_str = cut_str[-2:]\n",
    "        # Put both string and int representations into a dict\n",
    "        cut_dict['cut_str'] = cut_str\n",
    "        cut_dict['cut_int'] = int(cut_str.replace('+', '').replace('E', '0'))\n",
    "\n",
    "    return cut_dict\n",
    "else:\n",
    "    logger.info(\"Dont need to worry about the cut line now\")\n",
    "    return None"
   ]
  },
  {
   "cell_type": "code",
   "execution_count": null,
   "metadata": {},
   "outputs": [],
   "source": [
    "df"
   ]
  },
  {
   "cell_type": "code",
   "execution_count": null,
   "metadata": {},
   "outputs": [],
   "source": [
    "print(sql)"
   ]
  },
  {
   "cell_type": "code",
   "execution_count": null,
   "metadata": {},
   "outputs": [],
   "source": [
    "sql = self.yaml_sql_dict.get('calculate_cut_line')\n",
    "df = self.run_sql(sql)\n",
    "# Grab the cut_str\n",
    "cut_str = df['pos'][0].lower()\n",
    "cut_dict = {}"
   ]
  },
  {
   "cell_type": "code",
   "execution_count": null,
   "metadata": {},
   "outputs": [],
   "source": []
  },
  {
   "cell_type": "code",
   "execution_count": null,
   "metadata": {},
   "outputs": [],
   "source": []
  },
  {
   "cell_type": "code",
   "execution_count": null,
   "metadata": {},
   "outputs": [],
   "source": []
  },
  {
   "cell_type": "code",
   "execution_count": null,
   "metadata": {},
   "outputs": [],
   "source": []
  },
  {
   "cell_type": "code",
   "execution_count": null,
   "metadata": {},
   "outputs": [],
   "source": []
  },
  {
   "cell_type": "code",
   "execution_count": null,
   "metadata": {},
   "outputs": [],
   "source": []
  },
  {
   "cell_type": "code",
   "execution_count": null,
   "metadata": {},
   "outputs": [],
   "source": []
  },
  {
   "cell_type": "code",
   "execution_count": null,
   "metadata": {},
   "outputs": [],
   "source": [
    "user = DT.UserData(user_id=6)"
   ]
  },
  {
   "cell_type": "code",
   "execution_count": null,
   "metadata": {},
   "outputs": [],
   "source": [
    "user.run()"
   ]
  },
  {
   "cell_type": "code",
   "execution_count": null,
   "metadata": {},
   "outputs": [],
   "source": [
    "user.data"
   ]
  },
  {
   "cell_type": "code",
   "execution_count": null,
   "metadata": {},
   "outputs": [],
   "source": [
    "gs = DT.GameScoreboard()"
   ]
  },
  {
   "cell_type": "code",
   "execution_count": null,
   "metadata": {},
   "outputs": [],
   "source": [
    "gs.run()"
   ]
  },
  {
   "cell_type": "code",
   "execution_count": null,
   "metadata": {},
   "outputs": [],
   "source": [
    "gs.data"
   ]
  },
  {
   "cell_type": "code",
   "execution_count": null,
   "metadata": {},
   "outputs": [],
   "source": [
    "wha = DT.TeamPlayerResults()"
   ]
  },
  {
   "cell_type": "code",
   "execution_count": null,
   "metadata": {},
   "outputs": [],
   "source": [
    "wha.run()"
   ]
  },
  {
   "cell_type": "code",
   "execution_count": null,
   "metadata": {},
   "outputs": [],
   "source": [
    "wha.data.sort_values('username')"
   ]
  },
  {
   "cell_type": "code",
   "execution_count": null,
   "metadata": {},
   "outputs": [],
   "source": []
  },
  {
   "cell_type": "code",
   "execution_count": null,
   "metadata": {},
   "outputs": [],
   "source": []
  },
  {
   "cell_type": "code",
   "execution_count": null,
   "metadata": {},
   "outputs": [],
   "source": [
    "lb = DT.LoadLeaderboard()"
   ]
  },
  {
   "cell_type": "code",
   "execution_count": null,
   "metadata": {},
   "outputs": [],
   "source": [
    "lb.run()"
   ]
  },
  {
   "cell_type": "code",
   "execution_count": null,
   "metadata": {},
   "outputs": [],
   "source": [
    "gs = dg.data_things.GameScoreboard()"
   ]
  },
  {
   "cell_type": "code",
   "execution_count": null,
   "metadata": {},
   "outputs": [],
   "source": [
    "int(0)"
   ]
  },
  {
   "cell_type": "code",
   "execution_count": null,
   "metadata": {},
   "outputs": [],
   "source": [
    "gs.tourney_status"
   ]
  },
  {
   "cell_type": "code",
   "execution_count": null,
   "metadata": {},
   "outputs": [],
   "source": [
    "gs.run()"
   ]
  },
  {
   "cell_type": "code",
   "execution_count": null,
   "metadata": {},
   "outputs": [],
   "source": []
  },
  {
   "cell_type": "code",
   "execution_count": null,
   "metadata": {},
   "outputs": [],
   "source": []
  },
  {
   "cell_type": "code",
   "execution_count": null,
   "metadata": {},
   "outputs": [],
   "source": [
    "cmon = dg.data_things.LoadLeaderboard()"
   ]
  },
  {
   "cell_type": "code",
   "execution_count": null,
   "metadata": {},
   "outputs": [],
   "source": [
    "cmon.run()"
   ]
  },
  {
   "cell_type": "code",
   "execution_count": null,
   "metadata": {},
   "outputs": [],
   "source": []
  },
  {
   "cell_type": "code",
   "execution_count": null,
   "metadata": {},
   "outputs": [],
   "source": [
    "lb = dg.data_things.LoadLeaderboard()"
   ]
  },
  {
   "cell_type": "code",
   "execution_count": null,
   "metadata": {},
   "outputs": [],
   "source": [
    "lb.tourney_status"
   ]
  },
  {
   "cell_type": "code",
   "execution_count": null,
   "metadata": {},
   "outputs": [],
   "source": [
    "lb.scrape_espn_leaderboard(lb.url_lb)"
   ]
  },
  {
   "cell_type": "code",
   "execution_count": null,
   "metadata": {},
   "outputs": [],
   "source": [
    "lb.data"
   ]
  },
  {
   "cell_type": "code",
   "execution_count": null,
   "metadata": {},
   "outputs": [],
   "source": [
    "lb.determine_tourney_status()"
   ]
  },
  {
   "cell_type": "code",
   "execution_count": null,
   "metadata": {},
   "outputs": [],
   "source": []
  },
  {
   "cell_type": "code",
   "execution_count": null,
   "metadata": {},
   "outputs": [],
   "source": []
  },
  {
   "cell_type": "code",
   "execution_count": null,
   "metadata": {},
   "outputs": [],
   "source": []
  },
  {
   "cell_type": "code",
   "execution_count": null,
   "metadata": {},
   "outputs": [],
   "source": [
    "lb.load_tourney_status()"
   ]
  },
  {
   "cell_type": "code",
   "execution_count": null,
   "metadata": {},
   "outputs": [],
   "source": []
  },
  {
   "cell_type": "code",
   "execution_count": null,
   "metadata": {},
   "outputs": [],
   "source": []
  },
  {
   "cell_type": "code",
   "execution_count": null,
   "metadata": {},
   "outputs": [],
   "source": [
    "vamp.run()"
   ]
  },
  {
   "cell_type": "code",
   "execution_count": null,
   "metadata": {},
   "outputs": [],
   "source": [
    "vamp.tourney_status"
   ]
  },
  {
   "cell_type": "code",
   "execution_count": null,
   "metadata": {},
   "outputs": [],
   "source": [
    "new = dg.data_things.PullLeaderboard(user_id=10)"
   ]
  },
  {
   "cell_type": "code",
   "execution_count": null,
   "metadata": {},
   "outputs": [],
   "source": [
    "new.tourney_status"
   ]
  },
  {
   "cell_type": "code",
   "execution_count": null,
   "metadata": {},
   "outputs": [],
   "source": [
    "new.run()"
   ]
  },
  {
   "cell_type": "code",
   "execution_count": null,
   "metadata": {},
   "outputs": [],
   "source": [
    "new.pull_tourney_leaderboard()"
   ]
  },
  {
   "cell_type": "code",
   "execution_count": null,
   "metadata": {},
   "outputs": [],
   "source": [
    "new.user_df"
   ]
  },
  {
   "cell_type": "code",
   "execution_count": null,
   "metadata": {},
   "outputs": [],
   "source": [
    "new.user_id"
   ]
  },
  {
   "cell_type": "code",
   "execution_count": null,
   "metadata": {},
   "outputs": [],
   "source": [
    "new.pull_users_team()"
   ]
  },
  {
   "cell_type": "code",
   "execution_count": null,
   "metadata": {},
   "outputs": [],
   "source": [
    "new.data"
   ]
  },
  {
   "cell_type": "code",
   "execution_count": null,
   "metadata": {},
   "outputs": [],
   "source": [
    "new.pull_tourney_leaderboard()"
   ]
  },
  {
   "cell_type": "code",
   "execution_count": null,
   "metadata": {},
   "outputs": [],
   "source": [
    "getattr(new, 'user_df')"
   ]
  },
  {
   "cell_type": "code",
   "execution_count": null,
   "metadata": {},
   "outputs": [],
   "source": []
  },
  {
   "cell_type": "code",
   "execution_count": null,
   "metadata": {},
   "outputs": [],
   "source": [
    "print(getsource(new.pull_tourney_leaderboard))"
   ]
  },
  {
   "cell_type": "code",
   "execution_count": null,
   "metadata": {},
   "outputs": [],
   "source": [
    "new.user_df"
   ]
  },
  {
   "cell_type": "code",
   "execution_count": null,
   "metadata": {},
   "outputs": [],
   "source": [
    "pd.merge(new.data, new.user_df,\n",
    "        how='outer',\n",
    "        on='player')"
   ]
  },
  {
   "cell_type": "code",
   "execution_count": null,
   "metadata": {},
   "outputs": [],
   "source": [
    "new.tourney_status"
   ]
  },
  {
   "cell_type": "code",
   "execution_count": null,
   "metadata": {},
   "outputs": [],
   "source": [
    "gs = dg.data_things.GameScoreboard()"
   ]
  },
  {
   "cell_type": "code",
   "execution_count": null,
   "metadata": {},
   "outputs": [],
   "source": [
    "gs.tourney_status"
   ]
  },
  {
   "cell_type": "code",
   "execution_count": null,
   "metadata": {},
   "outputs": [],
   "source": [
    "gs.run()"
   ]
  },
  {
   "cell_type": "code",
   "execution_count": null,
   "metadata": {},
   "outputs": [],
   "source": [
    "wha = dg.data_things.LoadWorldRankings()"
   ]
  },
  {
   "cell_type": "code",
   "execution_count": null,
   "metadata": {},
   "outputs": [],
   "source": [
    "wha = dg.data_things.TournamentInfo()"
   ]
  },
  {
   "cell_type": "code",
   "execution_count": null,
   "metadata": {},
   "outputs": [],
   "source": [
    "wha.run()"
   ]
  },
  {
   "cell_type": "code",
   "execution_count": null,
   "metadata": {},
   "outputs": [],
   "source": [
    "draft = dg.data_things.DraftDay()"
   ]
  },
  {
   "cell_type": "code",
   "execution_count": null,
   "metadata": {},
   "outputs": [],
   "source": [
    "draft.run()"
   ]
  },
  {
   "cell_type": "code",
   "execution_count": null,
   "metadata": {},
   "outputs": [],
   "source": [
    "df = draft.data"
   ]
  },
  {
   "cell_type": "code",
   "execution_count": null,
   "metadata": {},
   "outputs": [],
   "source": [
    "for col in ['current_rank','events_played','rank']:\n",
    "    self.data.loc[self.data[col].notnull(), col] = self.data.loc[self.data[col].notnull(), col].astype(int).astype(str)"
   ]
  },
  {
   "cell_type": "code",
   "execution_count": null,
   "metadata": {},
   "outputs": [],
   "source": [
    "df"
   ]
  },
  {
   "cell_type": "code",
   "execution_count": null,
   "metadata": {},
   "outputs": [],
   "source": []
  },
  {
   "cell_type": "code",
   "execution_count": null,
   "metadata": {},
   "outputs": [],
   "source": [
    "draft.data['current_rank']"
   ]
  },
  {
   "cell_type": "code",
   "execution_count": null,
   "metadata": {},
   "outputs": [],
   "source": []
  },
  {
   "cell_type": "code",
   "execution_count": null,
   "metadata": {},
   "outputs": [],
   "source": []
  },
  {
   "cell_type": "code",
   "execution_count": null,
   "metadata": {},
   "outputs": [],
   "source": []
  },
  {
   "cell_type": "code",
   "execution_count": null,
   "metadata": {},
   "outputs": [],
   "source": [
    "vamp.new_determine_status()['value'][0].strip()"
   ]
  },
  {
   "cell_type": "code",
   "execution_count": null,
   "metadata": {},
   "outputs": [],
   "source": []
  },
  {
   "cell_type": "code",
   "execution_count": null,
   "metadata": {},
   "outputs": [],
   "source": []
  },
  {
   "cell_type": "code",
   "execution_count": null,
   "metadata": {},
   "outputs": [],
   "source": [
    "vamp.run()"
   ]
  },
  {
   "cell_type": "code",
   "execution_count": null,
   "metadata": {},
   "outputs": [],
   "source": [
    "vamp.load_tourney_status()"
   ]
  },
  {
   "cell_type": "code",
   "execution_count": null,
   "metadata": {},
   "outputs": [],
   "source": [
    "vamp.load_status_sql"
   ]
  },
  {
   "cell_type": "code",
   "execution_count": null,
   "metadata": {},
   "outputs": [],
   "source": [
    "with psycopg2.connect(vamp.conf.db_url) as conn:\n",
    "    cur = conn.cursor()\n",
    "    cur.execute(\"delete from donkey_variables where metric = 'current_tourney_status';\")\n",
    "    cur.execute(\"INSERT INTO donkey_variables VALUES ('current_tourney_status', 'pre_tourney');\")\n",
    "    #cur.close()"
   ]
  },
  {
   "cell_type": "code",
   "execution_count": null,
   "metadata": {},
   "outputs": [],
   "source": []
  },
  {
   "cell_type": "code",
   "execution_count": null,
   "metadata": {},
   "outputs": [],
   "source": []
  },
  {
   "cell_type": "code",
   "execution_count": null,
   "metadata": {},
   "outputs": [],
   "source": [
    "conn = psycopg2.connect(host=pg_credential.hostname,\n",
    "                        port=pg_credential.port,\n",
    "                        user=pg_credential.username,\n",
    "                        password=pg_credential.password,\n",
    "                        database=pg_credential.path[1:]) # To remove slash\n",
    "\n",
    "cursor = conn.cursor()\n",
    "cursor.execute(\"INSERT INTO a_table (c1, c2, c3) VALUES(%s, %s, %s)\", (v1, v2, v3))"
   ]
  },
  {
   "cell_type": "code",
   "execution_count": null,
   "metadata": {},
   "outputs": [],
   "source": []
  },
  {
   "cell_type": "code",
   "execution_count": null,
   "metadata": {},
   "outputs": [],
   "source": []
  },
  {
   "cell_type": "code",
   "execution_count": null,
   "metadata": {},
   "outputs": [],
   "source": []
  },
  {
   "cell_type": "code",
   "execution_count": null,
   "metadata": {},
   "outputs": [],
   "source": [
    "getattr(cmon, 'tourney_status')"
   ]
  },
  {
   "cell_type": "code",
   "execution_count": null,
   "metadata": {},
   "outputs": [],
   "source": [
    "vamp.load_tourney_status()"
   ]
  },
  {
   "cell_type": "code",
   "execution_count": null,
   "metadata": {},
   "outputs": [],
   "source": []
  },
  {
   "cell_type": "code",
   "execution_count": null,
   "metadata": {},
   "outputs": [],
   "source": [
    "vamp.tourney_status"
   ]
  },
  {
   "cell_type": "code",
   "execution_count": null,
   "metadata": {},
   "outputs": [],
   "source": [
    "pd.read_sql(\"INSERT INTO donkey_variables VALUES ('current_tourney_status', 'pre_tourney');\")"
   ]
  },
  {
   "cell_type": "code",
   "execution_count": null,
   "metadata": {},
   "outputs": [],
   "source": []
  },
  {
   "cell_type": "code",
   "execution_count": null,
   "metadata": {},
   "outputs": [],
   "source": [
    "cmon = dg.data_things.PullLeaderboard(user_id=5)"
   ]
  },
  {
   "cell_type": "code",
   "execution_count": null,
   "metadata": {},
   "outputs": [],
   "source": [
    "cmon.run()"
   ]
  },
  {
   "cell_type": "code",
   "execution_count": null,
   "metadata": {},
   "outputs": [],
   "source": [
    "cmon.tourney_status"
   ]
  },
  {
   "cell_type": "code",
   "execution_count": null,
   "metadata": {},
   "outputs": [],
   "source": [
    "cmon.pull_tourney_leaderboard()"
   ]
  },
  {
   "cell_type": "code",
   "execution_count": null,
   "metadata": {},
   "outputs": [],
   "source": [
    "if cmon.data.empty:\n",
    "    print(\"EMPTY\")"
   ]
  },
  {
   "cell_type": "code",
   "execution_count": null,
   "metadata": {},
   "outputs": [],
   "source": [
    "cmon.tourney_status"
   ]
  },
  {
   "cell_type": "code",
   "execution_count": null,
   "metadata": {},
   "outputs": [],
   "source": [
    "getattr(cmon, 'tourney_status')"
   ]
  },
  {
   "cell_type": "code",
   "execution_count": null,
   "metadata": {},
   "outputs": [],
   "source": [
    "getattr(cmon, 'tourney_statusss', 'whoops')"
   ]
  },
  {
   "cell_type": "code",
   "execution_count": null,
   "metadata": {},
   "outputs": [],
   "source": [
    "sb = dg.data_things.GameScoreboard()"
   ]
  },
  {
   "cell_type": "code",
   "execution_count": null,
   "metadata": {},
   "outputs": [],
   "source": [
    "sb.run()"
   ]
  },
  {
   "cell_type": "code",
   "execution_count": null,
   "metadata": {},
   "outputs": [],
   "source": []
  },
  {
   "cell_type": "code",
   "execution_count": null,
   "metadata": {},
   "outputs": [],
   "source": []
  },
  {
   "cell_type": "code",
   "execution_count": null,
   "metadata": {},
   "outputs": [],
   "source": []
  },
  {
   "cell_type": "code",
   "execution_count": null,
   "metadata": {},
   "outputs": [],
   "source": []
  },
  {
   "cell_type": "code",
   "execution_count": null,
   "metadata": {},
   "outputs": [],
   "source": [
    "vamp.golfer_count_by_team"
   ]
  },
  {
   "cell_type": "code",
   "execution_count": null,
   "metadata": {},
   "outputs": [],
   "source": [
    "df = vamp.data"
   ]
  },
  {
   "cell_type": "code",
   "execution_count": null,
   "metadata": {},
   "outputs": [],
   "source": [
    "df.head(2)"
   ]
  },
  {
   "cell_type": "code",
   "execution_count": null,
   "metadata": {},
   "outputs": [],
   "source": [
    "df.loc[df['team_count']> 0]"
   ]
  },
  {
   "cell_type": "code",
   "execution_count": null,
   "metadata": {},
   "outputs": [],
   "source": []
  },
  {
   "cell_type": "code",
   "execution_count": null,
   "metadata": {},
   "outputs": [],
   "source": [
    "huh = dg.data_things.PullLeaderboard(user_id=6)"
   ]
  },
  {
   "cell_type": "code",
   "execution_count": null,
   "metadata": {},
   "outputs": [],
   "source": [
    "huh.run()"
   ]
  },
  {
   "cell_type": "code",
   "execution_count": null,
   "metadata": {},
   "outputs": [],
   "source": [
    "huh.data['team_count'].value_counts()"
   ]
  },
  {
   "cell_type": "code",
   "execution_count": null,
   "metadata": {},
   "outputs": [],
   "source": [
    "df_tourney = huh.data\n",
    "df_tourney = df_tourney.loc[df_tourney['team_count'] > 0]"
   ]
  },
  {
   "cell_type": "code",
   "execution_count": null,
   "metadata": {},
   "outputs": [],
   "source": [
    "from datetime import datetime"
   ]
  },
  {
   "cell_type": "code",
   "execution_count": null,
   "metadata": {},
   "outputs": [],
   "source": [
    "datetime.today()"
   ]
  },
  {
   "cell_type": "code",
   "execution_count": null,
   "metadata": {},
   "outputs": [],
   "source": []
  },
  {
   "cell_type": "code",
   "execution_count": null,
   "metadata": {},
   "outputs": [],
   "source": [
    "df_tourney"
   ]
  },
  {
   "cell_type": "code",
   "execution_count": null,
   "metadata": {},
   "outputs": [],
   "source": [
    "ada = dg.data_things.PullLeaderboard(user_id=5)"
   ]
  },
  {
   "cell_type": "code",
   "execution_count": null,
   "metadata": {},
   "outputs": [],
   "source": [
    "ada.pull_tourney_leaderboard()"
   ]
  },
  {
   "cell_type": "code",
   "execution_count": null,
   "metadata": {},
   "outputs": [],
   "source": [
    "ada.data.team_count.value_counts()"
   ]
  },
  {
   "cell_type": "code",
   "execution_count": null,
   "metadata": {},
   "outputs": [],
   "source": []
  },
  {
   "cell_type": "code",
   "execution_count": null,
   "metadata": {},
   "outputs": [],
   "source": [
    "ada.calc_refresh_date()"
   ]
  },
  {
   "cell_type": "code",
   "execution_count": null,
   "metadata": {},
   "outputs": [],
   "source": [
    "ada.determine_tourney_status()"
   ]
  },
  {
   "cell_type": "code",
   "execution_count": null,
   "metadata": {},
   "outputs": [],
   "source": [
    "ada.pull_users_team()"
   ]
  },
  {
   "cell_type": "code",
   "execution_count": null,
   "metadata": {},
   "outputs": [],
   "source": [
    "ada.user_df"
   ]
  },
  {
   "cell_type": "code",
   "execution_count": null,
   "metadata": {},
   "outputs": [],
   "source": [
    "ada.sql_user"
   ]
  },
  {
   "cell_type": "code",
   "execution_count": null,
   "metadata": {},
   "outputs": [],
   "source": []
  }
 ],
 "metadata": {
  "kernelspec": {
   "display_name": "venv_dgolf",
   "language": "python",
   "name": "venv_dgolf"
  },
  "language_info": {
   "codemirror_mode": {
    "name": "ipython",
    "version": 3
   },
   "file_extension": ".py",
   "mimetype": "text/x-python",
   "name": "python",
   "nbconvert_exporter": "python",
   "pygments_lexer": "ipython3",
   "version": "3.7.3"
  }
 },
 "nbformat": 4,
 "nbformat_minor": 2
}
